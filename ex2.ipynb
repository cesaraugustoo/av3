{
 "cells": [
  {
   "cell_type": "markdown",
   "id": "4122c19e",
   "metadata": {},
   "source": [
    "### Exercício 2"
   ]
  },
  {
   "cell_type": "markdown",
   "id": "ebd643ae",
   "metadata": {},
   "source": [
    "Escolha um conjunto de dados pequeno ou médio (de 100 a 500 linhas) de sua preferência. \n",
    "Sugestões:\n",
    "- Dados esportivos (resultados de jogos, medalhas, rankings)\n",
    "- Dados ambientais (chuvas, temperaturas, qualidade do ar)\n",
    "- Dados de séries ou músicas (Spotify, IMDb, etc.)\n",
    "\n",
    "Carregue o conjunto de dados em Python usando pandas ou outra forma que considerar ideal.\n",
    "Produza ao menos 4 tipos diferentes de visualizações, com foco em:\n",
    "- Gráfico de barras\n",
    "- Gráfico de dispersão (scatter plot)\n",
    "- Histograma\n",
    "- Gráfico de linha\n",
    "- (Extra: mapa, boxplot, heatmap, gráfico de pizza, violin plot, etc.)\n",
    "\n",
    "Para cada gráfico:\n",
    "- Personalize os eixos, títulos e cores\n",
    "- Destaque algum insight ou observação relevante\n",
    "- Escreva ao menos 2 parágrafo explicando o que a visualização mostra e por que ela é adequada (ou não) para aquele dado"
   ]
  },
  {
   "cell_type": "code",
   "execution_count": 1,
   "id": "f3b64d98",
   "metadata": {},
   "outputs": [
    {
     "name": "stdout",
     "output_type": "stream",
     "text": [
      "=== DATASET OVERVIEW ===\n",
      "Dataset shape: (250, 10)\n",
      "Columns: ['Unnamed: 0', 'Title', 'Year', 'Genre', 'Duration', 'Origin', 'Director', 'IMDB rating', 'Rating count', 'IMDB link']\n",
      "\n",
      "=== FIRST 5 ROWS ===\n",
      "   Unnamed: 0                     Title  Year  \\\n",
      "0           1  The Shawshank Redemption  1994   \n",
      "1           2             The Godfather  1972   \n",
      "2           3    The Godfather: Part II  1974   \n",
      "3           4           The Dark Knight  2008   \n",
      "4           5              12 Angry Men  1957   \n",
      "\n",
      "                               Genre  Duration    Origin  \\\n",
      "0                              Drama  2h 22min       USA   \n",
      "1                      Drama | Crime  2h 55min       USA   \n",
      "2                      Drama | Crime  3h 22min       USA   \n",
      "3  Drama | Action | Thriller | Crime  2h 32min  USA | UK   \n",
      "4                              Drama  1h 36min       USA   \n",
      "\n",
      "               Director  IMDB rating  Rating count  \\\n",
      "0        Frank Darabont          9.3       2030817   \n",
      "1  Francis Ford Coppola          9.2       1392322   \n",
      "2  Francis Ford Coppola          9.0        964841   \n",
      "3     Christopher Nolan          9.0       1998623   \n",
      "4          Sidney Lumet          8.9        571145   \n",
      "\n",
      "                              IMDB link  \n",
      "0  https://www.imdb.com/title/tt0111161  \n",
      "1  https://www.imdb.com/title/tt0068646  \n",
      "2  https://www.imdb.com/title/tt0071562  \n",
      "3  https://www.imdb.com/title/tt0468569  \n",
      "4  https://www.imdb.com/title/tt0050083  \n",
      "\n",
      "=== DATA TYPES & MISSING VALUES ===\n",
      "<class 'pandas.core.frame.DataFrame'>\n",
      "RangeIndex: 250 entries, 0 to 249\n",
      "Data columns (total 10 columns):\n",
      " #   Column        Non-Null Count  Dtype  \n",
      "---  ------        --------------  -----  \n",
      " 0   Unnamed: 0    250 non-null    int64  \n",
      " 1   Title         250 non-null    object \n",
      " 2   Year          250 non-null    int64  \n",
      " 3   Genre         250 non-null    object \n",
      " 4   Duration      250 non-null    object \n",
      " 5   Origin        250 non-null    object \n",
      " 6   Director      250 non-null    object \n",
      " 7   IMDB rating   250 non-null    float64\n",
      " 8   Rating count  250 non-null    int64  \n",
      " 9   IMDB link     250 non-null    object \n",
      "dtypes: float64(1), int64(3), object(6)\n",
      "memory usage: 19.7+ KB\n",
      "None\n",
      "\n",
      "=== NUMERICAL STATISTICS ===\n",
      "       Unnamed: 0         Year  IMDB rating  Rating count\n",
      "count  250.000000   250.000000   250.000000  2.500000e+02\n",
      "mean   125.500000  1985.284000     8.302400  4.777687e+05\n",
      "std     72.312977    24.789138     0.228831  4.032529e+05\n",
      "min      1.000000  1921.000000     8.000000  2.634500e+04\n",
      "25%     63.250000  1966.250000     8.100000  1.389868e+05\n",
      "50%    125.500000  1993.000000     8.200000  3.477585e+05\n",
      "75%    187.750000  2005.000000     8.400000  7.074485e+05\n",
      "max    250.000000  2018.000000     9.300000  2.030817e+06\n",
      "\n",
      "=== SAMPLE UNIQUE VALUES ===\n"
     ]
    }
   ],
   "source": [
    "import pandas as pd\n",
    "import numpy as np\n",
    "\n",
    "# Conjunto de dados: IMDB Top 250 Movies\n",
    "url = \"https://raw.githubusercontent.com/itiievskyi/IMDB-Top-250/master/imdb_top_250.csv\"\n",
    "df = pd.read_csv(url)\n",
    "\n",
    "# Informações iniciais sobre o conjunto de dados\n",
    "print(\"=== DATASET OVERVIEW ===\")\n",
    "print(f\"Dataset shape: {df.shape}\")\n",
    "print(f\"Columns: {list(df.columns)}\")\n",
    "print()\n",
    "\n",
    "# Primeiras 5 linhas do conjunto de dados\n",
    "print(\"=== FIRST 5 ROWS ===\")\n",
    "print(df.head())\n",
    "print()\n",
    "\n",
    "#Tipo de dados e valores ausentes\n",
    "print(\"=== DATA TYPES & MISSING VALUES ===\")\n",
    "print(df.info())\n",
    "print()\n",
    "\n",
    "# Estatísticas numéricas de colunas como 'rating', 'duration', etc.\n",
    "print(\"=== NUMERICAL STATISTICS ===\")\n",
    "print(df.describe())\n",
    "print()\n",
    "\n",
    "# Entradas unicas e amostras de valores\n",
    "print(\"=== SAMPLE UNIQUE VALUES ===\")\n",
    "if 'genre' in df.columns:\n",
    "    print(f\"Sample genres: {df['genre'].value_counts().head()}\")\n",
    "elif 'genres' in df.columns:\n",
    "    print(f\"Sample genres: {df['genres'].value_counts().head()}\")\n",
    "\n",
    "if 'year' in df.columns:\n",
    "    print(f\"Year range: {df['year'].min()} - {df['year'].max()}\")\n",
    "elif 'movie_year' in df.columns:\n",
    "    print(f\"Year range: {df['movie_year'].min()} - {df['movie_year'].max()}\")"
   ]
  },
  {
   "cell_type": "code",
   "execution_count": 1,
   "id": "c0f034bc",
   "metadata": {},
   "outputs": [
    {
     "name": "stderr",
     "output_type": "stream",
     "text": [
      "<>:16: SyntaxWarning: invalid escape sequence '\\d'\n",
      "<>:17: SyntaxWarning: invalid escape sequence '\\d'\n",
      "<>:16: SyntaxWarning: invalid escape sequence '\\d'\n",
      "<>:17: SyntaxWarning: invalid escape sequence '\\d'\n",
      "/tmp/ipykernel_6155/2484849855.py:16: SyntaxWarning: invalid escape sequence '\\d'\n",
      "  df['Duration_minutes'] = df['Duration'].str.extract('(\\d+)h').fillna(0).astype(int) * 60 + \\\n",
      "/tmp/ipykernel_6155/2484849855.py:17: SyntaxWarning: invalid escape sequence '\\d'\n",
      "  df['Duration'].str.extract('(\\d+)min').fillna(0).astype(int)\n"
     ]
    },
    {
     "name": "stdout",
     "output_type": "stream",
     "text": [
      "Data loaded and preprocessed successfully!\n",
      "Dataset shape: (250, 12)\n"
     ]
    }
   ],
   "source": [
    "import pandas as pd\n",
    "import matplotlib.pyplot as plt\n",
    "import seaborn as sns\n",
    "import numpy as np\n",
    "\n",
    "# Set style for better-looking plots\n",
    "plt.style.use('seaborn-v0_8')\n",
    "sns.set_palette(\"husl\")\n",
    "\n",
    "# Load the dataset\n",
    "url = \"https://raw.githubusercontent.com/itiievskyi/IMDB-Top-250/master/imdb_top_250.csv\"\n",
    "df = pd.read_csv(url)\n",
    "\n",
    "# Clean and prepare data\n",
    "df['Decade'] = (df['Year'] // 10) * 10\n",
    "df['Duration_minutes'] = df['Duration'].str.extract('(\\d+)h').fillna(0).astype(int) * 60 + \\\n",
    "                        df['Duration'].str.extract('(\\d+)min').fillna(0).astype(int)\n",
    "\n",
    "print(\"Data loaded and preprocessed successfully!\")\n",
    "print(f\"Dataset shape: {df.shape}\")"
   ]
  },
  {
   "cell_type": "code",
   "execution_count": 6,
   "id": "5d56a069",
   "metadata": {},
   "outputs": [
    {
     "name": "stdout",
     "output_type": "stream",
     "text": [
      "Sample Genre values:\n",
      "['Drama', 'Drama | Crime', 'Drama | Crime', 'Drama | Action | Thriller | Crime', 'Drama', 'Drama | Biography | History', 'Drama | Adventure | Fantasy | Action', 'Drama | Crime', 'Western', 'Drama']\n",
      "\n",
      "Unique genre combinations:\n",
      "Genre\n",
      "Drama                       26\n",
      "Drama | Crime               14\n",
      "Drama | Thriller | Crime    10\n",
      "Drama | War                  9\n",
      "Drama | Romance              8\n",
      "Name: count, dtype: int64\n",
      "\n",
      "Top 10 genres after cleaning:\n",
      "Drama        184\n",
      "Thriller      61\n",
      "Adventure     57\n",
      "Crime         50\n",
      "Comedy        46\n",
      "Action        35\n",
      "Mystery       33\n",
      "Fantasy       31\n",
      "War           29\n",
      "Romance       28\n",
      "Name: count, dtype: int64\n"
     ]
    },
    {
     "data": {
      "image/png": "[encoded data removed]",
      "text/plain": [
       "<Figure size 1200x800 with 1 Axes>"
      ]
     },
     "metadata": {},
     "output_type": "display_data"
    },
    {
     "name": "stdout",
     "output_type": "stream",
     "text": [
      "\n",
      "Drama appears in 184 movies, making it the most common genre.\n",
      "Second most common: Thriller with 61 movies.\n"
     ]
    }
   ],
   "source": [
    "# First, let's examine the Genre column to see what's causing the issue\n",
    "print(\"Sample Genre values:\")\n",
    "print(df['Genre'].head(10).tolist())\n",
    "print(\"\\nUnique genre combinations:\")\n",
    "print(df['Genre'].value_counts().head())\n",
    "\n",
    "# Extract and count genres, but clean the data first\n",
    "genres_list = []\n",
    "for genre_string in df['Genre']:\n",
    "    if pd.notna(genre_string) and genre_string.strip():  # Check for valid strings\n",
    "        # Split by ' | ' and clean each genre\n",
    "        genres = [g.strip() for g in str(genre_string).split(' | ') if g.strip() and g.strip() != '\\\\']\n",
    "        genres_list.extend(genres)\n",
    "\n",
    "# Count genres and get top 10\n",
    "genre_counts = pd.Series(genres_list).value_counts().head(10)\n",
    "\n",
    "# Remove any remaining problematic entries\n",
    "genre_counts = genre_counts[genre_counts.index != '\\\\']\n",
    "genre_counts = genre_counts[genre_counts.index != '']\n",
    "\n",
    "print(f\"\\nTop 10 genres after cleaning:\")\n",
    "print(genre_counts)\n",
    "\n",
    "# Create bar chart\n",
    "plt.figure(figsize=(12, 8))\n",
    "bars = plt.bar(genre_counts.index, genre_counts.values, \n",
    "               color=['#FF6B6B', '#4ECDC4', '#45B7D1', '#96CEB4', '#FFEAA7', \n",
    "                      '#DDA0DD', '#98D8C8', '#F7DC6F', '#BB8FCE', '#85C1E9'])\n",
    "\n",
    "# Customize the plot\n",
    "plt.title('Distribution of Genres in IMDb Top 250 Movies', fontsize=16, fontweight='bold', pad=20)\n",
    "plt.xlabel('Genre', fontsize=12, fontweight='bold')\n",
    "plt.ylabel('Number of Movies', fontsize=12, fontweight='bold')\n",
    "plt.xticks(rotation=45, ha='right')\n",
    "\n",
    "# Add value labels on bars\n",
    "for bar in bars:\n",
    "    height = bar.get_height()\n",
    "    plt.text(bar.get_x() + bar.get_width()/2., height + 1,\n",
    "             f'{int(height)}', ha='center', va='bottom', fontweight='bold')\n",
    "\n",
    "plt.grid(axis='y', alpha=0.3)\n",
    "plt.tight_layout()\n",
    "plt.show()\n",
    "\n",
    "print(f\"\\nDrama appears in {genre_counts['Drama']} movies, making it the most common genre.\")\n",
    "print(f\"Second most common: {genre_counts.index[1]} with {genre_counts.iloc[1]} movies.\")"
   ]
  },
  {
   "cell_type": "code",
   "execution_count": 9,
   "id": "fa4e1270",
   "metadata": {},
   "outputs": [
    {
     "data": {
      "application/vnd.plotly.v1+json": {
       "config": {
        "plotlyServerURL": "https://plot.ly"
       },
       "data": [
        {
         "customdata": [
          [
           "Frank Darabont",
           "Drama",
           142,
           2030817
          ],
          [
           "Francis Ford Coppola",
           "Drama | Crime",
           175,
           1392322
          ],
          [
           "Francis Ford Coppola",
           "Drama | Crime",
           202,
           964841
          ],
          [
           "Christopher Nolan",
           "Drama | Action | Thriller | Crime",
           152,
           1998623
          ],
          [
           "Sidney Lumet",
           "Drama",
           96,
           571145
          ],
          [
           "Steven Spielberg",
           "Drama | Biography | History",
           195,
           1050056
          ],
          [
           "Peter Jackson",
           "Drama | Adventure | Fantasy | Action",
           201,
           1445888
          ],
          [
           "Quentin Tarantino",
           "Drama | Crime",
           154,
           1585797
          ],
          [
           "Sergio Leone",
           "Western",
           161,
           602707
          ],
          [
           "David Fincher",
           "Drama",
           139,
           1625021
          ],
          [
           "Peter Jackson",
           "Drama | Fantasy | Adventure",
           178,
           1462502
          ],
          [
           "Robert Zemeckis",
           "Drama | Romance",
           142,
           1550083
          ],
          [
           "Irvin Kershner",
           "Adventure | Fantasy | Action",
           124,
           1019768
          ],
          [
           "Christopher Nolan",
           "Adventure | Action | Thriller",
           148,
           1778263
          ],
          [
           "Peter Jackson",
           "Drama | Fantasy | Adventure",
           179,
           1307197
          ],
          [
           "Milos Forman",
           "Drama",
           133,
           806868
          ],
          [
           "Martin Scorsese",
           "Drama | Crime",
           146,
           875941
          ],
          [
           "Lana Wachowski",
           "Action",
           136,
           1457616
          ],
          [
           "Akira Kurosawa",
           "Drama | Adventure",
           207,
           275127
          ],
          [
           "Fernando Meirelles",
           "Drama | Crime",
           130,
           627143
          ],
          [
           "David Fincher",
           "Drama | Thriller | Mystery | Crime",
           127,
           1242595
          ],
          [
           "George Lucas",
           "Adventure | Fantasy | Action",
           121,
           1089777
          ],
          [
           "Jonathan Demme",
           "Drama | Thriller | Crime",
           118,
           1091651
          ],
          [
           "Frank Capra",
           "Drama | Fantasy | Family",
           130,
           344954
          ],
          [
           "Roberto Benigni",
           "War | Drama | Comedy | Romance",
           116,
           532275
          ],
          [
           "Bryan Singer",
           "Thriller | Mystery | Crime",
           106,
           881292
          ],
          [
           "Hayao Miyazaki",
           "Adventure | Animation | Mystery | Family | Fantasy",
           125,
           535660
          ],
          [
           "Steven Spielberg",
           "Drama | War",
           169,
           1071815
          ],
          [
           "Luc Besson",
           "Drama | Thriller | Crime",
           110,
           892329
          ],
          [
           "Bob Persichetti",
           "Comedy | Adventure | Animation | Family | Action",
           117,
           43084
          ],
          [
           "Frank Darabont",
           "Drama | Fantasy | Mystery | Crime",
           189,
           974912
          ],
          [
           "Christopher Nolan",
           "Drama | Adventure",
           169,
           1240319
          ],
          [
           "Alfred Hitchcock",
           "Thriller | Horror | Mystery",
           109,
           519103
          ],
          [
           "Tony Kaye",
           "Drama",
           119,
           925585
          ],
          [
           "Charles Chaplin",
           "Drama | Comedy | Romance",
           87,
           141114
          ],
          [
           "Sergio Leone",
           "Western",
           165,
           263465
          ],
          [
           "Michael Curtiz",
           "War | Drama | Romance",
           102,
           462996
          ],
          [
           "Charles Chaplin",
           "Drama | Comedy | Romance | Family",
           87,
           183223
          ],
          [
           "Roman Polanski",
           "Drama | Biography | War | Music",
           150,
           618407
          ],
          [
           "Olivier Nakache",
           "Drama | Biography | Comedy",
           112,
           648678
          ],
          [
           "Martin Scorsese",
           "Drama | Thriller | Crime",
           151,
           1043844
          ],
          [
           "James Cameron",
           "Action",
           137,
           880764
          ],
          [
           "Robert Zemeckis",
           "Comedy | Adventure",
           116,
           901606
          ],
          [
           "Damien Chazelle",
           "Drama | Music",
           106,
           586547
          ],
          [
           "Alfred Hitchcock",
           "Thriller | Mystery",
           112,
           386355
          ],
          [
           "Steven Spielberg",
           "Adventure | Action",
           115,
           786682
          ],
          [
           "Roger Allers",
           "Adventure | Animation | Family | Drama | Musical",
           88,
           803787
          ],
          [
           "Ridley Scott",
           "Drama | Adventure | Action",
           155,
           1174412
          ],
          [
           "Christopher Nolan",
           "Drama | Thriller | Mystery",
           130,
           1032561
          ],
          [
           "Francis Ford Coppola",
           "Drama | War",
           147,
           532507
          ],
          [
           "Christopher Nolan",
           "Thriller | Mystery",
           113,
           1005884
          ],
          [
           "Ridley Scott",
           "Horror",
           116,
           692470
          ],
          [
           "Charles Chaplin",
           "Drama | Comedy | War",
           125,
           174358
          ],
          [
           "Giuseppe Tornatore",
           "Drama",
           155,
           194020
          ],
          [
           "Isao Takahata",
           "War | Drama | Animation",
           89,
           187476
          ],
          [
           "Anthony Russo",
           "Adventure | Fantasy | Action",
           149,
           547495
          ],
          [
           "Billy Wilder",
           "Drama",
           110,
           173457
          ],
          [
           "Florian Henckel von Donnersmarck",
           "Drama | Thriller",
           137,
           313501
          ],
          [
           "Stanley Kubrick",
           "Comedy",
           95,
           404880
          ],
          [
           "Stanley Kubrick",
           "Drama | War",
           88,
           151017
          ],
          [
           "Stanley Kubrick",
           "Drama | Horror",
           146,
           753633
          ],
          [
           "Quentin Tarantino",
           "Drama | Western",
           165,
           1170940
          ],
          [
           "Andrew Stanton",
           "Adventure | Animation | Family",
           98,
           877732
          ],
          [
           "Hayao Miyazaki",
           "Adventure | Fantasy | Animation",
           134,
           283982
          ],
          [
           "Billy Wilder",
           "Drama | Thriller | Mystery | Crime",
           116,
           87838
          ],
          [
           "Sam Mendes",
           "Drama",
           122,
           966877
          ],
          [
           "Christopher Nolan",
           "Action | Thriller",
           164,
           1349163
          ],
          [
           "Chan-wook Park",
           "Thriller | Drama | Action | Mystery",
           120,
           443353
          ],
          [
           "James Cameron",
           "Adventure | Action | Thriller",
           137,
           584962
          ],
          [
           "Sergio Leone",
           "Drama | Crime",
           229,
           268592
          ],
          [
           "Lee Unkrich",
           "Comedy | Adventure | Animation | Family | Mystery | Music | Fantasy",
           105,
           244493
          ],
          [
           "Wolfgang Petersen",
           "War | Drama | Adventure | Thriller",
           149,
           203245
          ],
          [
           "Orson Welles",
           "Drama | Mystery",
           119,
           354474
          ],
          [
           "Mel Gibson",
           "Drama | Biography | War | History",
           178,
           871297
          ],
          [
           "Alfred Hitchcock",
           "Thriller | Romance | Mystery",
           128,
           310177
          ],
          [
           "Alfred Hitchcock",
           "Thriller | Adventure | Mystery",
           136,
           264213
          ],
          [
           "Quentin Tarantino",
           "Drama | Thriller | Crime",
           99,
           798275
          ],
          [
           "Richard Marquand",
           "Adventure | Fantasy | Action",
           131,
           836522
          ],
          [
           "Fritz Lang",
           "Thriller | Mystery | Crime",
           117,
           123555
          ],
          [
           "Makoto Shinkai",
           "Drama | Romance | Fantasy | Animation",
           106,
           117390
          ],
          [
           "Milos Forman",
           "Drama | Biography | History | Music",
           160,
           327416
          ],
          [
           "Darren Aronofsky",
           "Drama",
           102,
           682068
          ],
          [
           "Nitesh Tiwari",
           "Drama | Biography | Action | Sport",
           161,
           111750
          ],
          [
           "Aamir Khan",
           "Drama | Family",
           165,
           134196
          ],
          [
           "David Lean",
           "Biography | Adventure | Drama | War | History",
           216,
           235059
          ],
          [
           "Michel Gondry",
           "Drama | Romance",
           108,
           801164
          ],
          [
           "Stanley Kubrick",
           "Drama | Crime",
           136,
           668899
          ],
          [
           "Rajkumar Hirani",
           "Drama | Comedy",
           170,
           288467
          ],
          [
           "Stanley Kubrick",
           "Adventure",
           149,
           524990
          ],
          [
           "Jean-Pierre Jeunet",
           "Comedy | Romance",
           122,
           635721
          ],
          [
           "John Lasseter",
           "Comedy | Adventure | Animation | Family | Fantasy",
           81,
           765250
          ],
          [
           "Billy Wilder",
           "Drama | Thriller | Mystery | Crime",
           107,
           123317
          ],
          [
           "Martin Scorsese",
           "Drama | Crime",
           114,
           617068
          ],
          [
           "Stanley Donen",
           "Comedy | Romance | Musical",
           103,
           190158
          ],
          [
           "Quentin Tarantino",
           "War | Drama | Adventure",
           153,
           1082811
          ],
          [
           "Stanley Kubrick",
           "Drama | War",
           116,
           590594
          ],
          [
           "Robert Mulligan",
           "Drama | Crime",
           129,
           264549
          ],
          [
           "Vittorio De Sica",
           "Drama",
           89,
           122158
          ],
          [
           "Charles Chaplin",
           "Drama | Comedy | Family",
           68,
           92519
          ],
          [
           "George Roy Hill",
           "Drama | Comedy | Crime",
           129,
           213412
          ],
          [
           "Gus Van Sant",
           "Drama | Romance",
           126,
           743204
          ],
          [
           "Lee Unkrich",
           "Comedy | Adventure | Animation | Family | Fantasy",
           103,
           660322
          ],
          [
           "Thomas Vinterberg",
           "Drama",
           115,
           231958
          ],
          [
           "Guy Ritchie",
           "Comedy | Crime",
           104,
           701543
          ],
          [
           "Brian De Palma",
           "Drama | Crime",
           170,
           644950
          ],
          [
           "Terry Gilliam",
           "Comedy | Adventure | Fantasy",
           91,
           448627
          ],
          [
           "Sergio Leone",
           "Western",
           132,
           198469
          ],
          [
           "Curtis Hanson",
           "Drama | Thriller | Mystery | Crime",
           138,
           482362
          ],
          [
           "Billy Wilder",
           "Drama | Comedy | Romance",
           125,
           138672
          ],
          [
           "Fritz Lang",
           "Drama",
           153,
           138895
          ],
          [
           "Asghar Farhadi",
           "Drama",
           123,
           189745
          ],
          [
           "Steven Spielberg",
           "Adventure | Fantasy | Action",
           127,
           615110
          ],
          [
           "Akira Kurosawa",
           "Drama | Mystery | Crime",
           88,
           129714
          ],
          [
           "Pete Docter",
           "Adventure | Comedy | Animation | Family",
           96,
           817536
          ],
          [
           "Joseph L. Mankiewicz",
           "Drama",
           138,
           104509
          ],
          [
           "Christopher Nolan",
           "Adventure | Action | Thriller",
           140,
           1160328
          ],
          [
           "Akira Kurosawa",
           "Drama | Action | Thriller",
           110,
           93969
          ],
          [
           "Billy Wilder",
           "Comedy | Romance",
           121,
           213736
          ],
          [
           "Clint Eastwood",
           "Drama | Western",
           130,
           331944
          ],
          [
           "Oliver Hirschbiegel",
           "Drama | Biography | War | History",
           156,
           296980
          ],
          [
           "John McTiernan",
           "Action | Thriller",
           132,
           701825
          ],
          [
           "John Huston",
           "Drama | Western | Adventure",
           126,
           99110
          ],
          [
           "Michael Mann",
           "Drama | Thriller | Crime",
           170,
           511042
          ],
          [
           "Akira Kurosawa",
           "Drama",
           143,
           56861
          ],
          [
           "Denis Villeneuve",
           "Drama | War | Mystery",
           131,
           118365
          ],
          [
           "Martin Scorsese",
           "Drama | Biography | Sport",
           129,
           280338
          ],
          [
           "John Sturges",
           "Thriller | Adventure | Drama | War | History",
           172,
           200294
          ],
          [
           "Majid Majidi",
           "Drama | Family",
           89,
           49018
          ],
          [
           "Guillermo del Toro",
           "Drama | Fantasy | War",
           118,
           557430
          ],
          [
           "Çagan Irmak",
           "Drama | Family",
           108,
           63111
          ],
          [
           "Roman Polanski",
           "Drama | Thriller | Mystery",
           130,
           259278
          ],
          [
           "Carol Reed",
           "Thriller | Mystery",
           104,
           139882
          ],
          [
           "Bryan Singer",
           "Drama | Biography | Music",
           134,
           160843
          ],
          [
           "Hayao Miyazaki",
           "Fantasy | Animation | Family",
           86,
           229502
          ],
          [
           "Hayao Miyazaki",
           "Adventure | Fantasy | Animation | Family",
           119,
           273103
          ],
          [
           "Akira Kurosawa",
           "Drama | Action",
           162,
           97041
          ],
          [
           "Stanley Kramer",
           "Drama | War",
           186,
           59883
          ],
          [
           "Juan José Campanella",
           "Thriller | Drama | Romance | Mystery",
           129,
           168096
          ],
          [
           "Charles Chaplin",
           "Drama | Comedy | Adventure | Family",
           95,
           86997
          ],
          [
           "David Lean",
           "War | Drama | Adventure",
           161,
           181884
          ],
          [
           "Ron Howard",
           "Drama | Biography",
           135,
           748421
          ],
          [
           "Guy Ritchie",
           "Comedy | Crime",
           107,
           482617
          ],
          [
           "Martin Scorsese",
           "Drama | Crime",
           178,
           402926
          ],
          [
           "Martin McDonagh",
           "Drama | Comedy | Crime",
           115,
           304426
          ],
          [
           "Elia Kazan",
           "Drama | Thriller | Crime",
           108,
           125509
          ],
          [
           "Ingmar Bergman",
           "Drama | Fantasy",
           96,
           139262
          ],
          [
           "Pete Docter",
           "Comedy | Adventure | Animation | Family | Drama | Fantasy",
           95,
           512181
          ],
          [
           "David Lynch",
           "Drama | Biography",
           124,
           195746
          ],
          [
           "Lenny Abrahamson",
           "Drama | Thriller",
           118,
           296996
          ],
          [
           "Martin Scorsese",
           "Drama | Biography | Comedy | Crime",
           180,
           995724
          ],
          [
           "Frank Capra",
           "Drama | Comedy",
           129,
           96020
          ],
          [
           "James McTeigue",
           "Drama | Action | Thriller",
           132,
           931242
          ],
          [
           "Gavin O'Connor",
           "Drama | Sport",
           140,
           395333
          ],
          [
           "Ridley Scott",
           "Thriller",
           117,
           609845
          ],
          [
           "Alfred Hitchcock",
           "Thriller | Crime",
           105,
           136579
          ],
          [
           "Ingmar Bergman",
           "Drama | Romance",
           91,
           81634
          ],
          [
           "Clyde Bruckman",
           "Comedy | Adventure | Drama | Western | War | Action",
           67,
           69712
          ],
          [
           "Ethan Coen",
           "Drama | Thriller | Crime",
           122,
           744187
          ],
          [
           "Danny Boyle",
           "Drama",
           93,
           575556
          ],
          [
           "Paul Thomas Anderson",
           "Drama",
           158,
           451253
          ],
          [
           "M. Night Shyamalan",
           "Drama | Thriller | Mystery",
           107,
           823878
          ],
          [
           "Victor Fleming",
           "War | Drama | Romance | History",
           238,
           257825
          ],
          [
           "John Carpenter",
           "Horror | Mystery",
           109,
           321159
          ],
          [
           "Joel Coen",
           "Drama | Thriller | Crime",
           98,
           546802
          ],
          [
           "Clint Eastwood",
           "Drama",
           116,
           655216
          ],
          [
           "Alfonso Cuarón",
           "Drama",
           135,
           27550
          ],
          [
           "Michael Cimino",
           "Drama | War",
           183,
           277906
          ],
          [
           "Andrew Stanton",
           "Adventure | Comedy | Animation | Family",
           100,
           841886
          ],
          [
           "Elem Klimov",
           "Drama | War",
           142,
           41374
          ],
          [
           "Joel Coen",
           "Comedy | Crime",
           117,
           643306
          ],
          [
           "Martin Scorsese",
           "Thriller | Mystery",
           138,
           971812
          ],
          [
           "Buster Keaton",
           "Romance | Comedy | Action",
           45,
           31053
          ],
          [
           "Quentin Tarantino",
           "Action | Thriller | Crime",
           111,
           878087
          ],
          [
           "Stuart Rosenberg",
           "Drama | Crime",
           126,
           144360
          ],
          [
           "Alfred Hitchcock",
           "Thriller | Drama | Romance | Mystery",
           130,
           108181
          ],
          [
           "Yasujirô Ozu",
           "Drama",
           136,
           41895
          ],
          [
           "Adam Elliot",
           "Drama | Comedy | Animation",
           92,
           147400
          ],
          [
           "Mel Gibson",
           "Drama | Biography | War | History",
           139,
           346132
          ],
          [
           "David Fincher",
           "Drama | Thriller | Mystery | Crime",
           149,
           733285
          ],
          [
           "Dean DeBlois",
           "Comedy | Adventure | Animation | Family | Fantasy | Action",
           98,
           588170
          ],
          [
           "F.W. Murnau",
           "Drama | Romance",
           94,
           41849
          ],
          [
           "Damián Szifron",
           "Drama | Comedy | Thriller",
           122,
           144105
          ],
          [
           "Steven Spielberg",
           "Adventure | Thriller",
           127,
           758947
          ],
          [
           "Sean Penn",
           "Drama | Biography | Adventure",
           148,
           512630
          ],
          [
           "Terry Jones",
           "Comedy",
           94,
           325081
          ],
          [
           "Jim Sheridan",
           "Drama | Biography",
           133,
           137634
          ],
          [
           "Peter Weir",
           "Drama | Comedy",
           103,
           811714
          ],
          [
           "Wes Anderson",
           "Drama | Comedy | Adventure",
           99,
           612840
          ],
          [
           "Oliver Stone",
           "Drama | War",
           120,
           343583
          ],
          [
           "Rob Reiner",
           "Drama | Adventure",
           89,
           325574
          ],
          [
           "Frank Capra",
           "Comedy | Romance",
           105,
           82574
          ],
          [
           "Yavuz Turgul",
           "Drama | Thriller | Crime",
           128,
           53362
          ],
          [
           "Sidney Lumet",
           "Drama",
           121,
           127681
          ],
          [
           "Andrei Tarkovsky",
           "Drama",
           162,
           93937
          ],
          [
           "Ingmar Bergman",
           "Drama | Thriller",
           85,
           83682
          ],
          [
           "Joon-ho Bong",
           "Thriller | Mystery | Drama | Action | Crime",
           131,
           95919
          ],
          [
           "William Wyler",
           "Drama | Adventure | History",
           212,
           196524
          ],
          [
           "Terry George",
           "Drama | Biography | War | History",
           121,
           307299
          ],
          [
           "Steve McQueen",
           "Drama | Biography | History",
           134,
           559253
          ],
          [
           "Clint Eastwood",
           "Drama | Sport",
           132,
           572767
          ],
          [
           "Carl Theodor Dreyer",
           "Drama | Biography | History",
           110,
           39077
          ],
          [
           "Ron Howard",
           "Drama | Biography | Action | Sport",
           123,
           382423
          ],
          [
           "Andrei Tarkovsky",
           "Drama | Biography | History",
           205,
           37044
          ],
          [
           "Henri-Georges Clouzot",
           "Drama | Adventure | Thriller",
           131,
           46897
          ],
          [
           "Richard Linklater",
           "Drama | Romance",
           101,
           230713
          ],
          [
           "George Miller",
           "Adventure | Action | Thriller",
           120,
           751310
          ],
          [
           "François Truffaut",
           "Drama | Crime",
           99,
           89470
          ],
          [
           "Denis Villeneuve",
           "Drama | Thriller | Mystery | Crime",
           153,
           507543
          ],
          [
           "Lasse Hallström",
           "Drama | Family",
           93,
           215104
          ],
          [
           "Tom McCarthy",
           "Drama | History | Crime",
           129,
           346838
          ],
          [
           "James Mangold",
           "Drama | Action | Thriller",
           137,
           525287
          ],
          [
           "Rakeysh Omprakash Mehra",
           "Drama | Comedy",
           157,
           97601
          ],
          [
           "Alejandro G. Iñárritu",
           "Drama | Thriller",
           154,
           203030
          ],
          [
           "Rob Reiner",
           "Romance | Fantasy | Adventure | Family",
           98,
           348679
          ],
          [
           "Steven Spielberg",
           "Drama | Biography | Crime",
           141,
           689344
          ],
          [
           "Hayao Miyazaki",
           "Adventure | Fantasy | Animation",
           117,
           123985
          ],
          [
           "David Yates",
           "Drama | Fantasy | Adventure | Mystery",
           130,
           670287
          ],
          [
           "George Roy Hill",
           "Drama | Western | Biography | Crime",
           110,
           182691
          ],
          [
           "John G. Avildsen",
           "Drama | Sport",
           120,
           458622
          ],
          [
           "Stanley Kubrick",
           "War | Drama | Adventure | History",
           185,
           128220
          ],
          [
           "Pete Docter",
           "Comedy | Adventure | Animation | Family | Fantasy",
           92,
           715474
          ],
          [
           "John Ford",
           "Drama | History",
           129,
           78992
          ],
          [
           "John Huston",
           "Mystery",
           100,
           137253
          ],
          [
           "Peter Weir",
           "Drama | Comedy",
           128,
           353575
          ],
          [
           "Richard Kelly",
           "Drama | Thriller",
           113,
           682933
          ],
          [
           "James Cameron",
           "Action",
           107,
           709323
          ],
          [
           "Richard Attenborough",
           "Drama | Biography | History",
           191,
           203124
          ],
          [
           "Henri-Georges Clouzot",
           "Thriller | Mystery | Drama | Horror | Crime",
           117,
           54973
          ],
          [
           "Mathieu Kassovitz",
           "Drama | Crime",
           98,
           128586
          ],
          [
           "Harold Ramis",
           "Comedy | Romance | Fantasy",
           101,
           527321
          ],
          [
           "Victor Fleming",
           "Fantasy | Adventure | Musical | Family",
           102,
           343544
          ],
          [
           "Steven Spielberg",
           "Drama | Adventure | Thriller",
           124,
           496616
          ],
          [
           "Federico Fellini",
           "Drama",
           110,
           37452
          ],
          [
           "Tate Taylor",
           "Drama",
           146,
           382422
          ],
          [
           "Kar-Wai Wong",
           "Drama | Romance",
           98,
           101673
          ],
          [
           "Zaza Urushadze",
           "Drama | War",
           87,
           31457
          ],
          [
           "Richard Linklater",
           "Drama | Romance",
           80,
           201622
          ],
          [
           "Peter Bogdanovich",
           "Drama | Comedy",
           102,
           36645
          ],
          [
           "Chan-wook Park",
           "Drama | Romance | Thriller",
           144,
           71047
          ],
          [
           "Wim Wenders",
           "Drama",
           145,
           71160
          ],
          [
           "William Wyler",
           "War | Drama | Romance",
           170,
           51979
          ],
          [
           "Hayao Miyazaki",
           "Drama | Adventure | Fantasy | Animation",
           125,
           123229
          ],
          [
           "Gore Verbinski",
           "Adventure | Fantasy | Action",
           143,
           943984
          ],
          [
           "Denis Villeneuve",
           "Drama | Thriller | Mystery",
           164,
           351618
          ],
          [
           "Damien Chazelle",
           "Comedy | Romance | Music | Drama | Musical",
           128,
           409442
          ],
          [
           "James Gunn",
           "Adventure | Comedy | Action",
           121,
           894940
          ],
          [
           "Ingmar Bergman",
           "Drama",
           188,
           50821
          ],
          [
           "Akira Kurosawa",
           "Drama | Action | Thriller | Crime",
           96,
           26345
          ],
          [
           "Anurag Kashyap",
           "Comedy | Thriller | Drama | Action | Crime",
           321,
           66466
          ],
          [
           "Nishikant Kamat",
           "Drama | Thriller | Crime",
           163,
           51251
          ]
         ],
         "hovertemplate": "<b>%{hovertext}</b><br><br>Release Year=%{x}<br>IMDb Rating=%{y:.1f}<br>Number of Ratings=%{customdata[3]:,d}<br>Director=%{customdata[0]}<br>Genre=%{customdata[1]}<br>Duration (minutes)=%{marker.color}<extra></extra>",
         "hovertext": [
          "The Shawshank Redemption",
          "The Godfather",
          "The Godfather: Part II",
          "The Dark Knight",
          "12 Angry Men",
          "Schindler's List",
          "The Lord of the Rings: The Return of the King",
          "Pulp Fiction",
          "Il buono, il brutto, il cattivo",
          "Fight Club",
          "The Lord of the Rings: The Fellowship of the Ring",
          "Forrest Gump",
          "Star Wars: Episode V - The Empire Strikes Back",
          "Inception",
          "The Lord of the Rings: The Two Towers",
          "One Flew Over the Cuckoo's Nest",
          "Goodfellas",
          "The Matrix",
          "Shichinin no samurai",
          "Cidade de Deus",
          "Se7en",
          "Star Wars",
          "The Silence of the Lambs",
          "It's a Wonderful Life",
          "La vita è bella",
          "The Usual Suspects",
          "Sen to Chihiro no kamikakushi",
          "Saving Private Ryan",
          "Léon",
          "Spider-Man: Into the Spider-Verse",
          "The Green Mile",
          "Interstellar",
          "Psycho",
          "American History X",
          "City Lights",
          "C'era una volta il West",
          "Casablanca",
          "Modern Times",
          "The Pianist",
          "Intouchables",
          "The Departed",
          "Terminator 2: Judgment Day",
          "Back to the Future",
          "Whiplash",
          "Rear Window",
          "Raiders of the Lost Ark",
          "The Lion King ",
          "Gladiator",
          "The Prestige",
          "Apocalypse Now",
          "Memento",
          "Alien",
          "The Great Dictator",
          "Nuovo Cinema Paradiso",
          "Hotaru no haka",
          "Avengers: Infinity War",
          "Sunset Blvd.",
          "Das Leben der Anderen",
          "Dr. Strangelove or: How I Learned to Stop Worrying and Love the Bomb",
          "Paths of Glory",
          "The Shining",
          "Django Unchained",
          "WALL·E",
          "Mononoke-hime",
          "Witness for the Prosecution",
          "American Beauty",
          "The Dark Knight Rises",
          "Oldeuboi",
          "Aliens",
          "Once Upon a Time in America",
          "Coco",
          "Das Boot",
          "Citizen Kane",
          "Braveheart",
          "Vertigo",
          "North by Northwest",
          "Reservoir Dogs",
          "Star Wars: Episode VI - Return of the Jedi",
          "M - Eine Stadt sucht einen Mörder",
          "Kimi no na wa.",
          "Amadeus",
          "Requiem for a Dream",
          "Dangal",
          "Taare Zameen Par",
          "Lawrence of Arabia",
          "Eternal Sunshine of the Spotless Mind",
          "A Clockwork Orange",
          "3 Idiots",
          "2001: A Space Odyssey",
          "Le fabuleux destin d'Amélie Poulain",
          "Toy Story",
          "Double Indemnity",
          "Taxi Driver",
          "Singin' in the Rain",
          "Inglourious Basterds",
          "Full Metal Jacket",
          "To Kill a Mockingbird",
          "Ladri di biciclette",
          "The Kid",
          "The Sting",
          "Good Will Hunting",
          "Toy Story 3",
          "Jagten",
          "Snatch",
          "Scarface",
          "Monty Python and the Holy Grail",
          "Per qualche dollaro in più",
          "L.A. Confidential",
          "The Apartment",
          "Metropolis",
          "Jodaeiye Nader az Simin",
          "Indiana Jones and the Last Crusade",
          "Rashômon",
          "Up",
          "All About Eve",
          "Batman Begins",
          "Yôjinbô",
          "Some Like It Hot",
          "Unforgiven",
          "Der Untergang",
          "Die Hard",
          "The Treasure of the Sierra Madre",
          "Heat",
          "Ikiru",
          "Incendies",
          "Raging Bull",
          "The Great Escape",
          "Bacheha-Ye aseman",
          "El laberinto del fauno",
          "Babam ve Oglum",
          "Chinatown",
          "The Third Man",
          "Bohemian Rhapsody",
          "Tonari no Totoro",
          "Hauru no ugoku shiro",
          "Ran",
          "Judgment at Nuremberg",
          "El secreto de sus ojos",
          "The Gold Rush",
          "The Bridge on the River Kwai",
          "A Beautiful Mind",
          "Lock, Stock and Two Smoking Barrels",
          "Casino",
          "Three Billboards Outside Ebbing, Missouri",
          "On the Waterfront",
          "Det sjunde inseglet",
          "Inside Out",
          "The Elephant Man",
          "Room",
          "The Wolf of Wall Street",
          "Mr. Smith Goes to Washington",
          "V for Vendetta",
          "Warrior",
          "Blade Runner",
          "Dial M for Murder",
          "Smultronstället",
          "The General",
          "No Country for Old Men",
          "Trainspotting",
          "There Will Be Blood",
          "The Sixth Sense",
          "Gone with the Wind",
          "The Thing",
          "Fargo",
          "Gran Torino",
          "Roma ",
          "The Deer Hunter",
          "Finding Nemo",
          "Idi i smotri",
          "The Big Lebowski",
          "Shutter Island",
          "Sherlock Jr.",
          "Kill Bill: Vol. 1",
          "Cool Hand Luke",
          "Rebecca",
          "Tôkyô monogatari",
          "Mary and Max",
          "Hacksaw Ridge",
          "Gone Girl",
          "How to Train Your Dragon",
          "Sunrise: A Song of Two Humans",
          "Relatos salvajes",
          "Jurassic Park",
          "Into the Wild",
          "Life of Brian",
          "In the Name of the Father",
          "The Truman Show",
          "The Grand Budapest Hotel",
          "Platoon",
          "Stand by Me",
          "It Happened One Night",
          "Eskiya ",
          "Network",
          "Stalker",
          "Persona",
          "Salinui chueok",
          "Ben-Hur",
          "Hotel Rwanda",
          "12 Years a Slave",
          "Million Dollar Baby",
          "La passion de Jeanne d'Arc",
          "Rush",
          "Andrey Rublev",
          "Le salaire de la peur",
          "Before Sunrise",
          "Mad Max: Fury Road",
          "Les quatre cents coups",
          "Prisoners",
          "Hachi: A Dog's Tale",
          "Spotlight",
          "Logan",
          "Rang De Basanti",
          "Amores perros",
          "The Princess Bride",
          "Catch Me If You Can",
          "Kaze no tani no Naushika",
          "Harry Potter and the Deathly Hallows: Part 2",
          "Butch Cassidy and the Sundance Kid",
          "Rocky",
          "Barry Lyndon",
          "Monsters, Inc.",
          "The Grapes of Wrath",
          "The Maltese Falcon",
          "Dead Poets Society",
          "Donnie Darko",
          "The Terminator",
          "Gandhi",
          "Les diaboliques",
          "La haine",
          "Groundhog Day",
          "The Wizard of Oz",
          "Jaws",
          "Le notti di Cabiria",
          "The Help",
          "Faa yeung nin wa",
          "Mandariinid",
          "Before Sunset",
          "Paper Moon",
          "Ah-ga-ssi",
          "Paris, Texas",
          "The Best Years of Our Lives",
          "Tenkû no shiro Rapyuta",
          "Pirates of the Caribbean: The Curse of the Black Pearl",
          "Blade Runner 2049",
          "La La Land",
          "Guardians of the Galaxy",
          "Fanny och Alexander",
          "Tsubaki Sanjûrô",
          "Gangs of Wasseypur",
          "Drishyam "
         ],
         "legendgroup": "",
         "marker": {
          "color": {
           "bdata": "jgCvAMoAmABgAMMAyQCaAKEAiwCyAI4AfACUALMAhQCSAIgAzwCCAH8AeQB2AIIAdABqAH0AqQBuAHUAvQCpAG0AdwBXAKUAZgBXAJYAcACXAIkAdABqAHAAcwBYAJsAggCTAHEAdAB9AJsAWQCVAG4AiQBfAFgAkgClAGIAhgB0AHoApAB4AIkA5QBpAJUAdwCyAIAAiABjAIMAdQBqAKAAZgChAKUA2ABsAIgAqgCVAHoAUQBrAHIAZwCZAHQAgQBZAEQAgQB+AGcAcwBoAKoAWwCEAIoAfQCZAHsAfwBYAGAAigCMAG4AeQCCAJwAhAB+AKoAjwCDAIEArABZAHYAbACCAGgAhgBWAHcAogC6AIEAXwChAIcAawCyAHMAbABgAF8AfAB2ALQAgQCEAIwAdQBpAFsAQwB6AF0AngBrAO4AbQBiAHQAhwC3AGQAjgB1AIoALQBvAH4AggCIAFwAiwCVAGIAXgB6AH8AlABeAIUAZwBjAHgAWQBpAIAAeQCiAFUAgwDUAHkAhgCEAG4AewDNAIMAZQB4AGMAmQBdAIEAiQCdAJoAYgCNAHUAggBuAHgAuQBcAIEAZACAAHEAawC/AHUAYgBlAGYAfABuAJIAYgBXAFAAZgCQAJEAqgB9AI8ApACAAHkAvABgAEEBowA=",
           "dtype": "i2"
          },
          "coloraxis": "coloraxis",
          "line": {
           "color": "DarkSlateGrey",
           "width": 1
          },
          "opacity": 0.8,
          "size": {
           "bdata": "4fweAMI+FQDpuA4AH38eAAm3CADIBRAAABAWAIUyGABTMgkAvcsYAOZQFgADpxcAeI8PAFciGwA98hMA1E8MAKVdDQDQPRYAtzIEAMeRCQDj9RIA8aAQAEOoEAB6QwUAMx8IAIxyDQBsLAgAx1oQAKmdDQBMqAAAQOAOAP/sEgC/6wcAkR8OADonAgApBQQAlBAHALfLAgCnbwkA5uUJAITtDwB8cA0A5sENADPzCAAz5QUA+gAMAMtDDACM6xEAccEPABsgCAA8WQ8A9pAKABapAgDk9QIAVNwCAKdaCACRpQIAncgEAJAtBgDpTQIA4X8LAPzdEQCkZA0ATlUEAB5XAQDdwA4AK5YUANnDBgAC7QgAMBkEAA27AwDtGQMAqmgFAIFLDQChuwQAFQgEAEMuDACqwwwAo+IBAI7KAQD4/gQAVGgKAIa0AQA0DAIAM5YDAIw5DADjNAoA02YEAL4CCABJswkAQq0LALXhAQBsagkAzuYCALuFEAACAwkAZQkEAC7dAQBnaQEApEEDACRXCwBiEwoAFooDAGe0CgBW1wkAc9gGAEUHAwA6XAcAsB0CAI8eAgAx5QIAxmIJALL6AQCAeQwAPZgBAIi0EQARbwEA6EIDAKgQBQAUiAQAgbUKACaDAQBCzAcAHd4AAF3OAQASRwQAZg4DAHq/AAB2gQgAh/YAAM70AwBqIgIAS3QCAH6AAwDPKgQAEXsBAOvpAACgkAIA1VMBAHzGAgCFawsAOV0HAO4lBgAqpQQAReoBAP4fAgC10AcAovwCACSIBACMMQ8AFHcBAKo1DgBFCAYANU4JAIMVAgDiPgEAUBABAPtaCwBEyAgAteIGAEaSDAAh7wMAh+YEAPJXCABw/wkAnmsAAJI9BACe2AwAnqEAAOrQCQAk1A4ATXkAAAdmDQDoMwIAlaYBAKejAADIPwIAFEgFAGUwCwCK+QgAeaMAAOkyAgCjlAsAdtIHANn1BACiGQIAwmIMAOhZCQAfPgUAxvcEAI5CAQBy0AAAwfIBAPFuAQDiRgEAr3YBAKz/AgBjsAQAlYgIAF+9CAClmAAA19UFALSQAAAxtwAAOYUDAM52CwB+XQEAl74HAEBIAwDWSgUA5wMIAEF9AQAWGQMAB1IFAMCECgBR5AEATzoKAKPJAgB+/wYA3PQBANLqCgCQNAEAJRgCACdlBQC1awoAy9IKAHQZAwC91gAASvYBANkLCAD4PQUA6JMHAEySAADW1QUAKY0BAOF6AACWEwMAJY8AAIcVAQD4FQEAC8sAAF3hAQBwZw4Agl0FAGI/BgDcpw0AhcYAAOlmAACiAwEAM8gAAA==",
           "dtype": "i4"
          },
          "sizemode": "area",
          "sizeref": 5077.0425,
          "symbol": "circle"
         },
         "mode": "markers",
         "name": "",
         "orientation": "v",
         "showlegend": false,
         "type": "scatter",
         "x": {
          "bdata": "yge0B7YH2AelB8kH0wfKB64HzwfRB8oHvAfaB9IHtwfGB88HogfSB8sHuQfHB5oHzQfLB9EHzgfKB+IHzwfeB6gHzgeLB7AHlgeQB9IH2wfWB8cHwQfeB6IHvQfKB9AH1ge7B9AHuweUB8QHxAfiB54H1gesB6UHvAfcB9gHzQelB88H3AfTB8IHwAfhB70HlQfLB6YHpwfIB78HiwfgB8AH0AfgB9cHqgfUB7MH2QewB9EHyweYB7gHoAfZB8MHqgecB4EHtQfNB9oH3AfQB78HtwetB80HqAeHB9sHxQeeB9kHngfVB6kHpwfIB9QHxAecB8sHoAfaB7wHqwfNB9YH1Qe2B50H4gfEB9QHwQepB9kHhQelB9EHzgfLB+EHogelB98HvAffB90HkwfVB9sHvgeiB6UHhgfXB8wH1wfPB5MHvgfMB9gH4ge6B9MHwQfOB9oHhAfTB68HlAehB9kH4AfeB9oHhwfeB8kH1we7B8kHzgfeB8IHwgeOB8wHuAe7B64H0wenB9QH3QfUB4gH3QeuB6EHywffB6cH3QfZB98H4QfWB9AHwwfSB8AH2wexB7gHtwfRB5QHlQfFB9EHwAe+B6MHywfJB5MHtwelB9sH0AfdB9QHtQfgB8AHmgfCB9MH4QfgB94HvgeqB9wH3wc=",
          "dtype": "i2"
         },
         "xaxis": "x",
         "y": {
          "bdata": "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",
          "dtype": "f8"
         },
         "yaxis": "y"
        }
       ],
       "layout": {
        "annotations": [
         {
          "arrowcolor": "red",
          "arrowhead": 2,
          "arrowsize": 1,
          "arrowwidth": 2,
          "ax": 50,
          "ay": -50,
          "bgcolor": "yellow",
          "bordercolor": "red",
          "borderwidth": 2,
          "font": {
           "color": "black",
           "size": 10
          },
          "showarrow": true,
          "text": "Highest Rated:<br>The Shawshank Redemption<br>(9.3)",
          "x": 1994,
          "y": 9.3
         },
         {
          "arrowcolor": "blue",
          "arrowhead": 2,
          "arrowsize": 1,
          "arrowwidth": 2,
          "ax": -80,
          "ay": 30,
          "bgcolor": "lightblue",
          "bordercolor": "blue",
          "borderwidth": 2,
          "font": {
           "color": "black",
           "size": 10
          },
          "showarrow": true,
          "text": "Most Voted:<br>The Shawshank Redemption<br>(2,030,817 votes)",
          "x": 1994,
          "y": 9.3
         }
        ],
        "coloraxis": {
         "colorbar": {
          "tickfont": {
           "size": 10
          },
          "title": {
           "font": {
            "size": 12
           },
           "text": "Duration (minutes)"
          }
         },
         "colorscale": [
          [
           0,
           "#440154"
          ],
          [
           0.1111111111111111,
           "#482878"
          ],
          [
           0.2222222222222222,
           "#3e4989"
          ],
          [
           0.3333333333333333,
           "#31688e"
          ],
          [
           0.4444444444444444,
           "#26828e"
          ],
          [
           0.5555555555555556,
           "#1f9e89"
          ],
          [
           0.6666666666666666,
           "#35b779"
          ],
          [
           0.7777777777777778,
           "#6ece58"
          ],
          [
           0.8888888888888888,
           "#b5de2b"
          ],
          [
           1,
           "#fde725"
          ]
         ]
        },
        "height": 700,
        "legend": {
         "itemsizing": "constant",
         "tracegroupgap": 0
        },
        "plot_bgcolor": "white",
        "template": {
         "data": {
          "bar": [
           {
            "error_x": {
             "color": "#2a3f5f"
            },
            "error_y": {
             "color": "#2a3f5f"
            },
            "marker": {
             "line": {
              "color": "#E5ECF6",
              "width": 0.5
             },
             "pattern": {
              "fillmode": "overlay",
              "size": 10,
              "solidity": 0.2
             }
            },
            "type": "bar"
           }
          ],
          "barpolar": [
           {
            "marker": {
             "line": {
              "color": "#E5ECF6",
              "width": 0.5
             },
             "pattern": {
              "fillmode": "overlay",
              "size": 10,
              "solidity": 0.2
             }
            },
            "type": "barpolar"
           }
          ],
          "carpet": [
           {
            "aaxis": {
             "endlinecolor": "#2a3f5f",
             "gridcolor": "white",
             "linecolor": "white",
             "minorgridcolor": "white",
             "startlinecolor": "#2a3f5f"
            },
            "baxis": {
             "endlinecolor": "#2a3f5f",
             "gridcolor": "white",
             "linecolor": "white",
             "minorgridcolor": "white",
             "startlinecolor": "#2a3f5f"
            },
            "type": "carpet"
           }
          ],
          "choropleth": [
           {
            "colorbar": {
             "outlinewidth": 0,
             "ticks": ""
            },
            "type": "choropleth"
           }
          ],
          "contour": [
           {
            "colorbar": {
             "outlinewidth": 0,
             "ticks": ""
            },
            "colorscale": [
             [
              0,
              "#0d0887"
             ],
             [
              0.1111111111111111,
              "#46039f"
             ],
             [
              0.2222222222222222,
              "#7201a8"
             ],
             [
              0.3333333333333333,
              "#9c179e"
             ],
             [
              0.4444444444444444,
              "#bd3786"
             ],
             [
              0.5555555555555556,
              "#d8576b"
             ],
             [
              0.6666666666666666,
              "#ed7953"
             ],
             [
              0.7777777777777778,
              "#fb9f3a"
             ],
             [
              0.8888888888888888,
              "#fdca26"
             ],
             [
              1,
              "#f0f921"
             ]
            ],
            "type": "contour"
           }
          ],
          "contourcarpet": [
           {
            "colorbar": {
             "outlinewidth": 0,
             "ticks": ""
            },
            "type": "contourcarpet"
           }
          ],
          "heatmap": [
           {
            "colorbar": {
             "outlinewidth": 0,
             "ticks": ""
            },
            "colorscale": [
             [
              0,
              "#0d0887"
             ],
             [
              0.1111111111111111,
              "#46039f"
             ],
             [
              0.2222222222222222,
              "#7201a8"
             ],
             [
              0.3333333333333333,
              "#9c179e"
             ],
             [
              0.4444444444444444,
              "#bd3786"
             ],
             [
              0.5555555555555556,
              "#d8576b"
             ],
             [
              0.6666666666666666,
              "#ed7953"
             ],
             [
              0.7777777777777778,
              "#fb9f3a"
             ],
             [
              0.8888888888888888,
              "#fdca26"
             ],
             [
              1,
              "#f0f921"
             ]
            ],
            "type": "heatmap"
           }
          ],
          "histogram": [
           {
            "marker": {
             "pattern": {
              "fillmode": "overlay",
              "size": 10,
              "solidity": 0.2
             }
            },
            "type": "histogram"
           }
          ],
          "histogram2d": [
           {
            "colorbar": {
             "outlinewidth": 0,
             "ticks": ""
            },
            "colorscale": [
             [
              0,
              "#0d0887"
             ],
             [
              0.1111111111111111,
              "#46039f"
             ],
             [
              0.2222222222222222,
              "#7201a8"
             ],
             [
              0.3333333333333333,
              "#9c179e"
             ],
             [
              0.4444444444444444,
              "#bd3786"
             ],
             [
              0.5555555555555556,
              "#d8576b"
             ],
             [
              0.6666666666666666,
              "#ed7953"
             ],
             [
              0.7777777777777778,
              "#fb9f3a"
             ],
             [
              0.8888888888888888,
              "#fdca26"
             ],
             [
              1,
              "#f0f921"
             ]
            ],
            "type": "histogram2d"
           }
          ],
          "histogram2dcontour": [
           {
            "colorbar": {
             "outlinewidth": 0,
             "ticks": ""
            },
            "colorscale": [
             [
              0,
              "#0d0887"
             ],
             [
              0.1111111111111111,
              "#46039f"
             ],
             [
              0.2222222222222222,
              "#7201a8"
             ],
             [
              0.3333333333333333,
              "#9c179e"
             ],
             [
              0.4444444444444444,
              "#bd3786"
             ],
             [
              0.5555555555555556,
              "#d8576b"
             ],
             [
              0.6666666666666666,
              "#ed7953"
             ],
             [
              0.7777777777777778,
              "#fb9f3a"
             ],
             [
              0.8888888888888888,
              "#fdca26"
             ],
             [
              1,
              "#f0f921"
             ]
            ],
            "type": "histogram2dcontour"
           }
          ],
          "mesh3d": [
           {
            "colorbar": {
             "outlinewidth": 0,
             "ticks": ""
            },
            "type": "mesh3d"
           }
          ],
          "parcoords": [
           {
            "line": {
             "colorbar": {
              "outlinewidth": 0,
              "ticks": ""
             }
            },
            "type": "parcoords"
           }
          ],
          "pie": [
           {
            "automargin": true,
            "type": "pie"
           }
          ],
          "scatter": [
           {
            "fillpattern": {
             "fillmode": "overlay",
             "size": 10,
             "solidity": 0.2
            },
            "type": "scatter"
           }
          ],
          "scatter3d": [
           {
            "line": {
             "colorbar": {
              "outlinewidth": 0,
              "ticks": ""
             }
            },
            "marker": {
             "colorbar": {
              "outlinewidth": 0,
              "ticks": ""
             }
            },
            "type": "scatter3d"
           }
          ],
          "scattercarpet": [
           {
            "marker": {
             "colorbar": {
              "outlinewidth": 0,
              "ticks": ""
             }
            },
            "type": "scattercarpet"
           }
          ],
          "scattergeo": [
           {
            "marker": {
             "colorbar": {
              "outlinewidth": 0,
              "ticks": ""
             }
            },
            "type": "scattergeo"
           }
          ],
          "scattergl": [
           {
            "marker": {
             "colorbar": {
              "outlinewidth": 0,
              "ticks": ""
             }
            },
            "type": "scattergl"
           }
          ],
          "scattermap": [
           {
            "marker": {
             "colorbar": {
              "outlinewidth": 0,
              "ticks": ""
             }
            },
            "type": "scattermap"
           }
          ],
          "scattermapbox": [
           {
            "marker": {
             "colorbar": {
              "outlinewidth": 0,
              "ticks": ""
             }
            },
            "type": "scattermapbox"
           }
          ],
          "scatterpolar": [
           {
            "marker": {
             "colorbar": {
              "outlinewidth": 0,
              "ticks": ""
             }
            },
            "type": "scatterpolar"
           }
          ],
          "scatterpolargl": [
           {
            "marker": {
             "colorbar": {
              "outlinewidth": 0,
              "ticks": ""
             }
            },
            "type": "scatterpolargl"
           }
          ],
          "scatterternary": [
           {
            "marker": {
             "colorbar": {
              "outlinewidth": 0,
              "ticks": ""
             }
            },
            "type": "scatterternary"
           }
          ],
          "surface": [
           {
            "colorbar": {
             "outlinewidth": 0,
             "ticks": ""
            },
            "colorscale": [
             [
              0,
              "#0d0887"
             ],
             [
              0.1111111111111111,
              "#46039f"
             ],
             [
              0.2222222222222222,
              "#7201a8"
             ],
             [
              0.3333333333333333,
              "#9c179e"
             ],
             [
              0.4444444444444444,
              "#bd3786"
             ],
             [
              0.5555555555555556,
              "#d8576b"
             ],
             [
              0.6666666666666666,
              "#ed7953"
             ],
             [
              0.7777777777777778,
              "#fb9f3a"
             ],
             [
              0.8888888888888888,
              "#fdca26"
             ],
             [
              1,
              "#f0f921"
             ]
            ],
            "type": "surface"
           }
          ],
          "table": [
           {
            "cells": {
             "fill": {
              "color": "#EBF0F8"
             },
             "line": {
              "color": "white"
             }
            },
            "header": {
             "fill": {
              "color": "#C8D4E3"
             },
             "line": {
              "color": "white"
             }
            },
            "type": "table"
           }
          ]
         },
         "layout": {
          "annotationdefaults": {
           "arrowcolor": "#2a3f5f",
           "arrowhead": 0,
           "arrowwidth": 1
          },
          "autotypenumbers": "strict",
          "coloraxis": {
           "colorbar": {
            "outlinewidth": 0,
            "ticks": ""
           }
          },
          "colorscale": {
           "diverging": [
            [
             0,
             "#8e0152"
            ],
            [
             0.1,
             "#c51b7d"
            ],
            [
             0.2,
             "#de77ae"
            ],
            [
             0.3,
             "#f1b6da"
            ],
            [
             0.4,
             "#fde0ef"
            ],
            [
             0.5,
             "#f7f7f7"
            ],
            [
             0.6,
             "#e6f5d0"
            ],
            [
             0.7,
             "#b8e186"
            ],
            [
             0.8,
             "#7fbc41"
            ],
            [
             0.9,
             "#4d9221"
            ],
            [
             1,
             "#276419"
            ]
           ],
           "sequential": [
            [
             0,
             "#0d0887"
            ],
            [
             0.1111111111111111,
             "#46039f"
            ],
            [
             0.2222222222222222,
             "#7201a8"
            ],
            [
             0.3333333333333333,
             "#9c179e"
            ],
            [
             0.4444444444444444,
             "#bd3786"
            ],
            [
             0.5555555555555556,
             "#d8576b"
            ],
            [
             0.6666666666666666,
             "#ed7953"
            ],
            [
             0.7777777777777778,
             "#fb9f3a"
            ],
            [
             0.8888888888888888,
             "#fdca26"
            ],
            [
             1,
             "#f0f921"
            ]
           ],
           "sequentialminus": [
            [
             0,
             "#0d0887"
            ],
            [
             0.1111111111111111,
             "#46039f"
            ],
            [
             0.2222222222222222,
             "#7201a8"
            ],
            [
             0.3333333333333333,
             "#9c179e"
            ],
            [
             0.4444444444444444,
             "#bd3786"
            ],
            [
             0.5555555555555556,
             "#d8576b"
            ],
            [
             0.6666666666666666,
             "#ed7953"
            ],
            [
             0.7777777777777778,
             "#fb9f3a"
            ],
            [
             0.8888888888888888,
             "#fdca26"
            ],
            [
             1,
             "#f0f921"
            ]
           ]
          },
          "colorway": [
           "#636efa",
           "#EF553B",
           "#00cc96",
           "#ab63fa",
           "#FFA15A",
           "#19d3f3",
           "#FF6692",
           "#B6E880",
           "#FF97FF",
           "#FECB52"
          ],
          "font": {
           "color": "#2a3f5f"
          },
          "geo": {
           "bgcolor": "white",
           "lakecolor": "white",
           "landcolor": "#E5ECF6",
           "showlakes": true,
           "showland": true,
           "subunitcolor": "white"
          },
          "hoverlabel": {
           "align": "left"
          },
          "hovermode": "closest",
          "mapbox": {
           "style": "light"
          },
          "paper_bgcolor": "white",
          "plot_bgcolor": "#E5ECF6",
          "polar": {
           "angularaxis": {
            "gridcolor": "white",
            "linecolor": "white",
            "ticks": ""
           },
           "bgcolor": "#E5ECF6",
           "radialaxis": {
            "gridcolor": "white",
            "linecolor": "white",
            "ticks": ""
           }
          },
          "scene": {
           "xaxis": {
            "backgroundcolor": "#E5ECF6",
            "gridcolor": "white",
            "gridwidth": 2,
            "linecolor": "white",
            "showbackground": true,
            "ticks": "",
            "zerolinecolor": "white"
           },
           "yaxis": {
            "backgroundcolor": "#E5ECF6",
            "gridcolor": "white",
            "gridwidth": 2,
            "linecolor": "white",
            "showbackground": true,
            "ticks": "",
            "zerolinecolor": "white"
           },
           "zaxis": {
            "backgroundcolor": "#E5ECF6",
            "gridcolor": "white",
            "gridwidth": 2,
            "linecolor": "white",
            "showbackground": true,
            "ticks": "",
            "zerolinecolor": "white"
           }
          },
          "shapedefaults": {
           "line": {
            "color": "#2a3f5f"
           }
          },
          "ternary": {
           "aaxis": {
            "gridcolor": "white",
            "linecolor": "white",
            "ticks": ""
           },
           "baxis": {
            "gridcolor": "white",
            "linecolor": "white",
            "ticks": ""
           },
           "bgcolor": "#E5ECF6",
           "caxis": {
            "gridcolor": "white",
            "linecolor": "white",
            "ticks": ""
           }
          },
          "title": {
           "x": 0.05
          },
          "xaxis": {
           "automargin": true,
           "gridcolor": "white",
           "linecolor": "white",
           "ticks": "",
           "title": {
            "standoff": 15
           },
           "zerolinecolor": "white",
           "zerolinewidth": 2
          },
          "yaxis": {
           "automargin": true,
           "gridcolor": "white",
           "linecolor": "white",
           "ticks": "",
           "title": {
            "standoff": 15
           },
           "zerolinecolor": "white",
           "zerolinewidth": 2
          }
         }
        },
        "title": {
         "font": {
          "size": 16
         },
         "text": "IMDb Rating vs. Release Year (Interactive - Top 250 Movies)",
         "x": 0.5
        },
        "width": 1000,
        "xaxis": {
         "anchor": "y",
         "domain": [
          0,
          1
         ],
         "gridcolor": "lightgray",
         "gridwidth": 0.5,
         "tickfont": {
          "size": 12
         },
         "title": {
          "font": {
           "size": 14
          },
          "text": "Release Year"
         }
        },
        "yaxis": {
         "anchor": "x",
         "domain": [
          0,
          1
         ],
         "gridcolor": "lightgray",
         "gridwidth": 0.5,
         "range": [
          7.9,
          9.4
         ],
         "tickfont": {
          "size": 12
         },
         "title": {
          "font": {
           "size": 14
          },
          "text": "IMDb Rating"
         }
        }
       }
      }
     },
     "metadata": {},
     "output_type": "display_data"
    },
    {
     "name": "stdout",
     "output_type": "stream",
     "text": [
      "🎬 KEY INSIGHTS FROM THE INTERACTIVE SCATTER PLOT:\n",
      "📊 Highest rated: The Shawshank Redemption (9.3)\n",
      "🗳️  Most voted: The Shawshank Redemption (2,030,817 votes)\n",
      "📅 Year range: 1921 - 2018\n",
      "⭐ Rating range: 8.0 - 9.3\n",
      "🎭 Total movies: 250\n",
      "\n",
      "💡 INTERACTIVE FEATURES:\n",
      "• Hover over points to see movie details\n",
      "• Zoom in/out using mouse wheel or toolbar\n",
      "• Pan by clicking and dragging\n",
      "• Use toolbar to download as PNG\n"
     ]
    }
   ],
   "source": [
    "import plotly.express as px\n",
    "import plotly.graph_objects as go\n",
    "\n",
    "# Create interactive scatter plot with proper hover data\n",
    "fig = px.scatter(df, x='Year', y='IMDB rating', \n",
    "                 size='Rating count', \n",
    "                 color='Duration_minutes',\n",
    "                 hover_name='Title',  # This will be the main title in hover\n",
    "                 hover_data={\n",
    "                     'Director': True,\n",
    "                     'Genre': True,\n",
    "                     'Year': True,\n",
    "                     'IMDB rating': ':.1f',\n",
    "                     'Duration_minutes': True,\n",
    "                     'Rating count': ':,d'\n",
    "                 },\n",
    "                 title='IMDb Rating vs. Release Year (Interactive - Top 250 Movies)',\n",
    "                 labels={\n",
    "                     'IMDB rating': 'IMDb Rating', \n",
    "                     'Year': 'Release Year',\n",
    "                     'Duration_minutes': 'Duration (minutes)', \n",
    "                     'Rating count': 'Number of Ratings'\n",
    "                 },\n",
    "                 color_continuous_scale='viridis',\n",
    "                 size_max=20)\n",
    "\n",
    "# Customize the appearance (remove the problematic custom hover template)\n",
    "fig.update_traces(\n",
    "    marker=dict(\n",
    "        line=dict(width=1, color='DarkSlateGrey'),\n",
    "        opacity=0.8\n",
    "    )\n",
    ")\n",
    "\n",
    "# Update layout for better appearance\n",
    "fig.update_layout(\n",
    "    height=700,\n",
    "    width=1000,\n",
    "    title_font_size=16,\n",
    "    title_x=0.5,\n",
    "    xaxis=dict(\n",
    "        title_font_size=14,\n",
    "        tickfont_size=12,\n",
    "        gridcolor='lightgray',\n",
    "        gridwidth=0.5\n",
    "    ),\n",
    "    yaxis=dict(\n",
    "        title_font_size=14,\n",
    "        tickfont_size=12,\n",
    "        gridcolor='lightgray',\n",
    "        gridwidth=0.5,\n",
    "        range=[7.9, 9.4]  # Focus on the actual rating range\n",
    "    ),\n",
    "    plot_bgcolor='white',\n",
    "    coloraxis_colorbar=dict(\n",
    "        title_font_size=12,\n",
    "        tickfont_size=10\n",
    "    )\n",
    ")\n",
    "\n",
    "# Add annotations for key insights\n",
    "highest_rated = df.loc[df['IMDB rating'].idxmax()]\n",
    "oldest_movie = df.loc[df['Year'].idxmin()]\n",
    "most_voted = df.loc[df['Rating count'].idxmax()]\n",
    "\n",
    "# Highlight the highest rated movie\n",
    "fig.add_annotation(\n",
    "    x=highest_rated['Year'],\n",
    "    y=highest_rated['IMDB rating'],\n",
    "    text=f\"Highest Rated:<br>{highest_rated['Title']}<br>({highest_rated['IMDB rating']})\",\n",
    "    showarrow=True,\n",
    "    arrowhead=2,\n",
    "    arrowsize=1,\n",
    "    arrowwidth=2,\n",
    "    arrowcolor=\"red\",\n",
    "    ax=50,\n",
    "    ay=-50,\n",
    "    bgcolor=\"yellow\",\n",
    "    bordercolor=\"red\",\n",
    "    borderwidth=2,\n",
    "    font=dict(size=10, color=\"black\")\n",
    ")\n",
    "\n",
    "# Highlight the most voted movie\n",
    "fig.add_annotation(\n",
    "    x=most_voted['Year'],\n",
    "    y=most_voted['IMDB rating'],\n",
    "    text=f\"Most Voted:<br>{most_voted['Title']}<br>({most_voted['Rating count']:,} votes)\",\n",
    "    showarrow=True,\n",
    "    arrowhead=2,\n",
    "    arrowsize=1,\n",
    "    arrowwidth=2,\n",
    "    arrowcolor=\"blue\",\n",
    "    ax=-80,\n",
    "    ay=30,\n",
    "    bgcolor=\"lightblue\",\n",
    "    bordercolor=\"blue\",\n",
    "    borderwidth=2,\n",
    "    font=dict(size=10, color=\"black\")\n",
    ")\n",
    "\n",
    "fig.show()\n",
    "\n",
    "# Print key insights\n",
    "print(\"🎬 KEY INSIGHTS FROM THE INTERACTIVE SCATTER PLOT:\")\n",
    "print(f\"📊 Highest rated: {highest_rated['Title']} ({highest_rated['IMDB rating']})\")\n",
    "print(f\"🗳️  Most voted: {most_voted['Title']} ({most_voted['Rating count']:,} votes)\")\n",
    "print(f\"📅 Year range: {df['Year'].min()} - {df['Year'].max()}\")\n",
    "print(f\"⭐ Rating range: {df['IMDB rating'].min()} - {df['IMDB rating'].max()}\")\n",
    "print(f\"🎭 Total movies: {len(df)}\")\n",
    "print(\"\\n💡 INTERACTIVE FEATURES:\")\n",
    "print(\"• Hover over points to see movie details\")\n",
    "print(\"• Zoom in/out using mouse wheel or toolbar\")\n",
    "print(\"• Pan by clicking and dragging\")\n",
    "print(\"• Use toolbar to download as PNG\")"
   ]
  },
  {
   "cell_type": "code",
   "execution_count": 4,
   "id": "a50f235c",
   "metadata": {},
   "outputs": [
    {
     "name": "stderr",
     "output_type": "stream",
     "text": [
      "/tmp/ipykernel_6155/3618024396.py:7: MatplotlibDeprecationWarning: The get_cmap function was deprecated in Matplotlib 3.7 and will be removed in 3.11. Use ``matplotlib.colormaps[name]`` or ``matplotlib.colormaps.get_cmap()`` or ``pyplot.get_cmap()`` instead.\n",
      "  cm = plt.cm.get_cmap('RdYlBu_r')\n"
     ]
    },
    {
     "data": {
      "image/png": "[encoded data removed]",
      "text/plain": [
       "<Figure size 1200x800 with 1 Axes>"
      ]
     },
     "metadata": {},
     "output_type": "display_data"
    },
    {
     "name": "stdout",
     "output_type": "stream",
     "text": [
      "Average duration: 129.7 minutes (2.2 hours)\n",
      "Shortest: 45 min, Longest: 321 min\n"
     ]
    }
   ],
   "source": [
    "# Create histogram\n",
    "plt.figure(figsize=(12, 8))\n",
    "n, bins, patches = plt.hist(df['Duration_minutes'], bins=20, \n",
    "                           color='skyblue', alpha=0.7, edgecolor='black', linewidth=1.2)\n",
    "\n",
    "# Color bars based on frequency\n",
    "cm = plt.cm.get_cmap('RdYlBu_r')\n",
    "for i, p in enumerate(patches):\n",
    "    p.set_facecolor(cm(n[i] / max(n)))\n",
    "\n",
    "# Customize the plot\n",
    "plt.title('Distribution of Movie Durations (IMDb Top 250)', fontsize=16, fontweight='bold', pad=20)\n",
    "plt.xlabel('Duration (minutes)', fontsize=12, fontweight='bold')\n",
    "plt.ylabel('Number of Movies', fontsize=12, fontweight='bold')\n",
    "\n",
    "# Add statistics\n",
    "mean_duration = df['Duration_minutes'].mean()\n",
    "median_duration = df['Duration_minutes'].median()\n",
    "\n",
    "plt.axvline(mean_duration, color='red', linestyle='--', linewidth=2, \n",
    "           label=f'Mean: {mean_duration:.0f} min')\n",
    "plt.axvline(median_duration, color='green', linestyle='--', linewidth=2, \n",
    "           label=f'Median: {median_duration:.0f} min')\n",
    "\n",
    "plt.legend(fontsize=11)\n",
    "plt.grid(axis='y', alpha=0.3)\n",
    "plt.tight_layout()\n",
    "plt.show()\n",
    "\n",
    "print(f\"Average duration: {mean_duration:.1f} minutes ({mean_duration/60:.1f} hours)\")\n",
    "print(f\"Shortest: {df['Duration_minutes'].min()} min, Longest: {df['Duration_minutes'].max()} min\")"
   ]
  },
  {
   "cell_type": "code",
   "execution_count": 5,
   "id": "299eee21",
   "metadata": {},
   "outputs": [
    {
     "data": {
      "image/png": "[encoded data removed]",
      "text/plain": [
       "<Figure size 1400x800 with 2 Axes>"
      ]
     },
     "metadata": {},
     "output_type": "display_data"
    },
    {
     "name": "stdout",
     "output_type": "stream",
     "text": [
      "Decade with highest average rating: 1990\n",
      "Most productive decade: 2000\n"
     ]
    }
   ],
   "source": [
    "# Calculate average rating by decade\n",
    "decade_stats = df.groupby('Decade').agg({\n",
    "    'IMDB rating': ['mean', 'count'],\n",
    "    'Year': 'count'\n",
    "}).round(2)\n",
    "\n",
    "decade_stats.columns = ['Avg_Rating', 'Movie_Count', 'Total_Movies']\n",
    "decade_stats = decade_stats.reset_index()\n",
    "\n",
    "# Create line chart with dual y-axis\n",
    "fig, ax1 = plt.subplots(figsize=(14, 8))\n",
    "\n",
    "# Plot average rating\n",
    "color = 'tab:red'\n",
    "ax1.set_xlabel('Decade', fontsize=12, fontweight='bold')\n",
    "ax1.set_ylabel('Average IMDb Rating', color=color, fontsize=12, fontweight='bold')\n",
    "line1 = ax1.plot(decade_stats['Decade'], decade_stats['Avg_Rating'], \n",
    "                color=color, marker='o', linewidth=3, markersize=8, label='Avg Rating')\n",
    "ax1.tick_params(axis='y', labelcolor=color)\n",
    "ax1.grid(True, alpha=0.3)\n",
    "\n",
    "# Create second y-axis for movie count\n",
    "ax2 = ax1.twinx()\n",
    "color = 'tab:blue'\n",
    "ax2.set_ylabel('Number of Movies', color=color, fontsize=12, fontweight='bold')\n",
    "bars = ax2.bar(decade_stats['Decade'], decade_stats['Movie_Count'], \n",
    "               alpha=0.3, color=color, width=8, label='Movie Count')\n",
    "ax2.tick_params(axis='y', labelcolor=color)\n",
    "\n",
    "# Customize the plot\n",
    "plt.title('IMDb Rating Trends and Movie Count by Decade (Top 250)', \n",
    "          fontsize=16, fontweight='bold', pad=20)\n",
    "\n",
    "# Add value labels\n",
    "for i, (decade, rating, count) in enumerate(zip(decade_stats['Decade'], \n",
    "                                               decade_stats['Avg_Rating'], \n",
    "                                               decade_stats['Movie_Count'])):\n",
    "    ax1.annotate(f'{rating}', (decade, rating), textcoords=\"offset points\", \n",
    "                xytext=(0,10), ha='center', fontweight='bold')\n",
    "    ax2.annotate(f'{count}', (decade, count), textcoords=\"offset points\", \n",
    "                xytext=(0,5), ha='center', fontweight='bold', color='blue')\n",
    "\n",
    "# Add legends\n",
    "lines1, labels1 = ax1.get_legend_handles_labels()\n",
    "lines2, labels2 = ax2.get_legend_handles_labels()\n",
    "ax1.legend(lines1 + lines2, labels1 + labels2, loc='upper left')\n",
    "\n",
    "plt.tight_layout()\n",
    "plt.show()\n",
    "\n",
    "print(\"Decade with highest average rating:\", \n",
    "      decade_stats.loc[decade_stats['Avg_Rating'].idxmax(), 'Decade'])\n",
    "print(\"Most productive decade:\", \n",
    "      decade_stats.loc[decade_stats['Movie_Count'].idxmax(), 'Decade'])"
   ]
  },
  {
   "cell_type": "code",
   "execution_count": 10,
   "id": "e9680fbb",
   "metadata": {},
   "outputs": [
    {
     "data": {
      "application/vnd.plotly.v1+json": {
       "config": {
        "plotlyServerURL": "https://plot.ly"
       },
       "data": [
        {
         "branchvalues": "total",
         "customdata": [
          [
           "(?)",
           "(?)",
           "(?)",
           8.438709677419356
          ],
          [
           "(?)",
           "(?)",
           "(?)",
           8.34
          ],
          [
           "(?)",
           "(?)",
           "(?)",
           8.620000000000001
          ],
          [
           "(?)",
           "(?)",
           "(?)",
           8.31081081081081
          ],
          [
           "(?)",
           "(?)",
           "(?)",
           8.38888888888889
          ],
          [
           "(?)",
           "(?)",
           "(?)",
           8.321428571428571
          ],
          [
           "(?)",
           "(?)",
           "(?)",
           8.35
          ],
          [
           "(?)",
           "(?)",
           "(?)",
           8.288888888888888
          ],
          [
           "(?)",
           "(?)",
           "(?)",
           8.466666666666667
          ],
          [
           "(?)",
           "(?)",
           "(?)",
           8.65
          ],
          [
           "(?)",
           "(?)",
           "(?)",
           8.378571428571428
          ],
          [
           "(?)",
           "(?)",
           "(?)",
           8.4375
          ],
          [
           "(?)",
           "(?)",
           "(?)",
           8.39375
          ],
          [
           "(?)",
           "(?)",
           "(?)",
           8.45
          ],
          [
           "(?)",
           "(?)",
           "(?)",
           8.36
          ],
          [
           "(?)",
           "(?)",
           "(?)",
           8.318181818181818
          ],
          [
           "(?)",
           "(?)",
           "(?)",
           8.257142857142856
          ],
          [
           "(?)",
           "(?)",
           "(?)",
           8.325
          ],
          [
           "(?)",
           "(?)",
           "(?)",
           8.333333333333334
          ],
          [
           "(?)",
           "(?)",
           "(?)",
           8.327272727272726
          ],
          [
           "(?)",
           "(?)",
           "(?)",
           8.2
          ],
          [
           "(?)",
           "(?)",
           "(?)",
           8.6
          ],
          [
           "(?)",
           "(?)",
           "(?)",
           8.28
          ],
          [
           "(?)",
           "(?)",
           "(?)",
           8.345454545454546
          ],
          [
           "(?)",
           "(?)",
           "(?)",
           8.42
          ],
          [
           "(?)",
           "(?)",
           "(?)",
           8.25
          ],
          [
           "(?)",
           "(?)",
           "(?)",
           8.45
          ],
          [
           "Star Wars",
           "George Lucas",
           "1977",
           8.6
          ],
          [
           "(?)",
           "(?)",
           "(?)",
           8.309999999999999
          ],
          [
           "It's a Wonderful Life",
           "Frank Capra",
           "1946",
           8.6
          ],
          [
           "It's a Wonderful Life",
           "Frank Capra",
           "1946",
           8.6
          ],
          [
           "(?)",
           "(?)",
           "(?)",
           8.533333333333333
          ],
          [
           "(?)",
           "(?)",
           "(?)",
           8.216666666666667
          ],
          [
           "(?)",
           "(?)",
           "(?)",
           8.257142857142856
          ],
          [
           "(?)",
           "(?)",
           "(?)",
           8.383333333333333
          ],
          [
           "(?)",
           "(?)",
           "(?)",
           8.288888888888888
          ],
          [
           "(?)",
           "(?)",
           "(?)",
           8.238461538461538
          ],
          [
           "(?)",
           "(?)",
           "(?)",
           8.35
          ],
          [
           "(?)",
           "(?)",
           "(?)",
           8.34
          ],
          [
           "(?)",
           "(?)",
           "(?)",
           8.3
          ],
          [
           "(?)",
           "(?)",
           "(?)",
           8.218181818181819
          ],
          [
           "(?)",
           "(?)",
           "(?)",
           8.24
          ],
          [
           "Psycho",
           "Alfred Hitchcock",
           "1960",
           8.5
          ],
          [
           "Psycho",
           "Alfred Hitchcock",
           "1960",
           8.5
          ],
          [
           "(?)",
           "(?)",
           "(?)",
           8.35
          ],
          [
           "(?)",
           "(?)",
           "(?)",
           8.325
          ],
          [
           "(?)",
           "(?)",
           "(?)",
           8.325
          ],
          [
           "(?)",
           "(?)",
           "(?)",
           8.366666666666667
          ],
          [
           "(?)",
           "(?)",
           "(?)",
           8.233333333333333
          ],
          [
           "(?)",
           "(?)",
           "(?)",
           8.25
          ],
          [
           "(?)",
           "(?)",
           "(?)",
           8.2
          ],
          [
           "(?)",
           "(?)",
           "(?)",
           8.26
          ],
          [
           "The Pianist",
           "Roman Polanski",
           "2002",
           8.5
          ],
          [
           "(?)",
           "(?)",
           "(?)",
           8.257142857142856
          ],
          [
           "(?)",
           "(?)",
           "(?)",
           8.3
          ],
          [
           "(?)",
           "(?)",
           "(?)",
           8.3
          ],
          [
           "(?)",
           "(?)",
           "(?)",
           8.2625
          ],
          [
           "(?)",
           "(?)",
           "(?)",
           8.316666666666668
          ],
          [
           "(?)",
           "(?)",
           "(?)",
           8.325
          ],
          [
           "(?)",
           "(?)",
           "(?)",
           8.4
          ],
          [
           "(?)",
           "(?)",
           "(?)",
           8.366666666666667
          ],
          [
           "The Lion King ",
           "Roger Allers",
           "1994",
           8.5
          ],
          [
           "(?)",
           "(?)",
           "(?)",
           8.233333333333333
          ],
          [
           "Alien",
           "Ridley Scott",
           "1979",
           8.5
          ],
          [
           "The Great Dictator",
           "Charles Chaplin",
           "1940",
           8.5
          ],
          [
           "(?)",
           "(?)",
           "(?)",
           8.242105263157894
          ],
          [
           "(?)",
           "(?)",
           "(?)",
           8.3
          ],
          [
           "(?)",
           "(?)",
           "(?)",
           8.225
          ],
          [
           "(?)",
           "(?)",
           "(?)",
           8.285714285714286
          ],
          [
           "(?)",
           "(?)",
           "(?)",
           8.350000000000001
          ],
          [
           "(?)",
           "(?)",
           "1957",
           8.3
          ],
          [
           "(?)",
           "(?)",
           "(?)",
           8.25
          ],
          [
           "Django Unchained",
           "Quentin Tarantino",
           "2012",
           8.4
          ],
          [
           "(?)",
           "(?)",
           "(?)",
           8.216666666666667
          ],
          [
           "(?)",
           "(?)",
           "(?)",
           8.3
          ],
          [
           "(?)",
           "(?)",
           "(?)",
           8.350000000000001
          ],
          [
           "(?)",
           "(?)",
           "(?)",
           8.142857142857142
          ],
          [
           "(?)",
           "(?)",
           "(?)",
           8.22
          ],
          [
           "(?)",
           "(?)",
           "(?)",
           8.25
          ],
          [
           "M - Eine Stadt sucht einen Mörder",
           "Fritz Lang",
           "1931",
           8.3
          ],
          [
           "M - Eine Stadt sucht einen Mörder",
           "Fritz Lang",
           "1931",
           8.3
          ],
          [
           "M - Eine Stadt sucht einen Mörder",
           "Fritz Lang",
           "1931",
           8.3
          ],
          [
           "(?)",
           "(?)",
           "2016",
           8.166666666666666
          ],
          [
           "(?)",
           "(?)",
           "(?)",
           8.2
          ],
          [
           "(?)",
           "(?)",
           "(?)",
           8.2
          ],
          [
           "Amadeus",
           "Milos Forman",
           "1984",
           8.3
          ],
          [
           "(?)",
           "(?)",
           "(?)",
           8.266666666666666
          ],
          [
           "(?)",
           "(?)",
           "(?)",
           8.200000000000001
          ],
          [
           "(?)",
           "(?)",
           "(?)",
           8.266666666666667
          ],
          [
           "(?)",
           "(?)",
           "(?)",
           8.200000000000001
          ],
          [
           "(?)",
           "(?)",
           "(?)",
           8.233333333333333
          ],
          [
           "(?)",
           "(?)",
           "(?)",
           8.233333333333333
          ],
          [
           "(?)",
           "(?)",
           "(?)",
           8.2
          ],
          [
           "(?)",
           "(?)",
           "(?)",
           8.225
          ],
          [
           "(?)",
           "(?)",
           "(?)",
           8.200000000000001
          ],
          [
           "Double Indemnity",
           "Billy Wilder",
           "1944",
           8.3
          ],
          [
           "(?)",
           "(?)",
           "(?)",
           8.25
          ],
          [
           "Singin' in the Rain",
           "Stanley Donen",
           "1952",
           8.3
          ],
          [
           "(?)",
           "(?)",
           "(?)",
           8.15
          ],
          [
           "(?)",
           "(?)",
           "(?)",
           8.233333333333333
          ],
          [
           "(?)",
           "(?)",
           "(?)",
           8.225
          ],
          [
           "(?)",
           "Charles Chaplin",
           "(?)",
           8.25
          ],
          [
           "(?)",
           "(?)",
           "(?)",
           8.2
          ],
          [
           "The Apartment",
           "Billy Wilder",
           "1960",
           8.3
          ],
          [
           "(?)",
           "Akira Kurosawa",
           "(?)",
           8.2
          ],
          [
           "Unforgiven",
           "Clint Eastwood",
           "1992",
           8.2
          ],
          [
           "(?)",
           "(?)",
           "2004",
           8.149999999999999
          ],
          [
           "The Treasure of the Sierra Madre",
           "John Huston",
           "1948",
           8.2
          ],
          [
           "The Treasure of the Sierra Madre",
           "John Huston",
           "1948",
           8.2
          ],
          [
           "(?)",
           "(?)",
           "(?)",
           8.166666666666666
          ],
          [
           "Raging Bull",
           "Martin Scorsese",
           "1980",
           8.2
          ],
          [
           "(?)",
           "(?)",
           "(?)",
           8.1
          ],
          [
           "Chinatown",
           "Roman Polanski",
           "1974",
           8.2
          ],
          [
           "(?)",
           "(?)",
           "(?)",
           8.149999999999999
          ],
          [
           "(?)",
           "(?)",
           "(?)",
           8.2
          ],
          [
           "(?)",
           "(?)",
           "(?)",
           8.17142857142857
          ],
          [
           "Det sjunde inseglet",
           "Ingmar Bergman",
           "1957",
           8.2
          ],
          [
           "The General",
           "Clyde Bruckman",
           "1926",
           8.2
          ],
          [
           "The General",
           "Clyde Bruckman",
           "1926",
           8.2
          ],
          [
           "(?)",
           "(?)",
           "(?)",
           8.2
          ],
          [
           "Gone with the Wind",
           "Victor Fleming",
           "1939",
           8.2
          ],
          [
           "Gone with the Wind",
           "Victor Fleming",
           "1939",
           8.2
          ],
          [
           "The Thing",
           "John Carpenter",
           "1982",
           8.1
          ],
          [
           "(?)",
           "(?)",
           "(?)",
           8.2
          ],
          [
           "(?)",
           "(?)",
           "(?)",
           8.1
          ],
          [
           "Ben-Hur",
           "William Wyler",
           "1959",
           8.1
          ],
          [
           "Million Dollar Baby",
           "Clint Eastwood",
           "2004",
           8.1
          ],
          [
           "La passion de Jeanne d'Arc",
           "Carl Theodor Dreyer",
           "1928",
           8.2
          ],
          [
           "La passion de Jeanne d'Arc",
           "Carl Theodor Dreyer",
           "1928",
           8.2
          ],
          [
           "The Princess Bride",
           "Rob Reiner",
           "1987",
           8.1
          ],
          [
           "Rocky",
           "John G. Avildsen",
           "1976",
           8.1
          ],
          [
           "Barry Lyndon",
           "Stanley Kubrick",
           "1975",
           8.1
          ],
          [
           "The Grapes of Wrath",
           "John Ford",
           "1940",
           8.1
          ],
          [
           "Les diaboliques",
           "Henri-Georges Clouzot",
           "1955",
           8.1
          ],
          [
           "The Wizard of Oz",
           "Victor Fleming",
           "1939",
           8
          ],
          [
           "The Wizard of Oz",
           "Victor Fleming",
           "1939",
           8
          ],
          [
           "The Wizard of Oz",
           "Victor Fleming",
           "1939",
           8
          ],
          [
           "La La Land",
           "Damien Chazelle",
           "2016",
           8
          ],
          [
           "(?)",
           "(?)",
           "(?)",
           8.399
          ],
          [
           "(?)",
           "(?)",
           "(?)",
           8.3325
          ],
          [
           "(?)",
           "(?)",
           "(?)",
           8.314285714285715
          ],
          [
           "(?)",
           "(?)",
           "(?)",
           8.267272727272728
          ],
          [
           "(?)",
           "(?)",
           "(?)",
           8.255813953488373
          ],
          [
           "(?)",
           "(?)",
           "(?)",
           8.264473684210527
          ],
          [
           "(?)",
           "(?)",
           "(?)",
           8.244604316546763
          ],
          [
           "(?)",
           "(?)",
           "(?)",
           8.293548387096775
          ],
          [
           "(?)",
           "(?)",
           "(?)",
           8.263636363636364
          ],
          [
           "(?)",
           "(?)",
           "(?)",
           8.218181818181817
          ]
         ],
         "domain": {
          "x": [
           0,
           1
          ],
          "y": [
           0,
           1
          ]
         },
         "hovertemplate": "<b>%{label}</b><br>Count: %{value}<br>Percentage: %{percentParent}<br><extra></extra>",
         "ids": [
          "1990s/Drama",
          "1970s/Drama",
          "1970s/Crime",
          "2000s/Drama",
          "2000s/Action",
          "2000s/Thriller",
          "2000s/Crime",
          "1950s/Drama",
          "1990s/Biography",
          "1990s/History",
          "2000s/Adventure",
          "2000s/Fantasy",
          "1990s/Crime",
          "1960s/Western",
          "1990s/Romance",
          "1980s/Adventure",
          "1980s/Fantasy",
          "1980s/Action",
          "2010s/Adventure",
          "2010s/Action",
          "2010s/Thriller",
          "1990s/Action",
          "1950s/Adventure",
          "1990s/Thriller",
          "1990s/Mystery",
          "1970s/Adventure",
          "1970s/Fantasy",
          "1970s/Action",
          "1940s/Drama",
          "1940s/Fantasy",
          "1940s/Family",
          "1990s/War",
          "1990s/Comedy",
          "2000s/Animation",
          "2000s/Mystery",
          "2000s/Family",
          "2010s/Comedy",
          "2010s/Animation",
          "2010s/Family",
          "1990s/Fantasy",
          "2010s/Drama",
          "1960s/Thriller",
          "1960s/Horror",
          "1960s/Mystery",
          "1930s/Drama",
          "1930s/Comedy",
          "1930s/Romance",
          "1940s/War",
          "1940s/Romance",
          "1930s/Family",
          "2000s/Biography",
          "2000s/War",
          "2000s/Music",
          "2010s/Biography",
          "1980s/Comedy",
          "2010s/Music",
          "1950s/Thriller",
          "1950s/Mystery",
          "1990s/Adventure",
          "1990s/Animation",
          "1990s/Family",
          "1990s/Musical",
          "1970s/War",
          "1970s/Horror",
          "1940s/Comedy",
          "1980s/Drama",
          "1980s/War",
          "1980s/Animation",
          "2010s/Fantasy",
          "1960s/Comedy",
          "1950s/War",
          "1980s/Horror",
          "2010s/Western",
          "1950s/Crime",
          "1980s/Thriller",
          "1980s/Crime",
          "2010s/Mystery",
          "1940s/Mystery",
          "1950s/Romance",
          "1930s/Thriller",
          "1930s/Mystery",
          "1930s/Crime",
          "2010s/Romance",
          "1980s/Biography",
          "1980s/History",
          "1980s/Music",
          "2010s/Sport",
          "1960s/Biography",
          "1960s/Adventure",
          "1960s/Drama",
          "1960s/War",
          "1960s/History",
          "2000s/Romance",
          "2000s/Comedy",
          "1940s/Thriller",
          "1940s/Crime",
          "1950s/Comedy",
          "1950s/Musical",
          "1960s/Crime",
          "1920s/Drama",
          "1920s/Comedy",
          "1920s/Family",
          "1970s/Comedy",
          "1960s/Romance",
          "1960s/Action",
          "1990s/Western",
          "2000s/History",
          "1940s/Western",
          "1940s/Adventure",
          "2010s/War",
          "1980s/Sport",
          "1970s/Thriller",
          "1970s/Mystery",
          "1980s/Family",
          "1920s/Adventure",
          "2010s/Crime",
          "1950s/Fantasy",
          "1920s/Western",
          "1920s/War",
          "1920s/Action",
          "1930s/War",
          "1930s/History",
          "1980s/Mystery",
          "1920s/Romance",
          "2010s/History",
          "1950s/History",
          "2000s/Sport",
          "1920s/Biography",
          "1920s/History",
          "1980s/Romance",
          "1970s/Sport",
          "1970s/History",
          "1940s/History",
          "1950s/Horror",
          "1930s/Fantasy",
          "1930s/Adventure",
          "1930s/Musical",
          "2010s/Musical",
          "1990s",
          "1970s",
          "2000s",
          "1950s",
          "1960s",
          "1980s",
          "2010s",
          "1940s",
          "1930s",
          "1920s"
         ],
         "labels": [
          "Drama",
          "Drama",
          "Crime",
          "Drama",
          "Action",
          "Thriller",
          "Crime",
          "Drama",
          "Biography",
          "History",
          "Adventure",
          "Fantasy",
          "Crime",
          "Western",
          "Romance",
          "Adventure",
          "Fantasy",
          "Action",
          "Adventure",
          "Action",
          "Thriller",
          "Action",
          "Adventure",
          "Thriller",
          "Mystery",
          "Adventure",
          "Fantasy",
          "Action",
          "Drama",
          "Fantasy",
          "Family",
          "War",
          "Comedy",
          "Animation",
          "Mystery",
          "Family",
          "Comedy",
          "Animation",
          "Family",
          "Fantasy",
          "Drama",
          "Thriller",
          "Horror",
          "Mystery",
          "Drama",
          "Comedy",
          "Romance",
          "War",
          "Romance",
          "Family",
          "Biography",
          "War",
          "Music",
          "Biography",
          "Comedy",
          "Music",
          "Thriller",
          "Mystery",
          "Adventure",
          "Animation",
          "Family",
          "Musical",
          "War",
          "Horror",
          "Comedy",
          "Drama",
          "War",
          "Animation",
          "Fantasy",
          "Comedy",
          "War",
          "Horror",
          "Western",
          "Crime",
          "Thriller",
          "Crime",
          "Mystery",
          "Mystery",
          "Romance",
          "Thriller",
          "Mystery",
          "Crime",
          "Romance",
          "Biography",
          "History",
          "Music",
          "Sport",
          "Biography",
          "Adventure",
          "Drama",
          "War",
          "History",
          "Romance",
          "Comedy",
          "Thriller",
          "Crime",
          "Comedy",
          "Musical",
          "Crime",
          "Drama",
          "Comedy",
          "Family",
          "Comedy",
          "Romance",
          "Action",
          "Western",
          "History",
          "Western",
          "Adventure",
          "War",
          "Sport",
          "Thriller",
          "Mystery",
          "Family",
          "Adventure",
          "Crime",
          "Fantasy",
          "Western",
          "War",
          "Action",
          "War",
          "History",
          "Mystery",
          "Romance",
          "History",
          "History",
          "Sport",
          "Biography",
          "History",
          "Romance",
          "Sport",
          "History",
          "History",
          "Horror",
          "Fantasy",
          "Adventure",
          "Musical",
          "Musical",
          "1990s",
          "1970s",
          "2000s",
          "1950s",
          "1960s",
          "1980s",
          "2010s",
          "1940s",
          "1930s",
          "1920s"
         ],
         "marker": {
          "coloraxis": "coloraxis",
          "colors": {
           "bdata": "4egJjp7gIECuR+F6FK4gQD4K16NwPSFA8lk3mCKfIEByHMdxHMcgQEmSJEmSpCBAMzMzMzOzIEA+6ZM+6ZMgQO/u7u7u7iBAzczMzMxMIUAd1EEd1MEgQAAAAAAA4CBAmpmZmZnJIEBmZmZmZuYgQLgehetRuCBAo4suuuiiIEA6qIM6qIMgQGZmZmZmpiBAq6qqqqqqIECnBHlKkKcgQGZmZmZmZiBAMzMzMzMzIUCPwvUoXI8gQLH2DWvfsCBA16NwPQrXIEAAAAAAAIAgQGZmZmZm5iBAMzMzMzMzIUAehetRuJ4gQDMzMzMzMyFAMzMzMzMzIUAREREREREhQO/u7u7ubiBAOqiDOqiDIEBERERERMQgQD7pkz7pkyBAoRd6oRd6IEAzMzMzM7MgQK5H4XoUriBAmpmZmZmZIEBwWPuGtW8gQHsUrkfheiBAAAAAAAAAIUAAAAAAAAAhQDMzMzMzsyBAZmZmZmamIEBmZmZmZqYgQLy7u7u7uyBAd3d3d3d3IEAAAAAAAIAgQGZmZmZmZiBAhetRuB6FIEAAAAAAAAAhQDqogzqogyBAmpmZmZmZIECamZmZmZkgQGZmZmZmhiBAIyIiIiKiIEBmZmZmZqYgQM3MzMzMzCBAvLu7u7u7IEAAAAAAAAAhQHd3d3d3dyBAAAAAAAAAIUAAAAAAAAAhQL/nljj1eyBAmpmZmZmZIEAzMzMzM3MgQCVJkiRJkiBANDMzMzOzIECamZmZmZkgQAAAAAAAgCBAzczMzMzMIEDv7u7u7m4gQJqZmZmZmSBANDMzMzOzIECSJEmSJEkgQHE9CtejcCBAAAAAAACAIECamZmZmZkgQJqZmZmZmSBAmpmZmZmZIEBVVVVVVVUgQGZmZmZmZiBAZmZmZmZmIECamZmZmZkgQIiIiIiIiCBAZ2ZmZmZmIECJiIiIiIggQGdmZmZmZiBAd3d3d3d3IEB3d3d3d3cgQGZmZmZmZiBAMzMzMzNzIEBnZmZmZmYgQJqZmZmZmSBAAAAAAACAIECamZmZmZkgQM3MzMzMTCBAd3d3d3d3IEAzMzMzM3MgQAAAAAAAgCBAZmZmZmZmIECamZmZmZkgQGZmZmZmZiBAZmZmZmZmIEDMzMzMzEwgQGZmZmZmZiBAZmZmZmZmIEBVVVVVVVUgQGZmZmZmZiBAMzMzMzMzIEBmZmZmZmYgQMzMzMzMTCBAZmZmZmZmIEB8xVd8xVcgQGZmZmZmZiBAZmZmZmZmIEBmZmZmZmYgQGZmZmZmZiBAZmZmZmZmIEBmZmZmZmYgQDMzMzMzMyBAZmZmZmZmIEAzMzMzMzMgQDMzMzMzMyBAMzMzMzMzIEBmZmZmZmYgQGZmZmZmZiBAMzMzMzMzIEAzMzMzMzMgQDMzMzMzMyBAMzMzMzMzIEAzMzMzMzMgQAAAAAAAACBAAAAAAAAAIEAAAAAAAAAgQAAAAAAAACBAPzVeuknMIEAK16NwPaogQA/qoA7qoCBAiX+N+NeIIEChL+gL+oIgQHesQBhphyBAvA7oxjx9IECXv2T5S5YgQIe1b1j7hiBAb1j7hrVvIEA=",
           "dtype": "f8"
          }
         },
         "maxdepth": 2,
         "name": "",
         "parents": [
          "1990s",
          "1970s",
          "1970s",
          "2000s",
          "2000s",
          "2000s",
          "2000s",
          "1950s",
          "1990s",
          "1990s",
          "2000s",
          "2000s",
          "1990s",
          "1960s",
          "1990s",
          "1980s",
          "1980s",
          "1980s",
          "2010s",
          "2010s",
          "2010s",
          "1990s",
          "1950s",
          "1990s",
          "1990s",
          "1970s",
          "1970s",
          "1970s",
          "1940s",
          "1940s",
          "1940s",
          "1990s",
          "1990s",
          "2000s",
          "2000s",
          "2000s",
          "2010s",
          "2010s",
          "2010s",
          "1990s",
          "2010s",
          "1960s",
          "1960s",
          "1960s",
          "1930s",
          "1930s",
          "1930s",
          "1940s",
          "1940s",
          "1930s",
          "2000s",
          "2000s",
          "2000s",
          "2010s",
          "1980s",
          "2010s",
          "1950s",
          "1950s",
          "1990s",
          "1990s",
          "1990s",
          "1990s",
          "1970s",
          "1970s",
          "1940s",
          "1980s",
          "1980s",
          "1980s",
          "2010s",
          "1960s",
          "1950s",
          "1980s",
          "2010s",
          "1950s",
          "1980s",
          "1980s",
          "2010s",
          "1940s",
          "1950s",
          "1930s",
          "1930s",
          "1930s",
          "2010s",
          "1980s",
          "1980s",
          "1980s",
          "2010s",
          "1960s",
          "1960s",
          "1960s",
          "1960s",
          "1960s",
          "2000s",
          "2000s",
          "1940s",
          "1940s",
          "1950s",
          "1950s",
          "1960s",
          "1920s",
          "1920s",
          "1920s",
          "1970s",
          "1960s",
          "1960s",
          "1990s",
          "2000s",
          "1940s",
          "1940s",
          "2010s",
          "1980s",
          "1970s",
          "1970s",
          "1980s",
          "1920s",
          "2010s",
          "1950s",
          "1920s",
          "1920s",
          "1920s",
          "1930s",
          "1930s",
          "1980s",
          "1920s",
          "2010s",
          "1950s",
          "2000s",
          "1920s",
          "1920s",
          "1980s",
          "1970s",
          "1970s",
          "1940s",
          "1950s",
          "1930s",
          "1930s",
          "1930s",
          "2010s",
          "",
          "",
          "",
          "",
          "",
          "",
          "",
          "",
          "",
          ""
         ],
         "type": "sunburst",
         "values": {
          "bdata": "AAAAAAAAP0AAAAAAAAAuQAAAAAAAABRAAAAAAACAQkAAAAAAAAAiQAAAAAAAACxAAAAAAAAAIEAAAAAAAAAyQAAAAAAAAAhAAAAAAAAAAEAAAAAAAAAsQAAAAAAAACBAAAAAAAAAMEAAAAAAAAAQQAAAAAAAABRAAAAAAAAAJkAAAAAAAAAcQAAAAAAAACBAAAAAAAAAKEAAAAAAAAAmQAAAAAAAACpAAAAAAAAAAEAAAAAAAAAUQAAAAAAAACZAAAAAAAAAFEAAAAAAAAAQQAAAAAAAAABAAAAAAAAA8D8AAAAAAAAkQAAAAAAAAPA/AAAAAAAA8D8AAAAAAAAIQAAAAAAAABhAAAAAAAAAHEAAAAAAAAAYQAAAAAAAACJAAAAAAAAAKkAAAAAAAAAYQAAAAAAAABRAAAAAAAAAEEAAAAAAAIBAQAAAAAAAABRAAAAAAAAA8D8AAAAAAADwPwAAAAAAABBAAAAAAAAAEEAAAAAAAAAQQAAAAAAAAAhAAAAAAAAACEAAAAAAAAAAQAAAAAAAABhAAAAAAAAAFEAAAAAAAADwPwAAAAAAABxAAAAAAAAAAEAAAAAAAAAQQAAAAAAAACBAAAAAAAAAGEAAAAAAAAAQQAAAAAAAAAhAAAAAAAAACEAAAAAAAADwPwAAAAAAAAhAAAAAAAAA8D8AAAAAAADwPwAAAAAAADNAAAAAAAAAFEAAAAAAAAAQQAAAAAAAABxAAAAAAAAAAEAAAAAAAAAAQAAAAAAAAABAAAAAAAAA8D8AAAAAAAAYQAAAAAAAABBAAAAAAAAAAEAAAAAAAAAcQAAAAAAAABRAAAAAAAAAEEAAAAAAAADwPwAAAAAAAPA/AAAAAAAA8D8AAAAAAAAIQAAAAAAAABBAAAAAAAAAAEAAAAAAAADwPwAAAAAAAAhAAAAAAAAACEAAAAAAAAAIQAAAAAAAACZAAAAAAAAACEAAAAAAAAAIQAAAAAAAABRAAAAAAAAAIEAAAAAAAAAIQAAAAAAAAPA/AAAAAAAAAEAAAAAAAADwPwAAAAAAABBAAAAAAAAAGEAAAAAAAAAQQAAAAAAAAABAAAAAAAAAEEAAAAAAAADwPwAAAAAAAABAAAAAAAAA8D8AAAAAAAAAQAAAAAAAAPA/AAAAAAAA8D8AAAAAAAAIQAAAAAAAAPA/AAAAAAAAAEAAAAAAAADwPwAAAAAAAABAAAAAAAAAAEAAAAAAAAAcQAAAAAAAAPA/AAAAAAAA8D8AAAAAAADwPwAAAAAAAABAAAAAAAAA8D8AAAAAAADwPwAAAAAAAPA/AAAAAAAAAEAAAAAAAAAIQAAAAAAAAPA/AAAAAAAA8D8AAAAAAADwPwAAAAAAAPA/AAAAAAAA8D8AAAAAAADwPwAAAAAAAPA/AAAAAAAA8D8AAAAAAADwPwAAAAAAAPA/AAAAAAAA8D8AAAAAAADwPwAAAAAAAPA/AAAAAAAAWUAAAAAAAABEQAAAAAAAgGFAAAAAAACAS0AAAAAAAIBFQAAAAAAAAFNAAAAAAABgYUAAAAAAAAA/QAAAAAAAADZAAAAAAAAANkA=",
          "dtype": "f8"
         }
        }
       ],
       "layout": {
        "coloraxis": {
         "cmid": 8.3,
         "colorbar": {
          "title": {
           "text": "Rating"
          }
         },
         "colorscale": [
          [
           0,
           "rgb(49,54,149)"
          ],
          [
           0.1,
           "rgb(69,117,180)"
          ],
          [
           0.2,
           "rgb(116,173,209)"
          ],
          [
           0.3,
           "rgb(171,217,233)"
          ],
          [
           0.4,
           "rgb(224,243,248)"
          ],
          [
           0.5,
           "rgb(255,255,191)"
          ],
          [
           0.6,
           "rgb(254,224,144)"
          ],
          [
           0.7,
           "rgb(253,174,97)"
          ],
          [
           0.8,
           "rgb(244,109,67)"
          ],
          [
           0.9,
           "rgb(215,48,39)"
          ],
          [
           1,
           "rgb(165,0,38)"
          ]
         ]
        },
        "font": {
         "size": 12
        },
        "height": 800,
        "legend": {
         "tracegroupgap": 0
        },
        "template": {
         "data": {
          "bar": [
           {
            "error_x": {
             "color": "#2a3f5f"
            },
            "error_y": {
             "color": "#2a3f5f"
            },
            "marker": {
             "line": {
              "color": "#E5ECF6",
              "width": 0.5
             },
             "pattern": {
              "fillmode": "overlay",
              "size": 10,
              "solidity": 0.2
             }
            },
            "type": "bar"
           }
          ],
          "barpolar": [
           {
            "marker": {
             "line": {
              "color": "#E5ECF6",
              "width": 0.5
             },
             "pattern": {
              "fillmode": "overlay",
              "size": 10,
              "solidity": 0.2
             }
            },
            "type": "barpolar"
           }
          ],
          "carpet": [
           {
            "aaxis": {
             "endlinecolor": "#2a3f5f",
             "gridcolor": "white",
             "linecolor": "white",
             "minorgridcolor": "white",
             "startlinecolor": "#2a3f5f"
            },
            "baxis": {
             "endlinecolor": "#2a3f5f",
             "gridcolor": "white",
             "linecolor": "white",
             "minorgridcolor": "white",
             "startlinecolor": "#2a3f5f"
            },
            "type": "carpet"
           }
          ],
          "choropleth": [
           {
            "colorbar": {
             "outlinewidth": 0,
             "ticks": ""
            },
            "type": "choropleth"
           }
          ],
          "contour": [
           {
            "colorbar": {
             "outlinewidth": 0,
             "ticks": ""
            },
            "colorscale": [
             [
              0,
              "#0d0887"
             ],
             [
              0.1111111111111111,
              "#46039f"
             ],
             [
              0.2222222222222222,
              "#7201a8"
             ],
             [
              0.3333333333333333,
              "#9c179e"
             ],
             [
              0.4444444444444444,
              "#bd3786"
             ],
             [
              0.5555555555555556,
              "#d8576b"
             ],
             [
              0.6666666666666666,
              "#ed7953"
             ],
             [
              0.7777777777777778,
              "#fb9f3a"
             ],
             [
              0.8888888888888888,
              "#fdca26"
             ],
             [
              1,
              "#f0f921"
             ]
            ],
            "type": "contour"
           }
          ],
          "contourcarpet": [
           {
            "colorbar": {
             "outlinewidth": 0,
             "ticks": ""
            },
            "type": "contourcarpet"
           }
          ],
          "heatmap": [
           {
            "colorbar": {
             "outlinewidth": 0,
             "ticks": ""
            },
            "colorscale": [
             [
              0,
              "#0d0887"
             ],
             [
              0.1111111111111111,
              "#46039f"
             ],
             [
              0.2222222222222222,
              "#7201a8"
             ],
             [
              0.3333333333333333,
              "#9c179e"
             ],
             [
              0.4444444444444444,
              "#bd3786"
             ],
             [
              0.5555555555555556,
              "#d8576b"
             ],
             [
              0.6666666666666666,
              "#ed7953"
             ],
             [
              0.7777777777777778,
              "#fb9f3a"
             ],
             [
              0.8888888888888888,
              "#fdca26"
             ],
             [
              1,
              "#f0f921"
             ]
            ],
            "type": "heatmap"
           }
          ],
          "histogram": [
           {
            "marker": {
             "pattern": {
              "fillmode": "overlay",
              "size": 10,
              "solidity": 0.2
             }
            },
            "type": "histogram"
           }
          ],
          "histogram2d": [
           {
            "colorbar": {
             "outlinewidth": 0,
             "ticks": ""
            },
            "colorscale": [
             [
              0,
              "#0d0887"
             ],
             [
              0.1111111111111111,
              "#46039f"
             ],
             [
              0.2222222222222222,
              "#7201a8"
             ],
             [
              0.3333333333333333,
              "#9c179e"
             ],
             [
              0.4444444444444444,
              "#bd3786"
             ],
             [
              0.5555555555555556,
              "#d8576b"
             ],
             [
              0.6666666666666666,
              "#ed7953"
             ],
             [
              0.7777777777777778,
              "#fb9f3a"
             ],
             [
              0.8888888888888888,
              "#fdca26"
             ],
             [
              1,
              "#f0f921"
             ]
            ],
            "type": "histogram2d"
           }
          ],
          "histogram2dcontour": [
           {
            "colorbar": {
             "outlinewidth": 0,
             "ticks": ""
            },
            "colorscale": [
             [
              0,
              "#0d0887"
             ],
             [
              0.1111111111111111,
              "#46039f"
             ],
             [
              0.2222222222222222,
              "#7201a8"
             ],
             [
              0.3333333333333333,
              "#9c179e"
             ],
             [
              0.4444444444444444,
              "#bd3786"
             ],
             [
              0.5555555555555556,
              "#d8576b"
             ],
             [
              0.6666666666666666,
              "#ed7953"
             ],
             [
              0.7777777777777778,
              "#fb9f3a"
             ],
             [
              0.8888888888888888,
              "#fdca26"
             ],
             [
              1,
              "#f0f921"
             ]
            ],
            "type": "histogram2dcontour"
           }
          ],
          "mesh3d": [
           {
            "colorbar": {
             "outlinewidth": 0,
             "ticks": ""
            },
            "type": "mesh3d"
           }
          ],
          "parcoords": [
           {
            "line": {
             "colorbar": {
              "outlinewidth": 0,
              "ticks": ""
             }
            },
            "type": "parcoords"
           }
          ],
          "pie": [
           {
            "automargin": true,
            "type": "pie"
           }
          ],
          "scatter": [
           {
            "fillpattern": {
             "fillmode": "overlay",
             "size": 10,
             "solidity": 0.2
            },
            "type": "scatter"
           }
          ],
          "scatter3d": [
           {
            "line": {
             "colorbar": {
              "outlinewidth": 0,
              "ticks": ""
             }
            },
            "marker": {
             "colorbar": {
              "outlinewidth": 0,
              "ticks": ""
             }
            },
            "type": "scatter3d"
           }
          ],
          "scattercarpet": [
           {
            "marker": {
             "colorbar": {
              "outlinewidth": 0,
              "ticks": ""
             }
            },
            "type": "scattercarpet"
           }
          ],
          "scattergeo": [
           {
            "marker": {
             "colorbar": {
              "outlinewidth": 0,
              "ticks": ""
             }
            },
            "type": "scattergeo"
           }
          ],
          "scattergl": [
           {
            "marker": {
             "colorbar": {
              "outlinewidth": 0,
              "ticks": ""
             }
            },
            "type": "scattergl"
           }
          ],
          "scattermap": [
           {
            "marker": {
             "colorbar": {
              "outlinewidth": 0,
              "ticks": ""
             }
            },
            "type": "scattermap"
           }
          ],
          "scattermapbox": [
           {
            "marker": {
             "colorbar": {
              "outlinewidth": 0,
              "ticks": ""
             }
            },
            "type": "scattermapbox"
           }
          ],
          "scatterpolar": [
           {
            "marker": {
             "colorbar": {
              "outlinewidth": 0,
              "ticks": ""
             }
            },
            "type": "scatterpolar"
           }
          ],
          "scatterpolargl": [
           {
            "marker": {
             "colorbar": {
              "outlinewidth": 0,
              "ticks": ""
             }
            },
            "type": "scatterpolargl"
           }
          ],
          "scatterternary": [
           {
            "marker": {
             "colorbar": {
              "outlinewidth": 0,
              "ticks": ""
             }
            },
            "type": "scatterternary"
           }
          ],
          "surface": [
           {
            "colorbar": {
             "outlinewidth": 0,
             "ticks": ""
            },
            "colorscale": [
             [
              0,
              "#0d0887"
             ],
             [
              0.1111111111111111,
              "#46039f"
             ],
             [
              0.2222222222222222,
              "#7201a8"
             ],
             [
              0.3333333333333333,
              "#9c179e"
             ],
             [
              0.4444444444444444,
              "#bd3786"
             ],
             [
              0.5555555555555556,
              "#d8576b"
             ],
             [
              0.6666666666666666,
              "#ed7953"
             ],
             [
              0.7777777777777778,
              "#fb9f3a"
             ],
             [
              0.8888888888888888,
              "#fdca26"
             ],
             [
              1,
              "#f0f921"
             ]
            ],
            "type": "surface"
           }
          ],
          "table": [
           {
            "cells": {
             "fill": {
              "color": "#EBF0F8"
             },
             "line": {
              "color": "white"
             }
            },
            "header": {
             "fill": {
              "color": "#C8D4E3"
             },
             "line": {
              "color": "white"
             }
            },
            "type": "table"
           }
          ]
         },
         "layout": {
          "annotationdefaults": {
           "arrowcolor": "#2a3f5f",
           "arrowhead": 0,
           "arrowwidth": 1
          },
          "autotypenumbers": "strict",
          "coloraxis": {
           "colorbar": {
            "outlinewidth": 0,
            "ticks": ""
           }
          },
          "colorscale": {
           "diverging": [
            [
             0,
             "#8e0152"
            ],
            [
             0.1,
             "#c51b7d"
            ],
            [
             0.2,
             "#de77ae"
            ],
            [
             0.3,
             "#f1b6da"
            ],
            [
             0.4,
             "#fde0ef"
            ],
            [
             0.5,
             "#f7f7f7"
            ],
            [
             0.6,
             "#e6f5d0"
            ],
            [
             0.7,
             "#b8e186"
            ],
            [
             0.8,
             "#7fbc41"
            ],
            [
             0.9,
             "#4d9221"
            ],
            [
             1,
             "#276419"
            ]
           ],
           "sequential": [
            [
             0,
             "#0d0887"
            ],
            [
             0.1111111111111111,
             "#46039f"
            ],
            [
             0.2222222222222222,
             "#7201a8"
            ],
            [
             0.3333333333333333,
             "#9c179e"
            ],
            [
             0.4444444444444444,
             "#bd3786"
            ],
            [
             0.5555555555555556,
             "#d8576b"
            ],
            [
             0.6666666666666666,
             "#ed7953"
            ],
            [
             0.7777777777777778,
             "#fb9f3a"
            ],
            [
             0.8888888888888888,
             "#fdca26"
            ],
            [
             1,
             "#f0f921"
            ]
           ],
           "sequentialminus": [
            [
             0,
             "#0d0887"
            ],
            [
             0.1111111111111111,
             "#46039f"
            ],
            [
             0.2222222222222222,
             "#7201a8"
            ],
            [
             0.3333333333333333,
             "#9c179e"
            ],
            [
             0.4444444444444444,
             "#bd3786"
            ],
            [
             0.5555555555555556,
             "#d8576b"
            ],
            [
             0.6666666666666666,
             "#ed7953"
            ],
            [
             0.7777777777777778,
             "#fb9f3a"
            ],
            [
             0.8888888888888888,
             "#fdca26"
            ],
            [
             1,
             "#f0f921"
            ]
           ]
          },
          "colorway": [
           "#636efa",
           "#EF553B",
           "#00cc96",
           "#ab63fa",
           "#FFA15A",
           "#19d3f3",
           "#FF6692",
           "#B6E880",
           "#FF97FF",
           "#FECB52"
          ],
          "font": {
           "color": "#2a3f5f"
          },
          "geo": {
           "bgcolor": "white",
           "lakecolor": "white",
           "landcolor": "#E5ECF6",
           "showlakes": true,
           "showland": true,
           "subunitcolor": "white"
          },
          "hoverlabel": {
           "align": "left"
          },
          "hovermode": "closest",
          "mapbox": {
           "style": "light"
          },
          "paper_bgcolor": "white",
          "plot_bgcolor": "#E5ECF6",
          "polar": {
           "angularaxis": {
            "gridcolor": "white",
            "linecolor": "white",
            "ticks": ""
           },
           "bgcolor": "#E5ECF6",
           "radialaxis": {
            "gridcolor": "white",
            "linecolor": "white",
            "ticks": ""
           }
          },
          "scene": {
           "xaxis": {
            "backgroundcolor": "#E5ECF6",
            "gridcolor": "white",
            "gridwidth": 2,
            "linecolor": "white",
            "showbackground": true,
            "ticks": "",
            "zerolinecolor": "white"
           },
           "yaxis": {
            "backgroundcolor": "#E5ECF6",
            "gridcolor": "white",
            "gridwidth": 2,
            "linecolor": "white",
            "showbackground": true,
            "ticks": "",
            "zerolinecolor": "white"
           },
           "zaxis": {
            "backgroundcolor": "#E5ECF6",
            "gridcolor": "white",
            "gridwidth": 2,
            "linecolor": "white",
            "showbackground": true,
            "ticks": "",
            "zerolinecolor": "white"
           }
          },
          "shapedefaults": {
           "line": {
            "color": "#2a3f5f"
           }
          },
          "ternary": {
           "aaxis": {
            "gridcolor": "white",
            "linecolor": "white",
            "ticks": ""
           },
           "baxis": {
            "gridcolor": "white",
            "linecolor": "white",
            "ticks": ""
           },
           "bgcolor": "#E5ECF6",
           "caxis": {
            "gridcolor": "white",
            "linecolor": "white",
            "ticks": ""
           }
          },
          "title": {
           "x": 0.05
          },
          "xaxis": {
           "automargin": true,
           "gridcolor": "white",
           "linecolor": "white",
           "ticks": "",
           "title": {
            "standoff": 15
           },
           "zerolinecolor": "white",
           "zerolinewidth": 2
          },
          "yaxis": {
           "automargin": true,
           "gridcolor": "white",
           "linecolor": "white",
           "ticks": "",
           "title": {
            "standoff": 15
           },
           "zerolinecolor": "white",
           "zerolinewidth": 2
          }
         }
        },
        "title": {
         "font": {
          "size": 16
         },
         "text": "Movie Genres Distribution by Decade (Interactive Sunburst)",
         "x": 0.5
        },
        "width": 800
       }
      }
     },
     "metadata": {},
     "output_type": "display_data"
    },
    {
     "name": "stdout",
     "output_type": "stream",
     "text": [
      "🎭 SUNBURST CHART INSIGHTS:\n",
      "\n",
      "📊 Most Popular Genre-Decade Combinations:\n",
      "   • Drama in 2000s: 37 movies\n",
      "   • Drama in 2010s: 33 movies\n",
      "   • Drama in 1990s: 31 movies\n",
      "   • Drama in 1980s: 19 movies\n",
      "   • Drama in 1950s: 18 movies\n",
      "\n",
      "🎬 Total genre-movie combinations: 668\n",
      "📅 Decades covered: 10\n",
      "🎭 Unique genres: 19\n",
      "\n",
      "💡 HOW TO USE:\n",
      "• Click on decade rings to drill down into genres\n",
      "• Click center to zoom back out\n",
      "• Hover for detailed information\n",
      "• Color intensity shows average rating\n"
     ]
    }
   ],
   "source": [
    "import plotly.express as px\n",
    "import pandas as pd\n",
    "\n",
    "# Prepare data for sunburst chart\n",
    "sunburst_data = []\n",
    "for _, row in df.iterrows():\n",
    "    # Clean and split genres\n",
    "    genres = [g.strip() for g in str(row['Genre']).split(' | ') \n",
    "              if g.strip() and g.strip() != '\\\\' and g.strip() != '']\n",
    "    \n",
    "    for genre in genres:\n",
    "        sunburst_data.append({\n",
    "            'Decade': f\"{int(row['Decade'])}s\",\n",
    "            'Genre': genre,\n",
    "            'Title': row['Title'],\n",
    "            'Rating': row['IMDB rating'],\n",
    "            'Year': row['Year'],\n",
    "            'Director': row['Director'],\n",
    "            'Count': 1  # Each movie counts as 1\n",
    "        })\n",
    "\n",
    "sunburst_df = pd.DataFrame(sunburst_data)\n",
    "\n",
    "# Create the sunburst chart\n",
    "fig = px.sunburst(sunburst_df, \n",
    "                  path=['Decade', 'Genre'], \n",
    "                  values='Count',\n",
    "                  color='Rating',\n",
    "                  hover_data=['Title', 'Director', 'Year'],\n",
    "                  title='Movie Genres Distribution by Decade (Interactive Sunburst)',\n",
    "                  color_continuous_scale='RdYlBu_r',\n",
    "                  color_continuous_midpoint=8.3)\n",
    "\n",
    "# Customize the layout\n",
    "fig.update_layout(\n",
    "    height=800,\n",
    "    width=800,\n",
    "    title_font_size=16,\n",
    "    title_x=0.5,\n",
    "    font_size=12\n",
    ")\n",
    "\n",
    "# Update traces for better hover information\n",
    "fig.update_traces(\n",
    "    hovertemplate='<b>%{label}</b><br>' +\n",
    "                  'Count: %{value}<br>' +\n",
    "                  'Percentage: %{percentParent}<br>' +\n",
    "                  '<extra></extra>',\n",
    "    maxdepth=2\n",
    ")\n",
    "\n",
    "fig.show()\n",
    "\n",
    "# Print insights\n",
    "decade_genre_summary = sunburst_df.groupby(['Decade', 'Genre']).size().reset_index(name='Count')\n",
    "print(\"🎭 SUNBURST CHART INSIGHTS:\")\n",
    "print(\"\\n📊 Most Popular Genre-Decade Combinations:\")\n",
    "top_combinations = decade_genre_summary.nlargest(5, 'Count')\n",
    "for _, row in top_combinations.iterrows():\n",
    "    print(f\"   • {row['Genre']} in {row['Decade']}: {row['Count']} movies\")\n",
    "\n",
    "print(f\"\\n🎬 Total genre-movie combinations: {len(sunburst_df)}\")\n",
    "print(f\"📅 Decades covered: {len(sunburst_df['Decade'].unique())}\")\n",
    "print(f\"🎭 Unique genres: {len(sunburst_df['Genre'].unique())}\")\n",
    "\n",
    "print(\"\\n💡 HOW TO USE:\")\n",
    "print(\"• Click on decade rings to drill down into genres\")\n",
    "print(\"• Click center to zoom back out\")\n",
    "print(\"• Hover for detailed information\")\n",
    "print(\"• Color intensity shows average rating\")"
   ]
  },
  {
   "cell_type": "code",
   "execution_count": 11,
   "id": "146c3633",
   "metadata": {},
   "outputs": [
    {
     "data": {
      "application/vnd.plotly.v1+json": {
       "config": {
        "plotlyServerURL": "https://plot.ly"
       },
       "data": [
        {
         "hovertemplate": "Decade=1920s<br>Number of Movies=%{x}<br>Movie Genre=%{y}<br>Average Rating=%{marker.color}<extra></extra>",
         "legendgroup": "",
         "marker": {
          "color": {
           "bdata": "9ihcj8J1IEBxPQrXo3AgQAAAAAAAgCBAZmZmZmZmIEBmZmZmZmYgQGZmZmZmZiBAZmZmZmZmIEBmZmZmZmYgQGZmZmZmZiBAZmZmZmZmIEA=",
           "dtype": "f8"
          },
          "coloraxis": "coloraxis",
          "pattern": {
           "shape": ""
          }
         },
         "name": "",
         "orientation": "h",
         "showlegend": false,
         "textposition": "auto",
         "type": "bar",
         "x": {
          "bdata": "BgQCAgICAQEBAQ==",
          "dtype": "i1"
         },
         "xaxis": "x",
         "y": [
          "Drama",
          "Comedy",
          "Family",
          "Adventure",
          "Romance",
          "Action",
          "War",
          "Western",
          "Biography",
          "History"
         ],
         "yaxis": "y"
        }
       ],
       "frames": [
        {
         "data": [
          {
           "hovertemplate": "Decade=1920s<br>Number of Movies=%{x}<br>Movie Genre=%{y}<br>Average Rating=%{marker.color}<extra></extra>",
           "legendgroup": "",
           "marker": {
            "color": {
             "bdata": "9ihcj8J1IEBxPQrXo3AgQAAAAAAAgCBAZmZmZmZmIEBmZmZmZmYgQGZmZmZmZiBAZmZmZmZmIEBmZmZmZmYgQGZmZmZmZiBAZmZmZmZmIEA=",
             "dtype": "f8"
            },
            "coloraxis": "coloraxis",
            "pattern": {
             "shape": ""
            }
           },
           "name": "",
           "orientation": "h",
           "showlegend": false,
           "textposition": "auto",
           "type": "bar",
           "x": {
            "bdata": "BgQCAgICAQEBAQ==",
            "dtype": "i1"
           },
           "xaxis": "x",
           "y": [
            "Drama",
            "Comedy",
            "Family",
            "Adventure",
            "Romance",
            "Action",
            "War",
            "Western",
            "Biography",
            "History"
           ],
           "yaxis": "y"
          }
         ],
         "name": "1920s"
        },
        {
         "data": [
          {
           "hovertemplate": "Decade=1930s<br>Number of Movies=%{x}<br>Movie Genre=%{y}<br>Average Rating=%{marker.color}<extra></extra>",
           "legendgroup": "",
           "marker": {
            "color": {
             "bdata": "MzMzMzOzIECkcD0K16MgQKRwPQrXoyBAAAAAAACAIECamZmZmZkgQJqZmZmZmSBAmpmZmZmZIEBmZmZmZmYgQGZmZmZmZiBAAAAAAAAAIEA=",
             "dtype": "f8"
            },
            "coloraxis": "coloraxis",
            "pattern": {
             "shape": ""
            }
           },
           "name": "",
           "orientation": "h",
           "showlegend": false,
           "textposition": "auto",
           "type": "bar",
           "x": {
            "bdata": "BAQEAgEBAQEBAQ==",
            "dtype": "i1"
           },
           "xaxis": "x",
           "y": [
            "Drama",
            "Comedy",
            "Romance",
            "Family",
            "Thriller",
            "Mystery",
            "Crime",
            "War",
            "History",
            "Fantasy"
           ],
           "yaxis": "y"
          }
         ],
         "name": "1930s"
        },
        {
         "data": [
          {
           "hovertemplate": "Decade=1940s<br>Number of Movies=%{x}<br>Movie Genre=%{y}<br>Average Rating=%{marker.color}<extra></extra>",
           "legendgroup": "",
           "marker": {
            "color": {
             "bdata": "H4XrUbieIEBxPQrXo3AgQPYoXI/CdSBAPQrXo3C9IEBmZmZmZmYgQDMzMzMzMyFAMzMzMzMzIUAAAAAAAAAhQJqZmZmZmSBAZmZmZmZmIEA=",
             "dtype": "f8"
            },
            "coloraxis": "coloraxis",
            "pattern": {
             "shape": ""
            }
           },
           "name": "",
           "orientation": "h",
           "showlegend": false,
           "textposition": "auto",
           "type": "bar",
           "x": {
            "bdata": "CgUDAwMBAQEBAQ==",
            "dtype": "i1"
           },
           "xaxis": "x",
           "y": [
            "Drama",
            "Mystery",
            "Romance",
            "War",
            "Thriller",
            "Fantasy",
            "Family",
            "Comedy",
            "Crime",
            "Western"
           ],
           "yaxis": "y"
          }
         ],
         "name": "1940s"
        },
        {
         "data": [
          {
           "hovertemplate": "Decade=1950s<br>Number of Movies=%{x}<br>Movie Genre=%{y}<br>Average Rating=%{marker.color}<extra></extra>",
           "legendgroup": "",
           "marker": {
            "color": {
             "bdata": "FK5H4XqUIECF61G4HoUgQKRwPQrXoyBAcT0K16NwIECPwvUoXI8gQAAAAAAAgCBAmpmZmZmZIEAAAAAAAIAgQJqZmZmZmSBAZmZmZmZmIEA=",
             "dtype": "f8"
            },
            "coloraxis": "coloraxis",
            "pattern": {
             "shape": ""
            }
           },
           "name": "",
           "orientation": "h",
           "showlegend": false,
           "textposition": "auto",
           "type": "bar",
           "x": {
            "bdata": "EggGBgUEAgIBAQ==",
            "dtype": "i1"
           },
           "xaxis": "x",
           "y": [
            "Drama",
            "Thriller",
            "Mystery",
            "Crime",
            "Adventure",
            "Romance",
            "War",
            "Comedy",
            "Musical",
            "Fantasy"
           ],
           "yaxis": "y"
          }
         ],
         "name": "1950s"
        },
        {
         "data": [
          {
           "hovertemplate": "Decade=1960s<br>Number of Movies=%{x}<br>Movie Genre=%{y}<br>Average Rating=%{marker.color}<extra></extra>",
           "legendgroup": "",
           "marker": {
            "color": {
             "bdata": "ZmZmZmZmIEB7FK5H4XogQGZmZmZm5iBAzczMzMxMIEAK16NwPYogQPYoXI/CdSBA9ihcj8J1IEBmZmZmZmYgQDMzMzMzsyBAZmZmZmZmIEA=",
             "dtype": "f8"
            },
            "coloraxis": "coloraxis",
            "pattern": {
             "shape": ""
            }
           },
           "name": "",
           "orientation": "h",
           "showlegend": false,
           "textposition": "auto",
           "type": "bar",
           "x": {
            "bdata": "CwUEBAMDAwMCAg==",
            "dtype": "i1"
           },
           "xaxis": "x",
           "y": [
            "Drama",
            "Thriller",
            "Western",
            "Crime",
            "Adventure",
            "War",
            "History",
            "Biography",
            "Comedy",
            "Action"
           ],
           "yaxis": "y"
          }
         ],
         "name": "1960s"
        },
        {
         "data": [
          {
           "hovertemplate": "Decade=1970s<br>Number of Movies=%{x}<br>Movie Genre=%{y}<br>Average Rating=%{marker.color}<extra></extra>",
           "legendgroup": "",
           "marker": {
            "color": {
             "bdata": "rkfhehSuIEA9CtejcD0hQAAAAAAAgCBAZmZmZmZmIED2KFyPwnUgQGZmZmZm5iBAMzMzMzMzIEAzMzMzMzMhQAAAAAAAACFAZmZmZmZmIEA=",
             "dtype": "f8"
            },
            "coloraxis": "coloraxis",
            "pattern": {
             "shape": ""
            }
           },
           "name": "",
           "orientation": "h",
           "showlegend": false,
           "textposition": "auto",
           "type": "bar",
           "x": {
            "bdata": "DwUEBAMCAgEBAQ==",
            "dtype": "i1"
           },
           "xaxis": "x",
           "y": [
            "Drama",
            "Crime",
            "Adventure",
            "Comedy",
            "War",
            "Fantasy",
            "Thriller",
            "Action",
            "Horror",
            "Mystery"
           ],
           "yaxis": "y"
          }
         ],
         "name": "1970s"
        },
        {
         "data": [
          {
           "hovertemplate": "Decade=1980s<br>Number of Movies=%{x}<br>Movie Genre=%{y}<br>Average Rating=%{marker.color}<extra></extra>",
           "legendgroup": "",
           "marker": {
            "color": {
             "bdata": "exSuR+F6IECkcD0K16MgQKRwPQrXoyBAhetRuB6FIECamZmZmZkgQJqZmZmZmSBAcT0K16NwIEBmZmZmZmYgQJqZmZmZmSBAAAAAAACAIEA=",
             "dtype": "f8"
            },
            "coloraxis": "coloraxis",
            "pattern": {
             "shape": ""
            }
           },
           "name": "",
           "orientation": "h",
           "showlegend": false,
           "textposition": "auto",
           "type": "bar",
           "x": {
            "bdata": "EwsIBwUEBAQCAg==",
            "dtype": "i1"
           },
           "xaxis": "x",
           "y": [
            "Drama",
            "Adventure",
            "Action",
            "Fantasy",
            "War",
            "Thriller",
            "Animation",
            "Biography",
            "Comedy",
            "Horror"
           ],
           "yaxis": "y"
          }
         ],
         "name": "1980s"
        },
        {
         "data": [
          {
           "hovertemplate": "Decade=1990s<br>Number of Movies=%{x}<br>Movie Genre=%{y}<br>Average Rating=%{marker.color}<extra></extra>",
           "legendgroup": "",
           "marker": {
            "color": {
             "bdata": "4XoUrkfhIEBI4XoUrscgQDMzMzMzsyBAcT0K16NwIEDXo3A9CtcgQLgehetRuCBAmpmZmZmZIECkcD0K16MgQM3MzMzMzCBAPQrXo3C9IEA=",
             "dtype": "f8"
            },
            "coloraxis": "coloraxis",
            "pattern": {
             "shape": ""
            }
           },
           "name": "",
           "orientation": "h",
           "showlegend": false,
           "textposition": "auto",
           "type": "bar",
           "x": {
            "bdata": "HxALBgUFBAQDAw==",
            "dtype": "i1"
           },
           "xaxis": "x",
           "y": [
            "Drama",
            "Crime",
            "Thriller",
            "Comedy",
            "Mystery",
            "Romance",
            "Fantasy",
            "Adventure",
            "Animation",
            "Family"
           ],
           "yaxis": "y"
          }
         ],
         "name": "1990s"
        },
        {
         "data": [
          {
           "hovertemplate": "Decade=2000s<br>Number of Movies=%{x}<br>Movie Genre=%{y}<br>Average Rating=%{marker.color}<extra></extra>",
           "legendgroup": "",
           "marker": {
            "color": {
             "bdata": "H4XrUbieIECkcD0K16MgQMP1KFyPwiBASOF6FK7HIEAUrkfhepQgQDMzMzMzsyBA9ihcj8J1IEDhehSuR+EgQIXrUbgehSBAw/UoXI/CIEA=",
             "dtype": "f8"
            },
            "coloraxis": "coloraxis",
            "pattern": {
             "shape": ""
            }
           },
           "name": "",
           "orientation": "h",
           "showlegend": false,
           "textposition": "auto",
           "type": "bar",
           "x": {
            "bdata": "JQ4OCQkICAgHBg==",
            "dtype": "i1"
           },
           "xaxis": "x",
           "y": [
            "Drama",
            "Thriller",
            "Adventure",
            "Action",
            "Family",
            "Crime",
            "Comedy",
            "Fantasy",
            "Animation",
            "Mystery"
           ],
           "yaxis": "y"
          }
         ],
         "name": "2000s"
        },
        {
         "data": [
          {
           "hovertemplate": "Decade=2010s<br>Number of Movies=%{x}<br>Movie Genre=%{y}<br>Average Rating=%{marker.color}<extra></extra>",
           "legendgroup": "",
           "marker": {
            "color": {
             "bdata": "cT0K16NwIEBmZmZmZmYgQHsUrkfheiBAKVyPwvWoIEApXI/C9aggQIXrUbgehSBAFK5H4XqUIEBI4XoUrkcgQNejcD0KVyBAMzMzMzOzIEA=",
             "dtype": "f8"
            },
            "coloraxis": "coloraxis",
            "pattern": {
             "shape": ""
            }
           },
           "name": "",
           "orientation": "h",
           "showlegend": false,
           "textposition": "auto",
           "type": "bar",
           "x": {
            "bdata": "IQ0NDAsHBwcHBg==",
            "dtype": "i1"
           },
           "xaxis": "x",
           "y": [
            "Drama",
            "Thriller",
            "Comedy",
            "Adventure",
            "Action",
            "Biography",
            "Fantasy",
            "Mystery",
            "Crime",
            "Animation"
           ],
           "yaxis": "y"
          }
         ],
         "name": "2010s"
        }
       ],
       "layout": {
        "barmode": "relative",
        "coloraxis": {
         "colorbar": {
          "title": {
           "font": {
            "size": 12
           },
           "text": "Avg Rating"
          }
         },
         "colorscale": [
          [
           0,
           "#440154"
          ],
          [
           0.1111111111111111,
           "#482878"
          ],
          [
           0.2222222222222222,
           "#3e4989"
          ],
          [
           0.3333333333333333,
           "#31688e"
          ],
          [
           0.4444444444444444,
           "#26828e"
          ],
          [
           0.5555555555555556,
           "#1f9e89"
          ],
          [
           0.6666666666666666,
           "#35b779"
          ],
          [
           0.7777777777777778,
           "#6ece58"
          ],
          [
           0.8888888888888888,
           "#b5de2b"
          ],
          [
           1,
           "#fde725"
          ]
         ]
        },
        "height": 700,
        "legend": {
         "tracegroupgap": 0
        },
        "sliders": [
         {
          "active": 0,
          "currentvalue": {
           "prefix": "Decade="
          },
          "len": 0.9,
          "pad": {
           "b": 10,
           "t": 60
          },
          "steps": [
           {
            "args": [
             [
              "1920s"
             ],
             {
              "frame": {
               "duration": 0,
               "redraw": true
              },
              "fromcurrent": true,
              "mode": "immediate",
              "transition": {
               "duration": 0,
               "easing": "linear"
              }
             }
            ],
            "label": "1920s",
            "method": "animate"
           },
           {
            "args": [
             [
              "1930s"
             ],
             {
              "frame": {
               "duration": 0,
               "redraw": true
              },
              "fromcurrent": true,
              "mode": "immediate",
              "transition": {
               "duration": 0,
               "easing": "linear"
              }
             }
            ],
            "label": "1930s",
            "method": "animate"
           },
           {
            "args": [
             [
              "1940s"
             ],
             {
              "frame": {
               "duration": 0,
               "redraw": true
              },
              "fromcurrent": true,
              "mode": "immediate",
              "transition": {
               "duration": 0,
               "easing": "linear"
              }
             }
            ],
            "label": "1940s",
            "method": "animate"
           },
           {
            "args": [
             [
              "1950s"
             ],
             {
              "frame": {
               "duration": 0,
               "redraw": true
              },
              "fromcurrent": true,
              "mode": "immediate",
              "transition": {
               "duration": 0,
               "easing": "linear"
              }
             }
            ],
            "label": "1950s",
            "method": "animate"
           },
           {
            "args": [
             [
              "1960s"
             ],
             {
              "frame": {
               "duration": 0,
               "redraw": true
              },
              "fromcurrent": true,
              "mode": "immediate",
              "transition": {
               "duration": 0,
               "easing": "linear"
              }
             }
            ],
            "label": "1960s",
            "method": "animate"
           },
           {
            "args": [
             [
              "1970s"
             ],
             {
              "frame": {
               "duration": 0,
               "redraw": true
              },
              "fromcurrent": true,
              "mode": "immediate",
              "transition": {
               "duration": 0,
               "easing": "linear"
              }
             }
            ],
            "label": "1970s",
            "method": "animate"
           },
           {
            "args": [
             [
              "1980s"
             ],
             {
              "frame": {
               "duration": 0,
               "redraw": true
              },
              "fromcurrent": true,
              "mode": "immediate",
              "transition": {
               "duration": 0,
               "easing": "linear"
              }
             }
            ],
            "label": "1980s",
            "method": "animate"
           },
           {
            "args": [
             [
              "1990s"
             ],
             {
              "frame": {
               "duration": 0,
               "redraw": true
              },
              "fromcurrent": true,
              "mode": "immediate",
              "transition": {
               "duration": 0,
               "easing": "linear"
              }
             }
            ],
            "label": "1990s",
            "method": "animate"
           },
           {
            "args": [
             [
              "2000s"
             ],
             {
              "frame": {
               "duration": 0,
               "redraw": true
              },
              "fromcurrent": true,
              "mode": "immediate",
              "transition": {
               "duration": 0,
               "easing": "linear"
              }
             }
            ],
            "label": "2000s",
            "method": "animate"
           },
           {
            "args": [
             [
              "2010s"
             ],
             {
              "frame": {
               "duration": 0,
               "redraw": true
              },
              "fromcurrent": true,
              "mode": "immediate",
              "transition": {
               "duration": 0,
               "easing": "linear"
              }
             }
            ],
            "label": "2010s",
            "method": "animate"
           }
          ],
          "x": 0.1,
          "xanchor": "left",
          "y": 0,
          "yanchor": "top"
         }
        ],
        "template": {
         "data": {
          "bar": [
           {
            "error_x": {
             "color": "#2a3f5f"
            },
            "error_y": {
             "color": "#2a3f5f"
            },
            "marker": {
             "line": {
              "color": "#E5ECF6",
              "width": 0.5
             },
             "pattern": {
              "fillmode": "overlay",
              "size": 10,
              "solidity": 0.2
             }
            },
            "type": "bar"
           }
          ],
          "barpolar": [
           {
            "marker": {
             "line": {
              "color": "#E5ECF6",
              "width": 0.5
             },
             "pattern": {
              "fillmode": "overlay",
              "size": 10,
              "solidity": 0.2
             }
            },
            "type": "barpolar"
           }
          ],
          "carpet": [
           {
            "aaxis": {
             "endlinecolor": "#2a3f5f",
             "gridcolor": "white",
             "linecolor": "white",
             "minorgridcolor": "white",
             "startlinecolor": "#2a3f5f"
            },
            "baxis": {
             "endlinecolor": "#2a3f5f",
             "gridcolor": "white",
             "linecolor": "white",
             "minorgridcolor": "white",
             "startlinecolor": "#2a3f5f"
            },
            "type": "carpet"
           }
          ],
          "choropleth": [
           {
            "colorbar": {
             "outlinewidth": 0,
             "ticks": ""
            },
            "type": "choropleth"
           }
          ],
          "contour": [
           {
            "colorbar": {
             "outlinewidth": 0,
             "ticks": ""
            },
            "colorscale": [
             [
              0,
              "#0d0887"
             ],
             [
              0.1111111111111111,
              "#46039f"
             ],
             [
              0.2222222222222222,
              "#7201a8"
             ],
             [
              0.3333333333333333,
              "#9c179e"
             ],
             [
              0.4444444444444444,
              "#bd3786"
             ],
             [
              0.5555555555555556,
              "#d8576b"
             ],
             [
              0.6666666666666666,
              "#ed7953"
             ],
             [
              0.7777777777777778,
              "#fb9f3a"
             ],
             [
              0.8888888888888888,
              "#fdca26"
             ],
             [
              1,
              "#f0f921"
             ]
            ],
            "type": "contour"
           }
          ],
          "contourcarpet": [
           {
            "colorbar": {
             "outlinewidth": 0,
             "ticks": ""
            },
            "type": "contourcarpet"
           }
          ],
          "heatmap": [
           {
            "colorbar": {
             "outlinewidth": 0,
             "ticks": ""
            },
            "colorscale": [
             [
              0,
              "#0d0887"
             ],
             [
              0.1111111111111111,
              "#46039f"
             ],
             [
              0.2222222222222222,
              "#7201a8"
             ],
             [
              0.3333333333333333,
              "#9c179e"
             ],
             [
              0.4444444444444444,
              "#bd3786"
             ],
             [
              0.5555555555555556,
              "#d8576b"
             ],
             [
              0.6666666666666666,
              "#ed7953"
             ],
             [
              0.7777777777777778,
              "#fb9f3a"
             ],
             [
              0.8888888888888888,
              "#fdca26"
             ],
             [
              1,
              "#f0f921"
             ]
            ],
            "type": "heatmap"
           }
          ],
          "histogram": [
           {
            "marker": {
             "pattern": {
              "fillmode": "overlay",
              "size": 10,
              "solidity": 0.2
             }
            },
            "type": "histogram"
           }
          ],
          "histogram2d": [
           {
            "colorbar": {
             "outlinewidth": 0,
             "ticks": ""
            },
            "colorscale": [
             [
              0,
              "#0d0887"
             ],
             [
              0.1111111111111111,
              "#46039f"
             ],
             [
              0.2222222222222222,
              "#7201a8"
             ],
             [
              0.3333333333333333,
              "#9c179e"
             ],
             [
              0.4444444444444444,
              "#bd3786"
             ],
             [
              0.5555555555555556,
              "#d8576b"
             ],
             [
              0.6666666666666666,
              "#ed7953"
             ],
             [
              0.7777777777777778,
              "#fb9f3a"
             ],
             [
              0.8888888888888888,
              "#fdca26"
             ],
             [
              1,
              "#f0f921"
             ]
            ],
            "type": "histogram2d"
           }
          ],
          "histogram2dcontour": [
           {
            "colorbar": {
             "outlinewidth": 0,
             "ticks": ""
            },
            "colorscale": [
             [
              0,
              "#0d0887"
             ],
             [
              0.1111111111111111,
              "#46039f"
             ],
             [
              0.2222222222222222,
              "#7201a8"
             ],
             [
              0.3333333333333333,
              "#9c179e"
             ],
             [
              0.4444444444444444,
              "#bd3786"
             ],
             [
              0.5555555555555556,
              "#d8576b"
             ],
             [
              0.6666666666666666,
              "#ed7953"
             ],
             [
              0.7777777777777778,
              "#fb9f3a"
             ],
             [
              0.8888888888888888,
              "#fdca26"
             ],
             [
              1,
              "#f0f921"
             ]
            ],
            "type": "histogram2dcontour"
           }
          ],
          "mesh3d": [
           {
            "colorbar": {
             "outlinewidth": 0,
             "ticks": ""
            },
            "type": "mesh3d"
           }
          ],
          "parcoords": [
           {
            "line": {
             "colorbar": {
              "outlinewidth": 0,
              "ticks": ""
             }
            },
            "type": "parcoords"
           }
          ],
          "pie": [
           {
            "automargin": true,
            "type": "pie"
           }
          ],
          "scatter": [
           {
            "fillpattern": {
             "fillmode": "overlay",
             "size": 10,
             "solidity": 0.2
            },
            "type": "scatter"
           }
          ],
          "scatter3d": [
           {
            "line": {
             "colorbar": {
              "outlinewidth": 0,
              "ticks": ""
             }
            },
            "marker": {
             "colorbar": {
              "outlinewidth": 0,
              "ticks": ""
             }
            },
            "type": "scatter3d"
           }
          ],
          "scattercarpet": [
           {
            "marker": {
             "colorbar": {
              "outlinewidth": 0,
              "ticks": ""
             }
            },
            "type": "scattercarpet"
           }
          ],
          "scattergeo": [
           {
            "marker": {
             "colorbar": {
              "outlinewidth": 0,
              "ticks": ""
             }
            },
            "type": "scattergeo"
           }
          ],
          "scattergl": [
           {
            "marker": {
             "colorbar": {
              "outlinewidth": 0,
              "ticks": ""
             }
            },
            "type": "scattergl"
           }
          ],
          "scattermap": [
           {
            "marker": {
             "colorbar": {
              "outlinewidth": 0,
              "ticks": ""
             }
            },
            "type": "scattermap"
           }
          ],
          "scattermapbox": [
           {
            "marker": {
             "colorbar": {
              "outlinewidth": 0,
              "ticks": ""
             }
            },
            "type": "scattermapbox"
           }
          ],
          "scatterpolar": [
           {
            "marker": {
             "colorbar": {
              "outlinewidth": 0,
              "ticks": ""
             }
            },
            "type": "scatterpolar"
           }
          ],
          "scatterpolargl": [
           {
            "marker": {
             "colorbar": {
              "outlinewidth": 0,
              "ticks": ""
             }
            },
            "type": "scatterpolargl"
           }
          ],
          "scatterternary": [
           {
            "marker": {
             "colorbar": {
              "outlinewidth": 0,
              "ticks": ""
             }
            },
            "type": "scatterternary"
           }
          ],
          "surface": [
           {
            "colorbar": {
             "outlinewidth": 0,
             "ticks": ""
            },
            "colorscale": [
             [
              0,
              "#0d0887"
             ],
             [
              0.1111111111111111,
              "#46039f"
             ],
             [
              0.2222222222222222,
              "#7201a8"
             ],
             [
              0.3333333333333333,
              "#9c179e"
             ],
             [
              0.4444444444444444,
              "#bd3786"
             ],
             [
              0.5555555555555556,
              "#d8576b"
             ],
             [
              0.6666666666666666,
              "#ed7953"
             ],
             [
              0.7777777777777778,
              "#fb9f3a"
             ],
             [
              0.8888888888888888,
              "#fdca26"
             ],
             [
              1,
              "#f0f921"
             ]
            ],
            "type": "surface"
           }
          ],
          "table": [
           {
            "cells": {
             "fill": {
              "color": "#EBF0F8"
             },
             "line": {
              "color": "white"
             }
            },
            "header": {
             "fill": {
              "color": "#C8D4E3"
             },
             "line": {
              "color": "white"
             }
            },
            "type": "table"
           }
          ]
         },
         "layout": {
          "annotationdefaults": {
           "arrowcolor": "#2a3f5f",
           "arrowhead": 0,
           "arrowwidth": 1
          },
          "autotypenumbers": "strict",
          "coloraxis": {
           "colorbar": {
            "outlinewidth": 0,
            "ticks": ""
           }
          },
          "colorscale": {
           "diverging": [
            [
             0,
             "#8e0152"
            ],
            [
             0.1,
             "#c51b7d"
            ],
            [
             0.2,
             "#de77ae"
            ],
            [
             0.3,
             "#f1b6da"
            ],
            [
             0.4,
             "#fde0ef"
            ],
            [
             0.5,
             "#f7f7f7"
            ],
            [
             0.6,
             "#e6f5d0"
            ],
            [
             0.7,
             "#b8e186"
            ],
            [
             0.8,
             "#7fbc41"
            ],
            [
             0.9,
             "#4d9221"
            ],
            [
             1,
             "#276419"
            ]
           ],
           "sequential": [
            [
             0,
             "#0d0887"
            ],
            [
             0.1111111111111111,
             "#46039f"
            ],
            [
             0.2222222222222222,
             "#7201a8"
            ],
            [
             0.3333333333333333,
             "#9c179e"
            ],
            [
             0.4444444444444444,
             "#bd3786"
            ],
            [
             0.5555555555555556,
             "#d8576b"
            ],
            [
             0.6666666666666666,
             "#ed7953"
            ],
            [
             0.7777777777777778,
             "#fb9f3a"
            ],
            [
             0.8888888888888888,
             "#fdca26"
            ],
            [
             1,
             "#f0f921"
            ]
           ],
           "sequentialminus": [
            [
             0,
             "#0d0887"
            ],
            [
             0.1111111111111111,
             "#46039f"
            ],
            [
             0.2222222222222222,
             "#7201a8"
            ],
            [
             0.3333333333333333,
             "#9c179e"
            ],
            [
             0.4444444444444444,
             "#bd3786"
            ],
            [
             0.5555555555555556,
             "#d8576b"
            ],
            [
             0.6666666666666666,
             "#ed7953"
            ],
            [
             0.7777777777777778,
             "#fb9f3a"
            ],
            [
             0.8888888888888888,
             "#fdca26"
            ],
            [
             1,
             "#f0f921"
            ]
           ]
          },
          "colorway": [
           "#636efa",
           "#EF553B",
           "#00cc96",
           "#ab63fa",
           "#FFA15A",
           "#19d3f3",
           "#FF6692",
           "#B6E880",
           "#FF97FF",
           "#FECB52"
          ],
          "font": {
           "color": "#2a3f5f"
          },
          "geo": {
           "bgcolor": "white",
           "lakecolor": "white",
           "landcolor": "#E5ECF6",
           "showlakes": true,
           "showland": true,
           "subunitcolor": "white"
          },
          "hoverlabel": {
           "align": "left"
          },
          "hovermode": "closest",
          "mapbox": {
           "style": "light"
          },
          "paper_bgcolor": "white",
          "plot_bgcolor": "#E5ECF6",
          "polar": {
           "angularaxis": {
            "gridcolor": "white",
            "linecolor": "white",
            "ticks": ""
           },
           "bgcolor": "#E5ECF6",
           "radialaxis": {
            "gridcolor": "white",
            "linecolor": "white",
            "ticks": ""
           }
          },
          "scene": {
           "xaxis": {
            "backgroundcolor": "#E5ECF6",
            "gridcolor": "white",
            "gridwidth": 2,
            "linecolor": "white",
            "showbackground": true,
            "ticks": "",
            "zerolinecolor": "white"
           },
           "yaxis": {
            "backgroundcolor": "#E5ECF6",
            "gridcolor": "white",
            "gridwidth": 2,
            "linecolor": "white",
            "showbackground": true,
            "ticks": "",
            "zerolinecolor": "white"
           },
           "zaxis": {
            "backgroundcolor": "#E5ECF6",
            "gridcolor": "white",
            "gridwidth": 2,
            "linecolor": "white",
            "showbackground": true,
            "ticks": "",
            "zerolinecolor": "white"
           }
          },
          "shapedefaults": {
           "line": {
            "color": "#2a3f5f"
           }
          },
          "ternary": {
           "aaxis": {
            "gridcolor": "white",
            "linecolor": "white",
            "ticks": ""
           },
           "baxis": {
            "gridcolor": "white",
            "linecolor": "white",
            "ticks": ""
           },
           "bgcolor": "#E5ECF6",
           "caxis": {
            "gridcolor": "white",
            "linecolor": "white",
            "ticks": ""
           }
          },
          "title": {
           "x": 0.05
          },
          "xaxis": {
           "automargin": true,
           "gridcolor": "white",
           "linecolor": "white",
           "ticks": "",
           "title": {
            "standoff": 15
           },
           "zerolinecolor": "white",
           "zerolinewidth": 2
          },
          "yaxis": {
           "automargin": true,
           "gridcolor": "white",
           "linecolor": "white",
           "ticks": "",
           "title": {
            "standoff": 15
           },
           "zerolinecolor": "white",
           "zerolinewidth": 2
          }
         }
        },
        "title": {
         "font": {
          "size": 16
         },
         "text": "Genre Popularity Evolution Over Decades (Animated)",
         "x": 0.5
        },
        "updatemenus": [
         {
          "buttons": [
           {
            "args": [
             null,
             {
              "frame": {
               "duration": 2000,
               "redraw": true
              },
              "transition": {
               "duration": 500
              }
             }
            ],
            "label": "Play",
            "method": "animate"
           },
           {
            "args": [
             [
              null
             ],
             {
              "frame": {
               "duration": 0,
               "redraw": false
              },
              "mode": "immediate",
              "transition": {
               "duration": 0
              }
             }
            ],
            "label": "Pause",
            "method": "animate"
           }
          ],
          "direction": "left",
          "pad": {
           "r": 10,
           "t": 70
          },
          "showactive": false,
          "type": "buttons",
          "x": 0.1,
          "xanchor": "right",
          "y": 0,
          "yanchor": "top"
         }
        ],
        "width": 1000,
        "xaxis": {
         "anchor": "y",
         "domain": [
          0,
          1
         ],
         "range": [
          0,
          39
         ],
         "title": {
          "font": {
           "size": 14
          },
          "text": "Number of Movies"
         }
        },
        "yaxis": {
         "anchor": "x",
         "domain": [
          0,
          1
         ],
         "title": {
          "font": {
           "size": 14
          },
          "text": "Movie Genre"
         }
        }
       }
      }
     },
     "metadata": {},
     "output_type": "display_data"
    },
    {
     "name": "stdout",
     "output_type": "stream",
     "text": [
      "🎬 ANIMATED BAR CHART INSIGHTS:\n",
      "\n",
      "📈 Genre Evolution Highlights:\n",
      "🕰️  First decade (1920s) top genre: Drama\n",
      "🆕 Latest decade (2010s) top genre: Drama\n",
      "🏆 Most consistent genre: Drama (appears in 10 decades)\n",
      "\n",
      "📊 Animation covers 10 decades from 1920s to 2010s\n",
      "\n",
      "💡 ANIMATION CONTROLS:\n",
      "• Click 'Play' to start the animation\n",
      "• Click 'Pause' to stop\n",
      "• Use the slider to jump to specific decades\n",
      "• Hover over bars for detailed information\n",
      "• Color shows average rating for each genre\n"
     ]
    }
   ],
   "source": [
    "import plotly.express as px\n",
    "import pandas as pd\n",
    "\n",
    "# Prepare data for animated bar chart\n",
    "animated_data = []\n",
    "decades = sorted(df['Decade'].unique())\n",
    "\n",
    "for decade in decades:\n",
    "    decade_movies = df[df['Decade'] == decade]\n",
    "    \n",
    "    # Extract all genres for this decade\n",
    "    genres_list = []\n",
    "    for genre_string in decade_movies['Genre']:\n",
    "        genres = [g.strip() for g in str(genre_string).split(' | ') \n",
    "                  if g.strip() and g.strip() != '\\\\' and g.strip() != '']\n",
    "        genres_list.extend(genres)\n",
    "    \n",
    "    # Count genres and get top 10 for this decade\n",
    "    genre_counts = pd.Series(genres_list).value_counts().head(10)\n",
    "    \n",
    "    # Calculate average rating for each genre in this decade\n",
    "    for genre, count in genre_counts.items():\n",
    "        genre_movies = decade_movies[decade_movies['Genre'].str.contains(genre, na=False)]\n",
    "        avg_rating = genre_movies['IMDB rating'].mean() if len(genre_movies) > 0 else 0\n",
    "        \n",
    "        animated_data.append({\n",
    "            'Decade': f\"{int(decade)}s\",\n",
    "            'Genre': genre,\n",
    "            'Count': count,\n",
    "            'Avg_Rating': round(avg_rating, 2),\n",
    "            'Decade_Numeric': int(decade)\n",
    "        })\n",
    "\n",
    "animated_df = pd.DataFrame(animated_data)\n",
    "\n",
    "# Create animated bar chart\n",
    "fig = px.bar(animated_df, \n",
    "             x='Count', \n",
    "             y='Genre',\n",
    "             color='Avg_Rating',\n",
    "             animation_frame='Decade',\n",
    "             orientation='h',\n",
    "             title='Genre Popularity Evolution Over Decades (Animated)',\n",
    "             labels={\n",
    "                 'Count': 'Number of Movies',\n",
    "                 'Genre': 'Movie Genre',\n",
    "                 'Avg_Rating': 'Average Rating'\n",
    "             },\n",
    "             color_continuous_scale='viridis',\n",
    "             range_x=[0, animated_df['Count'].max() + 2])\n",
    "\n",
    "# Customize the animation and layout\n",
    "fig.update_layout(\n",
    "    height=700,\n",
    "    width=1000,\n",
    "    title_font_size=16,\n",
    "    title_x=0.5,\n",
    "    xaxis_title_font_size=14,\n",
    "    yaxis_title_font_size=14,\n",
    "    coloraxis_colorbar=dict(\n",
    "        title=\"Avg Rating\",\n",
    "        title_font_size=12\n",
    "    ),\n",
    "    # Slow down the animation\n",
    "    updatemenus=[{\n",
    "        'type': 'buttons',\n",
    "        'showactive': False,\n",
    "        'buttons': [\n",
    "            {\n",
    "                'label': 'Play',\n",
    "                'method': 'animate',\n",
    "                'args': [None, {\n",
    "                    'frame': {'duration': 1500, 'redraw': True},\n",
    "                    'transition': {'duration': 300}\n",
    "                }]\n",
    "            },\n",
    "            {\n",
    "                'label': 'Pause',\n",
    "                'method': 'animate',\n",
    "                'args': [[None], {\n",
    "                    'frame': {'duration': 0, 'redraw': False},\n",
    "                    'mode': 'immediate',\n",
    "                    'transition': {'duration': 0}\n",
    "                }]\n",
    "            }\n",
    "        ]\n",
    "    }]\n",
    ")\n",
    "\n",
    "# Update animation settings\n",
    "fig.layout.updatemenus[0].buttons[0].args[1]['frame']['duration'] = 2000\n",
    "fig.layout.updatemenus[0].buttons[0].args[1]['transition']['duration'] = 500\n",
    "\n",
    "fig.show()\n",
    "\n",
    "# Print insights about the animation\n",
    "print(\"🎬 ANIMATED BAR CHART INSIGHTS:\")\n",
    "print(\"\\n📈 Genre Evolution Highlights:\")\n",
    "\n",
    "# Find genres that gained/lost popularity\n",
    "first_decade = animated_df[animated_df['Decade_Numeric'] == animated_df['Decade_Numeric'].min()]\n",
    "last_decade = animated_df[animated_df['Decade_Numeric'] == animated_df['Decade_Numeric'].max()]\n",
    "\n",
    "print(f\"🕰️  First decade ({first_decade['Decade'].iloc[0]}) top genre: {first_decade.nlargest(1, 'Count')['Genre'].iloc[0]}\")\n",
    "print(f\"🆕 Latest decade ({last_decade['Decade'].iloc[0]}) top genre: {last_decade.nlargest(1, 'Count')['Genre'].iloc[0]}\")\n",
    "\n",
    "# Most consistent genre across decades\n",
    "genre_appearances = animated_df['Genre'].value_counts()\n",
    "most_consistent = genre_appearances.index[0]\n",
    "print(f\"🏆 Most consistent genre: {most_consistent} (appears in {genre_appearances.iloc[0]} decades)\")\n",
    "\n",
    "print(f\"\\n📊 Animation covers {len(decades)} decades from {int(min(decades))}s to {int(max(decades))}s\")\n",
    "print(\"\\n💡 ANIMATION CONTROLS:\")\n",
    "print(\"• Click 'Play' to start the animation\")\n",
    "print(\"• Click 'Pause' to stop\")\n",
    "print(\"• Use the slider to jump to specific decades\")\n",
    "print(\"• Hover over bars for detailed information\")\n",
    "print(\"• Color shows average rating for each genre\")"
   ]
  },
  {
   "cell_type": "code",
   "execution_count": 1,
   "id": "1dcf1c9f",
   "metadata": {},
   "outputs": [
    {
     "name": "stderr",
     "output_type": "stream",
     "text": [
      "<>:57: SyntaxWarning: invalid escape sequence '\\d'\n",
      "<>:58: SyntaxWarning: invalid escape sequence '\\d'\n",
      "<>:57: SyntaxWarning: invalid escape sequence '\\d'\n",
      "<>:58: SyntaxWarning: invalid escape sequence '\\d'\n",
      "/tmp/ipykernel_8758/4002326629.py:57: SyntaxWarning: invalid escape sequence '\\d'\n",
      "  horas_em_minutos = df['Duration'].str.extract('(\\d+)h').fillna(0).astype(int) * 60\n",
      "/tmp/ipykernel_8758/4002326629.py:58: SyntaxWarning: invalid escape sequence '\\d'\n",
      "  minutos = df['Duration'].str.extract('(\\d+)min').fillna(0).astype(int)\n"
     ]
    },
    {
     "name": "stdout",
     "output_type": "stream",
     "text": [
      "ETAPA 1: VISÃO GERAL DO DATASET\n",
      "===================================\n",
      "Dimensões do DataFrame: (250, 10)\n",
      "Colunas presentes: ['Unnamed: 0', 'Title', 'Year', 'Genre', 'Duration', 'Origin', 'Director', 'IMDB rating', 'Rating count', 'IMDB link']\n",
      "\n",
      "--- 5 Primeiras Linhas do Dataset ---\n",
      "   Unnamed: 0                     Title  Year  \\\n",
      "0           1  The Shawshank Redemption  1994   \n",
      "1           2             The Godfather  1972   \n",
      "2           3    The Godfather: Part II  1974   \n",
      "3           4           The Dark Knight  2008   \n",
      "4           5              12 Angry Men  1957   \n",
      "\n",
      "                               Genre  Duration    Origin  \\\n",
      "0                              Drama  2h 22min       USA   \n",
      "1                      Drama | Crime  2h 55min       USA   \n",
      "2                      Drama | Crime  3h 22min       USA   \n",
      "3  Drama | Action | Thriller | Crime  2h 32min  USA | UK   \n",
      "4                              Drama  1h 36min       USA   \n",
      "\n",
      "               Director  IMDB rating  Rating count  \\\n",
      "0        Frank Darabont          9.3       2030817   \n",
      "1  Francis Ford Coppola          9.2       1392322   \n",
      "2  Francis Ford Coppola          9.0        964841   \n",
      "3     Christopher Nolan          9.0       1998623   \n",
      "4          Sidney Lumet          8.9        571145   \n",
      "\n",
      "                              IMDB link  \n",
      "0  https://www.imdb.com/title/tt0111161  \n",
      "1  https://www.imdb.com/title/tt0068646  \n",
      "2  https://www.imdb.com/title/tt0071562  \n",
      "3  https://www.imdb.com/title/tt0468569  \n",
      "4  https://www.imdb.com/title/tt0050083  \n",
      "\n",
      "--- Tipos de Dados e Valores Ausentes ---\n",
      "<class 'pandas.core.frame.DataFrame'>\n",
      "RangeIndex: 250 entries, 0 to 249\n",
      "Data columns (total 10 columns):\n",
      " #   Column        Non-Null Count  Dtype  \n",
      "---  ------        --------------  -----  \n",
      " 0   Unnamed: 0    250 non-null    int64  \n",
      " 1   Title         250 non-null    object \n",
      " 2   Year          250 non-null    int64  \n",
      " 3   Genre         250 non-null    object \n",
      " 4   Duration      250 non-null    object \n",
      " 5   Origin        250 non-null    object \n",
      " 6   Director      250 non-null    object \n",
      " 7   IMDB rating   250 non-null    float64\n",
      " 8   Rating count  250 non-null    int64  \n",
      " 9   IMDB link     250 non-null    object \n",
      "dtypes: float64(1), int64(3), object(6)\n",
      "memory usage: 19.7+ KB\n",
      "\n",
      "--- Estatísticas Descritivas das Colunas Numéricas ---\n",
      "       Unnamed: 0         Year  IMDB rating  Rating count\n",
      "count  250.000000   250.000000   250.000000  2.500000e+02\n",
      "mean   125.500000  1985.284000     8.302400  4.777687e+05\n",
      "std     72.312977    24.789138     0.228831  4.032529e+05\n",
      "min      1.000000  1921.000000     8.000000  2.634500e+04\n",
      "25%     63.250000  1966.250000     8.100000  1.389868e+05\n",
      "50%    125.500000  1993.000000     8.200000  3.477585e+05\n",
      "75%    187.750000  2005.000000     8.400000  7.074485e+05\n",
      "max    250.000000  2018.000000     9.300000  2.030817e+06\n",
      "===================================\n",
      "\n",
      "\n",
      "ETAPA 2: LIMPEZA E PRÉ-PROCESSAMENTO\n",
      "===================================\n",
      "Colunas 'Decada' e 'Duration_minutes' criadas com sucesso.\n",
      "Total de gêneros únicos identificados: 20\n",
      "===================================\n",
      "\n",
      "\n",
      "ETAPA 3: VISUALIZAÇÃO DE DADOS E INSIGHTS\n",
      "========================================\n"
     ]
    },
    {
     "data": {
      "image/png": "[encoded data removed]",
      "text/plain": [
       "<Figure size 1200x800 with 1 Axes>"
      ]
     },
     "metadata": {},
     "output_type": "display_data"
    },
    {
     "name": "stdout",
     "output_type": "stream",
     "text": [
      "\n",
      "--- Insights do Gráfico de Gêneros ---\n",
      "O gênero 'Drama' é o mais presente, aparecendo em 184 filmes da lista.\n",
      "O segundo gênero mais comum é 'Drama' com 184 aparições.\n",
      "-----------------------------------\n"
     ]
    },
    {
     "data": {
      "application/vnd.plotly.v1+json": {
       "config": {
        "plotlyServerURL": "https://plot.ly"
       },
       "data": [
        {
         "customdata": [
          [
           "Frank Darabont",
           "Drama",
           142,
           2030817
          ],
          [
           "Francis Ford Coppola",
           "Drama | Crime",
           175,
           1392322
          ],
          [
           "Francis Ford Coppola",
           "Drama | Crime",
           202,
           964841
          ],
          [
           "Christopher Nolan",
           "Drama | Action | Thriller | Crime",
           152,
           1998623
          ],
          [
           "Sidney Lumet",
           "Drama",
           96,
           571145
          ],
          [
           "Steven Spielberg",
           "Drama | Biography | History",
           195,
           1050056
          ],
          [
           "Peter Jackson",
           "Drama | Adventure | Fantasy | Action",
           201,
           1445888
          ],
          [
           "Quentin Tarantino",
           "Drama | Crime",
           154,
           1585797
          ],
          [
           "Sergio Leone",
           "Western",
           161,
           602707
          ],
          [
           "David Fincher",
           "Drama",
           139,
           1625021
          ],
          [
           "Peter Jackson",
           "Drama | Fantasy | Adventure",
           178,
           1462502
          ],
          [
           "Robert Zemeckis",
           "Drama | Romance",
           142,
           1550083
          ],
          [
           "Irvin Kershner",
           "Adventure | Fantasy | Action",
           124,
           1019768
          ],
          [
           "Christopher Nolan",
           "Adventure | Action | Thriller",
           148,
           1778263
          ],
          [
           "Peter Jackson",
           "Drama | Fantasy | Adventure",
           179,
           1307197
          ],
          [
           "Milos Forman",
           "Drama",
           133,
           806868
          ],
          [
           "Martin Scorsese",
           "Drama | Crime",
           146,
           875941
          ],
          [
           "Lana Wachowski",
           "Action",
           136,
           1457616
          ],
          [
           "Akira Kurosawa",
           "Drama | Adventure",
           207,
           275127
          ],
          [
           "Fernando Meirelles",
           "Drama | Crime",
           130,
           627143
          ],
          [
           "David Fincher",
           "Drama | Thriller | Mystery | Crime",
           127,
           1242595
          ],
          [
           "George Lucas",
           "Adventure | Fantasy | Action",
           121,
           1089777
          ],
          [
           "Jonathan Demme",
           "Drama | Thriller | Crime",
           118,
           1091651
          ],
          [
           "Frank Capra",
           "Drama | Fantasy | Family",
           130,
           344954
          ],
          [
           "Roberto Benigni",
           "War | Drama | Comedy | Romance",
           116,
           532275
          ],
          [
           "Bryan Singer",
           "Thriller | Mystery | Crime",
           106,
           881292
          ],
          [
           "Hayao Miyazaki",
           "Adventure | Animation | Mystery | Family | Fantasy",
           125,
           535660
          ],
          [
           "Steven Spielberg",
           "Drama | War",
           169,
           1071815
          ],
          [
           "Luc Besson",
           "Drama | Thriller | Crime",
           110,
           892329
          ],
          [
           "Bob Persichetti",
           "Comedy | Adventure | Animation | Family | Action",
           117,
           43084
          ],
          [
           "Frank Darabont",
           "Drama | Fantasy | Mystery | Crime",
           189,
           974912
          ],
          [
           "Christopher Nolan",
           "Drama | Adventure",
           169,
           1240319
          ],
          [
           "Alfred Hitchcock",
           "Thriller | Horror | Mystery",
           109,
           519103
          ],
          [
           "Tony Kaye",
           "Drama",
           119,
           925585
          ],
          [
           "Charles Chaplin",
           "Drama | Comedy | Romance",
           87,
           141114
          ],
          [
           "Sergio Leone",
           "Western",
           165,
           263465
          ],
          [
           "Michael Curtiz",
           "War | Drama | Romance",
           102,
           462996
          ],
          [
           "Charles Chaplin",
           "Drama | Comedy | Romance | Family",
           87,
           183223
          ],
          [
           "Roman Polanski",
           "Drama | Biography | War | Music",
           150,
           618407
          ],
          [
           "Olivier Nakache",
           "Drama | Biography | Comedy",
           112,
           648678
          ],
          [
           "Martin Scorsese",
           "Drama | Thriller | Crime",
           151,
           1043844
          ],
          [
           "James Cameron",
           "Action",
           137,
           880764
          ],
          [
           "Robert Zemeckis",
           "Comedy | Adventure",
           116,
           901606
          ],
          [
           "Damien Chazelle",
           "Drama | Music",
           106,
           586547
          ],
          [
           "Alfred Hitchcock",
           "Thriller | Mystery",
           112,
           386355
          ],
          [
           "Steven Spielberg",
           "Adventure | Action",
           115,
           786682
          ],
          [
           "Roger Allers",
           "Adventure | Animation | Family | Drama | Musical",
           88,
           803787
          ],
          [
           "Ridley Scott",
           "Drama | Adventure | Action",
           155,
           1174412
          ],
          [
           "Christopher Nolan",
           "Drama | Thriller | Mystery",
           130,
           1032561
          ],
          [
           "Francis Ford Coppola",
           "Drama | War",
           147,
           532507
          ],
          [
           "Christopher Nolan",
           "Thriller | Mystery",
           113,
           1005884
          ],
          [
           "Ridley Scott",
           "Horror",
           116,
           692470
          ],
          [
           "Charles Chaplin",
           "Drama | Comedy | War",
           125,
           174358
          ],
          [
           "Giuseppe Tornatore",
           "Drama",
           155,
           194020
          ],
          [
           "Isao Takahata",
           "War | Drama | Animation",
           89,
           187476
          ],
          [
           "Anthony Russo",
           "Adventure | Fantasy | Action",
           149,
           547495
          ],
          [
           "Billy Wilder",
           "Drama",
           110,
           173457
          ],
          [
           "Florian Henckel von Donnersmarck",
           "Drama | Thriller",
           137,
           313501
          ],
          [
           "Stanley Kubrick",
           "Comedy",
           95,
           404880
          ],
          [
           "Stanley Kubrick",
           "Drama | War",
           88,
           151017
          ],
          [
           "Stanley Kubrick",
           "Drama | Horror",
           146,
           753633
          ],
          [
           "Quentin Tarantino",
           "Drama | Western",
           165,
           1170940
          ],
          [
           "Andrew Stanton",
           "Adventure | Animation | Family",
           98,
           877732
          ],
          [
           "Hayao Miyazaki",
           "Adventure | Fantasy | Animation",
           134,
           283982
          ],
          [
           "Billy Wilder",
           "Drama | Thriller | Mystery | Crime",
           116,
           87838
          ],
          [
           "Sam Mendes",
           "Drama",
           122,
           966877
          ],
          [
           "Christopher Nolan",
           "Action | Thriller",
           164,
           1349163
          ],
          [
           "Chan-wook Park",
           "Thriller | Drama | Action | Mystery",
           120,
           443353
          ],
          [
           "James Cameron",
           "Adventure | Action | Thriller",
           137,
           584962
          ],
          [
           "Sergio Leone",
           "Drama | Crime",
           229,
           268592
          ],
          [
           "Lee Unkrich",
           "Comedy | Adventure | Animation | Family | Mystery | Music | Fantasy",
           105,
           244493
          ],
          [
           "Wolfgang Petersen",
           "War | Drama | Adventure | Thriller",
           149,
           203245
          ],
          [
           "Orson Welles",
           "Drama | Mystery",
           119,
           354474
          ],
          [
           "Mel Gibson",
           "Drama | Biography | War | History",
           178,
           871297
          ],
          [
           "Alfred Hitchcock",
           "Thriller | Romance | Mystery",
           128,
           310177
          ],
          [
           "Alfred Hitchcock",
           "Thriller | Adventure | Mystery",
           136,
           264213
          ],
          [
           "Quentin Tarantino",
           "Drama | Thriller | Crime",
           99,
           798275
          ],
          [
           "Richard Marquand",
           "Adventure | Fantasy | Action",
           131,
           836522
          ],
          [
           "Fritz Lang",
           "Thriller | Mystery | Crime",
           117,
           123555
          ],
          [
           "Makoto Shinkai",
           "Drama | Romance | Fantasy | Animation",
           106,
           117390
          ],
          [
           "Milos Forman",
           "Drama | Biography | History | Music",
           160,
           327416
          ],
          [
           "Darren Aronofsky",
           "Drama",
           102,
           682068
          ],
          [
           "Nitesh Tiwari",
           "Drama | Biography | Action | Sport",
           161,
           111750
          ],
          [
           "Aamir Khan",
           "Drama | Family",
           165,
           134196
          ],
          [
           "David Lean",
           "Biography | Adventure | Drama | War | History",
           216,
           235059
          ],
          [
           "Michel Gondry",
           "Drama | Romance",
           108,
           801164
          ],
          [
           "Stanley Kubrick",
           "Drama | Crime",
           136,
           668899
          ],
          [
           "Rajkumar Hirani",
           "Drama | Comedy",
           170,
           288467
          ],
          [
           "Stanley Kubrick",
           "Adventure",
           149,
           524990
          ],
          [
           "Jean-Pierre Jeunet",
           "Comedy | Romance",
           122,
           635721
          ],
          [
           "John Lasseter",
           "Comedy | Adventure | Animation | Family | Fantasy",
           81,
           765250
          ],
          [
           "Billy Wilder",
           "Drama | Thriller | Mystery | Crime",
           107,
           123317
          ],
          [
           "Martin Scorsese",
           "Drama | Crime",
           114,
           617068
          ],
          [
           "Stanley Donen",
           "Comedy | Romance | Musical",
           103,
           190158
          ],
          [
           "Quentin Tarantino",
           "War | Drama | Adventure",
           153,
           1082811
          ],
          [
           "Stanley Kubrick",
           "Drama | War",
           116,
           590594
          ],
          [
           "Robert Mulligan",
           "Drama | Crime",
           129,
           264549
          ],
          [
           "Vittorio De Sica",
           "Drama",
           89,
           122158
          ],
          [
           "Charles Chaplin",
           "Drama | Comedy | Family",
           68,
           92519
          ],
          [
           "George Roy Hill",
           "Drama | Comedy | Crime",
           129,
           213412
          ],
          [
           "Gus Van Sant",
           "Drama | Romance",
           126,
           743204
          ],
          [
           "Lee Unkrich",
           "Comedy | Adventure | Animation | Family | Fantasy",
           103,
           660322
          ],
          [
           "Thomas Vinterberg",
           "Drama",
           115,
           231958
          ],
          [
           "Guy Ritchie",
           "Comedy | Crime",
           104,
           701543
          ],
          [
           "Brian De Palma",
           "Drama | Crime",
           170,
           644950
          ],
          [
           "Terry Gilliam",
           "Comedy | Adventure | Fantasy",
           91,
           448627
          ],
          [
           "Sergio Leone",
           "Western",
           132,
           198469
          ],
          [
           "Curtis Hanson",
           "Drama | Thriller | Mystery | Crime",
           138,
           482362
          ],
          [
           "Billy Wilder",
           "Drama | Comedy | Romance",
           125,
           138672
          ],
          [
           "Fritz Lang",
           "Drama",
           153,
           138895
          ],
          [
           "Asghar Farhadi",
           "Drama",
           123,
           189745
          ],
          [
           "Steven Spielberg",
           "Adventure | Fantasy | Action",
           127,
           615110
          ],
          [
           "Akira Kurosawa",
           "Drama | Mystery | Crime",
           88,
           129714
          ],
          [
           "Pete Docter",
           "Adventure | Comedy | Animation | Family",
           96,
           817536
          ],
          [
           "Joseph L. Mankiewicz",
           "Drama",
           138,
           104509
          ],
          [
           "Christopher Nolan",
           "Adventure | Action | Thriller",
           140,
           1160328
          ],
          [
           "Akira Kurosawa",
           "Drama | Action | Thriller",
           110,
           93969
          ],
          [
           "Billy Wilder",
           "Comedy | Romance",
           121,
           213736
          ],
          [
           "Clint Eastwood",
           "Drama | Western",
           130,
           331944
          ],
          [
           "Oliver Hirschbiegel",
           "Drama | Biography | War | History",
           156,
           296980
          ],
          [
           "John McTiernan",
           "Action | Thriller",
           132,
           701825
          ],
          [
           "John Huston",
           "Drama | Western | Adventure",
           126,
           99110
          ],
          [
           "Michael Mann",
           "Drama | Thriller | Crime",
           170,
           511042
          ],
          [
           "Akira Kurosawa",
           "Drama",
           143,
           56861
          ],
          [
           "Denis Villeneuve",
           "Drama | War | Mystery",
           131,
           118365
          ],
          [
           "Martin Scorsese",
           "Drama | Biography | Sport",
           129,
           280338
          ],
          [
           "John Sturges",
           "Thriller | Adventure | Drama | War | History",
           172,
           200294
          ],
          [
           "Majid Majidi",
           "Drama | Family",
           89,
           49018
          ],
          [
           "Guillermo del Toro",
           "Drama | Fantasy | War",
           118,
           557430
          ],
          [
           "Çagan Irmak",
           "Drama | Family",
           108,
           63111
          ],
          [
           "Roman Polanski",
           "Drama | Thriller | Mystery",
           130,
           259278
          ],
          [
           "Carol Reed",
           "Thriller | Mystery",
           104,
           139882
          ],
          [
           "Bryan Singer",
           "Drama | Biography | Music",
           134,
           160843
          ],
          [
           "Hayao Miyazaki",
           "Fantasy | Animation | Family",
           86,
           229502
          ],
          [
           "Hayao Miyazaki",
           "Adventure | Fantasy | Animation | Family",
           119,
           273103
          ],
          [
           "Akira Kurosawa",
           "Drama | Action",
           162,
           97041
          ],
          [
           "Stanley Kramer",
           "Drama | War",
           186,
           59883
          ],
          [
           "Juan José Campanella",
           "Thriller | Drama | Romance | Mystery",
           129,
           168096
          ],
          [
           "Charles Chaplin",
           "Drama | Comedy | Adventure | Family",
           95,
           86997
          ],
          [
           "David Lean",
           "War | Drama | Adventure",
           161,
           181884
          ],
          [
           "Ron Howard",
           "Drama | Biography",
           135,
           748421
          ],
          [
           "Guy Ritchie",
           "Comedy | Crime",
           107,
           482617
          ],
          [
           "Martin Scorsese",
           "Drama | Crime",
           178,
           402926
          ],
          [
           "Martin McDonagh",
           "Drama | Comedy | Crime",
           115,
           304426
          ],
          [
           "Elia Kazan",
           "Drama | Thriller | Crime",
           108,
           125509
          ],
          [
           "Ingmar Bergman",
           "Drama | Fantasy",
           96,
           139262
          ],
          [
           "Pete Docter",
           "Comedy | Adventure | Animation | Family | Drama | Fantasy",
           95,
           512181
          ],
          [
           "David Lynch",
           "Drama | Biography",
           124,
           195746
          ],
          [
           "Lenny Abrahamson",
           "Drama | Thriller",
           118,
           296996
          ],
          [
           "Martin Scorsese",
           "Drama | Biography | Comedy | Crime",
           180,
           995724
          ],
          [
           "Frank Capra",
           "Drama | Comedy",
           129,
           96020
          ],
          [
           "James McTeigue",
           "Drama | Action | Thriller",
           132,
           931242
          ],
          [
           "Gavin O'Connor",
           "Drama | Sport",
           140,
           395333
          ],
          [
           "Ridley Scott",
           "Thriller",
           117,
           609845
          ],
          [
           "Alfred Hitchcock",
           "Thriller | Crime",
           105,
           136579
          ],
          [
           "Ingmar Bergman",
           "Drama | Romance",
           91,
           81634
          ],
          [
           "Clyde Bruckman",
           "Comedy | Adventure | Drama | Western | War | Action",
           67,
           69712
          ],
          [
           "Ethan Coen",
           "Drama | Thriller | Crime",
           122,
           744187
          ],
          [
           "Danny Boyle",
           "Drama",
           93,
           575556
          ],
          [
           "Paul Thomas Anderson",
           "Drama",
           158,
           451253
          ],
          [
           "M. Night Shyamalan",
           "Drama | Thriller | Mystery",
           107,
           823878
          ],
          [
           "Victor Fleming",
           "War | Drama | Romance | History",
           238,
           257825
          ],
          [
           "John Carpenter",
           "Horror | Mystery",
           109,
           321159
          ],
          [
           "Joel Coen",
           "Drama | Thriller | Crime",
           98,
           546802
          ],
          [
           "Clint Eastwood",
           "Drama",
           116,
           655216
          ],
          [
           "Alfonso Cuarón",
           "Drama",
           135,
           27550
          ],
          [
           "Michael Cimino",
           "Drama | War",
           183,
           277906
          ],
          [
           "Andrew Stanton",
           "Adventure | Comedy | Animation | Family",
           100,
           841886
          ],
          [
           "Elem Klimov",
           "Drama | War",
           142,
           41374
          ],
          [
           "Joel Coen",
           "Comedy | Crime",
           117,
           643306
          ],
          [
           "Martin Scorsese",
           "Thriller | Mystery",
           138,
           971812
          ],
          [
           "Buster Keaton",
           "Romance | Comedy | Action",
           45,
           31053
          ],
          [
           "Quentin Tarantino",
           "Action | Thriller | Crime",
           111,
           878087
          ],
          [
           "Stuart Rosenberg",
           "Drama | Crime",
           126,
           144360
          ],
          [
           "Alfred Hitchcock",
           "Thriller | Drama | Romance | Mystery",
           130,
           108181
          ],
          [
           "Yasujirô Ozu",
           "Drama",
           136,
           41895
          ],
          [
           "Adam Elliot",
           "Drama | Comedy | Animation",
           92,
           147400
          ],
          [
           "Mel Gibson",
           "Drama | Biography | War | History",
           139,
           346132
          ],
          [
           "David Fincher",
           "Drama | Thriller | Mystery | Crime",
           149,
           733285
          ],
          [
           "Dean DeBlois",
           "Comedy | Adventure | Animation | Family | Fantasy | Action",
           98,
           588170
          ],
          [
           "F.W. Murnau",
           "Drama | Romance",
           94,
           41849
          ],
          [
           "Damián Szifron",
           "Drama | Comedy | Thriller",
           122,
           144105
          ],
          [
           "Steven Spielberg",
           "Adventure | Thriller",
           127,
           758947
          ],
          [
           "Sean Penn",
           "Drama | Biography | Adventure",
           148,
           512630
          ],
          [
           "Terry Jones",
           "Comedy",
           94,
           325081
          ],
          [
           "Jim Sheridan",
           "Drama | Biography",
           133,
           137634
          ],
          [
           "Peter Weir",
           "Drama | Comedy",
           103,
           811714
          ],
          [
           "Wes Anderson",
           "Drama | Comedy | Adventure",
           99,
           612840
          ],
          [
           "Oliver Stone",
           "Drama | War",
           120,
           343583
          ],
          [
           "Rob Reiner",
           "Drama | Adventure",
           89,
           325574
          ],
          [
           "Frank Capra",
           "Comedy | Romance",
           105,
           82574
          ],
          [
           "Yavuz Turgul",
           "Drama | Thriller | Crime",
           128,
           53362
          ],
          [
           "Sidney Lumet",
           "Drama",
           121,
           127681
          ],
          [
           "Andrei Tarkovsky",
           "Drama",
           162,
           93937
          ],
          [
           "Ingmar Bergman",
           "Drama | Thriller",
           85,
           83682
          ],
          [
           "Joon-ho Bong",
           "Thriller | Mystery | Drama | Action | Crime",
           131,
           95919
          ],
          [
           "William Wyler",
           "Drama | Adventure | History",
           212,
           196524
          ],
          [
           "Terry George",
           "Drama | Biography | War | History",
           121,
           307299
          ],
          [
           "Steve McQueen",
           "Drama | Biography | History",
           134,
           559253
          ],
          [
           "Clint Eastwood",
           "Drama | Sport",
           132,
           572767
          ],
          [
           "Carl Theodor Dreyer",
           "Drama | Biography | History",
           110,
           39077
          ],
          [
           "Ron Howard",
           "Drama | Biography | Action | Sport",
           123,
           382423
          ],
          [
           "Andrei Tarkovsky",
           "Drama | Biography | History",
           205,
           37044
          ],
          [
           "Henri-Georges Clouzot",
           "Drama | Adventure | Thriller",
           131,
           46897
          ],
          [
           "Richard Linklater",
           "Drama | Romance",
           101,
           230713
          ],
          [
           "George Miller",
           "Adventure | Action | Thriller",
           120,
           751310
          ],
          [
           "François Truffaut",
           "Drama | Crime",
           99,
           89470
          ],
          [
           "Denis Villeneuve",
           "Drama | Thriller | Mystery | Crime",
           153,
           507543
          ],
          [
           "Lasse Hallström",
           "Drama | Family",
           93,
           215104
          ],
          [
           "Tom McCarthy",
           "Drama | History | Crime",
           129,
           346838
          ],
          [
           "James Mangold",
           "Drama | Action | Thriller",
           137,
           525287
          ],
          [
           "Rakeysh Omprakash Mehra",
           "Drama | Comedy",
           157,
           97601
          ],
          [
           "Alejandro G. Iñárritu",
           "Drama | Thriller",
           154,
           203030
          ],
          [
           "Rob Reiner",
           "Romance | Fantasy | Adventure | Family",
           98,
           348679
          ],
          [
           "Steven Spielberg",
           "Drama | Biography | Crime",
           141,
           689344
          ],
          [
           "Hayao Miyazaki",
           "Adventure | Fantasy | Animation",
           117,
           123985
          ],
          [
           "David Yates",
           "Drama | Fantasy | Adventure | Mystery",
           130,
           670287
          ],
          [
           "George Roy Hill",
           "Drama | Western | Biography | Crime",
           110,
           182691
          ],
          [
           "John G. Avildsen",
           "Drama | Sport",
           120,
           458622
          ],
          [
           "Stanley Kubrick",
           "War | Drama | Adventure | History",
           185,
           128220
          ],
          [
           "Pete Docter",
           "Comedy | Adventure | Animation | Family | Fantasy",
           92,
           715474
          ],
          [
           "John Ford",
           "Drama | History",
           129,
           78992
          ],
          [
           "John Huston",
           "Mystery",
           100,
           137253
          ],
          [
           "Peter Weir",
           "Drama | Comedy",
           128,
           353575
          ],
          [
           "Richard Kelly",
           "Drama | Thriller",
           113,
           682933
          ],
          [
           "James Cameron",
           "Action",
           107,
           709323
          ],
          [
           "Richard Attenborough",
           "Drama | Biography | History",
           191,
           203124
          ],
          [
           "Henri-Georges Clouzot",
           "Thriller | Mystery | Drama | Horror | Crime",
           117,
           54973
          ],
          [
           "Mathieu Kassovitz",
           "Drama | Crime",
           98,
           128586
          ],
          [
           "Harold Ramis",
           "Comedy | Romance | Fantasy",
           101,
           527321
          ],
          [
           "Victor Fleming",
           "Fantasy | Adventure | Musical | Family",
           102,
           343544
          ],
          [
           "Steven Spielberg",
           "Drama | Adventure | Thriller",
           124,
           496616
          ],
          [
           "Federico Fellini",
           "Drama",
           110,
           37452
          ],
          [
           "Tate Taylor",
           "Drama",
           146,
           382422
          ],
          [
           "Kar-Wai Wong",
           "Drama | Romance",
           98,
           101673
          ],
          [
           "Zaza Urushadze",
           "Drama | War",
           87,
           31457
          ],
          [
           "Richard Linklater",
           "Drama | Romance",
           80,
           201622
          ],
          [
           "Peter Bogdanovich",
           "Drama | Comedy",
           102,
           36645
          ],
          [
           "Chan-wook Park",
           "Drama | Romance | Thriller",
           144,
           71047
          ],
          [
           "Wim Wenders",
           "Drama",
           145,
           71160
          ],
          [
           "William Wyler",
           "War | Drama | Romance",
           170,
           51979
          ],
          [
           "Hayao Miyazaki",
           "Drama | Adventure | Fantasy | Animation",
           125,
           123229
          ],
          [
           "Gore Verbinski",
           "Adventure | Fantasy | Action",
           143,
           943984
          ],
          [
           "Denis Villeneuve",
           "Drama | Thriller | Mystery",
           164,
           351618
          ],
          [
           "Damien Chazelle",
           "Comedy | Romance | Music | Drama | Musical",
           128,
           409442
          ],
          [
           "James Gunn",
           "Adventure | Comedy | Action",
           121,
           894940
          ],
          [
           "Ingmar Bergman",
           "Drama",
           188,
           50821
          ],
          [
           "Akira Kurosawa",
           "Drama | Action | Thriller | Crime",
           96,
           26345
          ],
          [
           "Anurag Kashyap",
           "Comedy | Thriller | Drama | Action | Crime",
           321,
           66466
          ],
          [
           "Nishikant Kamat",
           "Drama | Thriller | Crime",
           163,
           51251
          ]
         ],
         "hovertemplate": "<b>%{hovertext}</b><br><br>Ano de Lançamento=%{x}<br>Nota IMDb=%{y:.1f}<br>Quantidade de Votos=%{customdata[3]:,d}<br>Director=%{customdata[0]}<br>Genre=%{customdata[1]}<br>Duração (minutos)=%{marker.color}<extra></extra>",
         "hovertext": [
          "The Shawshank Redemption",
          "The Godfather",
          "The Godfather: Part II",
          "The Dark Knight",
          "12 Angry Men",
          "Schindler's List",
          "The Lord of the Rings: The Return of the King",
          "Pulp Fiction",
          "Il buono, il brutto, il cattivo",
          "Fight Club",
          "The Lord of the Rings: The Fellowship of the Ring",
          "Forrest Gump",
          "Star Wars: Episode V - The Empire Strikes Back",
          "Inception",
          "The Lord of the Rings: The Two Towers",
          "One Flew Over the Cuckoo's Nest",
          "Goodfellas",
          "The Matrix",
          "Shichinin no samurai",
          "Cidade de Deus",
          "Se7en",
          "Star Wars",
          "The Silence of the Lambs",
          "It's a Wonderful Life",
          "La vita è bella",
          "The Usual Suspects",
          "Sen to Chihiro no kamikakushi",
          "Saving Private Ryan",
          "Léon",
          "Spider-Man: Into the Spider-Verse",
          "The Green Mile",
          "Interstellar",
          "Psycho",
          "American History X",
          "City Lights",
          "C'era una volta il West",
          "Casablanca",
          "Modern Times",
          "The Pianist",
          "Intouchables",
          "The Departed",
          "Terminator 2: Judgment Day",
          "Back to the Future",
          "Whiplash",
          "Rear Window",
          "Raiders of the Lost Ark",
          "The Lion King ",
          "Gladiator",
          "The Prestige",
          "Apocalypse Now",
          "Memento",
          "Alien",
          "The Great Dictator",
          "Nuovo Cinema Paradiso",
          "Hotaru no haka",
          "Avengers: Infinity War",
          "Sunset Blvd.",
          "Das Leben der Anderen",
          "Dr. Strangelove or: How I Learned to Stop Worrying and Love the Bomb",
          "Paths of Glory",
          "The Shining",
          "Django Unchained",
          "WALL·E",
          "Mononoke-hime",
          "Witness for the Prosecution",
          "American Beauty",
          "The Dark Knight Rises",
          "Oldeuboi",
          "Aliens",
          "Once Upon a Time in America",
          "Coco",
          "Das Boot",
          "Citizen Kane",
          "Braveheart",
          "Vertigo",
          "North by Northwest",
          "Reservoir Dogs",
          "Star Wars: Episode VI - Return of the Jedi",
          "M - Eine Stadt sucht einen Mörder",
          "Kimi no na wa.",
          "Amadeus",
          "Requiem for a Dream",
          "Dangal",
          "Taare Zameen Par",
          "Lawrence of Arabia",
          "Eternal Sunshine of the Spotless Mind",
          "A Clockwork Orange",
          "3 Idiots",
          "2001: A Space Odyssey",
          "Le fabuleux destin d'Amélie Poulain",
          "Toy Story",
          "Double Indemnity",
          "Taxi Driver",
          "Singin' in the Rain",
          "Inglourious Basterds",
          "Full Metal Jacket",
          "To Kill a Mockingbird",
          "Ladri di biciclette",
          "The Kid",
          "The Sting",
          "Good Will Hunting",
          "Toy Story 3",
          "Jagten",
          "Snatch",
          "Scarface",
          "Monty Python and the Holy Grail",
          "Per qualche dollaro in più",
          "L.A. Confidential",
          "The Apartment",
          "Metropolis",
          "Jodaeiye Nader az Simin",
          "Indiana Jones and the Last Crusade",
          "Rashômon",
          "Up",
          "All About Eve",
          "Batman Begins",
          "Yôjinbô",
          "Some Like It Hot",
          "Unforgiven",
          "Der Untergang",
          "Die Hard",
          "The Treasure of the Sierra Madre",
          "Heat",
          "Ikiru",
          "Incendies",
          "Raging Bull",
          "The Great Escape",
          "Bacheha-Ye aseman",
          "El laberinto del fauno",
          "Babam ve Oglum",
          "Chinatown",
          "The Third Man",
          "Bohemian Rhapsody",
          "Tonari no Totoro",
          "Hauru no ugoku shiro",
          "Ran",
          "Judgment at Nuremberg",
          "El secreto de sus ojos",
          "The Gold Rush",
          "The Bridge on the River Kwai",
          "A Beautiful Mind",
          "Lock, Stock and Two Smoking Barrels",
          "Casino",
          "Three Billboards Outside Ebbing, Missouri",
          "On the Waterfront",
          "Det sjunde inseglet",
          "Inside Out",
          "The Elephant Man",
          "Room",
          "The Wolf of Wall Street",
          "Mr. Smith Goes to Washington",
          "V for Vendetta",
          "Warrior",
          "Blade Runner",
          "Dial M for Murder",
          "Smultronstället",
          "The General",
          "No Country for Old Men",
          "Trainspotting",
          "There Will Be Blood",
          "The Sixth Sense",
          "Gone with the Wind",
          "The Thing",
          "Fargo",
          "Gran Torino",
          "Roma ",
          "The Deer Hunter",
          "Finding Nemo",
          "Idi i smotri",
          "The Big Lebowski",
          "Shutter Island",
          "Sherlock Jr.",
          "Kill Bill: Vol. 1",
          "Cool Hand Luke",
          "Rebecca",
          "Tôkyô monogatari",
          "Mary and Max",
          "Hacksaw Ridge",
          "Gone Girl",
          "How to Train Your Dragon",
          "Sunrise: A Song of Two Humans",
          "Relatos salvajes",
          "Jurassic Park",
          "Into the Wild",
          "Life of Brian",
          "In the Name of the Father",
          "The Truman Show",
          "The Grand Budapest Hotel",
          "Platoon",
          "Stand by Me",
          "It Happened One Night",
          "Eskiya ",
          "Network",
          "Stalker",
          "Persona",
          "Salinui chueok",
          "Ben-Hur",
          "Hotel Rwanda",
          "12 Years a Slave",
          "Million Dollar Baby",
          "La passion de Jeanne d'Arc",
          "Rush",
          "Andrey Rublev",
          "Le salaire de la peur",
          "Before Sunrise",
          "Mad Max: Fury Road",
          "Les quatre cents coups",
          "Prisoners",
          "Hachi: A Dog's Tale",
          "Spotlight",
          "Logan",
          "Rang De Basanti",
          "Amores perros",
          "The Princess Bride",
          "Catch Me If You Can",
          "Kaze no tani no Naushika",
          "Harry Potter and the Deathly Hallows: Part 2",
          "Butch Cassidy and the Sundance Kid",
          "Rocky",
          "Barry Lyndon",
          "Monsters, Inc.",
          "The Grapes of Wrath",
          "The Maltese Falcon",
          "Dead Poets Society",
          "Donnie Darko",
          "The Terminator",
          "Gandhi",
          "Les diaboliques",
          "La haine",
          "Groundhog Day",
          "The Wizard of Oz",
          "Jaws",
          "Le notti di Cabiria",
          "The Help",
          "Faa yeung nin wa",
          "Mandariinid",
          "Before Sunset",
          "Paper Moon",
          "Ah-ga-ssi",
          "Paris, Texas",
          "The Best Years of Our Lives",
          "Tenkû no shiro Rapyuta",
          "Pirates of the Caribbean: The Curse of the Black Pearl",
          "Blade Runner 2049",
          "La La Land",
          "Guardians of the Galaxy",
          "Fanny och Alexander",
          "Tsubaki Sanjûrô",
          "Gangs of Wasseypur",
          "Drishyam "
         ],
         "legendgroup": "",
         "marker": {
          "color": {
           "bdata": "jgCvAMoAmABgAMMAyQCaAKEAiwCyAI4AfACUALMAhQCSAIgAzwCCAH8AeQB2AIIAdABqAH0AqQBuAHUAvQCpAG0AdwBXAKUAZgBXAJYAcACXAIkAdABqAHAAcwBYAJsAggCTAHEAdAB9AJsAWQCVAG4AiQBfAFgAkgClAGIAhgB0AHoApAB4AIkA5QBpAJUAdwCyAIAAiABjAIMAdQBqAKAAZgChAKUA2ABsAIgAqgCVAHoAUQBrAHIAZwCZAHQAgQBZAEQAgQB+AGcAcwBoAKoAWwCEAIoAfQCZAHsAfwBYAGAAigCMAG4AeQCCAJwAhAB+AKoAjwCDAIEArABZAHYAbACCAGgAhgBWAHcAogC6AIEAXwChAIcAawCyAHMAbABgAF8AfAB2ALQAgQCEAIwAdQBpAFsAQwB6AF0AngBrAO4AbQBiAHQAhwC3AGQAjgB1AIoALQBvAH4AggCIAFwAiwCVAGIAXgB6AH8AlABeAIUAZwBjAHgAWQBpAIAAeQCiAFUAgwDUAHkAhgCEAG4AewDNAIMAZQB4AGMAmQBdAIEAiQCdAJoAYgCNAHUAggBuAHgAuQBcAIEAZACAAHEAawC/AHUAYgBlAGYAfABuAJIAYgBXAFAAZgCQAJEAqgB9AI8ApACAAHkAvABgAEEBowA=",
           "dtype": "i2"
          },
          "coloraxis": "coloraxis",
          "size": {
           "bdata": "4fweAMI+FQDpuA4AH38eAAm3CADIBRAAABAWAIUyGABTMgkAvcsYAOZQFgADpxcAeI8PAFciGwA98hMA1E8MAKVdDQDQPRYAtzIEAMeRCQDj9RIA8aAQAEOoEAB6QwUAMx8IAIxyDQBsLAgAx1oQAKmdDQBMqAAAQOAOAP/sEgC/6wcAkR8OADonAgApBQQAlBAHALfLAgCnbwkA5uUJAITtDwB8cA0A5sENADPzCAAz5QUA+gAMAMtDDACM6xEAccEPABsgCAA8WQ8A9pAKABapAgDk9QIAVNwCAKdaCACRpQIAncgEAJAtBgDpTQIA4X8LAPzdEQCkZA0ATlUEAB5XAQDdwA4AK5YUANnDBgAC7QgAMBkEAA27AwDtGQMAqmgFAIFLDQChuwQAFQgEAEMuDACqwwwAo+IBAI7KAQD4/gQAVGgKAIa0AQA0DAIAM5YDAIw5DADjNAoA02YEAL4CCABJswkAQq0LALXhAQBsagkAzuYCALuFEAACAwkAZQkEAC7dAQBnaQEApEEDACRXCwBiEwoAFooDAGe0CgBW1wkAc9gGAEUHAwA6XAcAsB0CAI8eAgAx5QIAxmIJALL6AQCAeQwAPZgBAIi0EQARbwEA6EIDAKgQBQAUiAQAgbUKACaDAQBCzAcAHd4AAF3OAQASRwQAZg4DAHq/AAB2gQgAh/YAAM70AwBqIgIAS3QCAH6AAwDPKgQAEXsBAOvpAACgkAIA1VMBAHzGAgCFawsAOV0HAO4lBgAqpQQAReoBAP4fAgC10AcAovwCACSIBACMMQ8AFHcBAKo1DgBFCAYANU4JAIMVAgDiPgEAUBABAPtaCwBEyAgAteIGAEaSDAAh7wMAh+YEAPJXCABw/wkAnmsAAJI9BACe2AwAnqEAAOrQCQAk1A4ATXkAAAdmDQDoMwIAlaYBAKejAADIPwIAFEgFAGUwCwCK+QgAeaMAAOkyAgCjlAsAdtIHANn1BACiGQIAwmIMAOhZCQAfPgUAxvcEAI5CAQBy0AAAwfIBAPFuAQDiRgEAr3YBAKz/AgBjsAQAlYgIAF+9CAClmAAA19UFALSQAAAxtwAAOYUDAM52CwB+XQEAl74HAEBIAwDWSgUA5wMIAEF9AQAWGQMAB1IFAMCECgBR5AEATzoKAKPJAgB+/wYA3PQBANLqCgCQNAEAJRgCACdlBQC1awoAy9IKAHQZAwC91gAASvYBANkLCAD4PQUA6JMHAEySAADW1QUAKY0BAOF6AACWEwMAJY8AAIcVAQD4FQEAC8sAAF3hAQBwZw4Agl0FAGI/BgDcpw0AhcYAAOlmAACiAwEAM8gAAA==",
           "dtype": "i4"
          },
          "sizemode": "area",
          "sizeref": 5077.0425,
          "symbol": "circle"
         },
         "mode": "markers",
         "name": "",
         "orientation": "v",
         "showlegend": false,
         "type": "scatter",
         "x": {
          "bdata": "yge0B7YH2AelB8kH0wfKB64HzwfRB8oHvAfaB9IHtwfGB88HogfSB8sHuQfHB5oHzQfLB9EHzgfKB+IHzwfeB6gHzgeLB7AHlgeQB9IH2wfWB8cHwQfeB6IHvQfKB9AH1ge7B9AHuweUB8QHxAfiB54H1gesB6UHvAfcB9gHzQelB88H3AfTB8IHwAfhB70HlQfLB6YHpwfIB78HiwfgB8AH0AfgB9cHqgfUB7MH2QewB9EHyweYB7gHoAfZB8MHqgecB4EHtQfNB9oH3AfQB78HtwetB80HqAeHB9sHxQeeB9kHngfVB6kHpwfIB9QHxAecB8sHoAfaB7wHqwfNB9YH1Qe2B50H4gfEB9QHwQepB9kHhQelB9EHzgfLB+EHogelB98HvAffB90HkwfVB9sHvgeiB6UHhgfXB8wH1wfPB5MHvgfMB9gH4ge6B9MHwQfOB9oHhAfTB68HlAehB9kH4AfeB9oHhwfeB8kH1we7B8kHzgfeB8IHwgeOB8wHuAe7B64H0wenB9QH3QfUB4gH3QeuB6EHywffB6cH3QfZB98H4QfWB9AHwwfSB8AH2wexB7gHtwfRB5QHlQfFB9EHwAe+B6MHywfJB5MHtwelB9sH0AfdB9QHtQfgB8AHmgfCB9MH4QfgB94HvgeqB9wH3wc=",
          "dtype": "i2"
         },
         "xaxis": "x",
         "y": {
          "bdata": "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",
          "dtype": "f8"
         },
         "yaxis": "y"
        }
       ],
       "layout": {
        "annotations": [
         {
          "arrowcolor": "red",
          "arrowhead": 2,
          "ax": 50,
          "ay": -50,
          "bgcolor": "yellow",
          "bordercolor": "red",
          "borderwidth": 2,
          "showarrow": true,
          "text": "Maior Nota:<br>The Shawshank Redemption<br>(9.3)",
          "x": 1994,
          "y": 9.3
         },
         {
          "arrowcolor": "blue",
          "arrowhead": 2,
          "ax": -80,
          "ay": 30,
          "bgcolor": "lightblue",
          "bordercolor": "blue",
          "borderwidth": 2,
          "showarrow": true,
          "text": "Mais Votado:<br>The Shawshank Redemption<br>(2,030,817 votos)",
          "x": 1994,
          "y": 9.3
         }
        ],
        "coloraxis": {
         "colorbar": {
          "title": {
           "text": "Duração (minutos)"
          }
         },
         "colorscale": [
          [
           0,
           "#440154"
          ],
          [
           0.1111111111111111,
           "#482878"
          ],
          [
           0.2222222222222222,
           "#3e4989"
          ],
          [
           0.3333333333333333,
           "#31688e"
          ],
          [
           0.4444444444444444,
           "#26828e"
          ],
          [
           0.5555555555555556,
           "#1f9e89"
          ],
          [
           0.6666666666666666,
           "#35b779"
          ],
          [
           0.7777777777777778,
           "#6ece58"
          ],
          [
           0.8888888888888888,
           "#b5de2b"
          ],
          [
           1,
           "#fde725"
          ]
         ]
        },
        "height": 700,
        "legend": {
         "itemsizing": "constant",
         "tracegroupgap": 0
        },
        "plot_bgcolor": "white",
        "template": {
         "data": {
          "bar": [
           {
            "error_x": {
             "color": "#2a3f5f"
            },
            "error_y": {
             "color": "#2a3f5f"
            },
            "marker": {
             "line": {
              "color": "#E5ECF6",
              "width": 0.5
             },
             "pattern": {
              "fillmode": "overlay",
              "size": 10,
              "solidity": 0.2
             }
            },
            "type": "bar"
           }
          ],
          "barpolar": [
           {
            "marker": {
             "line": {
              "color": "#E5ECF6",
              "width": 0.5
             },
             "pattern": {
              "fillmode": "overlay",
              "size": 10,
              "solidity": 0.2
             }
            },
            "type": "barpolar"
           }
          ],
          "carpet": [
           {
            "aaxis": {
             "endlinecolor": "#2a3f5f",
             "gridcolor": "white",
             "linecolor": "white",
             "minorgridcolor": "white",
             "startlinecolor": "#2a3f5f"
            },
            "baxis": {
             "endlinecolor": "#2a3f5f",
             "gridcolor": "white",
             "linecolor": "white",
             "minorgridcolor": "white",
             "startlinecolor": "#2a3f5f"
            },
            "type": "carpet"
           }
          ],
          "choropleth": [
           {
            "colorbar": {
             "outlinewidth": 0,
             "ticks": ""
            },
            "type": "choropleth"
           }
          ],
          "contour": [
           {
            "colorbar": {
             "outlinewidth": 0,
             "ticks": ""
            },
            "colorscale": [
             [
              0,
              "#0d0887"
             ],
             [
              0.1111111111111111,
              "#46039f"
             ],
             [
              0.2222222222222222,
              "#7201a8"
             ],
             [
              0.3333333333333333,
              "#9c179e"
             ],
             [
              0.4444444444444444,
              "#bd3786"
             ],
             [
              0.5555555555555556,
              "#d8576b"
             ],
             [
              0.6666666666666666,
              "#ed7953"
             ],
             [
              0.7777777777777778,
              "#fb9f3a"
             ],
             [
              0.8888888888888888,
              "#fdca26"
             ],
             [
              1,
              "#f0f921"
             ]
            ],
            "type": "contour"
           }
          ],
          "contourcarpet": [
           {
            "colorbar": {
             "outlinewidth": 0,
             "ticks": ""
            },
            "type": "contourcarpet"
           }
          ],
          "heatmap": [
           {
            "colorbar": {
             "outlinewidth": 0,
             "ticks": ""
            },
            "colorscale": [
             [
              0,
              "#0d0887"
             ],
             [
              0.1111111111111111,
              "#46039f"
             ],
             [
              0.2222222222222222,
              "#7201a8"
             ],
             [
              0.3333333333333333,
              "#9c179e"
             ],
             [
              0.4444444444444444,
              "#bd3786"
             ],
             [
              0.5555555555555556,
              "#d8576b"
             ],
             [
              0.6666666666666666,
              "#ed7953"
             ],
             [
              0.7777777777777778,
              "#fb9f3a"
             ],
             [
              0.8888888888888888,
              "#fdca26"
             ],
             [
              1,
              "#f0f921"
             ]
            ],
            "type": "heatmap"
           }
          ],
          "histogram": [
           {
            "marker": {
             "pattern": {
              "fillmode": "overlay",
              "size": 10,
              "solidity": 0.2
             }
            },
            "type": "histogram"
           }
          ],
          "histogram2d": [
           {
            "colorbar": {
             "outlinewidth": 0,
             "ticks": ""
            },
            "colorscale": [
             [
              0,
              "#0d0887"
             ],
             [
              0.1111111111111111,
              "#46039f"
             ],
             [
              0.2222222222222222,
              "#7201a8"
             ],
             [
              0.3333333333333333,
              "#9c179e"
             ],
             [
              0.4444444444444444,
              "#bd3786"
             ],
             [
              0.5555555555555556,
              "#d8576b"
             ],
             [
              0.6666666666666666,
              "#ed7953"
             ],
             [
              0.7777777777777778,
              "#fb9f3a"
             ],
             [
              0.8888888888888888,
              "#fdca26"
             ],
             [
              1,
              "#f0f921"
             ]
            ],
            "type": "histogram2d"
           }
          ],
          "histogram2dcontour": [
           {
            "colorbar": {
             "outlinewidth": 0,
             "ticks": ""
            },
            "colorscale": [
             [
              0,
              "#0d0887"
             ],
             [
              0.1111111111111111,
              "#46039f"
             ],
             [
              0.2222222222222222,
              "#7201a8"
             ],
             [
              0.3333333333333333,
              "#9c179e"
             ],
             [
              0.4444444444444444,
              "#bd3786"
             ],
             [
              0.5555555555555556,
              "#d8576b"
             ],
             [
              0.6666666666666666,
              "#ed7953"
             ],
             [
              0.7777777777777778,
              "#fb9f3a"
             ],
             [
              0.8888888888888888,
              "#fdca26"
             ],
             [
              1,
              "#f0f921"
             ]
            ],
            "type": "histogram2dcontour"
           }
          ],
          "mesh3d": [
           {
            "colorbar": {
             "outlinewidth": 0,
             "ticks": ""
            },
            "type": "mesh3d"
           }
          ],
          "parcoords": [
           {
            "line": {
             "colorbar": {
              "outlinewidth": 0,
              "ticks": ""
             }
            },
            "type": "parcoords"
           }
          ],
          "pie": [
           {
            "automargin": true,
            "type": "pie"
           }
          ],
          "scatter": [
           {
            "fillpattern": {
             "fillmode": "overlay",
             "size": 10,
             "solidity": 0.2
            },
            "type": "scatter"
           }
          ],
          "scatter3d": [
           {
            "line": {
             "colorbar": {
              "outlinewidth": 0,
              "ticks": ""
             }
            },
            "marker": {
             "colorbar": {
              "outlinewidth": 0,
              "ticks": ""
             }
            },
            "type": "scatter3d"
           }
          ],
          "scattercarpet": [
           {
            "marker": {
             "colorbar": {
              "outlinewidth": 0,
              "ticks": ""
             }
            },
            "type": "scattercarpet"
           }
          ],
          "scattergeo": [
           {
            "marker": {
             "colorbar": {
              "outlinewidth": 0,
              "ticks": ""
             }
            },
            "type": "scattergeo"
           }
          ],
          "scattergl": [
           {
            "marker": {
             "colorbar": {
              "outlinewidth": 0,
              "ticks": ""
             }
            },
            "type": "scattergl"
           }
          ],
          "scattermap": [
           {
            "marker": {
             "colorbar": {
              "outlinewidth": 0,
              "ticks": ""
             }
            },
            "type": "scattermap"
           }
          ],
          "scattermapbox": [
           {
            "marker": {
             "colorbar": {
              "outlinewidth": 0,
              "ticks": ""
             }
            },
            "type": "scattermapbox"
           }
          ],
          "scatterpolar": [
           {
            "marker": {
             "colorbar": {
              "outlinewidth": 0,
              "ticks": ""
             }
            },
            "type": "scatterpolar"
           }
          ],
          "scatterpolargl": [
           {
            "marker": {
             "colorbar": {
              "outlinewidth": 0,
              "ticks": ""
             }
            },
            "type": "scatterpolargl"
           }
          ],
          "scatterternary": [
           {
            "marker": {
             "colorbar": {
              "outlinewidth": 0,
              "ticks": ""
             }
            },
            "type": "scatterternary"
           }
          ],
          "surface": [
           {
            "colorbar": {
             "outlinewidth": 0,
             "ticks": ""
            },
            "colorscale": [
             [
              0,
              "#0d0887"
             ],
             [
              0.1111111111111111,
              "#46039f"
             ],
             [
              0.2222222222222222,
              "#7201a8"
             ],
             [
              0.3333333333333333,
              "#9c179e"
             ],
             [
              0.4444444444444444,
              "#bd3786"
             ],
             [
              0.5555555555555556,
              "#d8576b"
             ],
             [
              0.6666666666666666,
              "#ed7953"
             ],
             [
              0.7777777777777778,
              "#fb9f3a"
             ],
             [
              0.8888888888888888,
              "#fdca26"
             ],
             [
              1,
              "#f0f921"
             ]
            ],
            "type": "surface"
           }
          ],
          "table": [
           {
            "cells": {
             "fill": {
              "color": "#EBF0F8"
             },
             "line": {
              "color": "white"
             }
            },
            "header": {
             "fill": {
              "color": "#C8D4E3"
             },
             "line": {
              "color": "white"
             }
            },
            "type": "table"
           }
          ]
         },
         "layout": {
          "annotationdefaults": {
           "arrowcolor": "#2a3f5f",
           "arrowhead": 0,
           "arrowwidth": 1
          },
          "autotypenumbers": "strict",
          "coloraxis": {
           "colorbar": {
            "outlinewidth": 0,
            "ticks": ""
           }
          },
          "colorscale": {
           "diverging": [
            [
             0,
             "#8e0152"
            ],
            [
             0.1,
             "#c51b7d"
            ],
            [
             0.2,
             "#de77ae"
            ],
            [
             0.3,
             "#f1b6da"
            ],
            [
             0.4,
             "#fde0ef"
            ],
            [
             0.5,
             "#f7f7f7"
            ],
            [
             0.6,
             "#e6f5d0"
            ],
            [
             0.7,
             "#b8e186"
            ],
            [
             0.8,
             "#7fbc41"
            ],
            [
             0.9,
             "#4d9221"
            ],
            [
             1,
             "#276419"
            ]
           ],
           "sequential": [
            [
             0,
             "#0d0887"
            ],
            [
             0.1111111111111111,
             "#46039f"
            ],
            [
             0.2222222222222222,
             "#7201a8"
            ],
            [
             0.3333333333333333,
             "#9c179e"
            ],
            [
             0.4444444444444444,
             "#bd3786"
            ],
            [
             0.5555555555555556,
             "#d8576b"
            ],
            [
             0.6666666666666666,
             "#ed7953"
            ],
            [
             0.7777777777777778,
             "#fb9f3a"
            ],
            [
             0.8888888888888888,
             "#fdca26"
            ],
            [
             1,
             "#f0f921"
            ]
           ],
           "sequentialminus": [
            [
             0,
             "#0d0887"
            ],
            [
             0.1111111111111111,
             "#46039f"
            ],
            [
             0.2222222222222222,
             "#7201a8"
            ],
            [
             0.3333333333333333,
             "#9c179e"
            ],
            [
             0.4444444444444444,
             "#bd3786"
            ],
            [
             0.5555555555555556,
             "#d8576b"
            ],
            [
             0.6666666666666666,
             "#ed7953"
            ],
            [
             0.7777777777777778,
             "#fb9f3a"
            ],
            [
             0.8888888888888888,
             "#fdca26"
            ],
            [
             1,
             "#f0f921"
            ]
           ]
          },
          "colorway": [
           "#636efa",
           "#EF553B",
           "#00cc96",
           "#ab63fa",
           "#FFA15A",
           "#19d3f3",
           "#FF6692",
           "#B6E880",
           "#FF97FF",
           "#FECB52"
          ],
          "font": {
           "color": "#2a3f5f"
          },
          "geo": {
           "bgcolor": "white",
           "lakecolor": "white",
           "landcolor": "#E5ECF6",
           "showlakes": true,
           "showland": true,
           "subunitcolor": "white"
          },
          "hoverlabel": {
           "align": "left"
          },
          "hovermode": "closest",
          "mapbox": {
           "style": "light"
          },
          "paper_bgcolor": "white",
          "plot_bgcolor": "#E5ECF6",
          "polar": {
           "angularaxis": {
            "gridcolor": "white",
            "linecolor": "white",
            "ticks": ""
           },
           "bgcolor": "#E5ECF6",
           "radialaxis": {
            "gridcolor": "white",
            "linecolor": "white",
            "ticks": ""
           }
          },
          "scene": {
           "xaxis": {
            "backgroundcolor": "#E5ECF6",
            "gridcolor": "white",
            "gridwidth": 2,
            "linecolor": "white",
            "showbackground": true,
            "ticks": "",
            "zerolinecolor": "white"
           },
           "yaxis": {
            "backgroundcolor": "#E5ECF6",
            "gridcolor": "white",
            "gridwidth": 2,
            "linecolor": "white",
            "showbackground": true,
            "ticks": "",
            "zerolinecolor": "white"
           },
           "zaxis": {
            "backgroundcolor": "#E5ECF6",
            "gridcolor": "white",
            "gridwidth": 2,
            "linecolor": "white",
            "showbackground": true,
            "ticks": "",
            "zerolinecolor": "white"
           }
          },
          "shapedefaults": {
           "line": {
            "color": "#2a3f5f"
           }
          },
          "ternary": {
           "aaxis": {
            "gridcolor": "white",
            "linecolor": "white",
            "ticks": ""
           },
           "baxis": {
            "gridcolor": "white",
            "linecolor": "white",
            "ticks": ""
           },
           "bgcolor": "#E5ECF6",
           "caxis": {
            "gridcolor": "white",
            "linecolor": "white",
            "ticks": ""
           }
          },
          "title": {
           "x": 0.05
          },
          "xaxis": {
           "automargin": true,
           "gridcolor": "white",
           "linecolor": "white",
           "ticks": "",
           "title": {
            "standoff": 15
           },
           "zerolinecolor": "white",
           "zerolinewidth": 2
          },
          "yaxis": {
           "automargin": true,
           "gridcolor": "white",
           "linecolor": "white",
           "ticks": "",
           "title": {
            "standoff": 15
           },
           "zerolinecolor": "white",
           "zerolinewidth": 2
          }
         }
        },
        "title": {
         "font": {
          "size": 20
         },
         "text": "Nota IMDb vs. Ano de Lançamento (Top 250 Filmes)",
         "x": 0.5
        },
        "width": 1000,
        "xaxis": {
         "anchor": "y",
         "domain": [
          0,
          1
         ],
         "title": {
          "font": {
           "size": 14
          },
          "text": "Ano de Lançamento"
         }
        },
        "yaxis": {
         "anchor": "x",
         "domain": [
          0,
          1
         ],
         "range": [
          7.9,
          9.4
         ],
         "title": {
          "font": {
           "size": 14
          },
          "text": "Nota IMDb"
         }
        }
       }
      }
     },
     "metadata": {},
     "output_type": "display_data"
    },
    {
     "name": "stdout",
     "output_type": "stream",
     "text": [
      "\n",
      "--- Insights do Gráfico Interativo de Dispersão ---\n",
      "🎬 Filme com maior nota: The Shawshank Redemption (Nota 9.3)\n",
      "🗳️  Filme com mais votos: The Shawshank Redemption (2,030,817 votos)\n",
      "📅 Período analisado: de 1921 a 2018\n",
      "⭐ Variação das notas: de 8.0 a 9.3\n",
      "\n",
      "💡 Dicas de Interação:\n",
      "• Passe o mouse sobre os pontos para ver detalhes do filme.\n",
      "• Use a roda do mouse para dar zoom.\n",
      "• Clique e arraste para mover o gráfico.\n",
      "-----------------------------------\n"
     ]
    },
    {
     "data": {
      "image/png": "[encoded data removed]",
      "text/plain": [
       "<Figure size 1200x800 with 1 Axes>"
      ]
     },
     "metadata": {},
     "output_type": "display_data"
    },
    {
     "name": "stdout",
     "output_type": "stream",
     "text": [
      "\n",
      "--- Insights do Histograma de Duração ---\n",
      "A duração média dos filmes é de 129.7 minutos (aproximadamente 2.2 horas).\n",
      "A maioria dos filmes se concentra na faixa de 100 a 150 minutos.\n",
      "Filme mais curto: 45 min, Filme mais longo: 321 min.\n",
      "-----------------------------------\n"
     ]
    },
    {
     "data": {
      "image/png": "[encoded data removed]",
      "text/plain": [
       "<Figure size 1400x800 with 2 Axes>"
      ]
     },
     "metadata": {},
     "output_type": "display_data"
    },
    {
     "name": "stdout",
     "output_type": "stream",
     "text": [
      "\n",
      "--- Insights do Gráfico de Décadas ---\n",
      "A década com a maior nota média na lista é a de 1990.\n",
      "A década mais produtiva (com mais filmes na lista) é a de 2000.\n",
      "-----------------------------------\n"
     ]
    },
    {
     "data": {
      "application/vnd.plotly.v1+json": {
       "config": {
        "plotlyServerURL": "https://plot.ly"
       },
       "data": [
        {
         "branchvalues": "total",
         "customdata": {
          "bdata": "4egJjp7gIECuR+F6FK4gQD4K16NwPSFA8lk3mCKfIEByHMdxHMcgQEmSJEmSpCBAMzMzMzOzIEA+6ZM+6ZMgQO/u7u7u7iBAzczMzMxMIUAd1EEd1MEgQAAAAAAA4CBAmpmZmZnJIEBmZmZmZuYgQLgehetRuCBAo4suuuiiIEA6qIM6qIMgQGZmZmZmpiBAq6qqqqqqIECnBHlKkKcgQGZmZmZmZiBAMzMzMzMzIUCPwvUoXI8gQLH2DWvfsCBA16NwPQrXIEAAAAAAAIAgQGZmZmZm5iBAMzMzMzMzIUAehetRuJ4gQDMzMzMzMyFAMzMzMzMzIUAREREREREhQO/u7u7ubiBAOqiDOqiDIEBERERERMQgQD7pkz7pkyBAoRd6oRd6IEAzMzMzM7MgQK5H4XoUriBAmpmZmZmZIEBwWPuGtW8gQHsUrkfheiBAAAAAAAAAIUAAAAAAAAAhQDMzMzMzsyBAZmZmZmamIEBmZmZmZqYgQLy7u7u7uyBAd3d3d3d3IEAAAAAAAIAgQGZmZmZmZiBAhetRuB6FIEAAAAAAAAAhQDqogzqogyBAmpmZmZmZIECamZmZmZkgQGZmZmZmhiBAIyIiIiKiIEBmZmZmZqYgQM3MzMzMzCBAvLu7u7u7IEAAAAAAAAAhQHd3d3d3dyBAAAAAAAAAIUAAAAAAAAAhQL/nljj1eyBAmpmZmZmZIEAzMzMzM3MgQCVJkiRJkiBANDMzMzOzIECamZmZmZkgQAAAAAAAgCBAzczMzMzMIEDv7u7u7m4gQJqZmZmZmSBANDMzMzOzIECSJEmSJEkgQHE9CtejcCBAAAAAAACAIECamZmZmZkgQJqZmZmZmSBAmpmZmZmZIEBVVVVVVVUgQGZmZmZmZiBAZmZmZmZmIECamZmZmZkgQIiIiIiIiCBAZ2ZmZmZmIECJiIiIiIggQGdmZmZmZiBAd3d3d3d3IEB3d3d3d3cgQGZmZmZmZiBAMzMzMzNzIEBnZmZmZmYgQJqZmZmZmSBAAAAAAACAIECamZmZmZkgQM3MzMzMTCBAd3d3d3d3IEAzMzMzM3MgQAAAAAAAgCBAZmZmZmZmIECamZmZmZkgQGZmZmZmZiBAZmZmZmZmIEDMzMzMzEwgQGZmZmZmZiBAZmZmZmZmIEBVVVVVVVUgQGZmZmZmZiBAMzMzMzMzIEBmZmZmZmYgQMzMzMzMTCBAZmZmZmZmIEB8xVd8xVcgQGZmZmZmZiBAZmZmZmZmIEBmZmZmZmYgQGZmZmZmZiBAZmZmZmZmIEBmZmZmZmYgQDMzMzMzMyBAZmZmZmZmIEAzMzMzMzMgQDMzMzMzMyBAMzMzMzMzIEBmZmZmZmYgQGZmZmZmZiBAMzMzMzMzIEAzMzMzMzMgQDMzMzMzMyBAMzMzMzMzIEAzMzMzMzMgQAAAAAAAACBAAAAAAAAAIEAAAAAAAAAgQAAAAAAAACBAPzVeuknMIEAK16NwPaogQA/qoA7qoCBAiX+N+NeIIEChL+gL+oIgQHesQBhphyBAvA7oxjx9IECXv2T5S5YgQIe1b1j7hiBAb1j7hrVvIEA=",
          "dtype": "f8",
          "shape": "148, 1"
         },
         "domain": {
          "x": [
           0,
           1
          ],
          "y": [
           0,
           1
          ]
         },
         "hovertemplate": "<b>%{label}</b><br>Contagem: %{value}<br>Percentual do Pai: %{percentParent}<extra></extra>",
         "hovertext": [
          "Drama",
          "Drama",
          "Crime",
          "Drama",
          "Action",
          "Thriller",
          "Crime",
          "Drama",
          "Biography",
          "History",
          "Adventure",
          "Fantasy",
          "Crime",
          "Western",
          "Romance",
          "Adventure",
          "Fantasy",
          "Action",
          "Adventure",
          "Action",
          "Thriller",
          "Action",
          "Adventure",
          "Thriller",
          "Mystery",
          "Adventure",
          "Fantasy",
          "Action",
          "Drama",
          "Fantasy",
          "Family",
          "War",
          "Comedy",
          "Animation",
          "Mystery",
          "Family",
          "Comedy",
          "Animation",
          "Family",
          "Fantasy",
          "Drama",
          "Thriller",
          "Horror",
          "Mystery",
          "Drama",
          "Comedy",
          "Romance",
          "War",
          "Romance",
          "Family",
          "Biography",
          "War",
          "Music",
          "Biography",
          "Comedy",
          "Music",
          "Thriller",
          "Mystery",
          "Adventure",
          "Animation",
          "Family",
          "Musical",
          "War",
          "Horror",
          "Comedy",
          "Drama",
          "War",
          "Animation",
          "Fantasy",
          "Comedy",
          "War",
          "Horror",
          "Western",
          "Crime",
          "Thriller",
          "Crime",
          "Mystery",
          "Mystery",
          "Romance",
          "Thriller",
          "Mystery",
          "Crime",
          "Romance",
          "Biography",
          "History",
          "Music",
          "Sport",
          "Biography",
          "Adventure",
          "Drama",
          "War",
          "History",
          "Romance",
          "Comedy",
          "Thriller",
          "Crime",
          "Comedy",
          "Musical",
          "Crime",
          "Drama",
          "Comedy",
          "Family",
          "Comedy",
          "Romance",
          "Action",
          "Western",
          "History",
          "Western",
          "Adventure",
          "War",
          "Sport",
          "Thriller",
          "Mystery",
          "Family",
          "Adventure",
          "Crime",
          "Fantasy",
          "Western",
          "War",
          "Action",
          "War",
          "History",
          "Mystery",
          "Romance",
          "History",
          "History",
          "Sport",
          "Biography",
          "History",
          "Romance",
          "Sport",
          "History",
          "History",
          "Horror",
          "Fantasy",
          "Adventure",
          "Musical",
          "Musical",
          "(?)",
          "(?)",
          "(?)",
          "(?)",
          "(?)",
          "(?)",
          "(?)",
          "(?)",
          "(?)",
          "(?)"
         ],
         "ids": [
          "1990s/Drama",
          "1970s/Drama",
          "1970s/Crime",
          "2000s/Drama",
          "2000s/Action",
          "2000s/Thriller",
          "2000s/Crime",
          "1950s/Drama",
          "1990s/Biography",
          "1990s/History",
          "2000s/Adventure",
          "2000s/Fantasy",
          "1990s/Crime",
          "1960s/Western",
          "1990s/Romance",
          "1980s/Adventure",
          "1980s/Fantasy",
          "1980s/Action",
          "2010s/Adventure",
          "2010s/Action",
          "2010s/Thriller",
          "1990s/Action",
          "1950s/Adventure",
          "1990s/Thriller",
          "1990s/Mystery",
          "1970s/Adventure",
          "1970s/Fantasy",
          "1970s/Action",
          "1940s/Drama",
          "1940s/Fantasy",
          "1940s/Family",
          "1990s/War",
          "1990s/Comedy",
          "2000s/Animation",
          "2000s/Mystery",
          "2000s/Family",
          "2010s/Comedy",
          "2010s/Animation",
          "2010s/Family",
          "1990s/Fantasy",
          "2010s/Drama",
          "1960s/Thriller",
          "1960s/Horror",
          "1960s/Mystery",
          "1930s/Drama",
          "1930s/Comedy",
          "1930s/Romance",
          "1940s/War",
          "1940s/Romance",
          "1930s/Family",
          "2000s/Biography",
          "2000s/War",
          "2000s/Music",
          "2010s/Biography",
          "1980s/Comedy",
          "2010s/Music",
          "1950s/Thriller",
          "1950s/Mystery",
          "1990s/Adventure",
          "1990s/Animation",
          "1990s/Family",
          "1990s/Musical",
          "1970s/War",
          "1970s/Horror",
          "1940s/Comedy",
          "1980s/Drama",
          "1980s/War",
          "1980s/Animation",
          "2010s/Fantasy",
          "1960s/Comedy",
          "1950s/War",
          "1980s/Horror",
          "2010s/Western",
          "1950s/Crime",
          "1980s/Thriller",
          "1980s/Crime",
          "2010s/Mystery",
          "1940s/Mystery",
          "1950s/Romance",
          "1930s/Thriller",
          "1930s/Mystery",
          "1930s/Crime",
          "2010s/Romance",
          "1980s/Biography",
          "1980s/History",
          "1980s/Music",
          "2010s/Sport",
          "1960s/Biography",
          "1960s/Adventure",
          "1960s/Drama",
          "1960s/War",
          "1960s/History",
          "2000s/Romance",
          "2000s/Comedy",
          "1940s/Thriller",
          "1940s/Crime",
          "1950s/Comedy",
          "1950s/Musical",
          "1960s/Crime",
          "1920s/Drama",
          "1920s/Comedy",
          "1920s/Family",
          "1970s/Comedy",
          "1960s/Romance",
          "1960s/Action",
          "1990s/Western",
          "2000s/History",
          "1940s/Western",
          "1940s/Adventure",
          "2010s/War",
          "1980s/Sport",
          "1970s/Thriller",
          "1970s/Mystery",
          "1980s/Family",
          "1920s/Adventure",
          "2010s/Crime",
          "1950s/Fantasy",
          "1920s/Western",
          "1920s/War",
          "1920s/Action",
          "1930s/War",
          "1930s/History",
          "1980s/Mystery",
          "1920s/Romance",
          "2010s/History",
          "1950s/History",
          "2000s/Sport",
          "1920s/Biography",
          "1920s/History",
          "1980s/Romance",
          "1970s/Sport",
          "1970s/History",
          "1940s/History",
          "1950s/Horror",
          "1930s/Fantasy",
          "1930s/Adventure",
          "1930s/Musical",
          "2010s/Musical",
          "1990s",
          "1970s",
          "2000s",
          "1950s",
          "1960s",
          "1980s",
          "2010s",
          "1940s",
          "1930s",
          "1920s"
         ],
         "labels": [
          "Drama",
          "Drama",
          "Crime",
          "Drama",
          "Action",
          "Thriller",
          "Crime",
          "Drama",
          "Biography",
          "History",
          "Adventure",
          "Fantasy",
          "Crime",
          "Western",
          "Romance",
          "Adventure",
          "Fantasy",
          "Action",
          "Adventure",
          "Action",
          "Thriller",
          "Action",
          "Adventure",
          "Thriller",
          "Mystery",
          "Adventure",
          "Fantasy",
          "Action",
          "Drama",
          "Fantasy",
          "Family",
          "War",
          "Comedy",
          "Animation",
          "Mystery",
          "Family",
          "Comedy",
          "Animation",
          "Family",
          "Fantasy",
          "Drama",
          "Thriller",
          "Horror",
          "Mystery",
          "Drama",
          "Comedy",
          "Romance",
          "War",
          "Romance",
          "Family",
          "Biography",
          "War",
          "Music",
          "Biography",
          "Comedy",
          "Music",
          "Thriller",
          "Mystery",
          "Adventure",
          "Animation",
          "Family",
          "Musical",
          "War",
          "Horror",
          "Comedy",
          "Drama",
          "War",
          "Animation",
          "Fantasy",
          "Comedy",
          "War",
          "Horror",
          "Western",
          "Crime",
          "Thriller",
          "Crime",
          "Mystery",
          "Mystery",
          "Romance",
          "Thriller",
          "Mystery",
          "Crime",
          "Romance",
          "Biography",
          "History",
          "Music",
          "Sport",
          "Biography",
          "Adventure",
          "Drama",
          "War",
          "History",
          "Romance",
          "Comedy",
          "Thriller",
          "Crime",
          "Comedy",
          "Musical",
          "Crime",
          "Drama",
          "Comedy",
          "Family",
          "Comedy",
          "Romance",
          "Action",
          "Western",
          "History",
          "Western",
          "Adventure",
          "War",
          "Sport",
          "Thriller",
          "Mystery",
          "Family",
          "Adventure",
          "Crime",
          "Fantasy",
          "Western",
          "War",
          "Action",
          "War",
          "History",
          "Mystery",
          "Romance",
          "History",
          "History",
          "Sport",
          "Biography",
          "History",
          "Romance",
          "Sport",
          "History",
          "History",
          "Horror",
          "Fantasy",
          "Adventure",
          "Musical",
          "Musical",
          "1990s",
          "1970s",
          "2000s",
          "1950s",
          "1960s",
          "1980s",
          "2010s",
          "1940s",
          "1930s",
          "1920s"
         ],
         "marker": {
          "coloraxis": "coloraxis",
          "colors": {
           "bdata": "4egJjp7gIECuR+F6FK4gQD4K16NwPSFA8lk3mCKfIEByHMdxHMcgQEmSJEmSpCBAMzMzMzOzIEA+6ZM+6ZMgQO/u7u7u7iBAzczMzMxMIUAd1EEd1MEgQAAAAAAA4CBAmpmZmZnJIEBmZmZmZuYgQLgehetRuCBAo4suuuiiIEA6qIM6qIMgQGZmZmZmpiBAq6qqqqqqIECnBHlKkKcgQGZmZmZmZiBAMzMzMzMzIUCPwvUoXI8gQLH2DWvfsCBA16NwPQrXIEAAAAAAAIAgQGZmZmZm5iBAMzMzMzMzIUAehetRuJ4gQDMzMzMzMyFAMzMzMzMzIUAREREREREhQO/u7u7ubiBAOqiDOqiDIEBERERERMQgQD7pkz7pkyBAoRd6oRd6IEAzMzMzM7MgQK5H4XoUriBAmpmZmZmZIEBwWPuGtW8gQHsUrkfheiBAAAAAAAAAIUAAAAAAAAAhQDMzMzMzsyBAZmZmZmamIEBmZmZmZqYgQLy7u7u7uyBAd3d3d3d3IEAAAAAAAIAgQGZmZmZmZiBAhetRuB6FIEAAAAAAAAAhQDqogzqogyBAmpmZmZmZIECamZmZmZkgQGZmZmZmhiBAIyIiIiKiIEBmZmZmZqYgQM3MzMzMzCBAvLu7u7u7IEAAAAAAAAAhQHd3d3d3dyBAAAAAAAAAIUAAAAAAAAAhQL/nljj1eyBAmpmZmZmZIEAzMzMzM3MgQCVJkiRJkiBANDMzMzOzIECamZmZmZkgQAAAAAAAgCBAzczMzMzMIEDv7u7u7m4gQJqZmZmZmSBANDMzMzOzIECSJEmSJEkgQHE9CtejcCBAAAAAAACAIECamZmZmZkgQJqZmZmZmSBAmpmZmZmZIEBVVVVVVVUgQGZmZmZmZiBAZmZmZmZmIECamZmZmZkgQIiIiIiIiCBAZ2ZmZmZmIECJiIiIiIggQGdmZmZmZiBAd3d3d3d3IEB3d3d3d3cgQGZmZmZmZiBAMzMzMzNzIEBnZmZmZmYgQJqZmZmZmSBAAAAAAACAIECamZmZmZkgQM3MzMzMTCBAd3d3d3d3IEAzMzMzM3MgQAAAAAAAgCBAZmZmZmZmIECamZmZmZkgQGZmZmZmZiBAZmZmZmZmIEDMzMzMzEwgQGZmZmZmZiBAZmZmZmZmIEBVVVVVVVUgQGZmZmZmZiBAMzMzMzMzIEBmZmZmZmYgQMzMzMzMTCBAZmZmZmZmIEB8xVd8xVcgQGZmZmZmZiBAZmZmZmZmIEBmZmZmZmYgQGZmZmZmZiBAZmZmZmZmIEBmZmZmZmYgQDMzMzMzMyBAZmZmZmZmIEAzMzMzMzMgQDMzMzMzMyBAMzMzMzMzIEBmZmZmZmYgQGZmZmZmZiBAMzMzMzMzIEAzMzMzMzMgQDMzMzMzMyBAMzMzMzMzIEAzMzMzMzMgQAAAAAAAACBAAAAAAAAAIEAAAAAAAAAgQAAAAAAAACBAPzVeuknMIEAK16NwPaogQA/qoA7qoCBAiX+N+NeIIEChL+gL+oIgQHesQBhphyBAvA7oxjx9IECXv2T5S5YgQIe1b1j7hiBAb1j7hrVvIEA=",
           "dtype": "f8"
          }
         },
         "maxdepth": 2,
         "name": "",
         "parents": [
          "1990s",
          "1970s",
          "1970s",
          "2000s",
          "2000s",
          "2000s",
          "2000s",
          "1950s",
          "1990s",
          "1990s",
          "2000s",
          "2000s",
          "1990s",
          "1960s",
          "1990s",
          "1980s",
          "1980s",
          "1980s",
          "2010s",
          "2010s",
          "2010s",
          "1990s",
          "1950s",
          "1990s",
          "1990s",
          "1970s",
          "1970s",
          "1970s",
          "1940s",
          "1940s",
          "1940s",
          "1990s",
          "1990s",
          "2000s",
          "2000s",
          "2000s",
          "2010s",
          "2010s",
          "2010s",
          "1990s",
          "2010s",
          "1960s",
          "1960s",
          "1960s",
          "1930s",
          "1930s",
          "1930s",
          "1940s",
          "1940s",
          "1930s",
          "2000s",
          "2000s",
          "2000s",
          "2010s",
          "1980s",
          "2010s",
          "1950s",
          "1950s",
          "1990s",
          "1990s",
          "1990s",
          "1990s",
          "1970s",
          "1970s",
          "1940s",
          "1980s",
          "1980s",
          "1980s",
          "2010s",
          "1960s",
          "1950s",
          "1980s",
          "2010s",
          "1950s",
          "1980s",
          "1980s",
          "2010s",
          "1940s",
          "1950s",
          "1930s",
          "1930s",
          "1930s",
          "2010s",
          "1980s",
          "1980s",
          "1980s",
          "2010s",
          "1960s",
          "1960s",
          "1960s",
          "1960s",
          "1960s",
          "2000s",
          "2000s",
          "1940s",
          "1940s",
          "1950s",
          "1950s",
          "1960s",
          "1920s",
          "1920s",
          "1920s",
          "1970s",
          "1960s",
          "1960s",
          "1990s",
          "2000s",
          "1940s",
          "1940s",
          "2010s",
          "1980s",
          "1970s",
          "1970s",
          "1980s",
          "1920s",
          "2010s",
          "1950s",
          "1920s",
          "1920s",
          "1920s",
          "1930s",
          "1930s",
          "1980s",
          "1920s",
          "2010s",
          "1950s",
          "2000s",
          "1920s",
          "1920s",
          "1980s",
          "1970s",
          "1970s",
          "1940s",
          "1950s",
          "1930s",
          "1930s",
          "1930s",
          "2010s",
          "",
          "",
          "",
          "",
          "",
          "",
          "",
          "",
          "",
          ""
         ],
         "type": "sunburst",
         "values": {
          "bdata": "HwAPAAUAJQAJAA4ACAASAAMAAgAOAAgAEAAEAAUACwAHAAgADAALAA0AAgAFAAsABQAEAAIAAQAKAAEAAQADAAYABwAGAAkADQAGAAUABAAhAAUAAQABAAQABAAEAAMAAwACAAYABQABAAcAAgAEAAgABgAEAAMAAwABAAMAAQABABMABQAEAAcAAgACAAIAAQAGAAQAAgAHAAUABAABAAEAAQADAAQAAgABAAMAAwADAAsAAwADAAUACAADAAEAAgABAAQABgAEAAIABAABAAIAAQACAAEAAQADAAEAAgABAAIAAgAHAAEAAQABAAIAAQABAAEAAgADAAEAAQABAAEAAQABAAEAAQABAAEAAQABAAEAZAAoAIwANwArAEwAiwAfABYAFgA=",
          "dtype": "i2"
         }
        }
       ],
       "layout": {
        "coloraxis": {
         "cmid": 8.29446107784431,
         "colorbar": {
          "title": {
           "text": "Nota"
          }
         },
         "colorscale": [
          [
           0,
           "rgb(49,54,149)"
          ],
          [
           0.1,
           "rgb(69,117,180)"
          ],
          [
           0.2,
           "rgb(116,173,209)"
          ],
          [
           0.3,
           "rgb(171,217,233)"
          ],
          [
           0.4,
           "rgb(224,243,248)"
          ],
          [
           0.5,
           "rgb(255,255,191)"
          ],
          [
           0.6,
           "rgb(254,224,144)"
          ],
          [
           0.7,
           "rgb(253,174,97)"
          ],
          [
           0.8,
           "rgb(244,109,67)"
          ],
          [
           0.9,
           "rgb(215,48,39)"
          ],
          [
           1,
           "rgb(165,0,38)"
          ]
         ]
        },
        "height": 800,
        "legend": {
         "tracegroupgap": 0
        },
        "template": {
         "data": {
          "bar": [
           {
            "error_x": {
             "color": "#2a3f5f"
            },
            "error_y": {
             "color": "#2a3f5f"
            },
            "marker": {
             "line": {
              "color": "#E5ECF6",
              "width": 0.5
             },
             "pattern": {
              "fillmode": "overlay",
              "size": 10,
              "solidity": 0.2
             }
            },
            "type": "bar"
           }
          ],
          "barpolar": [
           {
            "marker": {
             "line": {
              "color": "#E5ECF6",
              "width": 0.5
             },
             "pattern": {
              "fillmode": "overlay",
              "size": 10,
              "solidity": 0.2
             }
            },
            "type": "barpolar"
           }
          ],
          "carpet": [
           {
            "aaxis": {
             "endlinecolor": "#2a3f5f",
             "gridcolor": "white",
             "linecolor": "white",
             "minorgridcolor": "white",
             "startlinecolor": "#2a3f5f"
            },
            "baxis": {
             "endlinecolor": "#2a3f5f",
             "gridcolor": "white",
             "linecolor": "white",
             "minorgridcolor": "white",
             "startlinecolor": "#2a3f5f"
            },
            "type": "carpet"
           }
          ],
          "choropleth": [
           {
            "colorbar": {
             "outlinewidth": 0,
             "ticks": ""
            },
            "type": "choropleth"
           }
          ],
          "contour": [
           {
            "colorbar": {
             "outlinewidth": 0,
             "ticks": ""
            },
            "colorscale": [
             [
              0,
              "#0d0887"
             ],
             [
              0.1111111111111111,
              "#46039f"
             ],
             [
              0.2222222222222222,
              "#7201a8"
             ],
             [
              0.3333333333333333,
              "#9c179e"
             ],
             [
              0.4444444444444444,
              "#bd3786"
             ],
             [
              0.5555555555555556,
              "#d8576b"
             ],
             [
              0.6666666666666666,
              "#ed7953"
             ],
             [
              0.7777777777777778,
              "#fb9f3a"
             ],
             [
              0.8888888888888888,
              "#fdca26"
             ],
             [
              1,
              "#f0f921"
             ]
            ],
            "type": "contour"
           }
          ],
          "contourcarpet": [
           {
            "colorbar": {
             "outlinewidth": 0,
             "ticks": ""
            },
            "type": "contourcarpet"
           }
          ],
          "heatmap": [
           {
            "colorbar": {
             "outlinewidth": 0,
             "ticks": ""
            },
            "colorscale": [
             [
              0,
              "#0d0887"
             ],
             [
              0.1111111111111111,
              "#46039f"
             ],
             [
              0.2222222222222222,
              "#7201a8"
             ],
             [
              0.3333333333333333,
              "#9c179e"
             ],
             [
              0.4444444444444444,
              "#bd3786"
             ],
             [
              0.5555555555555556,
              "#d8576b"
             ],
             [
              0.6666666666666666,
              "#ed7953"
             ],
             [
              0.7777777777777778,
              "#fb9f3a"
             ],
             [
              0.8888888888888888,
              "#fdca26"
             ],
             [
              1,
              "#f0f921"
             ]
            ],
            "type": "heatmap"
           }
          ],
          "histogram": [
           {
            "marker": {
             "pattern": {
              "fillmode": "overlay",
              "size": 10,
              "solidity": 0.2
             }
            },
            "type": "histogram"
           }
          ],
          "histogram2d": [
           {
            "colorbar": {
             "outlinewidth": 0,
             "ticks": ""
            },
            "colorscale": [
             [
              0,
              "#0d0887"
             ],
             [
              0.1111111111111111,
              "#46039f"
             ],
             [
              0.2222222222222222,
              "#7201a8"
             ],
             [
              0.3333333333333333,
              "#9c179e"
             ],
             [
              0.4444444444444444,
              "#bd3786"
             ],
             [
              0.5555555555555556,
              "#d8576b"
             ],
             [
              0.6666666666666666,
              "#ed7953"
             ],
             [
              0.7777777777777778,
              "#fb9f3a"
             ],
             [
              0.8888888888888888,
              "#fdca26"
             ],
             [
              1,
              "#f0f921"
             ]
            ],
            "type": "histogram2d"
           }
          ],
          "histogram2dcontour": [
           {
            "colorbar": {
             "outlinewidth": 0,
             "ticks": ""
            },
            "colorscale": [
             [
              0,
              "#0d0887"
             ],
             [
              0.1111111111111111,
              "#46039f"
             ],
             [
              0.2222222222222222,
              "#7201a8"
             ],
             [
              0.3333333333333333,
              "#9c179e"
             ],
             [
              0.4444444444444444,
              "#bd3786"
             ],
             [
              0.5555555555555556,
              "#d8576b"
             ],
             [
              0.6666666666666666,
              "#ed7953"
             ],
             [
              0.7777777777777778,
              "#fb9f3a"
             ],
             [
              0.8888888888888888,
              "#fdca26"
             ],
             [
              1,
              "#f0f921"
             ]
            ],
            "type": "histogram2dcontour"
           }
          ],
          "mesh3d": [
           {
            "colorbar": {
             "outlinewidth": 0,
             "ticks": ""
            },
            "type": "mesh3d"
           }
          ],
          "parcoords": [
           {
            "line": {
             "colorbar": {
              "outlinewidth": 0,
              "ticks": ""
             }
            },
            "type": "parcoords"
           }
          ],
          "pie": [
           {
            "automargin": true,
            "type": "pie"
           }
          ],
          "scatter": [
           {
            "fillpattern": {
             "fillmode": "overlay",
             "size": 10,
             "solidity": 0.2
            },
            "type": "scatter"
           }
          ],
          "scatter3d": [
           {
            "line": {
             "colorbar": {
              "outlinewidth": 0,
              "ticks": ""
             }
            },
            "marker": {
             "colorbar": {
              "outlinewidth": 0,
              "ticks": ""
             }
            },
            "type": "scatter3d"
           }
          ],
          "scattercarpet": [
           {
            "marker": {
             "colorbar": {
              "outlinewidth": 0,
              "ticks": ""
             }
            },
            "type": "scattercarpet"
           }
          ],
          "scattergeo": [
           {
            "marker": {
             "colorbar": {
              "outlinewidth": 0,
              "ticks": ""
             }
            },
            "type": "scattergeo"
           }
          ],
          "scattergl": [
           {
            "marker": {
             "colorbar": {
              "outlinewidth": 0,
              "ticks": ""
             }
            },
            "type": "scattergl"
           }
          ],
          "scattermap": [
           {
            "marker": {
             "colorbar": {
              "outlinewidth": 0,
              "ticks": ""
             }
            },
            "type": "scattermap"
           }
          ],
          "scattermapbox": [
           {
            "marker": {
             "colorbar": {
              "outlinewidth": 0,
              "ticks": ""
             }
            },
            "type": "scattermapbox"
           }
          ],
          "scatterpolar": [
           {
            "marker": {
             "colorbar": {
              "outlinewidth": 0,
              "ticks": ""
             }
            },
            "type": "scatterpolar"
           }
          ],
          "scatterpolargl": [
           {
            "marker": {
             "colorbar": {
              "outlinewidth": 0,
              "ticks": ""
             }
            },
            "type": "scatterpolargl"
           }
          ],
          "scatterternary": [
           {
            "marker": {
             "colorbar": {
              "outlinewidth": 0,
              "ticks": ""
             }
            },
            "type": "scatterternary"
           }
          ],
          "surface": [
           {
            "colorbar": {
             "outlinewidth": 0,
             "ticks": ""
            },
            "colorscale": [
             [
              0,
              "#0d0887"
             ],
             [
              0.1111111111111111,
              "#46039f"
             ],
             [
              0.2222222222222222,
              "#7201a8"
             ],
             [
              0.3333333333333333,
              "#9c179e"
             ],
             [
              0.4444444444444444,
              "#bd3786"
             ],
             [
              0.5555555555555556,
              "#d8576b"
             ],
             [
              0.6666666666666666,
              "#ed7953"
             ],
             [
              0.7777777777777778,
              "#fb9f3a"
             ],
             [
              0.8888888888888888,
              "#fdca26"
             ],
             [
              1,
              "#f0f921"
             ]
            ],
            "type": "surface"
           }
          ],
          "table": [
           {
            "cells": {
             "fill": {
              "color": "#EBF0F8"
             },
             "line": {
              "color": "white"
             }
            },
            "header": {
             "fill": {
              "color": "#C8D4E3"
             },
             "line": {
              "color": "white"
             }
            },
            "type": "table"
           }
          ]
         },
         "layout": {
          "annotationdefaults": {
           "arrowcolor": "#2a3f5f",
           "arrowhead": 0,
           "arrowwidth": 1
          },
          "autotypenumbers": "strict",
          "coloraxis": {
           "colorbar": {
            "outlinewidth": 0,
            "ticks": ""
           }
          },
          "colorscale": {
           "diverging": [
            [
             0,
             "#8e0152"
            ],
            [
             0.1,
             "#c51b7d"
            ],
            [
             0.2,
             "#de77ae"
            ],
            [
             0.3,
             "#f1b6da"
            ],
            [
             0.4,
             "#fde0ef"
            ],
            [
             0.5,
             "#f7f7f7"
            ],
            [
             0.6,
             "#e6f5d0"
            ],
            [
             0.7,
             "#b8e186"
            ],
            [
             0.8,
             "#7fbc41"
            ],
            [
             0.9,
             "#4d9221"
            ],
            [
             1,
             "#276419"
            ]
           ],
           "sequential": [
            [
             0,
             "#0d0887"
            ],
            [
             0.1111111111111111,
             "#46039f"
            ],
            [
             0.2222222222222222,
             "#7201a8"
            ],
            [
             0.3333333333333333,
             "#9c179e"
            ],
            [
             0.4444444444444444,
             "#bd3786"
            ],
            [
             0.5555555555555556,
             "#d8576b"
            ],
            [
             0.6666666666666666,
             "#ed7953"
            ],
            [
             0.7777777777777778,
             "#fb9f3a"
            ],
            [
             0.8888888888888888,
             "#fdca26"
            ],
            [
             1,
             "#f0f921"
            ]
           ],
           "sequentialminus": [
            [
             0,
             "#0d0887"
            ],
            [
             0.1111111111111111,
             "#46039f"
            ],
            [
             0.2222222222222222,
             "#7201a8"
            ],
            [
             0.3333333333333333,
             "#9c179e"
            ],
            [
             0.4444444444444444,
             "#bd3786"
            ],
            [
             0.5555555555555556,
             "#d8576b"
            ],
            [
             0.6666666666666666,
             "#ed7953"
            ],
            [
             0.7777777777777778,
             "#fb9f3a"
            ],
            [
             0.8888888888888888,
             "#fdca26"
            ],
            [
             1,
             "#f0f921"
            ]
           ]
          },
          "colorway": [
           "#636efa",
           "#EF553B",
           "#00cc96",
           "#ab63fa",
           "#FFA15A",
           "#19d3f3",
           "#FF6692",
           "#B6E880",
           "#FF97FF",
           "#FECB52"
          ],
          "font": {
           "color": "#2a3f5f"
          },
          "geo": {
           "bgcolor": "white",
           "lakecolor": "white",
           "landcolor": "#E5ECF6",
           "showlakes": true,
           "showland": true,
           "subunitcolor": "white"
          },
          "hoverlabel": {
           "align": "left"
          },
          "hovermode": "closest",
          "mapbox": {
           "style": "light"
          },
          "paper_bgcolor": "white",
          "plot_bgcolor": "#E5ECF6",
          "polar": {
           "angularaxis": {
            "gridcolor": "white",
            "linecolor": "white",
            "ticks": ""
           },
           "bgcolor": "#E5ECF6",
           "radialaxis": {
            "gridcolor": "white",
            "linecolor": "white",
            "ticks": ""
           }
          },
          "scene": {
           "xaxis": {
            "backgroundcolor": "#E5ECF6",
            "gridcolor": "white",
            "gridwidth": 2,
            "linecolor": "white",
            "showbackground": true,
            "ticks": "",
            "zerolinecolor": "white"
           },
           "yaxis": {
            "backgroundcolor": "#E5ECF6",
            "gridcolor": "white",
            "gridwidth": 2,
            "linecolor": "white",
            "showbackground": true,
            "ticks": "",
            "zerolinecolor": "white"
           },
           "zaxis": {
            "backgroundcolor": "#E5ECF6",
            "gridcolor": "white",
            "gridwidth": 2,
            "linecolor": "white",
            "showbackground": true,
            "ticks": "",
            "zerolinecolor": "white"
           }
          },
          "shapedefaults": {
           "line": {
            "color": "#2a3f5f"
           }
          },
          "ternary": {
           "aaxis": {
            "gridcolor": "white",
            "linecolor": "white",
            "ticks": ""
           },
           "baxis": {
            "gridcolor": "white",
            "linecolor": "white",
            "ticks": ""
           },
           "bgcolor": "#E5ECF6",
           "caxis": {
            "gridcolor": "white",
            "linecolor": "white",
            "ticks": ""
           }
          },
          "title": {
           "x": 0.05
          },
          "xaxis": {
           "automargin": true,
           "gridcolor": "white",
           "linecolor": "white",
           "ticks": "",
           "title": {
            "standoff": 15
           },
           "zerolinecolor": "white",
           "zerolinewidth": 2
          },
          "yaxis": {
           "automargin": true,
           "gridcolor": "white",
           "linecolor": "white",
           "ticks": "",
           "title": {
            "standoff": 15
           },
           "zerolinecolor": "white",
           "zerolinewidth": 2
          }
         }
        },
        "title": {
         "text": "Distribuição de Gêneros por Década (Gráfico Sunburst Interativo)",
         "x": 0.5
        },
        "width": 800
       }
      }
     },
     "metadata": {},
     "output_type": "display_data"
    },
    {
     "name": "stdout",
     "output_type": "stream",
     "text": [
      "\n",
      "--- Insights do Gráfico Sunburst ---\n",
      "\n",
      "📊 Combinações Gênero-Década mais populares:\n",
      "   • Drama nos anos 2000s: 37 filmes\n",
      "   • Drama nos anos 2010s: 33 filmes\n",
      "   • Drama nos anos 1990s: 31 filmes\n",
      "   • Drama nos anos 1980s: 19 filmes\n",
      "   • Drama nos anos 1950s: 18 filmes\n",
      "\n",
      "💡 Como usar o gráfico:\n",
      "• Clique em uma década para expandir e ver os gêneros.\n",
      "• Clique no centro para retornar.\n",
      "• A intensidade da cor indica a nota média (azul = mais alta).\n",
      "-----------------------------------\n",
      "\n",
      "FIM DA ANÁLISE.\n"
     ]
    }
   ],
   "source": [
    "# -*- coding: utf-8 -*-\n",
    "\"\"\"\n",
    "Análise Exploratória de Dados do Top 250 Filmes do IMDb\n",
    "\n",
    "Este script realiza uma análise do conjunto de dados \"IMDB Top 250 Movies\".\n",
    "O objetivo é explorar, limpar e visualizar os dados para extrair insights\n",
    "sobre os filmes mais bem avaliados da história.\n",
    "\n",
    "Aluno: [Seu Nome Aqui]\n",
    "Disciplina: Análise de Dados e Visualização\n",
    "\"\"\"\n",
    "\n",
    "import pandas as pd\n",
    "import numpy as np\n",
    "import matplotlib.pyplot as plt\n",
    "import seaborn as sns\n",
    "import plotly.express as px\n",
    "import plotly.graph_objects as go\n",
    "\n",
    "# --- 1. Carregamento e Exploração Inicial dos Dados ---\n",
    "\n",
    "# URL do conjunto de dados bruto no GitHub\n",
    "url = \"https://raw.githubusercontent.com/itiievskyi/IMDB-Top-250/master/imdb_top_250.csv\"\n",
    "# Carregando os dados para um DataFrame do pandas\n",
    "df = pd.read_csv(url)\n",
    "\n",
    "print(\"ETAPA 1: VISÃO GERAL DO DATASET\")\n",
    "print(\"=\"*35)\n",
    "print(f\"Dimensões do DataFrame: {df.shape}\")\n",
    "print(f\"Colunas presentes: {list(df.columns)}\")\n",
    "print(\"\\n--- 5 Primeiras Linhas do Dataset ---\")\n",
    "print(df.head())\n",
    "print(\"\\n--- Tipos de Dados e Valores Ausentes ---\")\n",
    "df.info()\n",
    "print(\"\\n--- Estatísticas Descritivas das Colunas Numéricas ---\")\n",
    "print(df.describe())\n",
    "print(\"=\"*35)\n",
    "print(\"\\n\")\n",
    "\n",
    "\n",
    "# --- 2. Limpeza e Pré-processamento dos Dados ---\n",
    "\n",
    "print(\"ETAPA 2: LIMPEZA E PRÉ-PROCESSAMENTO\")\n",
    "print(\"=\"*35)\n",
    "\n",
    "# Convertendo a coluna 'Year' para numérica e tratando possíveis erros\n",
    "df['Year'] = pd.to_numeric(df['Year'], errors='coerce')\n",
    "\n",
    "# Criando uma coluna 'Decada' para agrupar os filmes\n",
    "# A '//' faz uma divisão inteira, ex: 1994 // 10 = 199, depois * 10 = 1990\n",
    "df['Decada'] = (df['Year'] // 10) * 10\n",
    "\n",
    "# A coluna 'Duration' está como texto (ex: '2h 22min'). Vamos convertê-la para minutos.\n",
    "# Usamos expressões regulares (regex) para extrair as horas e os minutos.\n",
    "# .str.extract('(\\d+)h') captura os dígitos (\\d+) antes de 'h'.\n",
    "# .fillna(0) preenche valores não encontrados (filmes com menos de 1h) com 0.\n",
    "horas_em_minutos = df['Duration'].str.extract('(\\d+)h').fillna(0).astype(int) * 60\n",
    "minutos = df['Duration'].str.extract('(\\d+)min').fillna(0).astype(int)\n",
    "df['Duration_minutes'] = horas_em_minutos + minutos\n",
    "\n",
    "# Limpando a coluna 'Genre' de caracteres indesejados\n",
    "# Primeiro, identificamos e separamos os gêneros\n",
    "genres_list = df['Genre'].str.split(' | ').explode()\n",
    "# Removemos strings vazias ou caracteres de escape que possam ter surgido\n",
    "genres_list = genres_list[genres_list.str.strip() != '']\n",
    "genres_list = genres_list[genres_list.str.strip() != '\\\\']\n",
    "\n",
    "print(\"Colunas 'Decada' e 'Duration_minutes' criadas com sucesso.\")\n",
    "print(f\"Total de gêneros únicos identificados: {genres_list.nunique()}\")\n",
    "print(\"=\"*35)\n",
    "print(\"\\n\")\n",
    "\n",
    "\n",
    "# --- 3. Visualização de Dados ---\n",
    "\n",
    "print(\"ETAPA 3: VISUALIZAÇÃO DE DADOS E INSIGHTS\")\n",
    "print(\"=\"*40)\n",
    "\n",
    "# Configurando um estilo visual mais agradável para os gráficos do Matplotlib\n",
    "plt.style.use('seaborn-v0_8-darkgrid')\n",
    "sns.set_palette(\"viridis\")\n",
    "\n",
    "# -- GRÁFICO 1: Distribuição dos Principais Gêneros --\n",
    "\n",
    "# Contando a frequência de cada gênero e pegando os 10 mais comuns\n",
    "genre_counts = genres_list.value_counts().head(10)\n",
    "\n",
    "plt.figure(figsize=(12, 8))\n",
    "bars = plt.bar(genre_counts.index, genre_counts.values,\n",
    "               color=sns.color_palette(\"viridis\", n_colors=10))\n",
    "\n",
    "# Customizando o gráfico\n",
    "plt.title('Top 10 Gêneros Mais Comuns no IMDb Top 250', fontsize=18, fontweight='bold', pad=20)\n",
    "plt.xlabel('Gênero', fontsize=12, fontweight='bold')\n",
    "plt.ylabel('Número de Filmes', fontsize=12, fontweight='bold')\n",
    "plt.xticks(rotation=45, ha='right')\n",
    "\n",
    "# Adicionando os valores no topo de cada barra\n",
    "for bar in bars:\n",
    "    height = bar.get_height()\n",
    "    plt.text(bar.get_x() + bar.get_width()/2., height + 1,\n",
    "             f'{int(height)}', ha='center', va='bottom', fontweight='bold')\n",
    "\n",
    "plt.tight_layout() # Ajusta o layout para não cortar os rótulos\n",
    "plt.show()\n",
    "\n",
    "print(\"\\n--- Insights do Gráfico de Gêneros ---\")\n",
    "print(f\"O gênero 'Drama' é o mais presente, aparecendo em {genre_counts['Drama']} filmes da lista.\")\n",
    "print(f\"O segundo gênero mais comum é '{genre_counts.index[1]}' com {genre_counts.iloc[1]} aparições.\")\n",
    "print(\"-\" * 35)\n",
    "\n",
    "\n",
    "# -- GRÁFICO 2: Relação Interativa entre Nota IMDb, Ano e Duração --\n",
    "\n",
    "# Utilizando Plotly para um gráfico interativo\n",
    "fig_scatter = px.scatter(\n",
    "    df, x='Year', y='IMDB rating',\n",
    "    size='Rating count',\n",
    "    color='Duration_minutes',\n",
    "    hover_name='Title',  # Título principal ao passar o mouse\n",
    "    hover_data={  # Informações extras no hover\n",
    "        'Director': True,\n",
    "        'Genre': True,\n",
    "        'Year': True,\n",
    "        'IMDB rating': ':.1f', # Formata a nota para 1 casa decimal\n",
    "        'Duration_minutes': True,\n",
    "        'Rating count': ':,d' # Formata o número de votos com separador de milhar\n",
    "    },\n",
    "    title='Nota IMDb vs. Ano de Lançamento (Top 250 Filmes)',\n",
    "    labels={\n",
    "        'IMDB rating': 'Nota IMDb',\n",
    "        'Year': 'Ano de Lançamento',\n",
    "        'Duration_minutes': 'Duração (minutos)',\n",
    "        'Rating count': 'Quantidade de Votos'\n",
    "    },\n",
    "    color_continuous_scale='viridis',\n",
    "    size_max=20) # Tamanho máximo das bolhas\n",
    "\n",
    "# Customizando o layout do gráfico interativo\n",
    "fig_scatter.update_layout(\n",
    "    height=700,\n",
    "    width=1000,\n",
    "    title_font_size=20,\n",
    "    title_x=0.5, # Centraliza o título\n",
    "    xaxis=dict(title_font_size=14),\n",
    "    yaxis=dict(title_font_size=14, range=[7.9, 9.4]), # Foco na faixa de notas\n",
    "    plot_bgcolor='white' # Fundo branco\n",
    ")\n",
    "\n",
    "# Adicionando anotações para destacar filmes importantes\n",
    "highest_rated = df.loc[df['IMDB rating'].idxmax()]\n",
    "most_voted = df.loc[df['Rating count'].idxmax()]\n",
    "\n",
    "fig_scatter.add_annotation(\n",
    "    x=highest_rated['Year'], y=highest_rated['IMDB rating'],\n",
    "    text=f\"Maior Nota:<br>{highest_rated['Title']}<br>({highest_rated['IMDB rating']})\",\n",
    "    showarrow=True, arrowhead=2, arrowcolor=\"red\", ax=50, ay=-50,\n",
    "    bgcolor=\"yellow\", bordercolor=\"red\", borderwidth=2\n",
    ")\n",
    "\n",
    "fig_scatter.add_annotation(\n",
    "    x=most_voted['Year'], y=most_voted['IMDB rating'],\n",
    "    text=f\"Mais Votado:<br>{most_voted['Title']}<br>({most_voted['Rating count']:,} votos)\",\n",
    "    showarrow=True, arrowhead=2, arrowcolor=\"blue\", ax=-80, ay=30,\n",
    "    bgcolor=\"lightblue\", bordercolor=\"blue\", borderwidth=2\n",
    ")\n",
    "\n",
    "fig_scatter.show()\n",
    "\n",
    "print(\"\\n--- Insights do Gráfico Interativo de Dispersão ---\")\n",
    "print(f\"🎬 Filme com maior nota: {highest_rated['Title']} (Nota {highest_rated['IMDB rating']})\")\n",
    "print(f\"🗳️  Filme com mais votos: {most_voted['Title']} ({most_voted['Rating count']:,} votos)\")\n",
    "print(f\"📅 Período analisado: de {df['Year'].min():.0f} a {df['Year'].max():.0f}\")\n",
    "print(f\"⭐ Variação das notas: de {df['IMDB rating'].min()} a {df['IMDB rating'].max()}\")\n",
    "print(\"\\n💡 Dicas de Interação:\")\n",
    "print(\"• Passe o mouse sobre os pontos para ver detalhes do filme.\")\n",
    "print(\"• Use a roda do mouse para dar zoom.\")\n",
    "print(\"• Clique e arraste para mover o gráfico.\")\n",
    "print(\"-\" * 35)\n",
    "\n",
    "\n",
    "# -- GRÁFICO 3: Histograma da Duração dos Filmes --\n",
    "\n",
    "plt.figure(figsize=(12, 8))\n",
    "plt.hist(df['Duration_minutes'], bins=25, color='teal', alpha=0.7, edgecolor='black')\n",
    "\n",
    "# Customizando o gráfico\n",
    "plt.title('Distribuição da Duração dos Filmes (IMDb Top 250)', fontsize=18, fontweight='bold', pad=20)\n",
    "plt.xlabel('Duração (minutos)', fontsize=12, fontweight='bold')\n",
    "plt.ylabel('Número de Filmes', fontsize=12, fontweight='bold')\n",
    "\n",
    "# Adicionando linhas de média e mediana para referência\n",
    "mean_duration = df['Duration_minutes'].mean()\n",
    "median_duration = df['Duration_minutes'].median()\n",
    "\n",
    "plt.axvline(mean_duration, color='red', linestyle='--', linewidth=2, label=f'Média: {mean_duration:.0f} min')\n",
    "plt.axvline(median_duration, color='yellow', linestyle='--', linewidth=2, label=f'Mediana: {median_duration:.0f} min')\n",
    "\n",
    "plt.legend(fontsize=11)\n",
    "plt.tight_layout()\n",
    "plt.show()\n",
    "\n",
    "print(\"\\n--- Insights do Histograma de Duração ---\")\n",
    "print(f\"A duração média dos filmes é de {mean_duration:.1f} minutos (aproximadamente {mean_duration/60:.1f} horas).\")\n",
    "print(f\"A maioria dos filmes se concentra na faixa de 100 a 150 minutos.\")\n",
    "print(f\"Filme mais curto: {df['Duration_minutes'].min()} min, Filme mais longo: {df['Duration_minutes'].max()} min.\")\n",
    "print(\"-\" * 35)\n",
    "\n",
    "\n",
    "# -- GRÁFICO 4: Tendência de Notas e Contagem de Filmes por Década --\n",
    "\n",
    "# Agrupando os dados por década\n",
    "decade_stats = df.groupby('Decada').agg(\n",
    "    Avg_Rating=('IMDB rating', 'mean'),\n",
    "    Movie_Count=('Title', 'count')\n",
    ").round(2).reset_index()\n",
    "\n",
    "fig, ax1 = plt.subplots(figsize=(14, 8))\n",
    "\n",
    "# Gráfico de linhas para a nota média (eixo y esquerdo)\n",
    "color = 'tab:red'\n",
    "ax1.set_xlabel('Década', fontsize=12, fontweight='bold')\n",
    "ax1.set_ylabel('Nota Média IMDb', color=color, fontsize=12, fontweight='bold')\n",
    "ax1.plot(decade_stats['Decada'], decade_stats['Avg_Rating'], color=color, marker='o', linewidth=3, markersize=8, label='Nota Média')\n",
    "ax1.tick_params(axis='y', labelcolor=color)\n",
    "\n",
    "# Criando um segundo eixo y para o número de filmes\n",
    "ax2 = ax1.twinx()\n",
    "color = 'tab:blue'\n",
    "ax2.set_ylabel('Número de Filmes na Lista', color=color, fontsize=12, fontweight='bold')\n",
    "ax2.bar(decade_stats['Decada'], decade_stats['Movie_Count'], alpha=0.4, color=color, width=8, label='Nº de Filmes')\n",
    "ax2.tick_params(axis='y', labelcolor=color)\n",
    "\n",
    "# Customizando o gráfico\n",
    "plt.title('Nota Média vs. Número de Filmes por Década (Top 250)', fontsize=18, fontweight='bold', pad=20)\n",
    "fig.tight_layout()\n",
    "plt.show()\n",
    "\n",
    "print(\"\\n--- Insights do Gráfico de Décadas ---\")\n",
    "print(f\"A década com a maior nota média na lista é a de {decade_stats.loc[decade_stats['Avg_Rating'].idxmax(), 'Decada']:.0f}.\")\n",
    "print(f\"A década mais produtiva (com mais filmes na lista) é a de {decade_stats.loc[decade_stats['Movie_Count'].idxmax(), 'Decada']:.0f}.\")\n",
    "print(\"-\" * 35)\n",
    "\n",
    "\n",
    "# -- GRÁFICO 5: Análise Hierárquica de Gêneros por Década (Sunburst) --\n",
    "\n",
    "# Preparando os dados para o gráfico Sunburst\n",
    "sunburst_data = []\n",
    "for index, row in df.iterrows():\n",
    "    genres = [g.strip() for g in str(row['Genre']).split(' | ') if g.strip() and g.strip() != '\\\\']\n",
    "    for genre in genres:\n",
    "        sunburst_data.append({\n",
    "            'Decada': f\"{int(row['Decada'])}s\",\n",
    "            'Genero': genre,\n",
    "            'Titulo': row['Title'],\n",
    "            'Nota': row['IMDB rating']\n",
    "        })\n",
    "sunburst_df = pd.DataFrame(sunburst_data)\n",
    "\n",
    "# Criando o gráfico\n",
    "fig_sunburst = px.sunburst(\n",
    "    sunburst_df,\n",
    "    path=['Decada', 'Genero'],\n",
    "    values=None, # O tamanho será proporcional à contagem de itens\n",
    "    color='Nota',\n",
    "    color_continuous_scale='RdYlBu_r', # Paleta de cores (vermelho-amarelo-azul invertido)\n",
    "    color_continuous_midpoint=np.average(sunburst_df['Nota']), # Ponto médio da cor é a nota média\n",
    "    title='Distribuição de Gêneros por Década (Gráfico Sunburst Interativo)',\n",
    "    hover_name='Genero',\n",
    "    hover_data={'Nota': ':.2f'}\n",
    ")\n",
    "\n",
    "# Customizando o layout e as informações do hover\n",
    "fig_sunburst.update_layout(height=800, width=800, title_x=0.5)\n",
    "fig_sunburst.update_traces(\n",
    "    hovertemplate='<b>%{label}</b><br>Contagem: %{value}<br>Percentual do Pai: %{percentParent}<extra></extra>',\n",
    "    maxdepth=2\n",
    ")\n",
    "\n",
    "fig_sunburst.show()\n",
    "\n",
    "print(\"\\n--- Insights do Gráfico Sunburst ---\")\n",
    "decade_genre_summary = sunburst_df.groupby(['Decada', 'Genero']).size().reset_index(name='Count')\n",
    "top_combinations = decade_genre_summary.nlargest(5, 'Count')\n",
    "\n",
    "print(\"\\n📊 Combinações Gênero-Década mais populares:\")\n",
    "for _, row in top_combinations.iterrows():\n",
    "    print(f\"   • {row['Genero']} nos anos {row['Decada']}: {row['Count']} filmes\")\n",
    "\n",
    "print(\"\\n💡 Como usar o gráfico:\")\n",
    "print(\"• Clique em uma década para expandir e ver os gêneros.\")\n",
    "print(\"• Clique no centro para retornar.\")\n",
    "print(\"• A intensidade da cor indica a nota média (azul = mais alta).\")\n",
    "print(\"-\" * 35)\n",
    "\n",
    "print(\"\\nFIM DA ANÁLISE.\")"
   ]
  },
  {
   "cell_type": "code",
   "execution_count": null,
   "id": "21a70f20",
   "metadata": {},
   "outputs": [],
   "source": [
    "    "
   ]
  }
 ],
 "metadata": {
  "kernelspec": {
   "display_name": "fis-comp",
   "language": "python",
   "name": "python3"
  },
  "language_info": {
   "codemirror_mode": {
    "name": "ipython",
    "version": 3
   },
   "file_extension": ".py",
   "mimetype": "text/x-python",
   "name": "python",
   "nbconvert_exporter": "python",
   "pygments_lexer": "ipython3",
   "version": "3.12.3"
  }
 },
 "nbformat": 4,
 "nbformat_minor": 5
}
