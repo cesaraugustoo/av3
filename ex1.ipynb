{
 "cells": [
  {
   "cell_type": "markdown",
   "id": "6e30dbfe",
   "metadata": {},
   "source": [
    "### Exercício 1"
   ]
  },
  {
   "cell_type": "markdown",
   "id": "1e3a0c13",
   "metadata": {},
   "source": [
    "Explique, resolva e comente o exemplo 3.2 de nosso livro texto (página 113)"
   ]
  },
  {
   "cell_type": "code",
   "execution_count": null,
   "id": "7a0d3a9e",
   "metadata": {},
   "outputs": [],
   "source": [
    "%pip install ipython"
   ]
  },
  {
   "cell_type": "code",
   "execution_count": 3,
   "id": "58613933",
   "metadata": {},
   "outputs": [],
   "source": [
    "import base64\n",
    "from IPython.display import Image, display\n",
    "\n",
    "def mm(graph):\n",
    "    graphbytes = graph.encode(\"utf8\")\n",
    "    base64_bytes = base64.urlsafe_b64encode(graphbytes)\n",
    "    base64_string = base64_bytes.decode(\"ascii\")\n",
    "    display(Image(url=\"https://mermaid.ink/img/\" + base64_string))"
   ]
  },
  {
   "cell_type": "markdown",
   "id": "c2fa1238",
   "metadata": {},
   "source": [
    "#### Visualização uma rede cúbica 3D de átomos, mostrando ligações entre os átomos vizinhos:\n",
    "\n",
    "1. Início (A): O processo começa com o usuário informando o valor de L, que é metade do tamanho da rede cúbica. A rede vai de -L até L em todas as dimensões (x, y, z).\n",
    "2. Gerar pontos da rede (B): Todos os pontos (i, j, k) da rede são gerados, onde i, j e k são números inteiros no intervalo [-L, L].\n",
    "3. Calcular total de átomos (C): O número total de átomos na rede é calculado como (2L + 1)³, que é o número de pontos no grid cúbico.\n",
    "4. Extrair coordenadas (D): As coordenadas x, y e z dos pontos da rede são separadas para serem usadas na visualização.\n",
    "5. Criar gráfico 3D (E): Um gráfico de dispersão 3D é criado, onde cada átomo é representado como uma esfera na sua posição correspondente.\n",
    "6. Mostrar ligações? (F): Aqui o programa verifica se o usuário quer mostrar as ligações entre os átomos e se L ≤ 3. Se a resposta for \"Não\", o processo pula para o passo (J).\n",
    "7. Calcular distâncias (G): Se as ligações forem ativadas, o programa calcula as distâncias entre todos os pares de átomos.\n",
    "8. Identificar vizinhos próximos (H): Os átomos que são vizinhos mais próximos (distância ≈ 1.0) são identificados.\n",
    "9. Adicionar ligações (I): Linhas representando as ligações são adicionadas entre os átomos vizinhos mais próximos.\n",
    "10. Configurar layout do gráfico (J): O layout e o estilo do gráfico são ajustados.\n",
    "11. Definir intervalos dos eixos (K): Os intervalos dos eixos são definidos como [-L-1, L+1] para garantir que todos os átomos fiquem visíveis.\n",
    "12. Adicionar informações de hover (L): Informações de hover são adicionadas para mostrar as coordenadas de cada átomo quando o usuário interage com o gráfico.\n",
    "13. Configurar cena 3D (M): Propriedades adicionais da cena 3D, como títulos, câmera e outros elementos visuais, são configuradas.\n",
    "14. Exibir visualização (N): A visualização 3D interativa é exibida, permitindo que o usuário rotacione, amplie e veja os átomos.\n",
    "15. Fim (O): O processo termina com o usuário podendo interagir com a visualização."
   ]
  },
  {
   "cell_type": "code",
   "execution_count": 4,
   "id": "a73d9e35",
   "metadata": {},
   "outputs": [
    {
     "data": {
      "text/html": [
       "<img src=\"https://mermaid.ink/img/CmZsb3djaGFydCBURAogICAgQVsiSW7DrWNpbzogRW50cmFkYSBMIChtZWlvLXRhbWFuaG8gZGEgcmVkZSkiXSAtLT4gQlsiR2VyYXIgdG9kb3Mgb3MgcG9udG9zIGRhIHJlZGUgKGksaixrKTxici8-b25kZSBpLGosayDiiIggWy1MLCBMXSJdCiAgICBCIC0tPiBDWyJDYWxjdWxhciB0b3RhbCBkZSDDoXRvbW9zOiAoMkwrMSnCsyJdCiAgICBDIC0tPiBEWyJFeHRyYWlyIGNvb3JkZW5hZGFzIHgsIHksIHo8YnIvPmRvcyBwb250b3MgZGEgcmVkZSJdCiAgICBEIC0tPiBFWyJDcmlhciBncsOhZmljbyBkZSBkaXNwZXJzw6NvIDNEPGJyLz5jb20gw6F0b21vcyBjb21vIGVzZmVyYXMiXQogICAgRSAtLT4gRnsiTW9zdHJhciBsaWdhw6fDtWVzPzxici8-RSBMIOKJpCAzPyJ9CiAgICBGIC0tPnxTaW18IEdbIkNhbGN1bGFyIGRpc3TDom5jaWFzIGVudHJlPGJyLz50b2RvcyBvcyBwYXJlcyBkZSDDoXRvbW9zIl0KICAgIEcgLS0-IEhbIklkZW50aWZpY2FyIHZpemluaG9zIG1haXMgcHLDs3hpbW9zPGJyLz4oZGlzdMOibmNpYSDiiYggMS4wKSJdCiAgICBIIC0tPiBJWyJBZGljaW9uYXIgbGluaGFzIGRlIGxpZ2HDp8OjbyBlbnRyZTxici8-dml6aW5ob3MgbWFpcyBwcsOzeGltb3MiXQogICAgSSAtLT4gSlsiQ29uZmlndXJhciBsYXlvdXQgZG8gZ3LDoWZpY288YnIvPmUgZXN0aWxpemHDp8OjbyJdCiAgICBGIC0tPnxOw6NvfCBKCiAgICBKIC0tPiBLWyJEZWZpbmlyIGludGVydmFsb3MgZG9zIGVpeG9zOiBbLUwtMSwgTCsxXTxici8-cGFyYSBjYWRhIGRpbWVuc8OjbyJdCiAgICBLIC0tPiBMWyJBZGljaW9uYXIgaW5mb3JtYcOnw7VlcyBkZSBob3Zlcjxici8-bW9zdHJhbmRvIGNvb3JkZW5hZGFzIl0KICAgIEwgLS0-IE1bIkNvbmZpZ3VyYXIgcHJvcHJpZWRhZGVzIGRhIGNlbmEgM0Q8YnIvPih0w610dWxvcywgY8OibWVyYSwgZXRjLikiXQogICAgTSAtLT4gTlsiRXhpYmlyIHZpc3VhbGl6YcOnw6NvIDNEPGJyLz5pbnRlcmF0aXZhIl0KICAgIE4gLS0-IE9bIkZpbTogVXN1w6FyaW8gcG9kZSBpbnRlcmFnaXI8YnIvPihyb3RhY2lvbmFyLCBhbXBsaWFyLCBob3ZlcikiXQoKICAgIHN0eWxlIEEgZmlsbDojZTFmNWZlCiAgICBzdHlsZSBPIGZpbGw6I2M4ZTZjOQogICAgc3R5bGUgRiBmaWxsOiNmZmYzZTAKICAgIHN0eWxlIEcgZmlsbDojZmNlNGVjCiAgICBzdHlsZSBIIGZpbGw6I2ZjZTRlYwogICAgc3R5bGUgSSBmaWxsOiNmY2U0ZWMK\"/>"
      ],
      "text/plain": [
       "<IPython.core.display.Image object>"
      ]
     },
     "metadata": {},
     "output_type": "display_data"
    }
   ],
   "source": [
    "diagrama = \"\"\"\n",
    "flowchart TD\n",
    "    A[\"Início: Entrada L (meio-tamanho da rede)\"] --> B[\"Gerar todos os pontos da rede (i,j,k)<br/>onde i,j,k ∈ [-L, L]\"]\n",
    "    B --> C[\"Calcular total de átomos: (2L+1)³\"]\n",
    "    C --> D[\"Extrair coordenadas x, y, z<br/>dos pontos da rede\"]\n",
    "    D --> E[\"Criar gráfico de dispersão 3D<br/>com átomos como esferas\"]\n",
    "    E --> F{\"Mostrar ligações?<br/>E L ≤ 3?\"}\n",
    "    F -->|Sim| G[\"Calcular distâncias entre<br/>todos os pares de átomos\"]\n",
    "    G --> H[\"Identificar vizinhos mais próximos<br/>(distância ≈ 1.0)\"]\n",
    "    H --> I[\"Adicionar linhas de ligação entre<br/>vizinhos mais próximos\"]\n",
    "    I --> J[\"Configurar layout do gráfico<br/>e estilização\"]\n",
    "    F -->|Não| J\n",
    "    J --> K[\"Definir intervalos dos eixos: [-L-1, L+1]<br/>para cada dimensão\"]\n",
    "    K --> L[\"Adicionar informações de hover<br/>mostrando coordenadas\"]\n",
    "    L --> M[\"Configurar propriedades da cena 3D<br/>(títulos, câmera, etc.)\"]\n",
    "    M --> N[\"Exibir visualização 3D<br/>interativa\"]\n",
    "    N --> O[\"Fim: Usuário pode interagir<br/>(rotacionar, ampliar, hover)\"]\n",
    "    \n",
    "    style A fill:#e1f5fe\n",
    "    style O fill:#c8e6c9\n",
    "    style F fill:#fff3e0\n",
    "    style G fill:#fce4ec\n",
    "    style H fill:#fce4ec\n",
    "    style I fill:#fce4ec\n",
    "\"\"\"\n",
    "\n",
    "mm(diagrama)"
   ]
  },
  {
   "cell_type": "code",
   "execution_count": 5,
   "id": "2058eb63",
   "metadata": {},
   "outputs": [
    {
     "name": "stdout",
     "output_type": "stream",
     "text": [
      "\n",
      "Criando rede cúbica com L = 1\n",
      "Rede vai de -1 até 1 em cada dimensão\n",
      "Total de átomos: 27\n"
     ]
    },
    {
     "data": {
      "application/vnd.plotly.v1+json": {
       "config": {
        "plotlyServerURL": "https://plot.ly"
       },
       "data": [
        {
         "hovertemplate": "<b>Átomo</b><br>x: %{x}<br>y: %{y}<br>z: %{z}<br><extra></extra>",
         "marker": {
          "color": "blue",
          "opacity": 0.8,
          "size": 8,
          "symbol": "circle"
         },
         "mode": "markers",
         "name": "Átomos",
         "type": "scatter3d",
         "x": {
          "bdata": "////////////AAAAAAAAAAAAAQEBAQEBAQEB",
          "dtype": "i1"
         },
         "y": {
          "bdata": "////AAAAAQEB////AAAAAQEB////AAAAAQEB",
          "dtype": "i1"
         },
         "z": {
          "bdata": "/wAB/wAB/wAB/wAB/wAB/wAB/wAB/wAB/wAB",
          "dtype": "i1"
         }
        },
        {
         "hoverinfo": "none",
         "line": {
          "color": "gray",
          "width": 2
         },
         "mode": "lines",
         "name": "Ligações",
         "showlegend": false,
         "type": "scatter3d",
         "x": [
          -1,
          -1,
          null,
          -1,
          -1,
          null,
          -1,
          0,
          null,
          -1,
          -1,
          null,
          -1,
          -1,
          null,
          -1,
          0,
          null,
          -1,
          -1,
          null,
          -1,
          0,
          null,
          -1,
          -1,
          null,
          -1,
          -1,
          null,
          -1,
          0,
          null,
          -1,
          -1,
          null,
          -1,
          -1,
          null,
          -1,
          0,
          null,
          -1,
          -1,
          null,
          -1,
          0,
          null,
          -1,
          -1,
          null,
          -1,
          0,
          null,
          -1,
          -1,
          null,
          -1,
          0,
          null,
          -1,
          0,
          null,
          0,
          0,
          null,
          0,
          0,
          null,
          0,
          1,
          null,
          0,
          0,
          null,
          0,
          0,
          null,
          0,
          1,
          null,
          0,
          0,
          null,
          0,
          1,
          null,
          0,
          0,
          null,
          0,
          0,
          null,
          0,
          1,
          null,
          0,
          0,
          null,
          0,
          0,
          null,
          0,
          1,
          null,
          0,
          0,
          null,
          0,
          1,
          null,
          0,
          0,
          null,
          0,
          1,
          null,
          0,
          0,
          null,
          0,
          1,
          null,
          0,
          1,
          null,
          1,
          1,
          null,
          1,
          1,
          null,
          1,
          1,
          null,
          1,
          1,
          null,
          1,
          1,
          null,
          1,
          1,
          null,
          1,
          1,
          null,
          1,
          1,
          null,
          1,
          1,
          null,
          1,
          1,
          null,
          1,
          1,
          null,
          1,
          1,
          null
         ],
         "y": [
          -1,
          -1,
          null,
          -1,
          0,
          null,
          -1,
          -1,
          null,
          -1,
          -1,
          null,
          -1,
          0,
          null,
          -1,
          -1,
          null,
          -1,
          0,
          null,
          -1,
          -1,
          null,
          0,
          0,
          null,
          0,
          1,
          null,
          0,
          0,
          null,
          0,
          0,
          null,
          0,
          1,
          null,
          0,
          0,
          null,
          0,
          1,
          null,
          0,
          0,
          null,
          1,
          1,
          null,
          1,
          1,
          null,
          1,
          1,
          null,
          1,
          1,
          null,
          1,
          1,
          null,
          -1,
          -1,
          null,
          -1,
          0,
          null,
          -1,
          -1,
          null,
          -1,
          -1,
          null,
          -1,
          0,
          null,
          -1,
          -1,
          null,
          -1,
          0,
          null,
          -1,
          -1,
          null,
          0,
          0,
          null,
          0,
          1,
          null,
          0,
          0,
          null,
          0,
          0,
          null,
          0,
          1,
          null,
          0,
          0,
          null,
          0,
          1,
          null,
          0,
          0,
          null,
          1,
          1,
          null,
          1,
          1,
          null,
          1,
          1,
          null,
          1,
          1,
          null,
          1,
          1,
          null,
          -1,
          -1,
          null,
          -1,
          0,
          null,
          -1,
          -1,
          null,
          -1,
          0,
          null,
          -1,
          0,
          null,
          0,
          0,
          null,
          0,
          1,
          null,
          0,
          0,
          null,
          0,
          1,
          null,
          0,
          1,
          null,
          1,
          1,
          null,
          1,
          1,
          null
         ],
         "z": [
          -1,
          0,
          null,
          -1,
          -1,
          null,
          -1,
          -1,
          null,
          0,
          1,
          null,
          0,
          0,
          null,
          0,
          0,
          null,
          1,
          1,
          null,
          1,
          1,
          null,
          -1,
          0,
          null,
          -1,
          -1,
          null,
          -1,
          -1,
          null,
          0,
          1,
          null,
          0,
          0,
          null,
          0,
          0,
          null,
          1,
          1,
          null,
          1,
          1,
          null,
          -1,
          0,
          null,
          -1,
          -1,
          null,
          0,
          1,
          null,
          0,
          0,
          null,
          1,
          1,
          null,
          -1,
          0,
          null,
          -1,
          -1,
          null,
          -1,
          -1,
          null,
          0,
          1,
          null,
          0,
          0,
          null,
          0,
          0,
          null,
          1,
          1,
          null,
          1,
          1,
          null,
          -1,
          0,
          null,
          -1,
          -1,
          null,
          -1,
          -1,
          null,
          0,
          1,
          null,
          0,
          0,
          null,
          0,
          0,
          null,
          1,
          1,
          null,
          1,
          1,
          null,
          -1,
          0,
          null,
          -1,
          -1,
          null,
          0,
          1,
          null,
          0,
          0,
          null,
          1,
          1,
          null,
          -1,
          0,
          null,
          -1,
          -1,
          null,
          0,
          1,
          null,
          0,
          0,
          null,
          1,
          1,
          null,
          -1,
          0,
          null,
          -1,
          -1,
          null,
          0,
          1,
          null,
          0,
          0,
          null,
          1,
          1,
          null,
          -1,
          0,
          null,
          0,
          1,
          null
         ]
        }
       ],
       "layout": {
        "height": 600,
        "scene": {
         "xaxis": {
          "range": [
           -2,
           2
          ],
          "title": {
           "text": "X"
          }
         },
         "yaxis": {
          "range": [
           -2,
           2
          ],
          "title": {
           "text": "Y"
          }
         },
         "zaxis": {
          "range": [
           -2,
           2
          ],
          "title": {
           "text": "Z"
          }
         }
        },
        "showlegend": true,
        "template": {
         "data": {
          "bar": [
           {
            "error_x": {
             "color": "#2a3f5f"
            },
            "error_y": {
             "color": "#2a3f5f"
            },
            "marker": {
             "line": {
              "color": "#E5ECF6",
              "width": 0.5
             },
             "pattern": {
              "fillmode": "overlay",
              "size": 10,
              "solidity": 0.2
             }
            },
            "type": "bar"
           }
          ],
          "barpolar": [
           {
            "marker": {
             "line": {
              "color": "#E5ECF6",
              "width": 0.5
             },
             "pattern": {
              "fillmode": "overlay",
              "size": 10,
              "solidity": 0.2
             }
            },
            "type": "barpolar"
           }
          ],
          "carpet": [
           {
            "aaxis": {
             "endlinecolor": "#2a3f5f",
             "gridcolor": "white",
             "linecolor": "white",
             "minorgridcolor": "white",
             "startlinecolor": "#2a3f5f"
            },
            "baxis": {
             "endlinecolor": "#2a3f5f",
             "gridcolor": "white",
             "linecolor": "white",
             "minorgridcolor": "white",
             "startlinecolor": "#2a3f5f"
            },
            "type": "carpet"
           }
          ],
          "choropleth": [
           {
            "colorbar": {
             "outlinewidth": 0,
             "ticks": ""
            },
            "type": "choropleth"
           }
          ],
          "contour": [
           {
            "colorbar": {
             "outlinewidth": 0,
             "ticks": ""
            },
            "colorscale": [
             [
              0,
              "#0d0887"
             ],
             [
              0.1111111111111111,
              "#46039f"
             ],
             [
              0.2222222222222222,
              "#7201a8"
             ],
             [
              0.3333333333333333,
              "#9c179e"
             ],
             [
              0.4444444444444444,
              "#bd3786"
             ],
             [
              0.5555555555555556,
              "#d8576b"
             ],
             [
              0.6666666666666666,
              "#ed7953"
             ],
             [
              0.7777777777777778,
              "#fb9f3a"
             ],
             [
              0.8888888888888888,
              "#fdca26"
             ],
             [
              1,
              "#f0f921"
             ]
            ],
            "type": "contour"
           }
          ],
          "contourcarpet": [
           {
            "colorbar": {
             "outlinewidth": 0,
             "ticks": ""
            },
            "type": "contourcarpet"
           }
          ],
          "heatmap": [
           {
            "colorbar": {
             "outlinewidth": 0,
             "ticks": ""
            },
            "colorscale": [
             [
              0,
              "#0d0887"
             ],
             [
              0.1111111111111111,
              "#46039f"
             ],
             [
              0.2222222222222222,
              "#7201a8"
             ],
             [
              0.3333333333333333,
              "#9c179e"
             ],
             [
              0.4444444444444444,
              "#bd3786"
             ],
             [
              0.5555555555555556,
              "#d8576b"
             ],
             [
              0.6666666666666666,
              "#ed7953"
             ],
             [
              0.7777777777777778,
              "#fb9f3a"
             ],
             [
              0.8888888888888888,
              "#fdca26"
             ],
             [
              1,
              "#f0f921"
             ]
            ],
            "type": "heatmap"
           }
          ],
          "histogram": [
           {
            "marker": {
             "pattern": {
              "fillmode": "overlay",
              "size": 10,
              "solidity": 0.2
             }
            },
            "type": "histogram"
           }
          ],
          "histogram2d": [
           {
            "colorbar": {
             "outlinewidth": 0,
             "ticks": ""
            },
            "colorscale": [
             [
              0,
              "#0d0887"
             ],
             [
              0.1111111111111111,
              "#46039f"
             ],
             [
              0.2222222222222222,
              "#7201a8"
             ],
             [
              0.3333333333333333,
              "#9c179e"
             ],
             [
              0.4444444444444444,
              "#bd3786"
             ],
             [
              0.5555555555555556,
              "#d8576b"
             ],
             [
              0.6666666666666666,
              "#ed7953"
             ],
             [
              0.7777777777777778,
              "#fb9f3a"
             ],
             [
              0.8888888888888888,
              "#fdca26"
             ],
             [
              1,
              "#f0f921"
             ]
            ],
            "type": "histogram2d"
           }
          ],
          "histogram2dcontour": [
           {
            "colorbar": {
             "outlinewidth": 0,
             "ticks": ""
            },
            "colorscale": [
             [
              0,
              "#0d0887"
             ],
             [
              0.1111111111111111,
              "#46039f"
             ],
             [
              0.2222222222222222,
              "#7201a8"
             ],
             [
              0.3333333333333333,
              "#9c179e"
             ],
             [
              0.4444444444444444,
              "#bd3786"
             ],
             [
              0.5555555555555556,
              "#d8576b"
             ],
             [
              0.6666666666666666,
              "#ed7953"
             ],
             [
              0.7777777777777778,
              "#fb9f3a"
             ],
             [
              0.8888888888888888,
              "#fdca26"
             ],
             [
              1,
              "#f0f921"
             ]
            ],
            "type": "histogram2dcontour"
           }
          ],
          "mesh3d": [
           {
            "colorbar": {
             "outlinewidth": 0,
             "ticks": ""
            },
            "type": "mesh3d"
           }
          ],
          "parcoords": [
           {
            "line": {
             "colorbar": {
              "outlinewidth": 0,
              "ticks": ""
             }
            },
            "type": "parcoords"
           }
          ],
          "pie": [
           {
            "automargin": true,
            "type": "pie"
           }
          ],
          "scatter": [
           {
            "fillpattern": {
             "fillmode": "overlay",
             "size": 10,
             "solidity": 0.2
            },
            "type": "scatter"
           }
          ],
          "scatter3d": [
           {
            "line": {
             "colorbar": {
              "outlinewidth": 0,
              "ticks": ""
             }
            },
            "marker": {
             "colorbar": {
              "outlinewidth": 0,
              "ticks": ""
             }
            },
            "type": "scatter3d"
           }
          ],
          "scattercarpet": [
           {
            "marker": {
             "colorbar": {
              "outlinewidth": 0,
              "ticks": ""
             }
            },
            "type": "scattercarpet"
           }
          ],
          "scattergeo": [
           {
            "marker": {
             "colorbar": {
              "outlinewidth": 0,
              "ticks": ""
             }
            },
            "type": "scattergeo"
           }
          ],
          "scattergl": [
           {
            "marker": {
             "colorbar": {
              "outlinewidth": 0,
              "ticks": ""
             }
            },
            "type": "scattergl"
           }
          ],
          "scattermap": [
           {
            "marker": {
             "colorbar": {
              "outlinewidth": 0,
              "ticks": ""
             }
            },
            "type": "scattermap"
           }
          ],
          "scattermapbox": [
           {
            "marker": {
             "colorbar": {
              "outlinewidth": 0,
              "ticks": ""
             }
            },
            "type": "scattermapbox"
           }
          ],
          "scatterpolar": [
           {
            "marker": {
             "colorbar": {
              "outlinewidth": 0,
              "ticks": ""
             }
            },
            "type": "scatterpolar"
           }
          ],
          "scatterpolargl": [
           {
            "marker": {
             "colorbar": {
              "outlinewidth": 0,
              "ticks": ""
             }
            },
            "type": "scatterpolargl"
           }
          ],
          "scatterternary": [
           {
            "marker": {
             "colorbar": {
              "outlinewidth": 0,
              "ticks": ""
             }
            },
            "type": "scatterternary"
           }
          ],
          "surface": [
           {
            "colorbar": {
             "outlinewidth": 0,
             "ticks": ""
            },
            "colorscale": [
             [
              0,
              "#0d0887"
             ],
             [
              0.1111111111111111,
              "#46039f"
             ],
             [
              0.2222222222222222,
              "#7201a8"
             ],
             [
              0.3333333333333333,
              "#9c179e"
             ],
             [
              0.4444444444444444,
              "#bd3786"
             ],
             [
              0.5555555555555556,
              "#d8576b"
             ],
             [
              0.6666666666666666,
              "#ed7953"
             ],
             [
              0.7777777777777778,
              "#fb9f3a"
             ],
             [
              0.8888888888888888,
              "#fdca26"
             ],
             [
              1,
              "#f0f921"
             ]
            ],
            "type": "surface"
           }
          ],
          "table": [
           {
            "cells": {
             "fill": {
              "color": "#EBF0F8"
             },
             "line": {
              "color": "white"
             }
            },
            "header": {
             "fill": {
              "color": "#C8D4E3"
             },
             "line": {
              "color": "white"
             }
            },
            "type": "table"
           }
          ]
         },
         "layout": {
          "annotationdefaults": {
           "arrowcolor": "#2a3f5f",
           "arrowhead": 0,
           "arrowwidth": 1
          },
          "autotypenumbers": "strict",
          "coloraxis": {
           "colorbar": {
            "outlinewidth": 0,
            "ticks": ""
           }
          },
          "colorscale": {
           "diverging": [
            [
             0,
             "#8e0152"
            ],
            [
             0.1,
             "#c51b7d"
            ],
            [
             0.2,
             "#de77ae"
            ],
            [
             0.3,
             "#f1b6da"
            ],
            [
             0.4,
             "#fde0ef"
            ],
            [
             0.5,
             "#f7f7f7"
            ],
            [
             0.6,
             "#e6f5d0"
            ],
            [
             0.7,
             "#b8e186"
            ],
            [
             0.8,
             "#7fbc41"
            ],
            [
             0.9,
             "#4d9221"
            ],
            [
             1,
             "#276419"
            ]
           ],
           "sequential": [
            [
             0,
             "#0d0887"
            ],
            [
             0.1111111111111111,
             "#46039f"
            ],
            [
             0.2222222222222222,
             "#7201a8"
            ],
            [
             0.3333333333333333,
             "#9c179e"
            ],
            [
             0.4444444444444444,
             "#bd3786"
            ],
            [
             0.5555555555555556,
             "#d8576b"
            ],
            [
             0.6666666666666666,
             "#ed7953"
            ],
            [
             0.7777777777777778,
             "#fb9f3a"
            ],
            [
             0.8888888888888888,
             "#fdca26"
            ],
            [
             1,
             "#f0f921"
            ]
           ],
           "sequentialminus": [
            [
             0,
             "#0d0887"
            ],
            [
             0.1111111111111111,
             "#46039f"
            ],
            [
             0.2222222222222222,
             "#7201a8"
            ],
            [
             0.3333333333333333,
             "#9c179e"
            ],
            [
             0.4444444444444444,
             "#bd3786"
            ],
            [
             0.5555555555555556,
             "#d8576b"
            ],
            [
             0.6666666666666666,
             "#ed7953"
            ],
            [
             0.7777777777777778,
             "#fb9f3a"
            ],
            [
             0.8888888888888888,
             "#fdca26"
            ],
            [
             1,
             "#f0f921"
            ]
           ]
          },
          "colorway": [
           "#636efa",
           "#EF553B",
           "#00cc96",
           "#ab63fa",
           "#FFA15A",
           "#19d3f3",
           "#FF6692",
           "#B6E880",
           "#FF97FF",
           "#FECB52"
          ],
          "font": {
           "color": "#2a3f5f"
          },
          "geo": {
           "bgcolor": "white",
           "lakecolor": "white",
           "landcolor": "#E5ECF6",
           "showlakes": true,
           "showland": true,
           "subunitcolor": "white"
          },
          "hoverlabel": {
           "align": "left"
          },
          "hovermode": "closest",
          "mapbox": {
           "style": "light"
          },
          "paper_bgcolor": "white",
          "plot_bgcolor": "#E5ECF6",
          "polar": {
           "angularaxis": {
            "gridcolor": "white",
            "linecolor": "white",
            "ticks": ""
           },
           "bgcolor": "#E5ECF6",
           "radialaxis": {
            "gridcolor": "white",
            "linecolor": "white",
            "ticks": ""
           }
          },
          "scene": {
           "xaxis": {
            "backgroundcolor": "#E5ECF6",
            "gridcolor": "white",
            "gridwidth": 2,
            "linecolor": "white",
            "showbackground": true,
            "ticks": "",
            "zerolinecolor": "white"
           },
           "yaxis": {
            "backgroundcolor": "#E5ECF6",
            "gridcolor": "white",
            "gridwidth": 2,
            "linecolor": "white",
            "showbackground": true,
            "ticks": "",
            "zerolinecolor": "white"
           },
           "zaxis": {
            "backgroundcolor": "#E5ECF6",
            "gridcolor": "white",
            "gridwidth": 2,
            "linecolor": "white",
            "showbackground": true,
            "ticks": "",
            "zerolinecolor": "white"
           }
          },
          "shapedefaults": {
           "line": {
            "color": "#2a3f5f"
           }
          },
          "ternary": {
           "aaxis": {
            "gridcolor": "white",
            "linecolor": "white",
            "ticks": ""
           },
           "baxis": {
            "gridcolor": "white",
            "linecolor": "white",
            "ticks": ""
           },
           "bgcolor": "#E5ECF6",
           "caxis": {
            "gridcolor": "white",
            "linecolor": "white",
            "ticks": ""
           }
          },
          "title": {
           "x": 0.05
          },
          "xaxis": {
           "automargin": true,
           "gridcolor": "white",
           "linecolor": "white",
           "ticks": "",
           "title": {
            "standoff": 15
           },
           "zerolinecolor": "white",
           "zerolinewidth": 2
          },
          "yaxis": {
           "automargin": true,
           "gridcolor": "white",
           "linecolor": "white",
           "ticks": "",
           "title": {
            "standoff": 15
           },
           "zerolinecolor": "white",
           "zerolinewidth": 2
          }
         }
        },
        "title": {
         "text": "Rede Cúbica Simples (L = 1)<br>Total de átomos: 27"
        },
        "width": 800
       }
      }
     },
     "metadata": {},
     "output_type": "display_data"
    },
    {
     "name": "stdout",
     "output_type": "stream",
     "text": [
      "\n",
      "Criando rede cúbica com L = 2\n",
      "Rede vai de -2 até 2 em cada dimensão\n",
      "Total de átomos: 125\n"
     ]
    },
    {
     "data": {
      "application/vnd.plotly.v1+json": {
       "config": {
        "plotlyServerURL": "https://plot.ly"
       },
       "data": [
        {
         "hovertemplate": "<b>Átomo</b><br>x: %{x}<br>y: %{y}<br>z: %{z}<br><extra></extra>",
         "marker": {
          "color": "blue",
          "opacity": 0.8,
          "size": 8,
          "symbol": "circle"
         },
         "mode": "markers",
         "name": "Átomos",
         "type": "scatter3d",
         "x": {
          "bdata": "/v7+/v7+/v7+/v7+/v7+/v7+/v7+/v7+/v////////////////////////////////8AAAAAAAAAAAAAAAAAAAAAAAAAAAAAAAAAAQEBAQEBAQEBAQEBAQEBAQEBAQEBAQEBAQICAgICAgICAgICAgICAgICAgICAgICAgI=",
          "dtype": "i1"
         },
         "y": {
          "bdata": "/v7+/v7//////wAAAAAAAQEBAQECAgICAv7+/v7+//////8AAAAAAAEBAQEBAgICAgL+/v7+/v//////AAAAAAABAQEBAQICAgIC/v7+/v7//////wAAAAAAAQEBAQECAgICAv7+/v7+//////8AAAAAAAEBAQEBAgICAgI=",
          "dtype": "i1"
         },
         "z": {
          "bdata": "/v8AAQL+/wABAv7/AAEC/v8AAQL+/wABAv7/AAEC/v8AAQL+/wABAv7/AAEC/v8AAQL+/wABAv7/AAEC/v8AAQL+/wABAv7/AAEC/v8AAQL+/wABAv7/AAEC/v8AAQL+/wABAv7/AAEC/v8AAQL+/wABAv7/AAEC/v8AAQI=",
          "dtype": "i1"
         }
        },
        {
         "hoverinfo": "none",
         "line": {
          "color": "gray",
          "width": 2
         },
         "mode": "lines",
         "name": "Ligações",
         "showlegend": false,
         "type": "scatter3d",
         "x": [
          -2,
          -2,
          null,
          -2,
          -2,
          null,
          -2,
          -1,
          null,
          -2,
          -2,
          null,
          -2,
          -2,
          null,
          -2,
          -1,
          null,
          -2,
          -2,
          null,
          -2,
          -2,
          null,
          -2,
          -1,
          null,
          -2,
          -2,
          null,
          -2,
          -2,
          null,
          -2,
          -1,
          null,
          -2,
          -2,
          null,
          -2,
          -1,
          null,
          -2,
          -2,
          null,
          -2,
          -2,
          null,
          -2,
          -1,
          null,
          -2,
          -2,
          null,
          -2,
          -2,
          null,
          -2,
          -1,
          null,
          -2,
          -2,
          null,
          -2,
          -2,
          null,
          -2,
          -1,
          null,
          -2,
          -2,
          null,
          -2,
          -2,
          null,
          -2,
          -1,
          null,
          -2,
          -2,
          null,
          -2,
          -1,
          null,
          -2,
          -2,
          null,
          -2,
          -2,
          null,
          -2,
          -1,
          null,
          -2,
          -2,
          null,
          -2,
          -2,
          null,
          -2,
          -1,
          null,
          -2,
          -2,
          null,
          -2,
          -2,
          null,
          -2,
          -1,
          null,
          -2,
          -2,
          null,
          -2,
          -2,
          null,
          -2,
          -1,
          null,
          -2,
          -2,
          null,
          -2,
          -1,
          null,
          -2,
          -2,
          null,
          -2,
          -2,
          null,
          -2,
          -1,
          null,
          -2,
          -2,
          null,
          -2,
          -2,
          null,
          -2,
          -1,
          null,
          -2,
          -2,
          null,
          -2,
          -2,
          null,
          -2,
          -1,
          null,
          -2,
          -2,
          null,
          -2,
          -2,
          null,
          -2,
          -1,
          null,
          -2,
          -2,
          null,
          -2,
          -1,
          null,
          -2,
          -2,
          null,
          -2,
          -1,
          null,
          -2,
          -2,
          null,
          -2,
          -1,
          null,
          -2,
          -2,
          null,
          -2,
          -1,
          null,
          -2,
          -2,
          null,
          -2,
          -1,
          null,
          -2,
          -1,
          null,
          -1,
          -1,
          null,
          -1,
          -1,
          null,
          -1,
          0,
          null,
          -1,
          -1,
          null,
          -1,
          -1,
          null,
          -1,
          0,
          null,
          -1,
          -1,
          null,
          -1,
          -1,
          null,
          -1,
          0,
          null,
          -1,
          -1,
          null,
          -1,
          -1,
          null,
          -1,
          0,
          null,
          -1,
          -1,
          null,
          -1,
          0,
          null,
          -1,
          -1,
          null,
          -1,
          -1,
          null,
          -1,
          0,
          null,
          -1,
          -1,
          null,
          -1,
          -1,
          null,
          -1,
          0,
          null,
          -1,
          -1,
          null,
          -1,
          -1,
          null,
          -1,
          0,
          null,
          -1,
          -1,
          null,
          -1,
          -1,
          null,
          -1,
          0,
          null,
          -1,
          -1,
          null,
          -1,
          0,
          null,
          -1,
          -1,
          null,
          -1,
          -1,
          null,
          -1,
          0,
          null,
          -1,
          -1,
          null,
          -1,
          -1,
          null,
          -1,
          0,
          null,
          -1,
          -1,
          null,
          -1,
          -1,
          null,
          -1,
          0,
          null,
          -1,
          -1,
          null,
          -1,
          -1,
          null,
          -1,
          0,
          null,
          -1,
          -1,
          null,
          -1,
          0,
          null,
          -1,
          -1,
          null,
          -1,
          -1,
          null,
          -1,
          0,
          null,
          -1,
          -1,
          null,
          -1,
          -1,
          null,
          -1,
          0,
          null,
          -1,
          -1,
          null,
          -1,
          -1,
          null,
          -1,
          0,
          null,
          -1,
          -1,
          null,
          -1,
          -1,
          null,
          -1,
          0,
          null,
          -1,
          -1,
          null,
          -1,
          0,
          null,
          -1,
          -1,
          null,
          -1,
          0,
          null,
          -1,
          -1,
          null,
          -1,
          0,
          null,
          -1,
          -1,
          null,
          -1,
          0,
          null,
          -1,
          -1,
          null,
          -1,
          0,
          null,
          -1,
          0,
          null,
          0,
          0,
          null,
          0,
          0,
          null,
          0,
          1,
          null,
          0,
          0,
          null,
          0,
          0,
          null,
          0,
          1,
          null,
          0,
          0,
          null,
          0,
          0,
          null,
          0,
          1,
          null,
          0,
          0,
          null,
          0,
          0,
          null,
          0,
          1,
          null,
          0,
          0,
          null,
          0,
          1,
          null,
          0,
          0,
          null,
          0,
          0,
          null,
          0,
          1,
          null,
          0,
          0,
          null,
          0,
          0,
          null,
          0,
          1,
          null,
          0,
          0,
          null,
          0,
          0,
          null,
          0,
          1,
          null,
          0,
          0,
          null,
          0,
          0,
          null,
          0,
          1,
          null,
          0,
          0,
          null,
          0,
          1,
          null,
          0,
          0,
          null,
          0,
          0,
          null,
          0,
          1,
          null,
          0,
          0,
          null,
          0,
          0,
          null,
          0,
          1,
          null,
          0,
          0,
          null,
          0,
          0,
          null,
          0,
          1,
          null,
          0,
          0,
          null,
          0,
          0,
          null,
          0,
          1,
          null,
          0,
          0,
          null,
          0,
          1,
          null,
          0,
          0,
          null,
          0,
          0,
          null,
          0,
          1,
          null,
          0,
          0,
          null,
          0,
          0,
          null,
          0,
          1,
          null,
          0,
          0,
          null,
          0,
          0,
          null,
          0,
          1,
          null,
          0,
          0,
          null,
          0,
          0,
          null,
          0,
          1,
          null,
          0,
          0,
          null,
          0,
          1,
          null,
          0,
          0,
          null,
          0,
          1,
          null,
          0,
          0,
          null,
          0,
          1,
          null,
          0,
          0,
          null,
          0,
          1,
          null,
          0,
          0,
          null,
          0,
          1,
          null,
          0,
          1,
          null,
          1,
          1,
          null,
          1,
          1,
          null,
          1,
          2,
          null,
          1,
          1,
          null,
          1,
          1,
          null,
          1,
          2,
          null,
          1,
          1,
          null,
          1,
          1,
          null,
          1,
          2,
          null,
          1,
          1,
          null,
          1,
          1,
          null,
          1,
          2,
          null,
          1,
          1,
          null,
          1,
          2,
          null,
          1,
          1,
          null,
          1,
          1,
          null,
          1,
          2,
          null,
          1,
          1,
          null,
          1,
          1,
          null,
          1,
          2,
          null,
          1,
          1,
          null,
          1,
          1,
          null,
          1,
          2,
          null,
          1,
          1,
          null,
          1,
          1,
          null,
          1,
          2,
          null,
          1,
          1,
          null,
          1,
          2,
          null,
          1,
          1,
          null,
          1,
          1,
          null,
          1,
          2,
          null,
          1,
          1,
          null,
          1,
          1,
          null,
          1,
          2,
          null,
          1,
          1,
          null,
          1,
          1,
          null,
          1,
          2,
          null,
          1,
          1,
          null,
          1,
          1,
          null,
          1,
          2,
          null,
          1,
          1,
          null,
          1,
          2,
          null,
          1,
          1,
          null,
          1,
          1,
          null,
          1,
          2,
          null,
          1,
          1,
          null,
          1,
          1,
          null,
          1,
          2,
          null,
          1,
          1,
          null,
          1,
          1,
          null,
          1,
          2,
          null,
          1,
          1,
          null,
          1,
          1,
          null,
          1,
          2,
          null,
          1,
          1,
          null,
          1,
          2,
          null,
          1,
          1,
          null,
          1,
          2,
          null,
          1,
          1,
          null,
          1,
          2,
          null,
          1,
          1,
          null,
          1,
          2,
          null,
          1,
          1,
          null,
          1,
          2,
          null,
          1,
          2,
          null,
          2,
          2,
          null,
          2,
          2,
          null,
          2,
          2,
          null,
          2,
          2,
          null,
          2,
          2,
          null,
          2,
          2,
          null,
          2,
          2,
          null,
          2,
          2,
          null,
          2,
          2,
          null,
          2,
          2,
          null,
          2,
          2,
          null,
          2,
          2,
          null,
          2,
          2,
          null,
          2,
          2,
          null,
          2,
          2,
          null,
          2,
          2,
          null,
          2,
          2,
          null,
          2,
          2,
          null,
          2,
          2,
          null,
          2,
          2,
          null,
          2,
          2,
          null,
          2,
          2,
          null,
          2,
          2,
          null,
          2,
          2,
          null,
          2,
          2,
          null,
          2,
          2,
          null,
          2,
          2,
          null,
          2,
          2,
          null,
          2,
          2,
          null,
          2,
          2,
          null,
          2,
          2,
          null,
          2,
          2,
          null,
          2,
          2,
          null,
          2,
          2,
          null,
          2,
          2,
          null,
          2,
          2,
          null,
          2,
          2,
          null,
          2,
          2,
          null,
          2,
          2,
          null,
          2,
          2,
          null
         ],
         "y": [
          -2,
          -2,
          null,
          -2,
          -1,
          null,
          -2,
          -2,
          null,
          -2,
          -2,
          null,
          -2,
          -1,
          null,
          -2,
          -2,
          null,
          -2,
          -2,
          null,
          -2,
          -1,
          null,
          -2,
          -2,
          null,
          -2,
          -2,
          null,
          -2,
          -1,
          null,
          -2,
          -2,
          null,
          -2,
          -1,
          null,
          -2,
          -2,
          null,
          -1,
          -1,
          null,
          -1,
          0,
          null,
          -1,
          -1,
          null,
          -1,
          -1,
          null,
          -1,
          0,
          null,
          -1,
          -1,
          null,
          -1,
          -1,
          null,
          -1,
          0,
          null,
          -1,
          -1,
          null,
          -1,
          -1,
          null,
          -1,
          0,
          null,
          -1,
          -1,
          null,
          -1,
          0,
          null,
          -1,
          -1,
          null,
          0,
          0,
          null,
          0,
          1,
          null,
          0,
          0,
          null,
          0,
          0,
          null,
          0,
          1,
          null,
          0,
          0,
          null,
          0,
          0,
          null,
          0,
          1,
          null,
          0,
          0,
          null,
          0,
          0,
          null,
          0,
          1,
          null,
          0,
          0,
          null,
          0,
          1,
          null,
          0,
          0,
          null,
          1,
          1,
          null,
          1,
          2,
          null,
          1,
          1,
          null,
          1,
          1,
          null,
          1,
          2,
          null,
          1,
          1,
          null,
          1,
          1,
          null,
          1,
          2,
          null,
          1,
          1,
          null,
          1,
          1,
          null,
          1,
          2,
          null,
          1,
          1,
          null,
          1,
          2,
          null,
          1,
          1,
          null,
          2,
          2,
          null,
          2,
          2,
          null,
          2,
          2,
          null,
          2,
          2,
          null,
          2,
          2,
          null,
          2,
          2,
          null,
          2,
          2,
          null,
          2,
          2,
          null,
          2,
          2,
          null,
          -2,
          -2,
          null,
          -2,
          -1,
          null,
          -2,
          -2,
          null,
          -2,
          -2,
          null,
          -2,
          -1,
          null,
          -2,
          -2,
          null,
          -2,
          -2,
          null,
          -2,
          -1,
          null,
          -2,
          -2,
          null,
          -2,
          -2,
          null,
          -2,
          -1,
          null,
          -2,
          -2,
          null,
          -2,
          -1,
          null,
          -2,
          -2,
          null,
          -1,
          -1,
          null,
          -1,
          0,
          null,
          -1,
          -1,
          null,
          -1,
          -1,
          null,
          -1,
          0,
          null,
          -1,
          -1,
          null,
          -1,
          -1,
          null,
          -1,
          0,
          null,
          -1,
          -1,
          null,
          -1,
          -1,
          null,
          -1,
          0,
          null,
          -1,
          -1,
          null,
          -1,
          0,
          null,
          -1,
          -1,
          null,
          0,
          0,
          null,
          0,
          1,
          null,
          0,
          0,
          null,
          0,
          0,
          null,
          0,
          1,
          null,
          0,
          0,
          null,
          0,
          0,
          null,
          0,
          1,
          null,
          0,
          0,
          null,
          0,
          0,
          null,
          0,
          1,
          null,
          0,
          0,
          null,
          0,
          1,
          null,
          0,
          0,
          null,
          1,
          1,
          null,
          1,
          2,
          null,
          1,
          1,
          null,
          1,
          1,
          null,
          1,
          2,
          null,
          1,
          1,
          null,
          1,
          1,
          null,
          1,
          2,
          null,
          1,
          1,
          null,
          1,
          1,
          null,
          1,
          2,
          null,
          1,
          1,
          null,
          1,
          2,
          null,
          1,
          1,
          null,
          2,
          2,
          null,
          2,
          2,
          null,
          2,
          2,
          null,
          2,
          2,
          null,
          2,
          2,
          null,
          2,
          2,
          null,
          2,
          2,
          null,
          2,
          2,
          null,
          2,
          2,
          null,
          -2,
          -2,
          null,
          -2,
          -1,
          null,
          -2,
          -2,
          null,
          -2,
          -2,
          null,
          -2,
          -1,
          null,
          -2,
          -2,
          null,
          -2,
          -2,
          null,
          -2,
          -1,
          null,
          -2,
          -2,
          null,
          -2,
          -2,
          null,
          -2,
          -1,
          null,
          -2,
          -2,
          null,
          -2,
          -1,
          null,
          -2,
          -2,
          null,
          -1,
          -1,
          null,
          -1,
          0,
          null,
          -1,
          -1,
          null,
          -1,
          -1,
          null,
          -1,
          0,
          null,
          -1,
          -1,
          null,
          -1,
          -1,
          null,
          -1,
          0,
          null,
          -1,
          -1,
          null,
          -1,
          -1,
          null,
          -1,
          0,
          null,
          -1,
          -1,
          null,
          -1,
          0,
          null,
          -1,
          -1,
          null,
          0,
          0,
          null,
          0,
          1,
          null,
          0,
          0,
          null,
          0,
          0,
          null,
          0,
          1,
          null,
          0,
          0,
          null,
          0,
          0,
          null,
          0,
          1,
          null,
          0,
          0,
          null,
          0,
          0,
          null,
          0,
          1,
          null,
          0,
          0,
          null,
          0,
          1,
          null,
          0,
          0,
          null,
          1,
          1,
          null,
          1,
          2,
          null,
          1,
          1,
          null,
          1,
          1,
          null,
          1,
          2,
          null,
          1,
          1,
          null,
          1,
          1,
          null,
          1,
          2,
          null,
          1,
          1,
          null,
          1,
          1,
          null,
          1,
          2,
          null,
          1,
          1,
          null,
          1,
          2,
          null,
          1,
          1,
          null,
          2,
          2,
          null,
          2,
          2,
          null,
          2,
          2,
          null,
          2,
          2,
          null,
          2,
          2,
          null,
          2,
          2,
          null,
          2,
          2,
          null,
          2,
          2,
          null,
          2,
          2,
          null,
          -2,
          -2,
          null,
          -2,
          -1,
          null,
          -2,
          -2,
          null,
          -2,
          -2,
          null,
          -2,
          -1,
          null,
          -2,
          -2,
          null,
          -2,
          -2,
          null,
          -2,
          -1,
          null,
          -2,
          -2,
          null,
          -2,
          -2,
          null,
          -2,
          -1,
          null,
          -2,
          -2,
          null,
          -2,
          -1,
          null,
          -2,
          -2,
          null,
          -1,
          -1,
          null,
          -1,
          0,
          null,
          -1,
          -1,
          null,
          -1,
          -1,
          null,
          -1,
          0,
          null,
          -1,
          -1,
          null,
          -1,
          -1,
          null,
          -1,
          0,
          null,
          -1,
          -1,
          null,
          -1,
          -1,
          null,
          -1,
          0,
          null,
          -1,
          -1,
          null,
          -1,
          0,
          null,
          -1,
          -1,
          null,
          0,
          0,
          null,
          0,
          1,
          null,
          0,
          0,
          null,
          0,
          0,
          null,
          0,
          1,
          null,
          0,
          0,
          null,
          0,
          0,
          null,
          0,
          1,
          null,
          0,
          0,
          null,
          0,
          0,
          null,
          0,
          1,
          null,
          0,
          0,
          null,
          0,
          1,
          null,
          0,
          0,
          null,
          1,
          1,
          null,
          1,
          2,
          null,
          1,
          1,
          null,
          1,
          1,
          null,
          1,
          2,
          null,
          1,
          1,
          null,
          1,
          1,
          null,
          1,
          2,
          null,
          1,
          1,
          null,
          1,
          1,
          null,
          1,
          2,
          null,
          1,
          1,
          null,
          1,
          2,
          null,
          1,
          1,
          null,
          2,
          2,
          null,
          2,
          2,
          null,
          2,
          2,
          null,
          2,
          2,
          null,
          2,
          2,
          null,
          2,
          2,
          null,
          2,
          2,
          null,
          2,
          2,
          null,
          2,
          2,
          null,
          -2,
          -2,
          null,
          -2,
          -1,
          null,
          -2,
          -2,
          null,
          -2,
          -1,
          null,
          -2,
          -2,
          null,
          -2,
          -1,
          null,
          -2,
          -2,
          null,
          -2,
          -1,
          null,
          -2,
          -1,
          null,
          -1,
          -1,
          null,
          -1,
          0,
          null,
          -1,
          -1,
          null,
          -1,
          0,
          null,
          -1,
          -1,
          null,
          -1,
          0,
          null,
          -1,
          -1,
          null,
          -1,
          0,
          null,
          -1,
          0,
          null,
          0,
          0,
          null,
          0,
          1,
          null,
          0,
          0,
          null,
          0,
          1,
          null,
          0,
          0,
          null,
          0,
          1,
          null,
          0,
          0,
          null,
          0,
          1,
          null,
          0,
          1,
          null,
          1,
          1,
          null,
          1,
          2,
          null,
          1,
          1,
          null,
          1,
          2,
          null,
          1,
          1,
          null,
          1,
          2,
          null,
          1,
          1,
          null,
          1,
          2,
          null,
          1,
          2,
          null,
          2,
          2,
          null,
          2,
          2,
          null,
          2,
          2,
          null,
          2,
          2,
          null
         ],
         "z": [
          -2,
          -1,
          null,
          -2,
          -2,
          null,
          -2,
          -2,
          null,
          -1,
          0,
          null,
          -1,
          -1,
          null,
          -1,
          -1,
          null,
          0,
          1,
          null,
          0,
          0,
          null,
          0,
          0,
          null,
          1,
          2,
          null,
          1,
          1,
          null,
          1,
          1,
          null,
          2,
          2,
          null,
          2,
          2,
          null,
          -2,
          -1,
          null,
          -2,
          -2,
          null,
          -2,
          -2,
          null,
          -1,
          0,
          null,
          -1,
          -1,
          null,
          -1,
          -1,
          null,
          0,
          1,
          null,
          0,
          0,
          null,
          0,
          0,
          null,
          1,
          2,
          null,
          1,
          1,
          null,
          1,
          1,
          null,
          2,
          2,
          null,
          2,
          2,
          null,
          -2,
          -1,
          null,
          -2,
          -2,
          null,
          -2,
          -2,
          null,
          -1,
          0,
          null,
          -1,
          -1,
          null,
          -1,
          -1,
          null,
          0,
          1,
          null,
          0,
          0,
          null,
          0,
          0,
          null,
          1,
          2,
          null,
          1,
          1,
          null,
          1,
          1,
          null,
          2,
          2,
          null,
          2,
          2,
          null,
          -2,
          -1,
          null,
          -2,
          -2,
          null,
          -2,
          -2,
          null,
          -1,
          0,
          null,
          -1,
          -1,
          null,
          -1,
          -1,
          null,
          0,
          1,
          null,
          0,
          0,
          null,
          0,
          0,
          null,
          1,
          2,
          null,
          1,
          1,
          null,
          1,
          1,
          null,
          2,
          2,
          null,
          2,
          2,
          null,
          -2,
          -1,
          null,
          -2,
          -2,
          null,
          -1,
          0,
          null,
          -1,
          -1,
          null,
          0,
          1,
          null,
          0,
          0,
          null,
          1,
          2,
          null,
          1,
          1,
          null,
          2,
          2,
          null,
          -2,
          -1,
          null,
          -2,
          -2,
          null,
          -2,
          -2,
          null,
          -1,
          0,
          null,
          -1,
          -1,
          null,
          -1,
          -1,
          null,
          0,
          1,
          null,
          0,
          0,
          null,
          0,
          0,
          null,
          1,
          2,
          null,
          1,
          1,
          null,
          1,
          1,
          null,
          2,
          2,
          null,
          2,
          2,
          null,
          -2,
          -1,
          null,
          -2,
          -2,
          null,
          -2,
          -2,
          null,
          -1,
          0,
          null,
          -1,
          -1,
          null,
          -1,
          -1,
          null,
          0,
          1,
          null,
          0,
          0,
          null,
          0,
          0,
          null,
          1,
          2,
          null,
          1,
          1,
          null,
          1,
          1,
          null,
          2,
          2,
          null,
          2,
          2,
          null,
          -2,
          -1,
          null,
          -2,
          -2,
          null,
          -2,
          -2,
          null,
          -1,
          0,
          null,
          -1,
          -1,
          null,
          -1,
          -1,
          null,
          0,
          1,
          null,
          0,
          0,
          null,
          0,
          0,
          null,
          1,
          2,
          null,
          1,
          1,
          null,
          1,
          1,
          null,
          2,
          2,
          null,
          2,
          2,
          null,
          -2,
          -1,
          null,
          -2,
          -2,
          null,
          -2,
          -2,
          null,
          -1,
          0,
          null,
          -1,
          -1,
          null,
          -1,
          -1,
          null,
          0,
          1,
          null,
          0,
          0,
          null,
          0,
          0,
          null,
          1,
          2,
          null,
          1,
          1,
          null,
          1,
          1,
          null,
          2,
          2,
          null,
          2,
          2,
          null,
          -2,
          -1,
          null,
          -2,
          -2,
          null,
          -1,
          0,
          null,
          -1,
          -1,
          null,
          0,
          1,
          null,
          0,
          0,
          null,
          1,
          2,
          null,
          1,
          1,
          null,
          2,
          2,
          null,
          -2,
          -1,
          null,
          -2,
          -2,
          null,
          -2,
          -2,
          null,
          -1,
          0,
          null,
          -1,
          -1,
          null,
          -1,
          -1,
          null,
          0,
          1,
          null,
          0,
          0,
          null,
          0,
          0,
          null,
          1,
          2,
          null,
          1,
          1,
          null,
          1,
          1,
          null,
          2,
          2,
          null,
          2,
          2,
          null,
          -2,
          -1,
          null,
          -2,
          -2,
          null,
          -2,
          -2,
          null,
          -1,
          0,
          null,
          -1,
          -1,
          null,
          -1,
          -1,
          null,
          0,
          1,
          null,
          0,
          0,
          null,
          0,
          0,
          null,
          1,
          2,
          null,
          1,
          1,
          null,
          1,
          1,
          null,
          2,
          2,
          null,
          2,
          2,
          null,
          -2,
          -1,
          null,
          -2,
          -2,
          null,
          -2,
          -2,
          null,
          -1,
          0,
          null,
          -1,
          -1,
          null,
          -1,
          -1,
          null,
          0,
          1,
          null,
          0,
          0,
          null,
          0,
          0,
          null,
          1,
          2,
          null,
          1,
          1,
          null,
          1,
          1,
          null,
          2,
          2,
          null,
          2,
          2,
          null,
          -2,
          -1,
          null,
          -2,
          -2,
          null,
          -2,
          -2,
          null,
          -1,
          0,
          null,
          -1,
          -1,
          null,
          -1,
          -1,
          null,
          0,
          1,
          null,
          0,
          0,
          null,
          0,
          0,
          null,
          1,
          2,
          null,
          1,
          1,
          null,
          1,
          1,
          null,
          2,
          2,
          null,
          2,
          2,
          null,
          -2,
          -1,
          null,
          -2,
          -2,
          null,
          -1,
          0,
          null,
          -1,
          -1,
          null,
          0,
          1,
          null,
          0,
          0,
          null,
          1,
          2,
          null,
          1,
          1,
          null,
          2,
          2,
          null,
          -2,
          -1,
          null,
          -2,
          -2,
          null,
          -2,
          -2,
          null,
          -1,
          0,
          null,
          -1,
          -1,
          null,
          -1,
          -1,
          null,
          0,
          1,
          null,
          0,
          0,
          null,
          0,
          0,
          null,
          1,
          2,
          null,
          1,
          1,
          null,
          1,
          1,
          null,
          2,
          2,
          null,
          2,
          2,
          null,
          -2,
          -1,
          null,
          -2,
          -2,
          null,
          -2,
          -2,
          null,
          -1,
          0,
          null,
          -1,
          -1,
          null,
          -1,
          -1,
          null,
          0,
          1,
          null,
          0,
          0,
          null,
          0,
          0,
          null,
          1,
          2,
          null,
          1,
          1,
          null,
          1,
          1,
          null,
          2,
          2,
          null,
          2,
          2,
          null,
          -2,
          -1,
          null,
          -2,
          -2,
          null,
          -2,
          -2,
          null,
          -1,
          0,
          null,
          -1,
          -1,
          null,
          -1,
          -1,
          null,
          0,
          1,
          null,
          0,
          0,
          null,
          0,
          0,
          null,
          1,
          2,
          null,
          1,
          1,
          null,
          1,
          1,
          null,
          2,
          2,
          null,
          2,
          2,
          null,
          -2,
          -1,
          null,
          -2,
          -2,
          null,
          -2,
          -2,
          null,
          -1,
          0,
          null,
          -1,
          -1,
          null,
          -1,
          -1,
          null,
          0,
          1,
          null,
          0,
          0,
          null,
          0,
          0,
          null,
          1,
          2,
          null,
          1,
          1,
          null,
          1,
          1,
          null,
          2,
          2,
          null,
          2,
          2,
          null,
          -2,
          -1,
          null,
          -2,
          -2,
          null,
          -1,
          0,
          null,
          -1,
          -1,
          null,
          0,
          1,
          null,
          0,
          0,
          null,
          1,
          2,
          null,
          1,
          1,
          null,
          2,
          2,
          null,
          -2,
          -1,
          null,
          -2,
          -2,
          null,
          -1,
          0,
          null,
          -1,
          -1,
          null,
          0,
          1,
          null,
          0,
          0,
          null,
          1,
          2,
          null,
          1,
          1,
          null,
          2,
          2,
          null,
          -2,
          -1,
          null,
          -2,
          -2,
          null,
          -1,
          0,
          null,
          -1,
          -1,
          null,
          0,
          1,
          null,
          0,
          0,
          null,
          1,
          2,
          null,
          1,
          1,
          null,
          2,
          2,
          null,
          -2,
          -1,
          null,
          -2,
          -2,
          null,
          -1,
          0,
          null,
          -1,
          -1,
          null,
          0,
          1,
          null,
          0,
          0,
          null,
          1,
          2,
          null,
          1,
          1,
          null,
          2,
          2,
          null,
          -2,
          -1,
          null,
          -2,
          -2,
          null,
          -1,
          0,
          null,
          -1,
          -1,
          null,
          0,
          1,
          null,
          0,
          0,
          null,
          1,
          2,
          null,
          1,
          1,
          null,
          2,
          2,
          null,
          -2,
          -1,
          null,
          -1,
          0,
          null,
          0,
          1,
          null,
          1,
          2,
          null
         ]
        }
       ],
       "layout": {
        "height": 600,
        "scene": {
         "xaxis": {
          "range": [
           -3,
           3
          ],
          "title": {
           "text": "X"
          }
         },
         "yaxis": {
          "range": [
           -3,
           3
          ],
          "title": {
           "text": "Y"
          }
         },
         "zaxis": {
          "range": [
           -3,
           3
          ],
          "title": {
           "text": "Z"
          }
         }
        },
        "showlegend": true,
        "template": {
         "data": {
          "bar": [
           {
            "error_x": {
             "color": "#2a3f5f"
            },
            "error_y": {
             "color": "#2a3f5f"
            },
            "marker": {
             "line": {
              "color": "#E5ECF6",
              "width": 0.5
             },
             "pattern": {
              "fillmode": "overlay",
              "size": 10,
              "solidity": 0.2
             }
            },
            "type": "bar"
           }
          ],
          "barpolar": [
           {
            "marker": {
             "line": {
              "color": "#E5ECF6",
              "width": 0.5
             },
             "pattern": {
              "fillmode": "overlay",
              "size": 10,
              "solidity": 0.2
             }
            },
            "type": "barpolar"
           }
          ],
          "carpet": [
           {
            "aaxis": {
             "endlinecolor": "#2a3f5f",
             "gridcolor": "white",
             "linecolor": "white",
             "minorgridcolor": "white",
             "startlinecolor": "#2a3f5f"
            },
            "baxis": {
             "endlinecolor": "#2a3f5f",
             "gridcolor": "white",
             "linecolor": "white",
             "minorgridcolor": "white",
             "startlinecolor": "#2a3f5f"
            },
            "type": "carpet"
           }
          ],
          "choropleth": [
           {
            "colorbar": {
             "outlinewidth": 0,
             "ticks": ""
            },
            "type": "choropleth"
           }
          ],
          "contour": [
           {
            "colorbar": {
             "outlinewidth": 0,
             "ticks": ""
            },
            "colorscale": [
             [
              0,
              "#0d0887"
             ],
             [
              0.1111111111111111,
              "#46039f"
             ],
             [
              0.2222222222222222,
              "#7201a8"
             ],
             [
              0.3333333333333333,
              "#9c179e"
             ],
             [
              0.4444444444444444,
              "#bd3786"
             ],
             [
              0.5555555555555556,
              "#d8576b"
             ],
             [
              0.6666666666666666,
              "#ed7953"
             ],
             [
              0.7777777777777778,
              "#fb9f3a"
             ],
             [
              0.8888888888888888,
              "#fdca26"
             ],
             [
              1,
              "#f0f921"
             ]
            ],
            "type": "contour"
           }
          ],
          "contourcarpet": [
           {
            "colorbar": {
             "outlinewidth": 0,
             "ticks": ""
            },
            "type": "contourcarpet"
           }
          ],
          "heatmap": [
           {
            "colorbar": {
             "outlinewidth": 0,
             "ticks": ""
            },
            "colorscale": [
             [
              0,
              "#0d0887"
             ],
             [
              0.1111111111111111,
              "#46039f"
             ],
             [
              0.2222222222222222,
              "#7201a8"
             ],
             [
              0.3333333333333333,
              "#9c179e"
             ],
             [
              0.4444444444444444,
              "#bd3786"
             ],
             [
              0.5555555555555556,
              "#d8576b"
             ],
             [
              0.6666666666666666,
              "#ed7953"
             ],
             [
              0.7777777777777778,
              "#fb9f3a"
             ],
             [
              0.8888888888888888,
              "#fdca26"
             ],
             [
              1,
              "#f0f921"
             ]
            ],
            "type": "heatmap"
           }
          ],
          "histogram": [
           {
            "marker": {
             "pattern": {
              "fillmode": "overlay",
              "size": 10,
              "solidity": 0.2
             }
            },
            "type": "histogram"
           }
          ],
          "histogram2d": [
           {
            "colorbar": {
             "outlinewidth": 0,
             "ticks": ""
            },
            "colorscale": [
             [
              0,
              "#0d0887"
             ],
             [
              0.1111111111111111,
              "#46039f"
             ],
             [
              0.2222222222222222,
              "#7201a8"
             ],
             [
              0.3333333333333333,
              "#9c179e"
             ],
             [
              0.4444444444444444,
              "#bd3786"
             ],
             [
              0.5555555555555556,
              "#d8576b"
             ],
             [
              0.6666666666666666,
              "#ed7953"
             ],
             [
              0.7777777777777778,
              "#fb9f3a"
             ],
             [
              0.8888888888888888,
              "#fdca26"
             ],
             [
              1,
              "#f0f921"
             ]
            ],
            "type": "histogram2d"
           }
          ],
          "histogram2dcontour": [
           {
            "colorbar": {
             "outlinewidth": 0,
             "ticks": ""
            },
            "colorscale": [
             [
              0,
              "#0d0887"
             ],
             [
              0.1111111111111111,
              "#46039f"
             ],
             [
              0.2222222222222222,
              "#7201a8"
             ],
             [
              0.3333333333333333,
              "#9c179e"
             ],
             [
              0.4444444444444444,
              "#bd3786"
             ],
             [
              0.5555555555555556,
              "#d8576b"
             ],
             [
              0.6666666666666666,
              "#ed7953"
             ],
             [
              0.7777777777777778,
              "#fb9f3a"
             ],
             [
              0.8888888888888888,
              "#fdca26"
             ],
             [
              1,
              "#f0f921"
             ]
            ],
            "type": "histogram2dcontour"
           }
          ],
          "mesh3d": [
           {
            "colorbar": {
             "outlinewidth": 0,
             "ticks": ""
            },
            "type": "mesh3d"
           }
          ],
          "parcoords": [
           {
            "line": {
             "colorbar": {
              "outlinewidth": 0,
              "ticks": ""
             }
            },
            "type": "parcoords"
           }
          ],
          "pie": [
           {
            "automargin": true,
            "type": "pie"
           }
          ],
          "scatter": [
           {
            "fillpattern": {
             "fillmode": "overlay",
             "size": 10,
             "solidity": 0.2
            },
            "type": "scatter"
           }
          ],
          "scatter3d": [
           {
            "line": {
             "colorbar": {
              "outlinewidth": 0,
              "ticks": ""
             }
            },
            "marker": {
             "colorbar": {
              "outlinewidth": 0,
              "ticks": ""
             }
            },
            "type": "scatter3d"
           }
          ],
          "scattercarpet": [
           {
            "marker": {
             "colorbar": {
              "outlinewidth": 0,
              "ticks": ""
             }
            },
            "type": "scattercarpet"
           }
          ],
          "scattergeo": [
           {
            "marker": {
             "colorbar": {
              "outlinewidth": 0,
              "ticks": ""
             }
            },
            "type": "scattergeo"
           }
          ],
          "scattergl": [
           {
            "marker": {
             "colorbar": {
              "outlinewidth": 0,
              "ticks": ""
             }
            },
            "type": "scattergl"
           }
          ],
          "scattermap": [
           {
            "marker": {
             "colorbar": {
              "outlinewidth": 0,
              "ticks": ""
             }
            },
            "type": "scattermap"
           }
          ],
          "scattermapbox": [
           {
            "marker": {
             "colorbar": {
              "outlinewidth": 0,
              "ticks": ""
             }
            },
            "type": "scattermapbox"
           }
          ],
          "scatterpolar": [
           {
            "marker": {
             "colorbar": {
              "outlinewidth": 0,
              "ticks": ""
             }
            },
            "type": "scatterpolar"
           }
          ],
          "scatterpolargl": [
           {
            "marker": {
             "colorbar": {
              "outlinewidth": 0,
              "ticks": ""
             }
            },
            "type": "scatterpolargl"
           }
          ],
          "scatterternary": [
           {
            "marker": {
             "colorbar": {
              "outlinewidth": 0,
              "ticks": ""
             }
            },
            "type": "scatterternary"
           }
          ],
          "surface": [
           {
            "colorbar": {
             "outlinewidth": 0,
             "ticks": ""
            },
            "colorscale": [
             [
              0,
              "#0d0887"
             ],
             [
              0.1111111111111111,
              "#46039f"
             ],
             [
              0.2222222222222222,
              "#7201a8"
             ],
             [
              0.3333333333333333,
              "#9c179e"
             ],
             [
              0.4444444444444444,
              "#bd3786"
             ],
             [
              0.5555555555555556,
              "#d8576b"
             ],
             [
              0.6666666666666666,
              "#ed7953"
             ],
             [
              0.7777777777777778,
              "#fb9f3a"
             ],
             [
              0.8888888888888888,
              "#fdca26"
             ],
             [
              1,
              "#f0f921"
             ]
            ],
            "type": "surface"
           }
          ],
          "table": [
           {
            "cells": {
             "fill": {
              "color": "#EBF0F8"
             },
             "line": {
              "color": "white"
             }
            },
            "header": {
             "fill": {
              "color": "#C8D4E3"
             },
             "line": {
              "color": "white"
             }
            },
            "type": "table"
           }
          ]
         },
         "layout": {
          "annotationdefaults": {
           "arrowcolor": "#2a3f5f",
           "arrowhead": 0,
           "arrowwidth": 1
          },
          "autotypenumbers": "strict",
          "coloraxis": {
           "colorbar": {
            "outlinewidth": 0,
            "ticks": ""
           }
          },
          "colorscale": {
           "diverging": [
            [
             0,
             "#8e0152"
            ],
            [
             0.1,
             "#c51b7d"
            ],
            [
             0.2,
             "#de77ae"
            ],
            [
             0.3,
             "#f1b6da"
            ],
            [
             0.4,
             "#fde0ef"
            ],
            [
             0.5,
             "#f7f7f7"
            ],
            [
             0.6,
             "#e6f5d0"
            ],
            [
             0.7,
             "#b8e186"
            ],
            [
             0.8,
             "#7fbc41"
            ],
            [
             0.9,
             "#4d9221"
            ],
            [
             1,
             "#276419"
            ]
           ],
           "sequential": [
            [
             0,
             "#0d0887"
            ],
            [
             0.1111111111111111,
             "#46039f"
            ],
            [
             0.2222222222222222,
             "#7201a8"
            ],
            [
             0.3333333333333333,
             "#9c179e"
            ],
            [
             0.4444444444444444,
             "#bd3786"
            ],
            [
             0.5555555555555556,
             "#d8576b"
            ],
            [
             0.6666666666666666,
             "#ed7953"
            ],
            [
             0.7777777777777778,
             "#fb9f3a"
            ],
            [
             0.8888888888888888,
             "#fdca26"
            ],
            [
             1,
             "#f0f921"
            ]
           ],
           "sequentialminus": [
            [
             0,
             "#0d0887"
            ],
            [
             0.1111111111111111,
             "#46039f"
            ],
            [
             0.2222222222222222,
             "#7201a8"
            ],
            [
             0.3333333333333333,
             "#9c179e"
            ],
            [
             0.4444444444444444,
             "#bd3786"
            ],
            [
             0.5555555555555556,
             "#d8576b"
            ],
            [
             0.6666666666666666,
             "#ed7953"
            ],
            [
             0.7777777777777778,
             "#fb9f3a"
            ],
            [
             0.8888888888888888,
             "#fdca26"
            ],
            [
             1,
             "#f0f921"
            ]
           ]
          },
          "colorway": [
           "#636efa",
           "#EF553B",
           "#00cc96",
           "#ab63fa",
           "#FFA15A",
           "#19d3f3",
           "#FF6692",
           "#B6E880",
           "#FF97FF",
           "#FECB52"
          ],
          "font": {
           "color": "#2a3f5f"
          },
          "geo": {
           "bgcolor": "white",
           "lakecolor": "white",
           "landcolor": "#E5ECF6",
           "showlakes": true,
           "showland": true,
           "subunitcolor": "white"
          },
          "hoverlabel": {
           "align": "left"
          },
          "hovermode": "closest",
          "mapbox": {
           "style": "light"
          },
          "paper_bgcolor": "white",
          "plot_bgcolor": "#E5ECF6",
          "polar": {
           "angularaxis": {
            "gridcolor": "white",
            "linecolor": "white",
            "ticks": ""
           },
           "bgcolor": "#E5ECF6",
           "radialaxis": {
            "gridcolor": "white",
            "linecolor": "white",
            "ticks": ""
           }
          },
          "scene": {
           "xaxis": {
            "backgroundcolor": "#E5ECF6",
            "gridcolor": "white",
            "gridwidth": 2,
            "linecolor": "white",
            "showbackground": true,
            "ticks": "",
            "zerolinecolor": "white"
           },
           "yaxis": {
            "backgroundcolor": "#E5ECF6",
            "gridcolor": "white",
            "gridwidth": 2,
            "linecolor": "white",
            "showbackground": true,
            "ticks": "",
            "zerolinecolor": "white"
           },
           "zaxis": {
            "backgroundcolor": "#E5ECF6",
            "gridcolor": "white",
            "gridwidth": 2,
            "linecolor": "white",
            "showbackground": true,
            "ticks": "",
            "zerolinecolor": "white"
           }
          },
          "shapedefaults": {
           "line": {
            "color": "#2a3f5f"
           }
          },
          "ternary": {
           "aaxis": {
            "gridcolor": "white",
            "linecolor": "white",
            "ticks": ""
           },
           "baxis": {
            "gridcolor": "white",
            "linecolor": "white",
            "ticks": ""
           },
           "bgcolor": "#E5ECF6",
           "caxis": {
            "gridcolor": "white",
            "linecolor": "white",
            "ticks": ""
           }
          },
          "title": {
           "x": 0.05
          },
          "xaxis": {
           "automargin": true,
           "gridcolor": "white",
           "linecolor": "white",
           "ticks": "",
           "title": {
            "standoff": 15
           },
           "zerolinecolor": "white",
           "zerolinewidth": 2
          },
          "yaxis": {
           "automargin": true,
           "gridcolor": "white",
           "linecolor": "white",
           "ticks": "",
           "title": {
            "standoff": 15
           },
           "zerolinecolor": "white",
           "zerolinewidth": 2
          }
         }
        },
        "title": {
         "text": "Rede Cúbica Simples (L = 2)<br>Total de átomos: 125"
        },
        "width": 800
       }
      }
     },
     "metadata": {},
     "output_type": "display_data"
    },
    {
     "name": "stdout",
     "output_type": "stream",
     "text": [
      "\n",
      "Criando rede cúbica com L = 3\n",
      "Rede vai de -3 até 3 em cada dimensão\n",
      "Total de átomos: 343\n"
     ]
    },
    {
     "data": {
      "application/vnd.plotly.v1+json": {
       "config": {
        "plotlyServerURL": "https://plot.ly"
       },
       "data": [
        {
         "hovertemplate": "<b>Átomo</b><br>x: %{x}<br>y: %{y}<br>z: %{z}<br><extra></extra>",
         "marker": {
          "color": "blue",
          "opacity": 0.8,
          "size": 8,
          "symbol": "circle"
         },
         "mode": "markers",
         "name": "Átomos",
         "type": "scatter3d",
         "x": {
          "bdata": "/f39/f39/f39/f39/f39/f39/f39/f39/f39/f39/f39/f39/f39/f39/f39/f39/f7+/v7+/v7+/v7+/v7+/v7+/v7+/v7+/v7+/v7+/v7+/v7+/v7+/v7+/v7+/v7+/v7/////////////////////////////////////////////////////////////////AAAAAAAAAAAAAAAAAAAAAAAAAAAAAAAAAAAAAAAAAAAAAAAAAAAAAAAAAAAAAAAAAAEBAQEBAQEBAQEBAQEBAQEBAQEBAQEBAQEBAQEBAQEBAQEBAQEBAQEBAQEBAQEBAQECAgICAgICAgICAgICAgICAgICAgICAgICAgICAgICAgICAgICAgICAgICAgICAgICAwMDAwMDAwMDAwMDAwMDAwMDAwMDAwMDAwMDAwMDAwMDAwMDAwMDAwMDAwMDAwMDAw==",
          "dtype": "i1"
         },
         "y": {
          "bdata": "/f39/f39/f7+/v7+/v7/////////AAAAAAAAAAEBAQEBAQECAgICAgICAwMDAwMDA/39/f39/f3+/v7+/v7+/////////wAAAAAAAAABAQEBAQEBAgICAgICAgMDAwMDAwP9/f39/f39/v7+/v7+/v////////8AAAAAAAAAAQEBAQEBAQICAgICAgIDAwMDAwMD/f39/f39/f7+/v7+/v7/////////AAAAAAAAAAEBAQEBAQECAgICAgICAwMDAwMDA/39/f39/f3+/v7+/v7+/////////wAAAAAAAAABAQEBAQEBAgICAgICAgMDAwMDAwP9/f39/f39/v7+/v7+/v////////8AAAAAAAAAAQEBAQEBAQICAgICAgIDAwMDAwMD/f39/f39/f7+/v7+/v7/////////AAAAAAAAAAEBAQEBAQECAgICAgICAwMDAwMDAw==",
          "dtype": "i1"
         },
         "z": {
          "bdata": "/f7/AAECA/3+/wABAgP9/v8AAQID/f7/AAECA/3+/wABAgP9/v8AAQID/f7/AAECA/3+/wABAgP9/v8AAQID/f7/AAECA/3+/wABAgP9/v8AAQID/f7/AAECA/3+/wABAgP9/v8AAQID/f7/AAECA/3+/wABAgP9/v8AAQID/f7/AAECA/3+/wABAgP9/v8AAQID/f7/AAECA/3+/wABAgP9/v8AAQID/f7/AAECA/3+/wABAgP9/v8AAQID/f7/AAECA/3+/wABAgP9/v8AAQID/f7/AAECA/3+/wABAgP9/v8AAQID/f7/AAECA/3+/wABAgP9/v8AAQID/f7/AAECA/3+/wABAgP9/v8AAQID/f7/AAECA/3+/wABAgP9/v8AAQID/f7/AAECA/3+/wABAgP9/v8AAQID/f7/AAECA/3+/wABAgP9/v8AAQID/f7/AAECAw==",
          "dtype": "i1"
         }
        }
       ],
       "layout": {
        "height": 600,
        "scene": {
         "xaxis": {
          "range": [
           -4,
           4
          ],
          "title": {
           "text": "X"
          }
         },
         "yaxis": {
          "range": [
           -4,
           4
          ],
          "title": {
           "text": "Y"
          }
         },
         "zaxis": {
          "range": [
           -4,
           4
          ],
          "title": {
           "text": "Z"
          }
         }
        },
        "showlegend": true,
        "template": {
         "data": {
          "bar": [
           {
            "error_x": {
             "color": "#2a3f5f"
            },
            "error_y": {
             "color": "#2a3f5f"
            },
            "marker": {
             "line": {
              "color": "#E5ECF6",
              "width": 0.5
             },
             "pattern": {
              "fillmode": "overlay",
              "size": 10,
              "solidity": 0.2
             }
            },
            "type": "bar"
           }
          ],
          "barpolar": [
           {
            "marker": {
             "line": {
              "color": "#E5ECF6",
              "width": 0.5
             },
             "pattern": {
              "fillmode": "overlay",
              "size": 10,
              "solidity": 0.2
             }
            },
            "type": "barpolar"
           }
          ],
          "carpet": [
           {
            "aaxis": {
             "endlinecolor": "#2a3f5f",
             "gridcolor": "white",
             "linecolor": "white",
             "minorgridcolor": "white",
             "startlinecolor": "#2a3f5f"
            },
            "baxis": {
             "endlinecolor": "#2a3f5f",
             "gridcolor": "white",
             "linecolor": "white",
             "minorgridcolor": "white",
             "startlinecolor": "#2a3f5f"
            },
            "type": "carpet"
           }
          ],
          "choropleth": [
           {
            "colorbar": {
             "outlinewidth": 0,
             "ticks": ""
            },
            "type": "choropleth"
           }
          ],
          "contour": [
           {
            "colorbar": {
             "outlinewidth": 0,
             "ticks": ""
            },
            "colorscale": [
             [
              0,
              "#0d0887"
             ],
             [
              0.1111111111111111,
              "#46039f"
             ],
             [
              0.2222222222222222,
              "#7201a8"
             ],
             [
              0.3333333333333333,
              "#9c179e"
             ],
             [
              0.4444444444444444,
              "#bd3786"
             ],
             [
              0.5555555555555556,
              "#d8576b"
             ],
             [
              0.6666666666666666,
              "#ed7953"
             ],
             [
              0.7777777777777778,
              "#fb9f3a"
             ],
             [
              0.8888888888888888,
              "#fdca26"
             ],
             [
              1,
              "#f0f921"
             ]
            ],
            "type": "contour"
           }
          ],
          "contourcarpet": [
           {
            "colorbar": {
             "outlinewidth": 0,
             "ticks": ""
            },
            "type": "contourcarpet"
           }
          ],
          "heatmap": [
           {
            "colorbar": {
             "outlinewidth": 0,
             "ticks": ""
            },
            "colorscale": [
             [
              0,
              "#0d0887"
             ],
             [
              0.1111111111111111,
              "#46039f"
             ],
             [
              0.2222222222222222,
              "#7201a8"
             ],
             [
              0.3333333333333333,
              "#9c179e"
             ],
             [
              0.4444444444444444,
              "#bd3786"
             ],
             [
              0.5555555555555556,
              "#d8576b"
             ],
             [
              0.6666666666666666,
              "#ed7953"
             ],
             [
              0.7777777777777778,
              "#fb9f3a"
             ],
             [
              0.8888888888888888,
              "#fdca26"
             ],
             [
              1,
              "#f0f921"
             ]
            ],
            "type": "heatmap"
           }
          ],
          "histogram": [
           {
            "marker": {
             "pattern": {
              "fillmode": "overlay",
              "size": 10,
              "solidity": 0.2
             }
            },
            "type": "histogram"
           }
          ],
          "histogram2d": [
           {
            "colorbar": {
             "outlinewidth": 0,
             "ticks": ""
            },
            "colorscale": [
             [
              0,
              "#0d0887"
             ],
             [
              0.1111111111111111,
              "#46039f"
             ],
             [
              0.2222222222222222,
              "#7201a8"
             ],
             [
              0.3333333333333333,
              "#9c179e"
             ],
             [
              0.4444444444444444,
              "#bd3786"
             ],
             [
              0.5555555555555556,
              "#d8576b"
             ],
             [
              0.6666666666666666,
              "#ed7953"
             ],
             [
              0.7777777777777778,
              "#fb9f3a"
             ],
             [
              0.8888888888888888,
              "#fdca26"
             ],
             [
              1,
              "#f0f921"
             ]
            ],
            "type": "histogram2d"
           }
          ],
          "histogram2dcontour": [
           {
            "colorbar": {
             "outlinewidth": 0,
             "ticks": ""
            },
            "colorscale": [
             [
              0,
              "#0d0887"
             ],
             [
              0.1111111111111111,
              "#46039f"
             ],
             [
              0.2222222222222222,
              "#7201a8"
             ],
             [
              0.3333333333333333,
              "#9c179e"
             ],
             [
              0.4444444444444444,
              "#bd3786"
             ],
             [
              0.5555555555555556,
              "#d8576b"
             ],
             [
              0.6666666666666666,
              "#ed7953"
             ],
             [
              0.7777777777777778,
              "#fb9f3a"
             ],
             [
              0.8888888888888888,
              "#fdca26"
             ],
             [
              1,
              "#f0f921"
             ]
            ],
            "type": "histogram2dcontour"
           }
          ],
          "mesh3d": [
           {
            "colorbar": {
             "outlinewidth": 0,
             "ticks": ""
            },
            "type": "mesh3d"
           }
          ],
          "parcoords": [
           {
            "line": {
             "colorbar": {
              "outlinewidth": 0,
              "ticks": ""
             }
            },
            "type": "parcoords"
           }
          ],
          "pie": [
           {
            "automargin": true,
            "type": "pie"
           }
          ],
          "scatter": [
           {
            "fillpattern": {
             "fillmode": "overlay",
             "size": 10,
             "solidity": 0.2
            },
            "type": "scatter"
           }
          ],
          "scatter3d": [
           {
            "line": {
             "colorbar": {
              "outlinewidth": 0,
              "ticks": ""
             }
            },
            "marker": {
             "colorbar": {
              "outlinewidth": 0,
              "ticks": ""
             }
            },
            "type": "scatter3d"
           }
          ],
          "scattercarpet": [
           {
            "marker": {
             "colorbar": {
              "outlinewidth": 0,
              "ticks": ""
             }
            },
            "type": "scattercarpet"
           }
          ],
          "scattergeo": [
           {
            "marker": {
             "colorbar": {
              "outlinewidth": 0,
              "ticks": ""
             }
            },
            "type": "scattergeo"
           }
          ],
          "scattergl": [
           {
            "marker": {
             "colorbar": {
              "outlinewidth": 0,
              "ticks": ""
             }
            },
            "type": "scattergl"
           }
          ],
          "scattermap": [
           {
            "marker": {
             "colorbar": {
              "outlinewidth": 0,
              "ticks": ""
             }
            },
            "type": "scattermap"
           }
          ],
          "scattermapbox": [
           {
            "marker": {
             "colorbar": {
              "outlinewidth": 0,
              "ticks": ""
             }
            },
            "type": "scattermapbox"
           }
          ],
          "scatterpolar": [
           {
            "marker": {
             "colorbar": {
              "outlinewidth": 0,
              "ticks": ""
             }
            },
            "type": "scatterpolar"
           }
          ],
          "scatterpolargl": [
           {
            "marker": {
             "colorbar": {
              "outlinewidth": 0,
              "ticks": ""
             }
            },
            "type": "scatterpolargl"
           }
          ],
          "scatterternary": [
           {
            "marker": {
             "colorbar": {
              "outlinewidth": 0,
              "ticks": ""
             }
            },
            "type": "scatterternary"
           }
          ],
          "surface": [
           {
            "colorbar": {
             "outlinewidth": 0,
             "ticks": ""
            },
            "colorscale": [
             [
              0,
              "#0d0887"
             ],
             [
              0.1111111111111111,
              "#46039f"
             ],
             [
              0.2222222222222222,
              "#7201a8"
             ],
             [
              0.3333333333333333,
              "#9c179e"
             ],
             [
              0.4444444444444444,
              "#bd3786"
             ],
             [
              0.5555555555555556,
              "#d8576b"
             ],
             [
              0.6666666666666666,
              "#ed7953"
             ],
             [
              0.7777777777777778,
              "#fb9f3a"
             ],
             [
              0.8888888888888888,
              "#fdca26"
             ],
             [
              1,
              "#f0f921"
             ]
            ],
            "type": "surface"
           }
          ],
          "table": [
           {
            "cells": {
             "fill": {
              "color": "#EBF0F8"
             },
             "line": {
              "color": "white"
             }
            },
            "header": {
             "fill": {
              "color": "#C8D4E3"
             },
             "line": {
              "color": "white"
             }
            },
            "type": "table"
           }
          ]
         },
         "layout": {
          "annotationdefaults": {
           "arrowcolor": "#2a3f5f",
           "arrowhead": 0,
           "arrowwidth": 1
          },
          "autotypenumbers": "strict",
          "coloraxis": {
           "colorbar": {
            "outlinewidth": 0,
            "ticks": ""
           }
          },
          "colorscale": {
           "diverging": [
            [
             0,
             "#8e0152"
            ],
            [
             0.1,
             "#c51b7d"
            ],
            [
             0.2,
             "#de77ae"
            ],
            [
             0.3,
             "#f1b6da"
            ],
            [
             0.4,
             "#fde0ef"
            ],
            [
             0.5,
             "#f7f7f7"
            ],
            [
             0.6,
             "#e6f5d0"
            ],
            [
             0.7,
             "#b8e186"
            ],
            [
             0.8,
             "#7fbc41"
            ],
            [
             0.9,
             "#4d9221"
            ],
            [
             1,
             "#276419"
            ]
           ],
           "sequential": [
            [
             0,
             "#0d0887"
            ],
            [
             0.1111111111111111,
             "#46039f"
            ],
            [
             0.2222222222222222,
             "#7201a8"
            ],
            [
             0.3333333333333333,
             "#9c179e"
            ],
            [
             0.4444444444444444,
             "#bd3786"
            ],
            [
             0.5555555555555556,
             "#d8576b"
            ],
            [
             0.6666666666666666,
             "#ed7953"
            ],
            [
             0.7777777777777778,
             "#fb9f3a"
            ],
            [
             0.8888888888888888,
             "#fdca26"
            ],
            [
             1,
             "#f0f921"
            ]
           ],
           "sequentialminus": [
            [
             0,
             "#0d0887"
            ],
            [
             0.1111111111111111,
             "#46039f"
            ],
            [
             0.2222222222222222,
             "#7201a8"
            ],
            [
             0.3333333333333333,
             "#9c179e"
            ],
            [
             0.4444444444444444,
             "#bd3786"
            ],
            [
             0.5555555555555556,
             "#d8576b"
            ],
            [
             0.6666666666666666,
             "#ed7953"
            ],
            [
             0.7777777777777778,
             "#fb9f3a"
            ],
            [
             0.8888888888888888,
             "#fdca26"
            ],
            [
             1,
             "#f0f921"
            ]
           ]
          },
          "colorway": [
           "#636efa",
           "#EF553B",
           "#00cc96",
           "#ab63fa",
           "#FFA15A",
           "#19d3f3",
           "#FF6692",
           "#B6E880",
           "#FF97FF",
           "#FECB52"
          ],
          "font": {
           "color": "#2a3f5f"
          },
          "geo": {
           "bgcolor": "white",
           "lakecolor": "white",
           "landcolor": "#E5ECF6",
           "showlakes": true,
           "showland": true,
           "subunitcolor": "white"
          },
          "hoverlabel": {
           "align": "left"
          },
          "hovermode": "closest",
          "mapbox": {
           "style": "light"
          },
          "paper_bgcolor": "white",
          "plot_bgcolor": "#E5ECF6",
          "polar": {
           "angularaxis": {
            "gridcolor": "white",
            "linecolor": "white",
            "ticks": ""
           },
           "bgcolor": "#E5ECF6",
           "radialaxis": {
            "gridcolor": "white",
            "linecolor": "white",
            "ticks": ""
           }
          },
          "scene": {
           "xaxis": {
            "backgroundcolor": "#E5ECF6",
            "gridcolor": "white",
            "gridwidth": 2,
            "linecolor": "white",
            "showbackground": true,
            "ticks": "",
            "zerolinecolor": "white"
           },
           "yaxis": {
            "backgroundcolor": "#E5ECF6",
            "gridcolor": "white",
            "gridwidth": 2,
            "linecolor": "white",
            "showbackground": true,
            "ticks": "",
            "zerolinecolor": "white"
           },
           "zaxis": {
            "backgroundcolor": "#E5ECF6",
            "gridcolor": "white",
            "gridwidth": 2,
            "linecolor": "white",
            "showbackground": true,
            "ticks": "",
            "zerolinecolor": "white"
           }
          },
          "shapedefaults": {
           "line": {
            "color": "#2a3f5f"
           }
          },
          "ternary": {
           "aaxis": {
            "gridcolor": "white",
            "linecolor": "white",
            "ticks": ""
           },
           "baxis": {
            "gridcolor": "white",
            "linecolor": "white",
            "ticks": ""
           },
           "bgcolor": "#E5ECF6",
           "caxis": {
            "gridcolor": "white",
            "linecolor": "white",
            "ticks": ""
           }
          },
          "title": {
           "x": 0.05
          },
          "xaxis": {
           "automargin": true,
           "gridcolor": "white",
           "linecolor": "white",
           "ticks": "",
           "title": {
            "standoff": 15
           },
           "zerolinecolor": "white",
           "zerolinewidth": 2
          },
          "yaxis": {
           "automargin": true,
           "gridcolor": "white",
           "linecolor": "white",
           "ticks": "",
           "title": {
            "standoff": 15
           },
           "zerolinecolor": "white",
           "zerolinewidth": 2
          }
         }
        },
        "title": {
         "text": "Rede Cúbica Simples (L = 3)<br>Total de átomos: 343"
        },
        "width": 800
       }
      }
     },
     "metadata": {},
     "output_type": "display_data"
    },
    {
     "name": "stdout",
     "output_type": "stream",
     "text": [
      "\n",
      "Criando rede cúbica maior com L = 4 (sem ligações)\n"
     ]
    },
    {
     "data": {
      "application/vnd.plotly.v1+json": {
       "config": {
        "plotlyServerURL": "https://plot.ly"
       },
       "data": [
        {
         "hovertemplate": "<b>Átomo</b><br>x: %{x}<br>y: %{y}<br>z: %{z}<br><extra></extra>",
         "marker": {
          "color": "red",
          "opacity": 0.8,
          "size": 6,
          "symbol": "circle"
         },
         "mode": "markers",
         "name": "Átomos",
         "type": "scatter3d",
         "x": {
          "bdata": "/Pz8/Pz8/Pz8/Pz8/Pz8/Pz8/Pz8/Pz8/Pz8/Pz8/Pz8/Pz8/Pz8/Pz8/Pz8/Pz8/Pz8/Pz8/Pz8/Pz8/Pz8/Pz8/Pz8/Pz8/Pz8/Pz8/Pz8/f39/f39/f39/f39/f39/f39/f39/f39/f39/f39/f39/f39/f39/f39/f39/f39/f39/f39/f39/f39/f39/f39/f39/f39/f39/f39/f39/v7+/v7+/v7+/v7+/v7+/v7+/v7+/v7+/v7+/v7+/v7+/v7+/v7+/v7+/v7+/v7+/v7+/v7+/v7+/v7+/v7+/v7+/v7+/v7+/v7+/v7+/v7+////////////////////////////////////////////////////////////////////////////////////////////////////////////AAAAAAAAAAAAAAAAAAAAAAAAAAAAAAAAAAAAAAAAAAAAAAAAAAAAAAAAAAAAAAAAAAAAAAAAAAAAAAAAAAAAAAAAAAAAAAAAAAAAAAAAAAAAAQEBAQEBAQEBAQEBAQEBAQEBAQEBAQEBAQEBAQEBAQEBAQEBAQEBAQEBAQEBAQEBAQEBAQEBAQEBAQEBAQEBAQEBAQEBAQEBAQEBAQEBAQEBAgICAgICAgICAgICAgICAgICAgICAgICAgICAgICAgICAgICAgICAgICAgICAgICAgICAgICAgICAgICAgICAgICAgICAgICAgICAgICAgICAwMDAwMDAwMDAwMDAwMDAwMDAwMDAwMDAwMDAwMDAwMDAwMDAwMDAwMDAwMDAwMDAwMDAwMDAwMDAwMDAwMDAwMDAwMDAwMDAwMDAwMDAwMDBAQEBAQEBAQEBAQEBAQEBAQEBAQEBAQEBAQEBAQEBAQEBAQEBAQEBAQEBAQEBAQEBAQEBAQEBAQEBAQEBAQEBAQEBAQEBAQEBAQEBAQEBAQE",
          "dtype": "i1"
         },
         "y": {
          "bdata": "/Pz8/Pz8/Pz8/f39/f39/f39/v7+/v7+/v7+////////////AAAAAAAAAAAAAQEBAQEBAQEBAgICAgICAgICAwMDAwMDAwMDBAQEBAQEBAQE/Pz8/Pz8/Pz8/f39/f39/f39/v7+/v7+/v7+////////////AAAAAAAAAAAAAQEBAQEBAQEBAgICAgICAgICAwMDAwMDAwMDBAQEBAQEBAQE/Pz8/Pz8/Pz8/f39/f39/f39/v7+/v7+/v7+////////////AAAAAAAAAAAAAQEBAQEBAQEBAgICAgICAgICAwMDAwMDAwMDBAQEBAQEBAQE/Pz8/Pz8/Pz8/f39/f39/f39/v7+/v7+/v7+////////////AAAAAAAAAAAAAQEBAQEBAQEBAgICAgICAgICAwMDAwMDAwMDBAQEBAQEBAQE/Pz8/Pz8/Pz8/f39/f39/f39/v7+/v7+/v7+////////////AAAAAAAAAAAAAQEBAQEBAQEBAgICAgICAgICAwMDAwMDAwMDBAQEBAQEBAQE/Pz8/Pz8/Pz8/f39/f39/f39/v7+/v7+/v7+////////////AAAAAAAAAAAAAQEBAQEBAQEBAgICAgICAgICAwMDAwMDAwMDBAQEBAQEBAQE/Pz8/Pz8/Pz8/f39/f39/f39/v7+/v7+/v7+////////////AAAAAAAAAAAAAQEBAQEBAQEBAgICAgICAgICAwMDAwMDAwMDBAQEBAQEBAQE/Pz8/Pz8/Pz8/f39/f39/f39/v7+/v7+/v7+////////////AAAAAAAAAAAAAQEBAQEBAQEBAgICAgICAgICAwMDAwMDAwMDBAQEBAQEBAQE/Pz8/Pz8/Pz8/f39/f39/f39/v7+/v7+/v7+////////////AAAAAAAAAAAAAQEBAQEBAQEBAgICAgICAgICAwMDAwMDAwMDBAQEBAQEBAQE",
          "dtype": "i1"
         },
         "z": {
          "bdata": "/P3+/wABAgME/P3+/wABAgME/P3+/wABAgME/P3+/wABAgME/P3+/wABAgME/P3+/wABAgME/P3+/wABAgME/P3+/wABAgME/P3+/wABAgME/P3+/wABAgME/P3+/wABAgME/P3+/wABAgME/P3+/wABAgME/P3+/wABAgME/P3+/wABAgME/P3+/wABAgME/P3+/wABAgME/P3+/wABAgME/P3+/wABAgME/P3+/wABAgME/P3+/wABAgME/P3+/wABAgME/P3+/wABAgME/P3+/wABAgME/P3+/wABAgME/P3+/wABAgME/P3+/wABAgME/P3+/wABAgME/P3+/wABAgME/P3+/wABAgME/P3+/wABAgME/P3+/wABAgME/P3+/wABAgME/P3+/wABAgME/P3+/wABAgME/P3+/wABAgME/P3+/wABAgME/P3+/wABAgME/P3+/wABAgME/P3+/wABAgME/P3+/wABAgME/P3+/wABAgME/P3+/wABAgME/P3+/wABAgME/P3+/wABAgME/P3+/wABAgME/P3+/wABAgME/P3+/wABAgME/P3+/wABAgME/P3+/wABAgME/P3+/wABAgME/P3+/wABAgME/P3+/wABAgME/P3+/wABAgME/P3+/wABAgME/P3+/wABAgME/P3+/wABAgME/P3+/wABAgME/P3+/wABAgME/P3+/wABAgME/P3+/wABAgME/P3+/wABAgME/P3+/wABAgME/P3+/wABAgME/P3+/wABAgME/P3+/wABAgME/P3+/wABAgME/P3+/wABAgME/P3+/wABAgME/P3+/wABAgME/P3+/wABAgME/P3+/wABAgME/P3+/wABAgME/P3+/wABAgME/P3+/wABAgME/P3+/wABAgME/P3+/wABAgME/P3+/wABAgME/P3+/wABAgME/P3+/wABAgME/P3+/wABAgME",
          "dtype": "i1"
         }
        }
       ],
       "layout": {
        "height": 600,
        "scene": {
         "xaxis": {
          "range": [
           -5,
           5
          ],
          "title": {
           "text": "X"
          }
         },
         "yaxis": {
          "range": [
           -5,
           5
          ],
          "title": {
           "text": "Y"
          }
         },
         "zaxis": {
          "range": [
           -5,
           5
          ],
          "title": {
           "text": "Z"
          }
         }
        },
        "showlegend": true,
        "template": {
         "data": {
          "bar": [
           {
            "error_x": {
             "color": "#2a3f5f"
            },
            "error_y": {
             "color": "#2a3f5f"
            },
            "marker": {
             "line": {
              "color": "#E5ECF6",
              "width": 0.5
             },
             "pattern": {
              "fillmode": "overlay",
              "size": 10,
              "solidity": 0.2
             }
            },
            "type": "bar"
           }
          ],
          "barpolar": [
           {
            "marker": {
             "line": {
              "color": "#E5ECF6",
              "width": 0.5
             },
             "pattern": {
              "fillmode": "overlay",
              "size": 10,
              "solidity": 0.2
             }
            },
            "type": "barpolar"
           }
          ],
          "carpet": [
           {
            "aaxis": {
             "endlinecolor": "#2a3f5f",
             "gridcolor": "white",
             "linecolor": "white",
             "minorgridcolor": "white",
             "startlinecolor": "#2a3f5f"
            },
            "baxis": {
             "endlinecolor": "#2a3f5f",
             "gridcolor": "white",
             "linecolor": "white",
             "minorgridcolor": "white",
             "startlinecolor": "#2a3f5f"
            },
            "type": "carpet"
           }
          ],
          "choropleth": [
           {
            "colorbar": {
             "outlinewidth": 0,
             "ticks": ""
            },
            "type": "choropleth"
           }
          ],
          "contour": [
           {
            "colorbar": {
             "outlinewidth": 0,
             "ticks": ""
            },
            "colorscale": [
             [
              0,
              "#0d0887"
             ],
             [
              0.1111111111111111,
              "#46039f"
             ],
             [
              0.2222222222222222,
              "#7201a8"
             ],
             [
              0.3333333333333333,
              "#9c179e"
             ],
             [
              0.4444444444444444,
              "#bd3786"
             ],
             [
              0.5555555555555556,
              "#d8576b"
             ],
             [
              0.6666666666666666,
              "#ed7953"
             ],
             [
              0.7777777777777778,
              "#fb9f3a"
             ],
             [
              0.8888888888888888,
              "#fdca26"
             ],
             [
              1,
              "#f0f921"
             ]
            ],
            "type": "contour"
           }
          ],
          "contourcarpet": [
           {
            "colorbar": {
             "outlinewidth": 0,
             "ticks": ""
            },
            "type": "contourcarpet"
           }
          ],
          "heatmap": [
           {
            "colorbar": {
             "outlinewidth": 0,
             "ticks": ""
            },
            "colorscale": [
             [
              0,
              "#0d0887"
             ],
             [
              0.1111111111111111,
              "#46039f"
             ],
             [
              0.2222222222222222,
              "#7201a8"
             ],
             [
              0.3333333333333333,
              "#9c179e"
             ],
             [
              0.4444444444444444,
              "#bd3786"
             ],
             [
              0.5555555555555556,
              "#d8576b"
             ],
             [
              0.6666666666666666,
              "#ed7953"
             ],
             [
              0.7777777777777778,
              "#fb9f3a"
             ],
             [
              0.8888888888888888,
              "#fdca26"
             ],
             [
              1,
              "#f0f921"
             ]
            ],
            "type": "heatmap"
           }
          ],
          "histogram": [
           {
            "marker": {
             "pattern": {
              "fillmode": "overlay",
              "size": 10,
              "solidity": 0.2
             }
            },
            "type": "histogram"
           }
          ],
          "histogram2d": [
           {
            "colorbar": {
             "outlinewidth": 0,
             "ticks": ""
            },
            "colorscale": [
             [
              0,
              "#0d0887"
             ],
             [
              0.1111111111111111,
              "#46039f"
             ],
             [
              0.2222222222222222,
              "#7201a8"
             ],
             [
              0.3333333333333333,
              "#9c179e"
             ],
             [
              0.4444444444444444,
              "#bd3786"
             ],
             [
              0.5555555555555556,
              "#d8576b"
             ],
             [
              0.6666666666666666,
              "#ed7953"
             ],
             [
              0.7777777777777778,
              "#fb9f3a"
             ],
             [
              0.8888888888888888,
              "#fdca26"
             ],
             [
              1,
              "#f0f921"
             ]
            ],
            "type": "histogram2d"
           }
          ],
          "histogram2dcontour": [
           {
            "colorbar": {
             "outlinewidth": 0,
             "ticks": ""
            },
            "colorscale": [
             [
              0,
              "#0d0887"
             ],
             [
              0.1111111111111111,
              "#46039f"
             ],
             [
              0.2222222222222222,
              "#7201a8"
             ],
             [
              0.3333333333333333,
              "#9c179e"
             ],
             [
              0.4444444444444444,
              "#bd3786"
             ],
             [
              0.5555555555555556,
              "#d8576b"
             ],
             [
              0.6666666666666666,
              "#ed7953"
             ],
             [
              0.7777777777777778,
              "#fb9f3a"
             ],
             [
              0.8888888888888888,
              "#fdca26"
             ],
             [
              1,
              "#f0f921"
             ]
            ],
            "type": "histogram2dcontour"
           }
          ],
          "mesh3d": [
           {
            "colorbar": {
             "outlinewidth": 0,
             "ticks": ""
            },
            "type": "mesh3d"
           }
          ],
          "parcoords": [
           {
            "line": {
             "colorbar": {
              "outlinewidth": 0,
              "ticks": ""
             }
            },
            "type": "parcoords"
           }
          ],
          "pie": [
           {
            "automargin": true,
            "type": "pie"
           }
          ],
          "scatter": [
           {
            "fillpattern": {
             "fillmode": "overlay",
             "size": 10,
             "solidity": 0.2
            },
            "type": "scatter"
           }
          ],
          "scatter3d": [
           {
            "line": {
             "colorbar": {
              "outlinewidth": 0,
              "ticks": ""
             }
            },
            "marker": {
             "colorbar": {
              "outlinewidth": 0,
              "ticks": ""
             }
            },
            "type": "scatter3d"
           }
          ],
          "scattercarpet": [
           {
            "marker": {
             "colorbar": {
              "outlinewidth": 0,
              "ticks": ""
             }
            },
            "type": "scattercarpet"
           }
          ],
          "scattergeo": [
           {
            "marker": {
             "colorbar": {
              "outlinewidth": 0,
              "ticks": ""
             }
            },
            "type": "scattergeo"
           }
          ],
          "scattergl": [
           {
            "marker": {
             "colorbar": {
              "outlinewidth": 0,
              "ticks": ""
             }
            },
            "type": "scattergl"
           }
          ],
          "scattermap": [
           {
            "marker": {
             "colorbar": {
              "outlinewidth": 0,
              "ticks": ""
             }
            },
            "type": "scattermap"
           }
          ],
          "scattermapbox": [
           {
            "marker": {
             "colorbar": {
              "outlinewidth": 0,
              "ticks": ""
             }
            },
            "type": "scattermapbox"
           }
          ],
          "scatterpolar": [
           {
            "marker": {
             "colorbar": {
              "outlinewidth": 0,
              "ticks": ""
             }
            },
            "type": "scatterpolar"
           }
          ],
          "scatterpolargl": [
           {
            "marker": {
             "colorbar": {
              "outlinewidth": 0,
              "ticks": ""
             }
            },
            "type": "scatterpolargl"
           }
          ],
          "scatterternary": [
           {
            "marker": {
             "colorbar": {
              "outlinewidth": 0,
              "ticks": ""
             }
            },
            "type": "scatterternary"
           }
          ],
          "surface": [
           {
            "colorbar": {
             "outlinewidth": 0,
             "ticks": ""
            },
            "colorscale": [
             [
              0,
              "#0d0887"
             ],
             [
              0.1111111111111111,
              "#46039f"
             ],
             [
              0.2222222222222222,
              "#7201a8"
             ],
             [
              0.3333333333333333,
              "#9c179e"
             ],
             [
              0.4444444444444444,
              "#bd3786"
             ],
             [
              0.5555555555555556,
              "#d8576b"
             ],
             [
              0.6666666666666666,
              "#ed7953"
             ],
             [
              0.7777777777777778,
              "#fb9f3a"
             ],
             [
              0.8888888888888888,
              "#fdca26"
             ],
             [
              1,
              "#f0f921"
             ]
            ],
            "type": "surface"
           }
          ],
          "table": [
           {
            "cells": {
             "fill": {
              "color": "#EBF0F8"
             },
             "line": {
              "color": "white"
             }
            },
            "header": {
             "fill": {
              "color": "#C8D4E3"
             },
             "line": {
              "color": "white"
             }
            },
            "type": "table"
           }
          ]
         },
         "layout": {
          "annotationdefaults": {
           "arrowcolor": "#2a3f5f",
           "arrowhead": 0,
           "arrowwidth": 1
          },
          "autotypenumbers": "strict",
          "coloraxis": {
           "colorbar": {
            "outlinewidth": 0,
            "ticks": ""
           }
          },
          "colorscale": {
           "diverging": [
            [
             0,
             "#8e0152"
            ],
            [
             0.1,
             "#c51b7d"
            ],
            [
             0.2,
             "#de77ae"
            ],
            [
             0.3,
             "#f1b6da"
            ],
            [
             0.4,
             "#fde0ef"
            ],
            [
             0.5,
             "#f7f7f7"
            ],
            [
             0.6,
             "#e6f5d0"
            ],
            [
             0.7,
             "#b8e186"
            ],
            [
             0.8,
             "#7fbc41"
            ],
            [
             0.9,
             "#4d9221"
            ],
            [
             1,
             "#276419"
            ]
           ],
           "sequential": [
            [
             0,
             "#0d0887"
            ],
            [
             0.1111111111111111,
             "#46039f"
            ],
            [
             0.2222222222222222,
             "#7201a8"
            ],
            [
             0.3333333333333333,
             "#9c179e"
            ],
            [
             0.4444444444444444,
             "#bd3786"
            ],
            [
             0.5555555555555556,
             "#d8576b"
            ],
            [
             0.6666666666666666,
             "#ed7953"
            ],
            [
             0.7777777777777778,
             "#fb9f3a"
            ],
            [
             0.8888888888888888,
             "#fdca26"
            ],
            [
             1,
             "#f0f921"
            ]
           ],
           "sequentialminus": [
            [
             0,
             "#0d0887"
            ],
            [
             0.1111111111111111,
             "#46039f"
            ],
            [
             0.2222222222222222,
             "#7201a8"
            ],
            [
             0.3333333333333333,
             "#9c179e"
            ],
            [
             0.4444444444444444,
             "#bd3786"
            ],
            [
             0.5555555555555556,
             "#d8576b"
            ],
            [
             0.6666666666666666,
             "#ed7953"
            ],
            [
             0.7777777777777778,
             "#fb9f3a"
            ],
            [
             0.8888888888888888,
             "#fdca26"
            ],
            [
             1,
             "#f0f921"
            ]
           ]
          },
          "colorway": [
           "#636efa",
           "#EF553B",
           "#00cc96",
           "#ab63fa",
           "#FFA15A",
           "#19d3f3",
           "#FF6692",
           "#B6E880",
           "#FF97FF",
           "#FECB52"
          ],
          "font": {
           "color": "#2a3f5f"
          },
          "geo": {
           "bgcolor": "white",
           "lakecolor": "white",
           "landcolor": "#E5ECF6",
           "showlakes": true,
           "showland": true,
           "subunitcolor": "white"
          },
          "hoverlabel": {
           "align": "left"
          },
          "hovermode": "closest",
          "mapbox": {
           "style": "light"
          },
          "paper_bgcolor": "white",
          "plot_bgcolor": "#E5ECF6",
          "polar": {
           "angularaxis": {
            "gridcolor": "white",
            "linecolor": "white",
            "ticks": ""
           },
           "bgcolor": "#E5ECF6",
           "radialaxis": {
            "gridcolor": "white",
            "linecolor": "white",
            "ticks": ""
           }
          },
          "scene": {
           "xaxis": {
            "backgroundcolor": "#E5ECF6",
            "gridcolor": "white",
            "gridwidth": 2,
            "linecolor": "white",
            "showbackground": true,
            "ticks": "",
            "zerolinecolor": "white"
           },
           "yaxis": {
            "backgroundcolor": "#E5ECF6",
            "gridcolor": "white",
            "gridwidth": 2,
            "linecolor": "white",
            "showbackground": true,
            "ticks": "",
            "zerolinecolor": "white"
           },
           "zaxis": {
            "backgroundcolor": "#E5ECF6",
            "gridcolor": "white",
            "gridwidth": 2,
            "linecolor": "white",
            "showbackground": true,
            "ticks": "",
            "zerolinecolor": "white"
           }
          },
          "shapedefaults": {
           "line": {
            "color": "#2a3f5f"
           }
          },
          "ternary": {
           "aaxis": {
            "gridcolor": "white",
            "linecolor": "white",
            "ticks": ""
           },
           "baxis": {
            "gridcolor": "white",
            "linecolor": "white",
            "ticks": ""
           },
           "bgcolor": "#E5ECF6",
           "caxis": {
            "gridcolor": "white",
            "linecolor": "white",
            "ticks": ""
           }
          },
          "title": {
           "x": 0.05
          },
          "xaxis": {
           "automargin": true,
           "gridcolor": "white",
           "linecolor": "white",
           "ticks": "",
           "title": {
            "standoff": 15
           },
           "zerolinecolor": "white",
           "zerolinewidth": 2
          },
          "yaxis": {
           "automargin": true,
           "gridcolor": "white",
           "linecolor": "white",
           "ticks": "",
           "title": {
            "standoff": 15
           },
           "zerolinecolor": "white",
           "zerolinewidth": 2
          }
         }
        },
        "title": {
         "text": "Rede Cúbica Simples (L = 4)<br>Total de átomos: 729"
        },
        "width": 800
       }
      }
     },
     "metadata": {},
     "output_type": "display_data"
    },
    {
     "name": "stdout",
     "output_type": "stream",
     "text": [
      "\n",
      "Criando rede cúbica colorida com L = 3\n"
     ]
    },
    {
     "data": {
      "application/vnd.plotly.v1+json": {
       "config": {
        "plotlyServerURL": "https://plot.ly"
       },
       "data": [
        {
         "marker": {
          "color": {
           "bdata": "gDlCLtzIFECnVlRZ/MISQPlNZDSDbxFA2WzfzHb4EED5TWQ0g28RQKdWVFn8whJAgDlCLtzIFECnVlRZ/MISQAftr2YPfhBAST9oEeruDUDzWWFEK9gMQEk/aBHq7g1AB+2vZg9+EECnVlRZ/MISQPlNZDSDbxFAST9oEeruDUA0b/2TcogKQFNb2jpYTAlANG/9k3KICkBJP2gR6u4NQPlNZDSDbxFA2WzfzHb4EEDzWWFEK9gMQFNb2jpYTAlAAAAAAAAACEBTW9o6WEwJQPNZYUQr2AxA2WzfzHb4EED5TWQ0g28RQEk/aBHq7g1ANG/9k3KICkBTW9o6WEwJQDRv/ZNyiApAST9oEeruDUD5TWQ0g28RQKdWVFn8whJAB+2vZg9+EEBJP2gR6u4NQPNZYUQr2AxAST9oEeruDUAH7a9mD34QQKdWVFn8whJAgDlCLtzIFECnVlRZ/MISQPlNZDSDbxFA2WzfzHb4EED5TWQ0g28RQKdWVFn8whJAgDlCLtzIFECnVlRZ/MISQAftr2YPfhBAST9oEeruDUDzWWFEK9gMQEk/aBHq7g1AB+2vZg9+EECnVlRZ/MISQAftr2YPfhBAqkxY6Hq2C0AAAAAAAAAIQM07f2aeoAZAAAAAAAAACECqTFjoerYLQAftr2YPfhBAST9oEeruDUAAAAAAAAAIQC4hCRSOmANAqPSXm3fjAUAuIQkUjpgDQAAAAAAAAAhAST9oEeruDUDzWWFEK9gMQM07f2aeoAZAqPSXm3fjAUAAAAAAAAAAQKj0l5t34wFAzTt/Zp6gBkDzWWFEK9gMQEk/aBHq7g1AAAAAAAAACEAuIQkUjpgDQKj0l5t34wFALiEJFI6YA0AAAAAAAAAIQEk/aBHq7g1AB+2vZg9+EECqTFjoerYLQAAAAAAAAAhAzTt/Zp6gBkAAAAAAAAAIQKpMWOh6tgtAB+2vZg9+EECnVlRZ/MISQAftr2YPfhBAST9oEeruDUDzWWFEK9gMQEk/aBHq7g1AB+2vZg9+EECnVlRZ/MISQPlNZDSDbxFAST9oEeruDUA0b/2TcogKQFNb2jpYTAlANG/9k3KICkBJP2gR6u4NQPlNZDSDbxFAST9oEeruDUAAAAAAAAAIQC4hCRSOmANAqPSXm3fjAUAuIQkUjpgDQAAAAAAAAAhAST9oEeruDUA0b/2TcogKQC4hCRSOmANAqkxY6Hq2+z/NO39mnqD2P6pMWOh6tvs/LiEJFI6YA0A0b/2TcogKQFNb2jpYTAlAqPSXm3fjAUDNO39mnqD2PwAAAAAAAPA/zTt/Zp6g9j+o9Jebd+MBQFNb2jpYTAlANG/9k3KICkAuIQkUjpgDQKpMWOh6tvs/zTt/Zp6g9j+qTFjoerb7Py4hCRSOmANANG/9k3KICkBJP2gR6u4NQAAAAAAAAAhALiEJFI6YA0Co9Jebd+MBQC4hCRSOmANAAAAAAAAACEBJP2gR6u4NQPlNZDSDbxFAST9oEeruDUA0b/2TcogKQFNb2jpYTAlANG/9k3KICkBJP2gR6u4NQPlNZDSDbxFA2WzfzHb4EEDzWWFEK9gMQFNb2jpYTAlAAAAAAAAACEBTW9o6WEwJQPNZYUQr2AxA2WzfzHb4EEDzWWFEK9gMQM07f2aeoAZAqPSXm3fjAUAAAAAAAAAAQKj0l5t34wFAzTt/Zp6gBkDzWWFEK9gMQFNb2jpYTAlAqPSXm3fjAUDNO39mnqD2PwAAAAAAAPA/zTt/Zp6g9j+o9Jebd+MBQFNb2jpYTAlAAAAAAAAACEAAAAAAAAAAQAAAAAAAAPA/AAAAAAAAAAAAAAAAAADwPwAAAAAAAABAAAAAAAAACEBTW9o6WEwJQKj0l5t34wFAzTt/Zp6g9j8AAAAAAADwP807f2aeoPY/qPSXm3fjAUBTW9o6WEwJQPNZYUQr2AxAzTt/Zp6gBkCo9Jebd+MBQAAAAAAAAABAqPSXm3fjAUDNO39mnqAGQPNZYUQr2AxA2WzfzHb4EEDzWWFEK9gMQFNb2jpYTAlAAAAAAAAACEBTW9o6WEwJQPNZYUQr2AxA2WzfzHb4EED5TWQ0g28RQEk/aBHq7g1ANG/9k3KICkBTW9o6WEwJQDRv/ZNyiApAST9oEeruDUD5TWQ0g28RQEk/aBHq7g1AAAAAAAAACEAuIQkUjpgDQKj0l5t34wFALiEJFI6YA0AAAAAAAAAIQEk/aBHq7g1ANG/9k3KICkAuIQkUjpgDQKpMWOh6tvs/zTt/Zp6g9j+qTFjoerb7Py4hCRSOmANANG/9k3KICkBTW9o6WEwJQKj0l5t34wFAzTt/Zp6g9j8AAAAAAADwP807f2aeoPY/qPSXm3fjAUBTW9o6WEwJQDRv/ZNyiApALiEJFI6YA0CqTFjoerb7P807f2aeoPY/qkxY6Hq2+z8uIQkUjpgDQDRv/ZNyiApAST9oEeruDUAAAAAAAAAIQC4hCRSOmANAqPSXm3fjAUAuIQkUjpgDQAAAAAAAAAhAST9oEeruDUD5TWQ0g28RQEk/aBHq7g1ANG/9k3KICkBTW9o6WEwJQDRv/ZNyiApAST9oEeruDUD5TWQ0g28RQKdWVFn8whJAB+2vZg9+EEBJP2gR6u4NQPNZYUQr2AxAST9oEeruDUAH7a9mD34QQKdWVFn8whJAB+2vZg9+EECqTFjoerYLQAAAAAAAAAhAzTt/Zp6gBkAAAAAAAAAIQKpMWOh6tgtAB+2vZg9+EEBJP2gR6u4NQAAAAAAAAAhALiEJFI6YA0Co9Jebd+MBQC4hCRSOmANAAAAAAAAACEBJP2gR6u4NQPNZYUQr2AxAzTt/Zp6gBkCo9Jebd+MBQAAAAAAAAABAqPSXm3fjAUDNO39mnqAGQPNZYUQr2AxAST9oEeruDUAAAAAAAAAIQC4hCRSOmANAqPSXm3fjAUAuIQkUjpgDQAAAAAAAAAhAST9oEeruDUAH7a9mD34QQKpMWOh6tgtAAAAAAAAACEDNO39mnqAGQAAAAAAAAAhAqkxY6Hq2C0AH7a9mD34QQKdWVFn8whJAB+2vZg9+EEBJP2gR6u4NQPNZYUQr2AxAST9oEeruDUAH7a9mD34QQKdWVFn8whJAgDlCLtzIFECnVlRZ/MISQPlNZDSDbxFA2WzfzHb4EED5TWQ0g28RQKdWVFn8whJAgDlCLtzIFECnVlRZ/MISQAftr2YPfhBAST9oEeruDUDzWWFEK9gMQEk/aBHq7g1AB+2vZg9+EECnVlRZ/MISQPlNZDSDbxFAST9oEeruDUA0b/2TcogKQFNb2jpYTAlANG/9k3KICkBJP2gR6u4NQPlNZDSDbxFA2WzfzHb4EEDzWWFEK9gMQFNb2jpYTAlAAAAAAAAACEBTW9o6WEwJQPNZYUQr2AxA2WzfzHb4EED5TWQ0g28RQEk/aBHq7g1ANG/9k3KICkBTW9o6WEwJQDRv/ZNyiApAST9oEeruDUD5TWQ0g28RQKdWVFn8whJAB+2vZg9+EEBJP2gR6u4NQPNZYUQr2AxAST9oEeruDUAH7a9mD34QQKdWVFn8whJAgDlCLtzIFECnVlRZ/MISQPlNZDSDbxFA2WzfzHb4EED5TWQ0g28RQKdWVFn8whJAgDlCLtzIFEA=",
           "dtype": "f8"
          },
          "colorbar": {
           "title": {
            "text": "Distância até a origem"
           }
          },
          "colorscale": [
           [
            0,
            "#440154"
           ],
           [
            0.1111111111111111,
            "#482878"
           ],
           [
            0.2222222222222222,
            "#3e4989"
           ],
           [
            0.3333333333333333,
            "#31688e"
           ],
           [
            0.4444444444444444,
            "#26828e"
           ],
           [
            0.5555555555555556,
            "#1f9e89"
           ],
           [
            0.6666666666666666,
            "#35b779"
           ],
           [
            0.7777777777777778,
            "#6ece58"
           ],
           [
            0.8888888888888888,
            "#b5de2b"
           ],
           [
            1,
            "#fde725"
           ]
          ],
          "opacity": 0.8,
          "size": 8
         },
         "mode": "markers",
         "name": "Átomos",
         "type": "scatter3d",
         "x": {
          "bdata": "/f39/f39/f39/f39/f39/f39/f39/f39/f39/f39/f39/f39/f39/f39/f39/f39/f7+/v7+/v7+/v7+/v7+/v7+/v7+/v7+/v7+/v7+/v7+/v7+/v7+/v7+/v7+/v7+/v7/////////////////////////////////////////////////////////////////AAAAAAAAAAAAAAAAAAAAAAAAAAAAAAAAAAAAAAAAAAAAAAAAAAAAAAAAAAAAAAAAAAEBAQEBAQEBAQEBAQEBAQEBAQEBAQEBAQEBAQEBAQEBAQEBAQEBAQEBAQEBAQEBAQECAgICAgICAgICAgICAgICAgICAgICAgICAgICAgICAgICAgICAgICAgICAgICAgICAwMDAwMDAwMDAwMDAwMDAwMDAwMDAwMDAwMDAwMDAwMDAwMDAwMDAwMDAwMDAwMDAw==",
          "dtype": "i1"
         },
         "y": {
          "bdata": "/f39/f39/f7+/v7+/v7/////////AAAAAAAAAAEBAQEBAQECAgICAgICAwMDAwMDA/39/f39/f3+/v7+/v7+/////////wAAAAAAAAABAQEBAQEBAgICAgICAgMDAwMDAwP9/f39/f39/v7+/v7+/v////////8AAAAAAAAAAQEBAQEBAQICAgICAgIDAwMDAwMD/f39/f39/f7+/v7+/v7/////////AAAAAAAAAAEBAQEBAQECAgICAgICAwMDAwMDA/39/f39/f3+/v7+/v7+/////////wAAAAAAAAABAQEBAQEBAgICAgICAgMDAwMDAwP9/f39/f39/v7+/v7+/v////////8AAAAAAAAAAQEBAQEBAQICAgICAgIDAwMDAwMD/f39/f39/f7+/v7+/v7/////////AAAAAAAAAAEBAQEBAQECAgICAgICAwMDAwMDAw==",
          "dtype": "i1"
         },
         "z": {
          "bdata": "/f7/AAECA/3+/wABAgP9/v8AAQID/f7/AAECA/3+/wABAgP9/v8AAQID/f7/AAECA/3+/wABAgP9/v8AAQID/f7/AAECA/3+/wABAgP9/v8AAQID/f7/AAECA/3+/wABAgP9/v8AAQID/f7/AAECA/3+/wABAgP9/v8AAQID/f7/AAECA/3+/wABAgP9/v8AAQID/f7/AAECA/3+/wABAgP9/v8AAQID/f7/AAECA/3+/wABAgP9/v8AAQID/f7/AAECA/3+/wABAgP9/v8AAQID/f7/AAECA/3+/wABAgP9/v8AAQID/f7/AAECA/3+/wABAgP9/v8AAQID/f7/AAECA/3+/wABAgP9/v8AAQID/f7/AAECA/3+/wABAgP9/v8AAQID/f7/AAECA/3+/wABAgP9/v8AAQID/f7/AAECA/3+/wABAgP9/v8AAQID/f7/AAECAw==",
          "dtype": "i1"
         }
        }
       ],
       "layout": {
        "height": 600,
        "scene": {
         "xaxis": {
          "title": {
           "text": "X"
          }
         },
         "yaxis": {
          "title": {
           "text": "Y"
          }
         },
         "zaxis": {
          "title": {
           "text": "Z"
          }
         }
        },
        "template": {
         "data": {
          "bar": [
           {
            "error_x": {
             "color": "#2a3f5f"
            },
            "error_y": {
             "color": "#2a3f5f"
            },
            "marker": {
             "line": {
              "color": "#E5ECF6",
              "width": 0.5
             },
             "pattern": {
              "fillmode": "overlay",
              "size": 10,
              "solidity": 0.2
             }
            },
            "type": "bar"
           }
          ],
          "barpolar": [
           {
            "marker": {
             "line": {
              "color": "#E5ECF6",
              "width": 0.5
             },
             "pattern": {
              "fillmode": "overlay",
              "size": 10,
              "solidity": 0.2
             }
            },
            "type": "barpolar"
           }
          ],
          "carpet": [
           {
            "aaxis": {
             "endlinecolor": "#2a3f5f",
             "gridcolor": "white",
             "linecolor": "white",
             "minorgridcolor": "white",
             "startlinecolor": "#2a3f5f"
            },
            "baxis": {
             "endlinecolor": "#2a3f5f",
             "gridcolor": "white",
             "linecolor": "white",
             "minorgridcolor": "white",
             "startlinecolor": "#2a3f5f"
            },
            "type": "carpet"
           }
          ],
          "choropleth": [
           {
            "colorbar": {
             "outlinewidth": 0,
             "ticks": ""
            },
            "type": "choropleth"
           }
          ],
          "contour": [
           {
            "colorbar": {
             "outlinewidth": 0,
             "ticks": ""
            },
            "colorscale": [
             [
              0,
              "#0d0887"
             ],
             [
              0.1111111111111111,
              "#46039f"
             ],
             [
              0.2222222222222222,
              "#7201a8"
             ],
             [
              0.3333333333333333,
              "#9c179e"
             ],
             [
              0.4444444444444444,
              "#bd3786"
             ],
             [
              0.5555555555555556,
              "#d8576b"
             ],
             [
              0.6666666666666666,
              "#ed7953"
             ],
             [
              0.7777777777777778,
              "#fb9f3a"
             ],
             [
              0.8888888888888888,
              "#fdca26"
             ],
             [
              1,
              "#f0f921"
             ]
            ],
            "type": "contour"
           }
          ],
          "contourcarpet": [
           {
            "colorbar": {
             "outlinewidth": 0,
             "ticks": ""
            },
            "type": "contourcarpet"
           }
          ],
          "heatmap": [
           {
            "colorbar": {
             "outlinewidth": 0,
             "ticks": ""
            },
            "colorscale": [
             [
              0,
              "#0d0887"
             ],
             [
              0.1111111111111111,
              "#46039f"
             ],
             [
              0.2222222222222222,
              "#7201a8"
             ],
             [
              0.3333333333333333,
              "#9c179e"
             ],
             [
              0.4444444444444444,
              "#bd3786"
             ],
             [
              0.5555555555555556,
              "#d8576b"
             ],
             [
              0.6666666666666666,
              "#ed7953"
             ],
             [
              0.7777777777777778,
              "#fb9f3a"
             ],
             [
              0.8888888888888888,
              "#fdca26"
             ],
             [
              1,
              "#f0f921"
             ]
            ],
            "type": "heatmap"
           }
          ],
          "histogram": [
           {
            "marker": {
             "pattern": {
              "fillmode": "overlay",
              "size": 10,
              "solidity": 0.2
             }
            },
            "type": "histogram"
           }
          ],
          "histogram2d": [
           {
            "colorbar": {
             "outlinewidth": 0,
             "ticks": ""
            },
            "colorscale": [
             [
              0,
              "#0d0887"
             ],
             [
              0.1111111111111111,
              "#46039f"
             ],
             [
              0.2222222222222222,
              "#7201a8"
             ],
             [
              0.3333333333333333,
              "#9c179e"
             ],
             [
              0.4444444444444444,
              "#bd3786"
             ],
             [
              0.5555555555555556,
              "#d8576b"
             ],
             [
              0.6666666666666666,
              "#ed7953"
             ],
             [
              0.7777777777777778,
              "#fb9f3a"
             ],
             [
              0.8888888888888888,
              "#fdca26"
             ],
             [
              1,
              "#f0f921"
             ]
            ],
            "type": "histogram2d"
           }
          ],
          "histogram2dcontour": [
           {
            "colorbar": {
             "outlinewidth": 0,
             "ticks": ""
            },
            "colorscale": [
             [
              0,
              "#0d0887"
             ],
             [
              0.1111111111111111,
              "#46039f"
             ],
             [
              0.2222222222222222,
              "#7201a8"
             ],
             [
              0.3333333333333333,
              "#9c179e"
             ],
             [
              0.4444444444444444,
              "#bd3786"
             ],
             [
              0.5555555555555556,
              "#d8576b"
             ],
             [
              0.6666666666666666,
              "#ed7953"
             ],
             [
              0.7777777777777778,
              "#fb9f3a"
             ],
             [
              0.8888888888888888,
              "#fdca26"
             ],
             [
              1,
              "#f0f921"
             ]
            ],
            "type": "histogram2dcontour"
           }
          ],
          "mesh3d": [
           {
            "colorbar": {
             "outlinewidth": 0,
             "ticks": ""
            },
            "type": "mesh3d"
           }
          ],
          "parcoords": [
           {
            "line": {
             "colorbar": {
              "outlinewidth": 0,
              "ticks": ""
             }
            },
            "type": "parcoords"
           }
          ],
          "pie": [
           {
            "automargin": true,
            "type": "pie"
           }
          ],
          "scatter": [
           {
            "fillpattern": {
             "fillmode": "overlay",
             "size": 10,
             "solidity": 0.2
            },
            "type": "scatter"
           }
          ],
          "scatter3d": [
           {
            "line": {
             "colorbar": {
              "outlinewidth": 0,
              "ticks": ""
             }
            },
            "marker": {
             "colorbar": {
              "outlinewidth": 0,
              "ticks": ""
             }
            },
            "type": "scatter3d"
           }
          ],
          "scattercarpet": [
           {
            "marker": {
             "colorbar": {
              "outlinewidth": 0,
              "ticks": ""
             }
            },
            "type": "scattercarpet"
           }
          ],
          "scattergeo": [
           {
            "marker": {
             "colorbar": {
              "outlinewidth": 0,
              "ticks": ""
             }
            },
            "type": "scattergeo"
           }
          ],
          "scattergl": [
           {
            "marker": {
             "colorbar": {
              "outlinewidth": 0,
              "ticks": ""
             }
            },
            "type": "scattergl"
           }
          ],
          "scattermap": [
           {
            "marker": {
             "colorbar": {
              "outlinewidth": 0,
              "ticks": ""
             }
            },
            "type": "scattermap"
           }
          ],
          "scattermapbox": [
           {
            "marker": {
             "colorbar": {
              "outlinewidth": 0,
              "ticks": ""
             }
            },
            "type": "scattermapbox"
           }
          ],
          "scatterpolar": [
           {
            "marker": {
             "colorbar": {
              "outlinewidth": 0,
              "ticks": ""
             }
            },
            "type": "scatterpolar"
           }
          ],
          "scatterpolargl": [
           {
            "marker": {
             "colorbar": {
              "outlinewidth": 0,
              "ticks": ""
             }
            },
            "type": "scatterpolargl"
           }
          ],
          "scatterternary": [
           {
            "marker": {
             "colorbar": {
              "outlinewidth": 0,
              "ticks": ""
             }
            },
            "type": "scatterternary"
           }
          ],
          "surface": [
           {
            "colorbar": {
             "outlinewidth": 0,
             "ticks": ""
            },
            "colorscale": [
             [
              0,
              "#0d0887"
             ],
             [
              0.1111111111111111,
              "#46039f"
             ],
             [
              0.2222222222222222,
              "#7201a8"
             ],
             [
              0.3333333333333333,
              "#9c179e"
             ],
             [
              0.4444444444444444,
              "#bd3786"
             ],
             [
              0.5555555555555556,
              "#d8576b"
             ],
             [
              0.6666666666666666,
              "#ed7953"
             ],
             [
              0.7777777777777778,
              "#fb9f3a"
             ],
             [
              0.8888888888888888,
              "#fdca26"
             ],
             [
              1,
              "#f0f921"
             ]
            ],
            "type": "surface"
           }
          ],
          "table": [
           {
            "cells": {
             "fill": {
              "color": "#EBF0F8"
             },
             "line": {
              "color": "white"
             }
            },
            "header": {
             "fill": {
              "color": "#C8D4E3"
             },
             "line": {
              "color": "white"
             }
            },
            "type": "table"
           }
          ]
         },
         "layout": {
          "annotationdefaults": {
           "arrowcolor": "#2a3f5f",
           "arrowhead": 0,
           "arrowwidth": 1
          },
          "autotypenumbers": "strict",
          "coloraxis": {
           "colorbar": {
            "outlinewidth": 0,
            "ticks": ""
           }
          },
          "colorscale": {
           "diverging": [
            [
             0,
             "#8e0152"
            ],
            [
             0.1,
             "#c51b7d"
            ],
            [
             0.2,
             "#de77ae"
            ],
            [
             0.3,
             "#f1b6da"
            ],
            [
             0.4,
             "#fde0ef"
            ],
            [
             0.5,
             "#f7f7f7"
            ],
            [
             0.6,
             "#e6f5d0"
            ],
            [
             0.7,
             "#b8e186"
            ],
            [
             0.8,
             "#7fbc41"
            ],
            [
             0.9,
             "#4d9221"
            ],
            [
             1,
             "#276419"
            ]
           ],
           "sequential": [
            [
             0,
             "#0d0887"
            ],
            [
             0.1111111111111111,
             "#46039f"
            ],
            [
             0.2222222222222222,
             "#7201a8"
            ],
            [
             0.3333333333333333,
             "#9c179e"
            ],
            [
             0.4444444444444444,
             "#bd3786"
            ],
            [
             0.5555555555555556,
             "#d8576b"
            ],
            [
             0.6666666666666666,
             "#ed7953"
            ],
            [
             0.7777777777777778,
             "#fb9f3a"
            ],
            [
             0.8888888888888888,
             "#fdca26"
            ],
            [
             1,
             "#f0f921"
            ]
           ],
           "sequentialminus": [
            [
             0,
             "#0d0887"
            ],
            [
             0.1111111111111111,
             "#46039f"
            ],
            [
             0.2222222222222222,
             "#7201a8"
            ],
            [
             0.3333333333333333,
             "#9c179e"
            ],
            [
             0.4444444444444444,
             "#bd3786"
            ],
            [
             0.5555555555555556,
             "#d8576b"
            ],
            [
             0.6666666666666666,
             "#ed7953"
            ],
            [
             0.7777777777777778,
             "#fb9f3a"
            ],
            [
             0.8888888888888888,
             "#fdca26"
            ],
            [
             1,
             "#f0f921"
            ]
           ]
          },
          "colorway": [
           "#636efa",
           "#EF553B",
           "#00cc96",
           "#ab63fa",
           "#FFA15A",
           "#19d3f3",
           "#FF6692",
           "#B6E880",
           "#FF97FF",
           "#FECB52"
          ],
          "font": {
           "color": "#2a3f5f"
          },
          "geo": {
           "bgcolor": "white",
           "lakecolor": "white",
           "landcolor": "#E5ECF6",
           "showlakes": true,
           "showland": true,
           "subunitcolor": "white"
          },
          "hoverlabel": {
           "align": "left"
          },
          "hovermode": "closest",
          "mapbox": {
           "style": "light"
          },
          "paper_bgcolor": "white",
          "plot_bgcolor": "#E5ECF6",
          "polar": {
           "angularaxis": {
            "gridcolor": "white",
            "linecolor": "white",
            "ticks": ""
           },
           "bgcolor": "#E5ECF6",
           "radialaxis": {
            "gridcolor": "white",
            "linecolor": "white",
            "ticks": ""
           }
          },
          "scene": {
           "xaxis": {
            "backgroundcolor": "#E5ECF6",
            "gridcolor": "white",
            "gridwidth": 2,
            "linecolor": "white",
            "showbackground": true,
            "ticks": "",
            "zerolinecolor": "white"
           },
           "yaxis": {
            "backgroundcolor": "#E5ECF6",
            "gridcolor": "white",
            "gridwidth": 2,
            "linecolor": "white",
            "showbackground": true,
            "ticks": "",
            "zerolinecolor": "white"
           },
           "zaxis": {
            "backgroundcolor": "#E5ECF6",
            "gridcolor": "white",
            "gridwidth": 2,
            "linecolor": "white",
            "showbackground": true,
            "ticks": "",
            "zerolinecolor": "white"
           }
          },
          "shapedefaults": {
           "line": {
            "color": "#2a3f5f"
           }
          },
          "ternary": {
           "aaxis": {
            "gridcolor": "white",
            "linecolor": "white",
            "ticks": ""
           },
           "baxis": {
            "gridcolor": "white",
            "linecolor": "white",
            "ticks": ""
           },
           "bgcolor": "#E5ECF6",
           "caxis": {
            "gridcolor": "white",
            "linecolor": "white",
            "ticks": ""
           }
          },
          "title": {
           "x": 0.05
          },
          "xaxis": {
           "automargin": true,
           "gridcolor": "white",
           "linecolor": "white",
           "ticks": "",
           "title": {
            "standoff": 15
           },
           "zerolinecolor": "white",
           "zerolinewidth": 2
          },
          "yaxis": {
           "automargin": true,
           "gridcolor": "white",
           "linecolor": "white",
           "ticks": "",
           "title": {
            "standoff": 15
           },
           "zerolinecolor": "white",
           "zerolinewidth": 2
          }
         }
        },
        "title": {
         "text": "Rede Cúbica Colorida (L = 3)<br>Cor indica distância até a origem"
        },
        "width": 800
       }
      }
     },
     "metadata": {},
     "output_type": "display_data"
    }
   ],
   "source": [
    "import plotly.graph_objects as go\n",
    "import numpy as np\n",
    "\n",
    "def criar_rede_cubica(L):\n",
    "    \"\"\"\n",
    "    Cria uma rede cúbica simples com átomos nas posições (i, j, k),\n",
    "    onde i, j, k variam de -L até L.\n",
    "    \n",
    "    Parâmetros:\n",
    "    L (int): \"Metade\" do tamanho da rede (ela vai de -L até L)\n",
    "    \n",
    "    Retorna:\n",
    "    tuple: coordenadas (x, y, z) de todos os pontos da rede\n",
    "    \"\"\"\n",
    "    coords = []\n",
    "    for i in range(-L, L + 1):\n",
    "        for j in range(-L, L + 1):\n",
    "            for k in range(-L, L + 1):\n",
    "                coords.append([i, j, k])\n",
    "    \n",
    "    coords = np.array(coords)\n",
    "    return coords[:, 0], coords[:, 1], coords[:, 2]\n",
    "\n",
    "def plotar_rede_cubica(L, tamanho_atomo=8, cor_atomo='blue', mostrar_ligacoes=False):\n",
    "    \"\"\"\n",
    "    Plota uma rede cúbica 3D usando o Plotly.\n",
    "    \n",
    "    Parâmetros:\n",
    "    L (int): metade do tamanho da rede\n",
    "    tamanho_atomo (int): tamanho das esferas dos átomos\n",
    "    cor_atomo (str): cor dos átomos\n",
    "    mostrar_ligacoes (bool): se deve ou não mostrar ligações entre vizinhos próximos\n",
    "    \"\"\"\n",
    "    x, y, z = criar_rede_cubica(L)\n",
    "\n",
    "    fig = go.Figure()\n",
    "\n",
    "    fig.add_trace(go.Scatter3d(\n",
    "        x=x, y=y, z=z,\n",
    "        mode='markers',\n",
    "        marker=dict(\n",
    "            size=tamanho_atomo,\n",
    "            color=cor_atomo,\n",
    "            opacity=0.8,\n",
    "            symbol='circle'\n",
    "        ),\n",
    "        name='Átomos',\n",
    "        hovertemplate='<b>Átomo</b><br>' +\n",
    "                      'x: %{x}<br>' +\n",
    "                      'y: %{y}<br>' +\n",
    "                      'z: %{z}<br>' +\n",
    "                      '<extra></extra>'\n",
    "    ))\n",
    "\n",
    "    if mostrar_ligacoes and L <= 3:\n",
    "        lig_x, lig_y, lig_z = [], [], []\n",
    "        \n",
    "        for i in range(len(x)):\n",
    "            for j in range(i + 1, len(x)):\n",
    "                dist = np.sqrt((x[i] - x[j])**2 + (y[i] - y[j])**2 + (z[i] - z[j])**2)\n",
    "                if abs(dist - 1.0) < 0.1:\n",
    "                    lig_x.extend([x[i], x[j], None])\n",
    "                    lig_y.extend([y[i], y[j], None])\n",
    "                    lig_z.extend([z[i], z[j], None])\n",
    "        \n",
    "        fig.add_trace(go.Scatter3d(\n",
    "            x=lig_x, y=lig_y, z=lig_z,\n",
    "            mode='lines',\n",
    "            line=dict(color='gray', width=2),\n",
    "            name='Ligações',\n",
    "            showlegend=False,\n",
    "            hoverinfo='none'\n",
    "        ))\n",
    "\n",
    "    fig.update_layout(\n",
    "        title=f'Rede Cúbica Simples (L = {L})<br>Total de átomos: {len(x)}',\n",
    "        scene=dict(\n",
    "            xaxis_title='X',\n",
    "            yaxis_title='Y',\n",
    "            zaxis_title='Z',\n",
    "            xaxis=dict(range=[-L-1, L+1]),\n",
    "            yaxis=dict(range=[-L-1, L+1]),\n",
    "            zaxis=dict(range=[-L-1, L+1]),\n",
    "        ),\n",
    "        width=800,\n",
    "        height=600,\n",
    "        showlegend=True\n",
    "    )\n",
    "\n",
    "    return fig\n",
    "\n",
    "if __name__ == \"__main__\":\n",
    "    tamanhos = [1, 2, 3]\n",
    "    \n",
    "    for L in tamanhos:\n",
    "        print(f\"\\nCriando rede cúbica com L = {L}\")\n",
    "        print(f\"Rede vai de -{L} até {L} em cada dimensão\")\n",
    "        print(f\"Total de átomos: {(2*L + 1)**3}\")\n",
    "        fig = plotar_rede_cubica(L, mostrar_ligacoes=(L <= 2))\n",
    "        fig.show()\n",
    "    \n",
    "    print(f\"\\nCriando rede cúbica maior com L = 4 (sem ligações)\")\n",
    "    fig_maior = plotar_rede_cubica(4, tamanho_atomo=6, cor_atomo='red', mostrar_ligacoes=False)\n",
    "    fig_maior.show()\n",
    "\n",
    "    def plotar_rede_colorida(L):\n",
    "        x, y, z = criar_rede_cubica(L)\n",
    "        distancias = np.sqrt(x**2 + y**2 + z**2)\n",
    "        \n",
    "        fig = go.Figure()\n",
    "        fig.add_trace(go.Scatter3d(\n",
    "            x=x, y=y, z=z,\n",
    "            mode='markers',\n",
    "            marker=dict(\n",
    "                size=8,\n",
    "                color=distancias,\n",
    "                colorscale='Viridis',\n",
    "                colorbar=dict(title=\"Distância até a origem\"),\n",
    "                opacity=0.8\n",
    "            ),\n",
    "            name='Átomos'\n",
    "        ))\n",
    "        \n",
    "        fig.update_layout(\n",
    "            title=f'Rede Cúbica Colorida (L = {L})<br>Cor indica distância até a origem',\n",
    "            scene=dict(\n",
    "                xaxis_title='X',\n",
    "                yaxis_title='Y',\n",
    "                zaxis_title='Z',\n",
    "            ),\n",
    "            width=800,\n",
    "            height=600\n",
    "        )\n",
    "        \n",
    "        return fig\n",
    "    \n",
    "    print(f\"\\nCriando rede cúbica colorida com L = 3\")\n",
    "    fig_colorida = plotar_rede_colorida(3)\n",
    "    fig_colorida.show()\n"
   ]
  },
  {
   "cell_type": "code",
   "execution_count": null,
   "id": "61aaeb68",
   "metadata": {},
   "outputs": [],
   "source": []
  }
 ],
 "metadata": {
  "kernelspec": {
   "display_name": "fis-comp",
   "language": "python",
   "name": "python3"
  },
  "language_info": {
   "codemirror_mode": {
    "name": "ipython",
    "version": 3
   },
   "file_extension": ".py",
   "mimetype": "text/x-python",
   "name": "python",
   "nbconvert_exporter": "python",
   "pygments_lexer": "ipython3",
   "version": "3.12.3"
  }
 },
 "nbformat": 4,
 "nbformat_minor": 5
}
