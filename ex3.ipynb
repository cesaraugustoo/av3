{
 "cells": [
  {
   "cell_type": "markdown",
   "metadata": {},
   "source": [
    "### Exercício 3"
   ]
  },
  {
   "cell_type": "markdown",
   "metadata": {},
   "source": [
    "Você deverá selecionar um banco de dados científico aberto entre as seguintes opções para realizar uma análise visual aprofundada, utilizando Python:\n",
    "\n",
    "- PANGAEA (dados ambientais e climáticos)\n",
    "- NASA Earth Data (observações de satélite)\n",
    "- ENSEMBL / 1000 Genomes (dados genômicos)\n",
    "- Global Biodiversity Information Facility (GBIF)\n",
    "- UN Data (indicadores globais socioeconômicos)\n",
    "- Figshare ou Zenodo (dados multidisciplinares de pesquisas científicas)\n",
    "\n",
    "🎯 Tarefas:\n",
    "1. Escolha um tema exclusivo dentro do banco de dados escolhido, que ainda não tenha sido selecionado por outro colega (registre seu tema antes de iniciar).\n",
    "2. Baixe e faça a limpeza dos dados, garantindo organização para análise.\n",
    "3. Utilize Python para produzir ao menos cinco visualizações diferentes, incluindo obrigatoriamente:\n",
    "    - Gráfico de linha ou série temporal (quando aplicável)\n",
    "    - Gráfico de dispersão ou correlação\n",
    "    - Gráfico de distribuição (histograma, boxplot ou violin plot)\n",
    "    - Visualização geoespacial (mapa estático ou interativo) — caso os dados tenham componente geográfico\n",
    "    - Visualização avançada ou interativa à sua escolha (ex: gráfico de rede, heatmap, gráfico radial, dashboard simples)\n",
    "\n",
    "4. Escreva um relatório científico (mínimo 500 palavras) contendo:\n",
    "    - Contextualização do tema e relevância científica\n",
    "    - Principais insights obtidos nas visualizações\n",
    "    - Discussão crítica das limitações dos dados e da análise\n",
    "    - Referências das bases de dados utilizadas\n",
    "\n",
    "\n",
    "🛑 Regras Importantes:\n",
    "\n",
    "- Cada aluno deve escolher um tema e banco de dados exclusivos.\n",
    "- O código Python deve ser organizado, comentado e permitir reprodução da análise.\n",
    "- As visualizações devem ser claras, esteticamente cuidadas e com legendas/títulos informativos.\n",
    "- O relatório deve demonstrar domínio conceitual e capacidade de comunicação científica."
   ]
  },
  {
   "cell_type": "markdown",
   "metadata": {},
   "source": [
    "## Análise de Recursos Humanos em Pesquisa e Desenvolvimento: Uma Perspectiva Global dos Dados da ONU\n",
    "\n",
    "**Dados Utilizados:**\n",
    "- Fonte: United Nations Statistical Yearbook 2024\n",
    "- URL: https://data.un.org/_Docs/SYB/CSV/SYB67_285_202411_Research%20and%20Development%20Expenditure%20and%20Staff.csv\n",
    "- Período: 2005-2021\n",
    "- Variáveis principais: Investimento em P&D (% PIB), Pesquisadores por milhão de habitantes"
   ]
  },
  {
   "cell_type": "markdown",
   "metadata": {},
   "source": [
    "A importância estratégica dos recursos humanos em Pesquisa e Desenvolvimento (P&D) para o desenvolvimento econômico representa um dos pilares fundamentais da economia do conhecimento contemporânea.\n",
    "\n",
    "O capital intelectual de uma nação, composto pelo capital interno (conhecimento armazenado em processos e sistemas), capital externo (conhecimento adquirido nas relações internacionais) e capital humano (as pessoas e suas competências), representa frequentemente um ativo que supera o patrimônio físico tradicional. Países como Coreia do Sul e Singapura exemplificam como investimentos maciços em educação e ciência e tecnologia podem resultar em crescimento exponencial do PIB, mesmo na ausência de abundantes recursos naturais.\n",
    "\n",
    "A formação de recursos humanos altamente qualificados, especialmente em nível de doutorado, constitui um fator crucial para o avanço científico e a competitividade internacional. A Organização para a Cooperação e Desenvolvimento Econômico (OCDE), através do Manual Frascati, estabelece metodologias padronizadas para mensuração desses recursos, classificando os profissionais de P&D em pesquisadores, técnicos e pessoal de apoio, utilizando a metodologia de \"Equivalente de Tempo Integral\" (ETI) para permitir comparações robustas entre países e setores."
   ]
  },
  {
   "cell_type": "code",
   "execution_count": 61,
   "metadata": {},
   "outputs": [
    {
     "data": {
      "text/html": [
       "        <script type=\"text/javascript\">\n",
       "        window.PlotlyConfig = {MathJaxConfig: 'local'};\n",
       "        if (window.MathJax && window.MathJax.Hub && window.MathJax.Hub.Config) {window.MathJax.Hub.Config({SVG: {font: \"STIX-Web\"}});}\n",
       "        if (typeof require !== 'undefined') {\n",
       "        require.undef(\"plotly\");\n",
       "        requirejs.config({\n",
       "            paths: {\n",
       "                'plotly': ['https://cdn.plot.ly/plotly-2.35.2.min']\n",
       "            }\n",
       "        });\n",
       "        require(['plotly'], function(Plotly) {\n",
       "            window._Plotly = Plotly;\n",
       "        });\n",
       "        }\n",
       "        </script>\n",
       "        "
      ]
     },
     "metadata": {},
     "output_type": "display_data"
    }
   ],
   "source": [
    "# Importação das bibliotecas necessárias\n",
    "import pandas as pd\n",
    "import numpy as np\n",
    "import plotly.express as px\n",
    "import plotly.graph_objects as go\n",
    "from plotly.subplots import make_subplots\n",
    "import plotly.offline as pyo\n",
    "import warnings\n",
    "warnings.filterwarnings('ignore')\n",
    "\n",
    "# Configuração para exibição de gráficos\n",
    "pyo.init_notebook_mode(connected=True)"
   ]
  },
  {
   "cell_type": "markdown",
   "metadata": {},
   "source": [
    "#### Aquisição e Pré-processamento dos Dados"
   ]
  },
  {
   "cell_type": "code",
   "execution_count": 62,
   "metadata": {},
   "outputs": [
    {
     "name": "stdout",
     "output_type": "stream",
     "text": [
      "Estrutura inicial dos dados:\n",
      "Dimensões: (1025, 7)\n",
      "Colunas: ['T28', 'Research and development (R&D) expenditure and researchers (full time equivalent)', 'Unnamed: 2', 'Unnamed: 3', 'Unnamed: 4', 'Unnamed: 5', 'Unnamed: 6']\n",
      "\n",
      "Primeiras linhas:\n",
      "Dados após limpeza:\n",
      "Dimensões: (1024, 8)\n",
      "Anos disponíveis: [2000, 2001, 2002, 2003, 2004, 2005, 2006, 2007, 2008, 2009, 2010, 2011, 2012, 2013, 2014, 2015, 2016, 2017, 2018, 2019, 2020, 2021, 2022]\n",
      "Tipos de séries: ['GDP_Percentage' 'Researchers_per_Million']\n",
      "Número de regiões/países: 171\n",
      "\n",
      "Estatísticas descritivas por tipo de série:\n",
      "\n",
      "GDP_Percentage:\n",
      "count    547.000000\n",
      "mean       0.892505\n",
      "std        0.946228\n",
      "min        0.000000\n",
      "25%        0.200000\n",
      "50%        0.500000\n",
      "75%        1.300000\n",
      "max        5.600000\n",
      "Name: Value, dtype: float64\n",
      "\n",
      "Researchers_per_Million:\n",
      "count     477.000000\n",
      "mean     1726.480922\n",
      "std      2019.505223\n",
      "min         7.400000\n",
      "25%       157.600000\n",
      "50%       760.200000\n",
      "75%      2948.500000\n",
      "max      9081.900000\n",
      "Name: Value, dtype: float64\n",
      "Datasets criados:\n",
      "GDP P&D: 547 registros\n",
      "Pesquisadores: 477 registros\n",
      "Combinado: 447 registros\n",
      "\n",
      "Principais regiões/países nos dados:\n",
      "Region_Country\n",
      "Madagascar                      10\n",
      "Bosnia and Herzegovina           9\n",
      "Panama                           9\n",
      "Costa Rica                       9\n",
      "Venezuela (Boliv. Rep. of)       9\n",
      "Greece                           9\n",
      "Uruguay                          9\n",
      "United States of America         9\n",
      "United Kingdom                   9\n",
      "Mexico                           9\n",
      "Canada                           9\n",
      "Malaysia                         8\n",
      "Luxembourg                       8\n",
      "Netherlands (Kingdom of the)     8\n",
      "Malta                            8\n",
      "Name: count, dtype: int64\n"
     ]
    }
   ],
   "source": [
    "df_raw = pd.read_csv('./dados_rh_pd_onu.csv', encoding='utf-8-sig')\n",
    "\n",
    "print(\"Estrutura inicial dos dados:\")\n",
    "print(f\"Dimensões: {df_raw.shape}\")\n",
    "print(f\"Colunas: {list(df_raw.columns)}\")\n",
    "print(\"\\nPrimeiras linhas:\")\n",
    "df_raw.head(10)\n",
    "\n",
    "# Remover a primeira linha que contém metadados\n",
    "df = df_raw.iloc[1:].copy()\n",
    "\n",
    "# Renomear\n",
    "df.columns = ['Region_Code', 'Region_Country', 'Year', 'Series', 'Value', 'Footnotes', 'Source']\n",
    "\n",
    "# Converter tipos de dados\n",
    "df['Year'] = pd.to_numeric(df['Year'], errors='coerce')\n",
    "df['Value'] = pd.to_numeric(df['Value'].astype(str).str.replace(',', ''), errors='coerce')\n",
    "df['Region_Code'] = pd.to_numeric(df['Region_Code'], errors='coerce')\n",
    "\n",
    "# Remover linhas com valores nulos essenciais\n",
    "df = df.dropna(subset=['Year', 'Value'])\n",
    "\n",
    "# Criar colunas separadas para os dois tipos de séries\n",
    "df['Series_Type'] = df['Series'].apply(lambda x: 'GDP_Percentage' if 'GDP' in str(x) else 'Researchers_per_Million')\n",
    "\n",
    "print(\"Dados após limpeza:\")\n",
    "print(f\"Dimensões: {df.shape}\")\n",
    "print(f\"Anos disponíveis: {sorted(df['Year'].unique())}\")\n",
    "print(f\"Tipos de séries: {df['Series_Type'].unique()}\")\n",
    "print(f\"Número de regiões/países: {df['Region_Country'].nunique()}\")\n",
    "\n",
    "# Visualizar algumas estatísticas descritivas\n",
    "print(\"\\nEstatísticas descritivas por tipo de série:\")\n",
    "for series_type in df['Series_Type'].unique():\n",
    "    subset = df[df['Series_Type'] == series_type]\n",
    "    print(f\"\\n{series_type}:\")\n",
    "    print(subset['Value'].describe())\n",
    "\n",
    "# Criar datasets separados para facilitar as análises\n",
    "df_gdp = df[df['Series_Type'] == 'GDP_Percentage'].copy()\n",
    "df_researchers = df[df['Series_Type'] == 'Researchers_per_Million'].copy()\n",
    "\n",
    "# Criar um dataset combinado para análises de correlação\n",
    "df_combined = pd.merge(\n",
    "    df_gdp[['Region_Country', 'Year', 'Value']].rename(columns={'Value': 'GDP_RD_Percentage'}),\n",
    "    df_researchers[['Region_Country', 'Year', 'Value']].rename(columns={'Value': 'Researchers_per_Million'}),\n",
    "    on=['Region_Country', 'Year'],\n",
    "    how='inner'\n",
    ")\n",
    "\n",
    "print(\"Datasets criados:\")\n",
    "print(f\"GDP P&D: {df_gdp.shape[0]} registros\")\n",
    "print(f\"Pesquisadores: {df_researchers.shape[0]} registros\")\n",
    "print(f\"Combinado: {df_combined.shape[0]} registros\")\n",
    "\n",
    "# Identificar principais regiões/países\n",
    "print(\"\\nPrincipais regiões/países nos dados:\")\n",
    "print(df['Region_Country'].value_counts().head(15))"
   ]
  },
  {
   "cell_type": "markdown",
   "metadata": {},
   "source": [
    "#### Análise Descritiva"
   ]
  },
  {
   "cell_type": "code",
   "execution_count": 63,
   "metadata": {},
   "outputs": [
    {
     "name": "stdout",
     "output_type": "stream",
     "text": [
      "=== ANÁLISE DESCRITIVA DOS DADOS DE P&D ===\n",
      "\n",
      "1. COBERTURA TEMPORAL:\n",
      "Período analisado: 2000 - 2022\n",
      "Anos com dados: [2000, 2001, 2002, 2003, 2004, 2005, 2006, 2007, 2008, 2009, 2010, 2011, 2012, 2013, 2014, 2015, 2016, 2017, 2018, 2019, 2020, 2021, 2022]\n",
      "Total de anos: 23\n",
      "\n",
      "2. COBERTURA GEOGRÁFICA:\n",
      "Total de regiões/países: 171\n",
      "Regiões identificadas: 15\n",
      "Países identificados: 156\n",
      "\n",
      "3. INVESTIMENTO EM P&D (% do PIB):\n",
      "count    547.000000\n",
      "mean       0.892505\n",
      "std        0.946228\n",
      "min        0.000000\n",
      "25%        0.200000\n",
      "50%        0.500000\n",
      "75%        1.300000\n",
      "max        5.600000\n",
      "Name: Value, dtype: float64\n",
      "\n",
      "Países/regiões com maior investimento em P&D (dados mais recentes):\n",
      "  Portugal: 1.70%\n",
      "  Canada: 1.60%\n",
      "  China, Hong Kong SAR: 1.10%\n",
      "  Egypt: 1.00%\n",
      "  Serbia: 1.00%\n",
      "  Russian Federation: 0.90%\n",
      "  Belarus: 0.50%\n",
      "  China, Macao SAR: 0.50%\n",
      "  Saudi Arabia: 0.50%\n",
      "  Congo: 0.40%\n",
      "\n",
      "4. DENSIDADE DE PESQUISADORES (por milhão de habitantes):\n",
      "count     477.000000\n",
      "mean     1726.480922\n",
      "std      2019.505223\n",
      "min         7.400000\n",
      "25%       157.600000\n",
      "50%       760.200000\n",
      "75%      2948.500000\n",
      "max      9081.900000\n",
      "Name: Value, dtype: float64\n",
      "\n",
      "Países/regiões com maior densidade de pesquisadores (dados mais recentes):\n",
      "  Portugal: 5743.0 pesquisadores/milhão hab.\n",
      "  China, Hong Kong SAR: 4809.0 pesquisadores/milhão hab.\n",
      "  China, Macao SAR: 3544.5 pesquisadores/milhão hab.\n",
      "  Russian Federation: 2697.9 pesquisadores/milhão hab.\n",
      "  Serbia: 2349.7 pesquisadores/milhão hab.\n",
      "  Georgia: 1823.0 pesquisadores/milhão hab.\n",
      "  Azerbaijan: 1690.7 pesquisadores/milhão hab.\n",
      "  Tunisia: 1672.0 pesquisadores/milhão hab.\n",
      "  Belarus: 1381.8 pesquisadores/milhão hab.\n",
      "  Armenia: 1219.9 pesquisadores/milhão hab.\n",
      "\n",
      "5. COMPLETUDE DOS DADOS:\n",
      "Número de anos com dados por região/país:\n",
      "GDP P&D:\n",
      "count    167.000000\n",
      "mean       3.275449\n",
      "std        1.195698\n",
      "min        1.000000\n",
      "25%        2.000000\n",
      "50%        4.000000\n",
      "75%        4.000000\n",
      "max        5.000000\n",
      "Name: Year, dtype: float64\n",
      "\n",
      "Pesquisadores:\n",
      "count    158.000000\n",
      "mean       3.018987\n",
      "std        1.233665\n",
      "min        1.000000\n",
      "25%        2.000000\n",
      "50%        4.000000\n",
      "75%        4.000000\n",
      "max        5.000000\n",
      "Name: Year, dtype: float64\n"
     ]
    }
   ],
   "source": [
    "# Análise descritiva detalhada\n",
    "print(\"=== ANÁLISE DESCRITIVA DOS DADOS DE P&D ===\\n\")\n",
    "\n",
    "# 1. Cobertura temporal\n",
    "print(\"1. COBERTURA TEMPORAL:\")\n",
    "print(f\"Período analisado: {df['Year'].min()} - {df['Year'].max()}\")\n",
    "print(f\"Anos com dados: {sorted(df['Year'].unique())}\")\n",
    "print(f\"Total de anos: {df['Year'].nunique()}\")\n",
    "\n",
    "# 2. Cobertura geográfica\n",
    "print(\"\\n2. COBERTURA GEOGRÁFICA:\")\n",
    "print(f\"Total de regiões/países: {df['Region_Country'].nunique()}\")\n",
    "\n",
    "# Identificar países vs regiões\n",
    "regions = df['Region_Country'].unique()\n",
    "likely_regions = [r for r in regions if any(word in r.lower() for word in ['africa', 'asia', 'europe', 'america', 'total', 'developed', 'developing'])]\n",
    "likely_countries = [r for r in regions if r not in likely_regions]\n",
    "\n",
    "print(f\"Regiões identificadas: {len(likely_regions)}\")\n",
    "print(f\"Países identificados: {len(likely_countries)}\")\n",
    "\n",
    "# 3. Análise dos investimentos em P&D (% do PIB)\n",
    "print(\"\\n3. INVESTIMENTO EM P&D (% do PIB):\")\n",
    "gdp_stats = df_gdp['Value'].describe()\n",
    "print(gdp_stats)\n",
    "print(f\"\\nPaíses/regiões com maior investimento em P&D (dados mais recentes):\")\n",
    "latest_year_gdp = df_gdp['Year'].max()\n",
    "top_gdp = df_gdp[df_gdp['Year'] == latest_year_gdp].nlargest(10, 'Value')\n",
    "for _, row in top_gdp.iterrows():\n",
    "    print(f\"  {row['Region_Country']}: {row['Value']:.2f}%\")\n",
    "\n",
    "# 4. Análise da densidade de pesquisadores\n",
    "print(\"\\n4. DENSIDADE DE PESQUISADORES (por milhão de habitantes):\")\n",
    "researchers_stats = df_researchers['Value'].describe()\n",
    "print(researchers_stats)\n",
    "print(f\"\\nPaíses/regiões com maior densidade de pesquisadores (dados mais recentes):\")\n",
    "latest_year_res = df_researchers['Year'].max()\n",
    "top_researchers = df_researchers[df_researchers['Year'] == latest_year_res].nlargest(10, 'Value')\n",
    "for _, row in top_researchers.iterrows():\n",
    "    print(f\"  {row['Region_Country']}: {row['Value']:.1f} pesquisadores/milhão hab.\")\n",
    "\n",
    "# 5. Análise de completude dos dados\n",
    "print(\"\\n5. COMPLETUDE DOS DADOS:\")\n",
    "completeness_gdp = df_gdp.groupby('Region_Country')['Year'].count().describe()\n",
    "completeness_res = df_researchers.groupby('Region_Country')['Year'].count().describe()\n",
    "print(\"Número de anos com dados por região/país:\")\n",
    "print(\"GDP P&D:\")\n",
    "print(completeness_gdp)\n",
    "print(\"\\nPesquisadores:\")\n",
    "print(completeness_res)"
   ]
  },
  {
   "cell_type": "markdown",
   "metadata": {},
   "source": [
    "#### Evolução Global dos Investimentos em P&D"
   ]
  },
  {
   "cell_type": "code",
   "execution_count": 69,
   "metadata": {},
   "outputs": [
    {
     "data": {
      "application/vnd.plotly.v1+json": {
       "config": {
        "plotlyServerURL": "https://plot.ly"
       },
       "data": [
        {
         "line": {
          "color": "#1f77b4",
          "width": 3
         },
         "marker": {
          "size": 8
         },
         "mode": "lines+markers",
         "name": "Investimento em P&D (% PIB)",
         "type": "scatter",
         "x": [
          2005,
          2010,
          2015,
          2021
         ],
         "xaxis": "x",
         "y": [
          1.5,
          1.6,
          1.7,
          1.9
         ],
         "yaxis": "y"
        },
        {
         "line": {
          "color": "#ff7f0e",
          "width": 3
         },
         "marker": {
          "size": 8
         },
         "mode": "lines+markers",
         "name": "Pesquisadores por milhão hab.",
         "type": "scatter",
         "x": [
          2005,
          2010,
          2015,
          2021
         ],
         "xaxis": "x",
         "y": [
          902.4,
          1009.8,
          1143.1,
          1352.5
         ],
         "yaxis": "y2"
        }
       ],
       "layout": {
        "annotations": [
         {
          "font": {
           "size": 16
          },
          "showarrow": false,
          "text": "Evolução Global dos Investimentos em P&D e Densidade de Pesquisadores",
          "x": 0.47,
          "xanchor": "center",
          "xref": "paper",
          "y": 1,
          "yanchor": "bottom",
          "yref": "paper"
         }
        ],
        "height": 900,
        "hovermode": "x unified",
        "legend": {
         "x": 0.02,
         "y": 0.98
        },
        "template": {
         "data": {
          "bar": [
           {
            "error_x": {
             "color": "#2a3f5f"
            },
            "error_y": {
             "color": "#2a3f5f"
            },
            "marker": {
             "line": {
              "color": "white",
              "width": 0.5
             },
             "pattern": {
              "fillmode": "overlay",
              "size": 10,
              "solidity": 0.2
             }
            },
            "type": "bar"
           }
          ],
          "barpolar": [
           {
            "marker": {
             "line": {
              "color": "white",
              "width": 0.5
             },
             "pattern": {
              "fillmode": "overlay",
              "size": 10,
              "solidity": 0.2
             }
            },
            "type": "barpolar"
           }
          ],
          "carpet": [
           {
            "aaxis": {
             "endlinecolor": "#2a3f5f",
             "gridcolor": "#C8D4E3",
             "linecolor": "#C8D4E3",
             "minorgridcolor": "#C8D4E3",
             "startlinecolor": "#2a3f5f"
            },
            "baxis": {
             "endlinecolor": "#2a3f5f",
             "gridcolor": "#C8D4E3",
             "linecolor": "#C8D4E3",
             "minorgridcolor": "#C8D4E3",
             "startlinecolor": "#2a3f5f"
            },
            "type": "carpet"
           }
          ],
          "choropleth": [
           {
            "colorbar": {
             "outlinewidth": 0,
             "ticks": ""
            },
            "type": "choropleth"
           }
          ],
          "contour": [
           {
            "colorbar": {
             "outlinewidth": 0,
             "ticks": ""
            },
            "colorscale": [
             [
              0,
              "#0d0887"
             ],
             [
              0.1111111111111111,
              "#46039f"
             ],
             [
              0.2222222222222222,
              "#7201a8"
             ],
             [
              0.3333333333333333,
              "#9c179e"
             ],
             [
              0.4444444444444444,
              "#bd3786"
             ],
             [
              0.5555555555555556,
              "#d8576b"
             ],
             [
              0.6666666666666666,
              "#ed7953"
             ],
             [
              0.7777777777777778,
              "#fb9f3a"
             ],
             [
              0.8888888888888888,
              "#fdca26"
             ],
             [
              1,
              "#f0f921"
             ]
            ],
            "type": "contour"
           }
          ],
          "contourcarpet": [
           {
            "colorbar": {
             "outlinewidth": 0,
             "ticks": ""
            },
            "type": "contourcarpet"
           }
          ],
          "heatmap": [
           {
            "colorbar": {
             "outlinewidth": 0,
             "ticks": ""
            },
            "colorscale": [
             [
              0,
              "#0d0887"
             ],
             [
              0.1111111111111111,
              "#46039f"
             ],
             [
              0.2222222222222222,
              "#7201a8"
             ],
             [
              0.3333333333333333,
              "#9c179e"
             ],
             [
              0.4444444444444444,
              "#bd3786"
             ],
             [
              0.5555555555555556,
              "#d8576b"
             ],
             [
              0.6666666666666666,
              "#ed7953"
             ],
             [
              0.7777777777777778,
              "#fb9f3a"
             ],
             [
              0.8888888888888888,
              "#fdca26"
             ],
             [
              1,
              "#f0f921"
             ]
            ],
            "type": "heatmap"
           }
          ],
          "heatmapgl": [
           {
            "colorbar": {
             "outlinewidth": 0,
             "ticks": ""
            },
            "colorscale": [
             [
              0,
              "#0d0887"
             ],
             [
              0.1111111111111111,
              "#46039f"
             ],
             [
              0.2222222222222222,
              "#7201a8"
             ],
             [
              0.3333333333333333,
              "#9c179e"
             ],
             [
              0.4444444444444444,
              "#bd3786"
             ],
             [
              0.5555555555555556,
              "#d8576b"
             ],
             [
              0.6666666666666666,
              "#ed7953"
             ],
             [
              0.7777777777777778,
              "#fb9f3a"
             ],
             [
              0.8888888888888888,
              "#fdca26"
             ],
             [
              1,
              "#f0f921"
             ]
            ],
            "type": "heatmapgl"
           }
          ],
          "histogram": [
           {
            "marker": {
             "pattern": {
              "fillmode": "overlay",
              "size": 10,
              "solidity": 0.2
             }
            },
            "type": "histogram"
           }
          ],
          "histogram2d": [
           {
            "colorbar": {
             "outlinewidth": 0,
             "ticks": ""
            },
            "colorscale": [
             [
              0,
              "#0d0887"
             ],
             [
              0.1111111111111111,
              "#46039f"
             ],
             [
              0.2222222222222222,
              "#7201a8"
             ],
             [
              0.3333333333333333,
              "#9c179e"
             ],
             [
              0.4444444444444444,
              "#bd3786"
             ],
             [
              0.5555555555555556,
              "#d8576b"
             ],
             [
              0.6666666666666666,
              "#ed7953"
             ],
             [
              0.7777777777777778,
              "#fb9f3a"
             ],
             [
              0.8888888888888888,
              "#fdca26"
             ],
             [
              1,
              "#f0f921"
             ]
            ],
            "type": "histogram2d"
           }
          ],
          "histogram2dcontour": [
           {
            "colorbar": {
             "outlinewidth": 0,
             "ticks": ""
            },
            "colorscale": [
             [
              0,
              "#0d0887"
             ],
             [
              0.1111111111111111,
              "#46039f"
             ],
             [
              0.2222222222222222,
              "#7201a8"
             ],
             [
              0.3333333333333333,
              "#9c179e"
             ],
             [
              0.4444444444444444,
              "#bd3786"
             ],
             [
              0.5555555555555556,
              "#d8576b"
             ],
             [
              0.6666666666666666,
              "#ed7953"
             ],
             [
              0.7777777777777778,
              "#fb9f3a"
             ],
             [
              0.8888888888888888,
              "#fdca26"
             ],
             [
              1,
              "#f0f921"
             ]
            ],
            "type": "histogram2dcontour"
           }
          ],
          "mesh3d": [
           {
            "colorbar": {
             "outlinewidth": 0,
             "ticks": ""
            },
            "type": "mesh3d"
           }
          ],
          "parcoords": [
           {
            "line": {
             "colorbar": {
              "outlinewidth": 0,
              "ticks": ""
             }
            },
            "type": "parcoords"
           }
          ],
          "pie": [
           {
            "automargin": true,
            "type": "pie"
           }
          ],
          "scatter": [
           {
            "fillpattern": {
             "fillmode": "overlay",
             "size": 10,
             "solidity": 0.2
            },
            "type": "scatter"
           }
          ],
          "scatter3d": [
           {
            "line": {
             "colorbar": {
              "outlinewidth": 0,
              "ticks": ""
             }
            },
            "marker": {
             "colorbar": {
              "outlinewidth": 0,
              "ticks": ""
             }
            },
            "type": "scatter3d"
           }
          ],
          "scattercarpet": [
           {
            "marker": {
             "colorbar": {
              "outlinewidth": 0,
              "ticks": ""
             }
            },
            "type": "scattercarpet"
           }
          ],
          "scattergeo": [
           {
            "marker": {
             "colorbar": {
              "outlinewidth": 0,
              "ticks": ""
             }
            },
            "type": "scattergeo"
           }
          ],
          "scattergl": [
           {
            "marker": {
             "colorbar": {
              "outlinewidth": 0,
              "ticks": ""
             }
            },
            "type": "scattergl"
           }
          ],
          "scattermapbox": [
           {
            "marker": {
             "colorbar": {
              "outlinewidth": 0,
              "ticks": ""
             }
            },
            "type": "scattermapbox"
           }
          ],
          "scatterpolar": [
           {
            "marker": {
             "colorbar": {
              "outlinewidth": 0,
              "ticks": ""
             }
            },
            "type": "scatterpolar"
           }
          ],
          "scatterpolargl": [
           {
            "marker": {
             "colorbar": {
              "outlinewidth": 0,
              "ticks": ""
             }
            },
            "type": "scatterpolargl"
           }
          ],
          "scatterternary": [
           {
            "marker": {
             "colorbar": {
              "outlinewidth": 0,
              "ticks": ""
             }
            },
            "type": "scatterternary"
           }
          ],
          "surface": [
           {
            "colorbar": {
             "outlinewidth": 0,
             "ticks": ""
            },
            "colorscale": [
             [
              0,
              "#0d0887"
             ],
             [
              0.1111111111111111,
              "#46039f"
             ],
             [
              0.2222222222222222,
              "#7201a8"
             ],
             [
              0.3333333333333333,
              "#9c179e"
             ],
             [
              0.4444444444444444,
              "#bd3786"
             ],
             [
              0.5555555555555556,
              "#d8576b"
             ],
             [
              0.6666666666666666,
              "#ed7953"
             ],
             [
              0.7777777777777778,
              "#fb9f3a"
             ],
             [
              0.8888888888888888,
              "#fdca26"
             ],
             [
              1,
              "#f0f921"
             ]
            ],
            "type": "surface"
           }
          ],
          "table": [
           {
            "cells": {
             "fill": {
              "color": "#EBF0F8"
             },
             "line": {
              "color": "white"
             }
            },
            "header": {
             "fill": {
              "color": "#C8D4E3"
             },
             "line": {
              "color": "white"
             }
            },
            "type": "table"
           }
          ]
         },
         "layout": {
          "annotationdefaults": {
           "arrowcolor": "#2a3f5f",
           "arrowhead": 0,
           "arrowwidth": 1
          },
          "autotypenumbers": "strict",
          "coloraxis": {
           "colorbar": {
            "outlinewidth": 0,
            "ticks": ""
           }
          },
          "colorscale": {
           "diverging": [
            [
             0,
             "#8e0152"
            ],
            [
             0.1,
             "#c51b7d"
            ],
            [
             0.2,
             "#de77ae"
            ],
            [
             0.3,
             "#f1b6da"
            ],
            [
             0.4,
             "#fde0ef"
            ],
            [
             0.5,
             "#f7f7f7"
            ],
            [
             0.6,
             "#e6f5d0"
            ],
            [
             0.7,
             "#b8e186"
            ],
            [
             0.8,
             "#7fbc41"
            ],
            [
             0.9,
             "#4d9221"
            ],
            [
             1,
             "#276419"
            ]
           ],
           "sequential": [
            [
             0,
             "#0d0887"
            ],
            [
             0.1111111111111111,
             "#46039f"
            ],
            [
             0.2222222222222222,
             "#7201a8"
            ],
            [
             0.3333333333333333,
             "#9c179e"
            ],
            [
             0.4444444444444444,
             "#bd3786"
            ],
            [
             0.5555555555555556,
             "#d8576b"
            ],
            [
             0.6666666666666666,
             "#ed7953"
            ],
            [
             0.7777777777777778,
             "#fb9f3a"
            ],
            [
             0.8888888888888888,
             "#fdca26"
            ],
            [
             1,
             "#f0f921"
            ]
           ],
           "sequentialminus": [
            [
             0,
             "#0d0887"
            ],
            [
             0.1111111111111111,
             "#46039f"
            ],
            [
             0.2222222222222222,
             "#7201a8"
            ],
            [
             0.3333333333333333,
             "#9c179e"
            ],
            [
             0.4444444444444444,
             "#bd3786"
            ],
            [
             0.5555555555555556,
             "#d8576b"
            ],
            [
             0.6666666666666666,
             "#ed7953"
            ],
            [
             0.7777777777777778,
             "#fb9f3a"
            ],
            [
             0.8888888888888888,
             "#fdca26"
            ],
            [
             1,
             "#f0f921"
            ]
           ]
          },
          "colorway": [
           "#636efa",
           "#EF553B",
           "#00cc96",
           "#ab63fa",
           "#FFA15A",
           "#19d3f3",
           "#FF6692",
           "#B6E880",
           "#FF97FF",
           "#FECB52"
          ],
          "font": {
           "color": "#2a3f5f"
          },
          "geo": {
           "bgcolor": "white",
           "lakecolor": "white",
           "landcolor": "white",
           "showlakes": true,
           "showland": true,
           "subunitcolor": "#C8D4E3"
          },
          "hoverlabel": {
           "align": "left"
          },
          "hovermode": "closest",
          "mapbox": {
           "style": "light"
          },
          "paper_bgcolor": "white",
          "plot_bgcolor": "white",
          "polar": {
           "angularaxis": {
            "gridcolor": "#EBF0F8",
            "linecolor": "#EBF0F8",
            "ticks": ""
           },
           "bgcolor": "white",
           "radialaxis": {
            "gridcolor": "#EBF0F8",
            "linecolor": "#EBF0F8",
            "ticks": ""
           }
          },
          "scene": {
           "xaxis": {
            "backgroundcolor": "white",
            "gridcolor": "#DFE8F3",
            "gridwidth": 2,
            "linecolor": "#EBF0F8",
            "showbackground": true,
            "ticks": "",
            "zerolinecolor": "#EBF0F8"
           },
           "yaxis": {
            "backgroundcolor": "white",
            "gridcolor": "#DFE8F3",
            "gridwidth": 2,
            "linecolor": "#EBF0F8",
            "showbackground": true,
            "ticks": "",
            "zerolinecolor": "#EBF0F8"
           },
           "zaxis": {
            "backgroundcolor": "white",
            "gridcolor": "#DFE8F3",
            "gridwidth": 2,
            "linecolor": "#EBF0F8",
            "showbackground": true,
            "ticks": "",
            "zerolinecolor": "#EBF0F8"
           }
          },
          "shapedefaults": {
           "line": {
            "color": "#2a3f5f"
           }
          },
          "ternary": {
           "aaxis": {
            "gridcolor": "#DFE8F3",
            "linecolor": "#A2B1C6",
            "ticks": ""
           },
           "baxis": {
            "gridcolor": "#DFE8F3",
            "linecolor": "#A2B1C6",
            "ticks": ""
           },
           "bgcolor": "white",
           "caxis": {
            "gridcolor": "#DFE8F3",
            "linecolor": "#A2B1C6",
            "ticks": ""
           }
          },
          "title": {
           "x": 0.05
          },
          "xaxis": {
           "automargin": true,
           "gridcolor": "#EBF0F8",
           "linecolor": "#EBF0F8",
           "ticks": "",
           "title": {
            "standoff": 15
           },
           "zerolinecolor": "#EBF0F8",
           "zerolinewidth": 2
          },
          "yaxis": {
           "automargin": true,
           "gridcolor": "#EBF0F8",
           "linecolor": "#EBF0F8",
           "ticks": "",
           "title": {
            "standoff": 15
           },
           "zerolinecolor": "#EBF0F8",
           "zerolinewidth": 2
          }
         }
        },
        "title": {
         "font": {
          "size": 18
         },
         "text": "Evolução Global dos Investimentos em P&D (2005-2021)",
         "x": 0.5
        },
        "width": 1500,
        "xaxis": {
         "anchor": "y",
         "domain": [
          0,
          0.94
         ],
         "title": {
          "text": "Ano"
         }
        },
        "yaxis": {
         "anchor": "x",
         "domain": [
          0,
          1
         ],
         "title": {
          "text": "Investimento em P&D (% do PIB)"
         }
        },
        "yaxis2": {
         "anchor": "x",
         "overlaying": "y",
         "side": "right",
         "title": {
          "text": "Pesquisadores por milhão de habitantes"
         }
        }
       }
      },
      "text/html": [
       "<div>                            <div id=\"919dbec5-06de-402c-a648-a023160be072\" class=\"plotly-graph-div\" style=\"height:900px; width:1500px;\"></div>            <script type=\"text/javascript\">                require([\"plotly\"], function(Plotly) {                    window.PLOTLYENV=window.PLOTLYENV || {};                                    if (document.getElementById(\"919dbec5-06de-402c-a648-a023160be072\")) {                    Plotly.newPlot(                        \"919dbec5-06de-402c-a648-a023160be072\",                        [{\"line\":{\"color\":\"#1f77b4\",\"width\":3},\"marker\":{\"size\":8},\"mode\":\"lines+markers\",\"name\":\"Investimento em P&D (% PIB)\",\"x\":[2005,2010,2015,2021],\"y\":[1.5,1.6,1.7,1.9],\"type\":\"scatter\",\"xaxis\":\"x\",\"yaxis\":\"y\"},{\"line\":{\"color\":\"#ff7f0e\",\"width\":3},\"marker\":{\"size\":8},\"mode\":\"lines+markers\",\"name\":\"Pesquisadores por milh\\u00e3o hab.\",\"x\":[2005,2010,2015,2021],\"y\":[902.4,1009.8,1143.1,1352.5],\"type\":\"scatter\",\"xaxis\":\"x\",\"yaxis\":\"y2\"}],                        {\"template\":{\"data\":{\"barpolar\":[{\"marker\":{\"line\":{\"color\":\"white\",\"width\":0.5},\"pattern\":{\"fillmode\":\"overlay\",\"size\":10,\"solidity\":0.2}},\"type\":\"barpolar\"}],\"bar\":[{\"error_x\":{\"color\":\"#2a3f5f\"},\"error_y\":{\"color\":\"#2a3f5f\"},\"marker\":{\"line\":{\"color\":\"white\",\"width\":0.5},\"pattern\":{\"fillmode\":\"overlay\",\"size\":10,\"solidity\":0.2}},\"type\":\"bar\"}],\"carpet\":[{\"aaxis\":{\"endlinecolor\":\"#2a3f5f\",\"gridcolor\":\"#C8D4E3\",\"linecolor\":\"#C8D4E3\",\"minorgridcolor\":\"#C8D4E3\",\"startlinecolor\":\"#2a3f5f\"},\"baxis\":{\"endlinecolor\":\"#2a3f5f\",\"gridcolor\":\"#C8D4E3\",\"linecolor\":\"#C8D4E3\",\"minorgridcolor\":\"#C8D4E3\",\"startlinecolor\":\"#2a3f5f\"},\"type\":\"carpet\"}],\"choropleth\":[{\"colorbar\":{\"outlinewidth\":0,\"ticks\":\"\"},\"type\":\"choropleth\"}],\"contourcarpet\":[{\"colorbar\":{\"outlinewidth\":0,\"ticks\":\"\"},\"type\":\"contourcarpet\"}],\"contour\":[{\"colorbar\":{\"outlinewidth\":0,\"ticks\":\"\"},\"colorscale\":[[0.0,\"#0d0887\"],[0.1111111111111111,\"#46039f\"],[0.2222222222222222,\"#7201a8\"],[0.3333333333333333,\"#9c179e\"],[0.4444444444444444,\"#bd3786\"],[0.5555555555555556,\"#d8576b\"],[0.6666666666666666,\"#ed7953\"],[0.7777777777777778,\"#fb9f3a\"],[0.8888888888888888,\"#fdca26\"],[1.0,\"#f0f921\"]],\"type\":\"contour\"}],\"heatmapgl\":[{\"colorbar\":{\"outlinewidth\":0,\"ticks\":\"\"},\"colorscale\":[[0.0,\"#0d0887\"],[0.1111111111111111,\"#46039f\"],[0.2222222222222222,\"#7201a8\"],[0.3333333333333333,\"#9c179e\"],[0.4444444444444444,\"#bd3786\"],[0.5555555555555556,\"#d8576b\"],[0.6666666666666666,\"#ed7953\"],[0.7777777777777778,\"#fb9f3a\"],[0.8888888888888888,\"#fdca26\"],[1.0,\"#f0f921\"]],\"type\":\"heatmapgl\"}],\"heatmap\":[{\"colorbar\":{\"outlinewidth\":0,\"ticks\":\"\"},\"colorscale\":[[0.0,\"#0d0887\"],[0.1111111111111111,\"#46039f\"],[0.2222222222222222,\"#7201a8\"],[0.3333333333333333,\"#9c179e\"],[0.4444444444444444,\"#bd3786\"],[0.5555555555555556,\"#d8576b\"],[0.6666666666666666,\"#ed7953\"],[0.7777777777777778,\"#fb9f3a\"],[0.8888888888888888,\"#fdca26\"],[1.0,\"#f0f921\"]],\"type\":\"heatmap\"}],\"histogram2dcontour\":[{\"colorbar\":{\"outlinewidth\":0,\"ticks\":\"\"},\"colorscale\":[[0.0,\"#0d0887\"],[0.1111111111111111,\"#46039f\"],[0.2222222222222222,\"#7201a8\"],[0.3333333333333333,\"#9c179e\"],[0.4444444444444444,\"#bd3786\"],[0.5555555555555556,\"#d8576b\"],[0.6666666666666666,\"#ed7953\"],[0.7777777777777778,\"#fb9f3a\"],[0.8888888888888888,\"#fdca26\"],[1.0,\"#f0f921\"]],\"type\":\"histogram2dcontour\"}],\"histogram2d\":[{\"colorbar\":{\"outlinewidth\":0,\"ticks\":\"\"},\"colorscale\":[[0.0,\"#0d0887\"],[0.1111111111111111,\"#46039f\"],[0.2222222222222222,\"#7201a8\"],[0.3333333333333333,\"#9c179e\"],[0.4444444444444444,\"#bd3786\"],[0.5555555555555556,\"#d8576b\"],[0.6666666666666666,\"#ed7953\"],[0.7777777777777778,\"#fb9f3a\"],[0.8888888888888888,\"#fdca26\"],[1.0,\"#f0f921\"]],\"type\":\"histogram2d\"}],\"histogram\":[{\"marker\":{\"pattern\":{\"fillmode\":\"overlay\",\"size\":10,\"solidity\":0.2}},\"type\":\"histogram\"}],\"mesh3d\":[{\"colorbar\":{\"outlinewidth\":0,\"ticks\":\"\"},\"type\":\"mesh3d\"}],\"parcoords\":[{\"line\":{\"colorbar\":{\"outlinewidth\":0,\"ticks\":\"\"}},\"type\":\"parcoords\"}],\"pie\":[{\"automargin\":true,\"type\":\"pie\"}],\"scatter3d\":[{\"line\":{\"colorbar\":{\"outlinewidth\":0,\"ticks\":\"\"}},\"marker\":{\"colorbar\":{\"outlinewidth\":0,\"ticks\":\"\"}},\"type\":\"scatter3d\"}],\"scattercarpet\":[{\"marker\":{\"colorbar\":{\"outlinewidth\":0,\"ticks\":\"\"}},\"type\":\"scattercarpet\"}],\"scattergeo\":[{\"marker\":{\"colorbar\":{\"outlinewidth\":0,\"ticks\":\"\"}},\"type\":\"scattergeo\"}],\"scattergl\":[{\"marker\":{\"colorbar\":{\"outlinewidth\":0,\"ticks\":\"\"}},\"type\":\"scattergl\"}],\"scattermapbox\":[{\"marker\":{\"colorbar\":{\"outlinewidth\":0,\"ticks\":\"\"}},\"type\":\"scattermapbox\"}],\"scatterpolargl\":[{\"marker\":{\"colorbar\":{\"outlinewidth\":0,\"ticks\":\"\"}},\"type\":\"scatterpolargl\"}],\"scatterpolar\":[{\"marker\":{\"colorbar\":{\"outlinewidth\":0,\"ticks\":\"\"}},\"type\":\"scatterpolar\"}],\"scatter\":[{\"fillpattern\":{\"fillmode\":\"overlay\",\"size\":10,\"solidity\":0.2},\"type\":\"scatter\"}],\"scatterternary\":[{\"marker\":{\"colorbar\":{\"outlinewidth\":0,\"ticks\":\"\"}},\"type\":\"scatterternary\"}],\"surface\":[{\"colorbar\":{\"outlinewidth\":0,\"ticks\":\"\"},\"colorscale\":[[0.0,\"#0d0887\"],[0.1111111111111111,\"#46039f\"],[0.2222222222222222,\"#7201a8\"],[0.3333333333333333,\"#9c179e\"],[0.4444444444444444,\"#bd3786\"],[0.5555555555555556,\"#d8576b\"],[0.6666666666666666,\"#ed7953\"],[0.7777777777777778,\"#fb9f3a\"],[0.8888888888888888,\"#fdca26\"],[1.0,\"#f0f921\"]],\"type\":\"surface\"}],\"table\":[{\"cells\":{\"fill\":{\"color\":\"#EBF0F8\"},\"line\":{\"color\":\"white\"}},\"header\":{\"fill\":{\"color\":\"#C8D4E3\"},\"line\":{\"color\":\"white\"}},\"type\":\"table\"}]},\"layout\":{\"annotationdefaults\":{\"arrowcolor\":\"#2a3f5f\",\"arrowhead\":0,\"arrowwidth\":1},\"autotypenumbers\":\"strict\",\"coloraxis\":{\"colorbar\":{\"outlinewidth\":0,\"ticks\":\"\"}},\"colorscale\":{\"diverging\":[[0,\"#8e0152\"],[0.1,\"#c51b7d\"],[0.2,\"#de77ae\"],[0.3,\"#f1b6da\"],[0.4,\"#fde0ef\"],[0.5,\"#f7f7f7\"],[0.6,\"#e6f5d0\"],[0.7,\"#b8e186\"],[0.8,\"#7fbc41\"],[0.9,\"#4d9221\"],[1,\"#276419\"]],\"sequential\":[[0.0,\"#0d0887\"],[0.1111111111111111,\"#46039f\"],[0.2222222222222222,\"#7201a8\"],[0.3333333333333333,\"#9c179e\"],[0.4444444444444444,\"#bd3786\"],[0.5555555555555556,\"#d8576b\"],[0.6666666666666666,\"#ed7953\"],[0.7777777777777778,\"#fb9f3a\"],[0.8888888888888888,\"#fdca26\"],[1.0,\"#f0f921\"]],\"sequentialminus\":[[0.0,\"#0d0887\"],[0.1111111111111111,\"#46039f\"],[0.2222222222222222,\"#7201a8\"],[0.3333333333333333,\"#9c179e\"],[0.4444444444444444,\"#bd3786\"],[0.5555555555555556,\"#d8576b\"],[0.6666666666666666,\"#ed7953\"],[0.7777777777777778,\"#fb9f3a\"],[0.8888888888888888,\"#fdca26\"],[1.0,\"#f0f921\"]]},\"colorway\":[\"#636efa\",\"#EF553B\",\"#00cc96\",\"#ab63fa\",\"#FFA15A\",\"#19d3f3\",\"#FF6692\",\"#B6E880\",\"#FF97FF\",\"#FECB52\"],\"font\":{\"color\":\"#2a3f5f\"},\"geo\":{\"bgcolor\":\"white\",\"lakecolor\":\"white\",\"landcolor\":\"white\",\"showlakes\":true,\"showland\":true,\"subunitcolor\":\"#C8D4E3\"},\"hoverlabel\":{\"align\":\"left\"},\"hovermode\":\"closest\",\"mapbox\":{\"style\":\"light\"},\"paper_bgcolor\":\"white\",\"plot_bgcolor\":\"white\",\"polar\":{\"angularaxis\":{\"gridcolor\":\"#EBF0F8\",\"linecolor\":\"#EBF0F8\",\"ticks\":\"\"},\"bgcolor\":\"white\",\"radialaxis\":{\"gridcolor\":\"#EBF0F8\",\"linecolor\":\"#EBF0F8\",\"ticks\":\"\"}},\"scene\":{\"xaxis\":{\"backgroundcolor\":\"white\",\"gridcolor\":\"#DFE8F3\",\"gridwidth\":2,\"linecolor\":\"#EBF0F8\",\"showbackground\":true,\"ticks\":\"\",\"zerolinecolor\":\"#EBF0F8\"},\"yaxis\":{\"backgroundcolor\":\"white\",\"gridcolor\":\"#DFE8F3\",\"gridwidth\":2,\"linecolor\":\"#EBF0F8\",\"showbackground\":true,\"ticks\":\"\",\"zerolinecolor\":\"#EBF0F8\"},\"zaxis\":{\"backgroundcolor\":\"white\",\"gridcolor\":\"#DFE8F3\",\"gridwidth\":2,\"linecolor\":\"#EBF0F8\",\"showbackground\":true,\"ticks\":\"\",\"zerolinecolor\":\"#EBF0F8\"}},\"shapedefaults\":{\"line\":{\"color\":\"#2a3f5f\"}},\"ternary\":{\"aaxis\":{\"gridcolor\":\"#DFE8F3\",\"linecolor\":\"#A2B1C6\",\"ticks\":\"\"},\"baxis\":{\"gridcolor\":\"#DFE8F3\",\"linecolor\":\"#A2B1C6\",\"ticks\":\"\"},\"bgcolor\":\"white\",\"caxis\":{\"gridcolor\":\"#DFE8F3\",\"linecolor\":\"#A2B1C6\",\"ticks\":\"\"}},\"title\":{\"x\":0.05},\"xaxis\":{\"automargin\":true,\"gridcolor\":\"#EBF0F8\",\"linecolor\":\"#EBF0F8\",\"ticks\":\"\",\"title\":{\"standoff\":15},\"zerolinecolor\":\"#EBF0F8\",\"zerolinewidth\":2},\"yaxis\":{\"automargin\":true,\"gridcolor\":\"#EBF0F8\",\"linecolor\":\"#EBF0F8\",\"ticks\":\"\",\"title\":{\"standoff\":15},\"zerolinecolor\":\"#EBF0F8\",\"zerolinewidth\":2}}},\"xaxis\":{\"anchor\":\"y\",\"domain\":[0.0,0.94],\"title\":{\"text\":\"Ano\"}},\"yaxis\":{\"anchor\":\"x\",\"domain\":[0.0,1.0],\"title\":{\"text\":\"Investimento em P&D (% do PIB)\"}},\"yaxis2\":{\"anchor\":\"x\",\"overlaying\":\"y\",\"side\":\"right\",\"title\":{\"text\":\"Pesquisadores por milh\\u00e3o de habitantes\"}},\"annotations\":[{\"font\":{\"size\":16},\"showarrow\":false,\"text\":\"Evolu\\u00e7\\u00e3o Global dos Investimentos em P&D e Densidade de Pesquisadores\",\"x\":0.47,\"xanchor\":\"center\",\"xref\":\"paper\",\"y\":1.0,\"yanchor\":\"bottom\",\"yref\":\"paper\"}],\"title\":{\"font\":{\"size\":18},\"text\":\"Evolu\\u00e7\\u00e3o Global dos Investimentos em P&D (2005-2021)\",\"x\":0.5},\"legend\":{\"x\":0.02,\"y\":0.98},\"width\":1500,\"height\":900,\"hovermode\":\"x unified\"},                        {\"responsive\": true}                    ).then(function(){\n",
       "                            \n",
       "var gd = document.getElementById('919dbec5-06de-402c-a648-a023160be072');\n",
       "var x = new MutationObserver(function (mutations, observer) {{\n",
       "        var display = window.getComputedStyle(gd).display;\n",
       "        if (!display || display === 'none') {{\n",
       "            console.log([gd, 'removed!']);\n",
       "            Plotly.purge(gd);\n",
       "            observer.disconnect();\n",
       "        }}\n",
       "}});\n",
       "\n",
       "// Listen for the removal of the full notebook cells\n",
       "var notebookContainer = gd.closest('#notebook-container');\n",
       "if (notebookContainer) {{\n",
       "    x.observe(notebookContainer, {childList: true});\n",
       "}}\n",
       "\n",
       "// Listen for the clearing of the current output cell\n",
       "var outputEl = gd.closest('.output');\n",
       "if (outputEl) {{\n",
       "    x.observe(outputEl, {childList: true});\n",
       "}}\n",
       "\n",
       "                        })                };                });            </script>        </div>"
      ]
     },
     "metadata": {},
     "output_type": "display_data"
    }
   ],
   "source": [
    "# Visualização 1: Série Temporal\n",
    "# Evolução temporal dos investimentos globais em P&D e densidade de pesquisadores\n",
    "\n",
    "global_data = df[df['Region_Country'].str.contains('Total, all countries', na=False)]\n",
    "\n",
    "global_gdp = global_data[global_data['Series_Type'] == 'GDP_Percentage']\n",
    "global_researchers = global_data[global_data['Series_Type'] == 'Researchers_per_Million']\n",
    "\n",
    "fig1 = make_subplots(\n",
    "    specs=[[{\"secondary_y\": True}]],\n",
    "    subplot_titles=[\"Evolução Global dos Investimentos em P&D e Densidade de Pesquisadores\"]\n",
    ")\n",
    "\n",
    "fig1.add_trace(\n",
    "    go.Scatter(\n",
    "        x=global_gdp['Year'],\n",
    "        y=global_gdp['Value'],\n",
    "        mode='lines+markers',\n",
    "        name='Investimento em P&D (% PIB)',\n",
    "        line=dict(color='#1f77b4', width=3),\n",
    "        marker=dict(size=8)\n",
    "    ),\n",
    "    secondary_y=False,\n",
    ")\n",
    "\n",
    "fig1.add_trace(\n",
    "    go.Scatter(\n",
    "        x=global_researchers['Year'],\n",
    "        y=global_researchers['Value'],\n",
    "        mode='lines+markers',\n",
    "        name='Pesquisadores por milhão hab.',\n",
    "        line=dict(color='#ff7f0e', width=3),\n",
    "        marker=dict(size=8)\n",
    "    ),\n",
    "    secondary_y=True,\n",
    ")\n",
    "\n",
    "fig1.update_xaxes(title_text=\"Ano\")\n",
    "fig1.update_yaxes(title_text=\"Investimento em P&D (% do PIB)\", secondary_y=False)\n",
    "fig1.update_yaxes(title_text=\"Pesquisadores por milhão de habitantes\", secondary_y=True)\n",
    "\n",
    "fig1.update_layout(\n",
    "    title={\n",
    "        'text': 'Evolução Global dos Investimentos em P&D (2005-2021)',\n",
    "        'x': 0.5,\n",
    "        'font': {'size': 18}\n",
    "    },\n",
    "    width=1500,\n",
    "    height=900,\n",
    "    hovermode='x unified',\n",
    "    legend=dict(x=0.02, y=0.98),\n",
    "    template='plotly_white'\n",
    ")\n",
    "\n",
    "fig1.show()\n",
    "\n",
    "# Salvar como HTML\n",
    "fig1.write_html('./grafico1_serie_temporal.html')"
   ]
  },
  {
   "cell_type": "markdown",
   "metadata": {},
   "source": [
    "#### Correlação entre Investimento e Densidade de Pesquisadores"
   ]
  },
  {
   "cell_type": "code",
   "execution_count": 70,
   "metadata": {},
   "outputs": [
    {
     "data": {
      "application/vnd.plotly.v1+json": {
       "config": {
        "plotlyServerURL": "https://plot.ly"
       },
       "data": [
        {
         "customdata": [
          [
           "Oceania"
          ],
          [
           "Oceania"
          ],
          [
           "Oceania"
          ],
          [
           "Oceania"
          ],
          [
           "Australia and New Zealand"
          ],
          [
           "Australia and New Zealand"
          ],
          [
           "Australia and New Zealand"
          ],
          [
           "Australia and New Zealand"
          ],
          [
           "Albania"
          ],
          [
           "Algeria"
          ],
          [
           "Algeria"
          ],
          [
           "Angola"
          ],
          [
           "Argentina"
          ],
          [
           "Argentina"
          ],
          [
           "Argentina"
          ],
          [
           "Argentina"
          ],
          [
           "Armenia"
          ],
          [
           "Australia"
          ],
          [
           "Australia"
          ],
          [
           "Austria"
          ],
          [
           "Austria"
          ],
          [
           "Austria"
          ],
          [
           "Austria"
          ],
          [
           "Azerbaijan"
          ],
          [
           "Bahrain"
          ],
          [
           "Belarus"
          ],
          [
           "Belgium"
          ],
          [
           "Belgium"
          ],
          [
           "Belgium"
          ],
          [
           "Belgium"
          ],
          [
           "Bolivia (Plurin. State of)"
          ],
          [
           "Bolivia (Plurin. State of)"
          ],
          [
           "Bosnia and Herzegovina"
          ],
          [
           "Bosnia and Herzegovina"
          ],
          [
           "Bosnia and Herzegovina"
          ],
          [
           "Bosnia and Herzegovina"
          ],
          [
           "Botswana"
          ],
          [
           "Brazil"
          ],
          [
           "Brazil"
          ],
          [
           "Brazil"
          ],
          [
           "Brunei Darussalam"
          ],
          [
           "Bulgaria"
          ],
          [
           "Bulgaria"
          ],
          [
           "Bulgaria"
          ],
          [
           "Bulgaria"
          ],
          [
           "Burundi"
          ],
          [
           "Burundi"
          ],
          [
           "Cabo Verde"
          ],
          [
           "Cambodia"
          ],
          [
           "Cambodia"
          ],
          [
           "Canada"
          ],
          [
           "Canada"
          ],
          [
           "Canada"
          ],
          [
           "Canada"
          ],
          [
           "Chad"
          ],
          [
           "Chile"
          ],
          [
           "Chile"
          ],
          [
           "Chile"
          ],
          [
           "China"
          ],
          [
           "China"
          ],
          [
           "China"
          ],
          [
           "China"
          ],
          [
           "China, Hong Kong SAR"
          ],
          [
           "China, Hong Kong SAR"
          ],
          [
           "China, Hong Kong SAR"
          ],
          [
           "China, Hong Kong SAR"
          ],
          [
           "China, Macao SAR"
          ],
          [
           "China, Macao SAR"
          ],
          [
           "China, Macao SAR"
          ],
          [
           "China, Macao SAR"
          ],
          [
           "Colombia"
          ],
          [
           "Colombia"
          ],
          [
           "Congo"
          ],
          [
           "Costa Rica"
          ],
          [
           "Costa Rica"
          ],
          [
           "Costa Rica"
          ],
          [
           "Costa Rica"
          ],
          [
           "Croatia"
          ],
          [
           "Croatia"
          ],
          [
           "Croatia"
          ],
          [
           "Croatia"
          ],
          [
           "Cyprus"
          ],
          [
           "Cyprus"
          ],
          [
           "Cyprus"
          ],
          [
           "Cyprus"
          ],
          [
           "Czechia"
          ],
          [
           "Czechia"
          ],
          [
           "Czechia"
          ],
          [
           "Czechia"
          ],
          [
           "Dem. Rep. of the Congo"
          ],
          [
           "Denmark"
          ],
          [
           "Denmark"
          ],
          [
           "Denmark"
          ],
          [
           "Denmark"
          ],
          [
           "Ecuador"
          ],
          [
           "Ecuador"
          ],
          [
           "Ecuador"
          ],
          [
           "Egypt"
          ],
          [
           "Egypt"
          ],
          [
           "Egypt"
          ],
          [
           "El Salvador"
          ],
          [
           "El Salvador"
          ],
          [
           "Estonia"
          ],
          [
           "Estonia"
          ],
          [
           "Estonia"
          ],
          [
           "Estonia"
          ],
          [
           "Eswatini"
          ],
          [
           "Ethiopia"
          ],
          [
           "Ethiopia"
          ],
          [
           "Ethiopia"
          ],
          [
           "Ethiopia"
          ],
          [
           "Faroe Islands"
          ],
          [
           "Finland"
          ],
          [
           "Finland"
          ],
          [
           "Finland"
          ],
          [
           "Finland"
          ],
          [
           "France"
          ],
          [
           "France"
          ],
          [
           "France"
          ],
          [
           "France"
          ],
          [
           "Gambia"
          ],
          [
           "Gambia"
          ],
          [
           "Gambia"
          ],
          [
           "Georgia"
          ],
          [
           "Georgia"
          ],
          [
           "Germany"
          ],
          [
           "Germany"
          ],
          [
           "Germany"
          ],
          [
           "Germany"
          ],
          [
           "Ghana"
          ],
          [
           "Greece"
          ],
          [
           "Greece"
          ],
          [
           "Greece"
          ],
          [
           "Greece"
          ],
          [
           "Greenland"
          ],
          [
           "Guam"
          ],
          [
           "Guatemala"
          ],
          [
           "Guatemala"
          ],
          [
           "Guatemala"
          ],
          [
           "Guatemala"
          ],
          [
           "Honduras"
          ],
          [
           "Honduras"
          ],
          [
           "Hungary"
          ],
          [
           "Hungary"
          ],
          [
           "Hungary"
          ],
          [
           "Hungary"
          ],
          [
           "Iceland"
          ],
          [
           "Iceland"
          ],
          [
           "Iceland"
          ],
          [
           "Iceland"
          ],
          [
           "India"
          ],
          [
           "India"
          ],
          [
           "India"
          ],
          [
           "India"
          ],
          [
           "Indonesia"
          ],
          [
           "Indonesia"
          ],
          [
           "Indonesia"
          ],
          [
           "Iran (Islamic Republic of)"
          ],
          [
           "Iran (Islamic Republic of)"
          ],
          [
           "Iran (Islamic Republic of)"
          ],
          [
           "Iraq"
          ],
          [
           "Iraq"
          ],
          [
           "Iraq"
          ],
          [
           "Ireland"
          ],
          [
           "Ireland"
          ],
          [
           "Ireland"
          ],
          [
           "Ireland"
          ],
          [
           "Italy"
          ],
          [
           "Italy"
          ],
          [
           "Italy"
          ],
          [
           "Italy"
          ],
          [
           "Japan"
          ],
          [
           "Japan"
          ],
          [
           "Japan"
          ],
          [
           "Japan"
          ],
          [
           "Jordan"
          ],
          [
           "Kazakhstan"
          ],
          [
           "Kazakhstan"
          ],
          [
           "Kazakhstan"
          ],
          [
           "Kenya"
          ],
          [
           "Kenya"
          ],
          [
           "Kuwait"
          ],
          [
           "Kuwait"
          ],
          [
           "Kuwait"
          ],
          [
           "Kuwait"
          ],
          [
           "Lao People's Dem. Rep."
          ],
          [
           "Latvia"
          ],
          [
           "Latvia"
          ],
          [
           "Latvia"
          ],
          [
           "Latvia"
          ],
          [
           "Lesotho"
          ],
          [
           "Lesotho"
          ],
          [
           "Lesotho"
          ],
          [
           "Lithuania"
          ],
          [
           "Lithuania"
          ],
          [
           "Lithuania"
          ],
          [
           "Lithuania"
          ],
          [
           "Luxembourg"
          ],
          [
           "Luxembourg"
          ],
          [
           "Luxembourg"
          ],
          [
           "Luxembourg"
          ],
          [
           "Madagascar"
          ],
          [
           "Madagascar"
          ],
          [
           "Madagascar"
          ],
          [
           "Madagascar"
          ],
          [
           "Malaysia"
          ],
          [
           "Malaysia"
          ],
          [
           "Malaysia"
          ],
          [
           "Malaysia"
          ],
          [
           "Mali"
          ],
          [
           "Mali"
          ],
          [
           "Mali"
          ],
          [
           "Malta"
          ],
          [
           "Malta"
          ],
          [
           "Malta"
          ],
          [
           "Malta"
          ],
          [
           "Mauritius"
          ],
          [
           "Mauritius"
          ],
          [
           "Mexico"
          ],
          [
           "Mexico"
          ],
          [
           "Mexico"
          ],
          [
           "Mexico"
          ],
          [
           "Monaco"
          ],
          [
           "Mongolia"
          ],
          [
           "Montenegro"
          ],
          [
           "Montenegro"
          ],
          [
           "Morocco"
          ],
          [
           "Mozambique"
          ],
          [
           "Mozambique"
          ],
          [
           "Myanmar"
          ],
          [
           "Myanmar"
          ],
          [
           "Namibia"
          ],
          [
           "Netherlands (Kingdom of the)"
          ],
          [
           "Netherlands (Kingdom of the)"
          ],
          [
           "Netherlands (Kingdom of the)"
          ],
          [
           "Netherlands (Kingdom of the)"
          ],
          [
           "New Zealand"
          ],
          [
           "New Zealand"
          ],
          [
           "New Zealand"
          ],
          [
           "New Zealand"
          ],
          [
           "Nigeria"
          ],
          [
           "Nigeria"
          ],
          [
           "North Macedonia"
          ],
          [
           "North Macedonia"
          ],
          [
           "North Macedonia"
          ],
          [
           "North Macedonia"
          ],
          [
           "Norway"
          ],
          [
           "Norway"
          ],
          [
           "Norway"
          ],
          [
           "Norway"
          ],
          [
           "Oman"
          ],
          [
           "Oman"
          ],
          [
           "Pakistan"
          ],
          [
           "Pakistan"
          ],
          [
           "Pakistan"
          ],
          [
           "Pakistan"
          ],
          [
           "Panama"
          ],
          [
           "Panama"
          ],
          [
           "Panama"
          ],
          [
           "Panama"
          ],
          [
           "Papua New Guinea"
          ],
          [
           "Paraguay"
          ],
          [
           "Paraguay"
          ],
          [
           "Paraguay"
          ],
          [
           "Paraguay"
          ],
          [
           "Philippines"
          ],
          [
           "Philippines"
          ],
          [
           "Philippines"
          ],
          [
           "Philippines"
          ],
          [
           "Poland"
          ],
          [
           "Poland"
          ],
          [
           "Poland"
          ],
          [
           "Poland"
          ],
          [
           "Portugal"
          ],
          [
           "Portugal"
          ],
          [
           "Portugal"
          ],
          [
           "Portugal"
          ],
          [
           "Puerto Rico"
          ],
          [
           "Qatar"
          ],
          [
           "Qatar"
          ],
          [
           "Republic of Korea"
          ],
          [
           "Republic of Korea"
          ],
          [
           "Republic of Korea"
          ],
          [
           "Republic of Korea"
          ],
          [
           "Republic of Moldova"
          ],
          [
           "Republic of Moldova"
          ],
          [
           "Republic of Moldova"
          ],
          [
           "Republic of Moldova"
          ],
          [
           "Romania"
          ],
          [
           "Romania"
          ],
          [
           "Romania"
          ],
          [
           "Romania"
          ],
          [
           "Russian Federation"
          ],
          [
           "Russian Federation"
          ],
          [
           "Russian Federation"
          ],
          [
           "Russian Federation"
          ],
          [
           "Rwanda"
          ],
          [
           "Saudi Arabia"
          ],
          [
           "Senegal"
          ],
          [
           "Senegal"
          ],
          [
           "Serbia"
          ],
          [
           "Serbia"
          ],
          [
           "Serbia"
          ],
          [
           "Seychelles"
          ],
          [
           "Singapore"
          ],
          [
           "Singapore"
          ],
          [
           "Singapore"
          ],
          [
           "Singapore"
          ],
          [
           "Slovakia"
          ],
          [
           "Slovakia"
          ],
          [
           "Slovakia"
          ],
          [
           "Slovakia"
          ],
          [
           "Slovenia"
          ],
          [
           "Slovenia"
          ],
          [
           "Slovenia"
          ],
          [
           "Slovenia"
          ],
          [
           "Spain"
          ],
          [
           "Spain"
          ],
          [
           "Spain"
          ],
          [
           "Spain"
          ],
          [
           "Sri Lanka"
          ],
          [
           "Sri Lanka"
          ],
          [
           "Sri Lanka"
          ],
          [
           "Sri Lanka"
          ],
          [
           "State of Palestine"
          ],
          [
           "State of Palestine"
          ],
          [
           "Sweden"
          ],
          [
           "Sweden"
          ],
          [
           "Sweden"
          ],
          [
           "Sweden"
          ],
          [
           "Switzerland"
          ],
          [
           "Switzerland"
          ],
          [
           "Switzerland"
          ],
          [
           "Switzerland"
          ],
          [
           "Syrian Arab Republic"
          ],
          [
           "Thailand"
          ],
          [
           "Thailand"
          ],
          [
           "Thailand"
          ],
          [
           "Thailand"
          ],
          [
           "Togo"
          ],
          [
           "Togo"
          ],
          [
           "Trinidad and Tobago"
          ],
          [
           "Tunisia"
          ],
          [
           "Tunisia"
          ],
          [
           "Tunisia"
          ],
          [
           "Türkiye"
          ],
          [
           "Türkiye"
          ],
          [
           "Türkiye"
          ],
          [
           "Türkiye"
          ],
          [
           "Uganda"
          ],
          [
           "Uganda"
          ],
          [
           "Ukraine"
          ],
          [
           "Ukraine"
          ],
          [
           "Ukraine"
          ],
          [
           "United Arab Emirates"
          ],
          [
           "United Arab Emirates"
          ],
          [
           "United Kingdom"
          ],
          [
           "United Kingdom"
          ],
          [
           "United Kingdom"
          ],
          [
           "United Kingdom"
          ],
          [
           "United Rep. of Tanzania"
          ],
          [
           "United Rep. of Tanzania"
          ],
          [
           "Uruguay"
          ],
          [
           "Uruguay"
          ],
          [
           "Uruguay"
          ],
          [
           "Uruguay"
          ],
          [
           "Uzbekistan"
          ],
          [
           "Uzbekistan"
          ],
          [
           "Uzbekistan"
          ],
          [
           "Uzbekistan"
          ],
          [
           "Venezuela (Boliv. Rep. of)"
          ],
          [
           "Venezuela (Boliv. Rep. of)"
          ],
          [
           "Venezuela (Boliv. Rep. of)"
          ],
          [
           "Venezuela (Boliv. Rep. of)"
          ],
          [
           "Viet Nam"
          ],
          [
           "Viet Nam"
          ],
          [
           "Viet Nam"
          ],
          [
           "Zambia"
          ],
          [
           "LLDCs"
          ],
          [
           "LLDCs"
          ],
          [
           "LLDCs"
          ],
          [
           "LLDCs"
          ],
          [
           "LDC§"
          ],
          [
           "LDC§"
          ],
          [
           "LDC§"
          ],
          [
           "LDC§"
          ],
          [
           "SIDS"
          ],
          [
           "SIDS"
          ],
          [
           "SIDS"
          ],
          [
           "SIDS"
          ]
         ],
         "hovertemplate": "Investimento em P&D (% do PIB)=%{marker.size}<br>Pesquisadores por milhão de habitantes=%{y}<br>Region_Country=%{customdata[0]}<br>Ano=%{marker.color}<extra></extra>",
         "legendgroup": "",
         "marker": {
          "color": [
           2005,
           2010,
           2015,
           2021,
           2005,
           2010,
           2015,
           2021,
           2008,
           2005,
           2017,
           2016,
           2005,
           2010,
           2015,
           2021,
           2022,
           2004,
           2010,
           2005,
           2010,
           2015,
           2021,
           2022,
           2014,
           2022,
           2005,
           2010,
           2015,
           2021,
           2002,
           2009,
           2005,
           2007,
           2015,
           2022,
           2013,
           2005,
           2010,
           2014,
           2004,
           2005,
           2010,
           2015,
           2021,
           2012,
           2018,
           2011,
           2002,
           2015,
           2005,
           2010,
           2015,
           2020,
           2016,
           2010,
           2015,
           2020,
           2005,
           2010,
           2015,
           2021,
           2005,
           2010,
           2015,
           2022,
           2005,
           2010,
           2015,
           2022,
           2015,
           2017,
           2022,
           2004,
           2010,
           2015,
           2021,
           2005,
           2010,
           2015,
           2021,
           2005,
           2010,
           2015,
           2021,
           2005,
           2010,
           2015,
           2021,
           2015,
           2005,
           2010,
           2015,
           2021,
           2003,
           2010,
           2014,
           2010,
           2015,
           2022,
           2015,
           2021,
           2005,
           2010,
           2015,
           2021,
           2015,
           2005,
           2010,
           2013,
           2017,
           2003,
           2005,
           2010,
           2015,
           2021,
           2005,
           2010,
           2015,
           2021,
           2009,
           2011,
           2018,
           2015,
           2022,
           2005,
           2010,
           2015,
           2021,
           2010,
           2005,
           2007,
           2015,
           2021,
           2004,
           2005,
           2005,
           2010,
           2015,
           2021,
           2015,
           2019,
           2005,
           2010,
           2015,
           2021,
           2005,
           2009,
           2015,
           2021,
           2005,
           2010,
           2015,
           2020,
           2001,
           2009,
           2020,
           2010,
           2015,
           2019,
           2010,
           2015,
           2021,
           2005,
           2010,
           2015,
           2021,
           2005,
           2010,
           2015,
           2021,
           2005,
           2010,
           2015,
           2021,
           2016,
           2010,
           2015,
           2022,
           2010,
           2022,
           2005,
           2010,
           2015,
           2022,
           2002,
           2005,
           2010,
           2015,
           2021,
           2004,
           2009,
           2015,
           2005,
           2010,
           2015,
           2021,
           2005,
           2010,
           2015,
           2021,
           2005,
           2010,
           2011,
           2017,
           2004,
           2010,
           2015,
           2020,
           2010,
           2015,
           2021,
           2005,
           2010,
           2015,
           2021,
           2012,
           2022,
           2005,
           2010,
           2015,
           2021,
           2005,
           2022,
           2015,
           2019,
           2010,
           2010,
           2015,
           2002,
           2021,
           2014,
           2005,
           2010,
           2015,
           2021,
           2005,
           2009,
           2015,
           2021,
           2007,
           2019,
           2005,
           2010,
           2015,
           2022,
           2005,
           2010,
           2015,
           2021,
           2015,
           2022,
           2005,
           2009,
           2015,
           2021,
           2005,
           2009,
           2015,
           2022,
           2016,
           2005,
           2008,
           2015,
           2021,
           2005,
           2009,
           2015,
           2018,
           2005,
           2010,
           2015,
           2021,
           2005,
           2010,
           2015,
           2022,
           2015,
           2015,
           2021,
           2005,
           2010,
           2015,
           2021,
           2005,
           2010,
           2015,
           2022,
           2005,
           2010,
           2015,
           2021,
           2005,
           2010,
           2015,
           2022,
           2019,
           2022,
           2010,
           2015,
           2010,
           2015,
           2022,
           2005,
           2005,
           2010,
           2015,
           2020,
           2005,
           2010,
           2015,
           2021,
           2005,
           2010,
           2015,
           2021,
           2005,
           2010,
           2015,
           2021,
           2004,
           2010,
           2015,
           2020,
           2010,
           2013,
           2005,
           2010,
           2015,
           2021,
           2004,
           2008,
           2015,
           2021,
           2015,
           2005,
           2009,
           2015,
           2021,
           2010,
           2014,
           2021,
           2010,
           2015,
           2019,
           2005,
           2010,
           2015,
           2021,
           2010,
           2014,
           2010,
           2015,
           2022,
           2015,
           2021,
           2005,
           2010,
           2015,
           2017,
           2010,
           2013,
           2002,
           2010,
           2015,
           2021,
           2005,
           2010,
           2015,
           2022,
           2005,
           2010,
           2015,
           2016,
           2002,
           2015,
           2021,
           2008,
           2005,
           2010,
           2015,
           2021,
           2005,
           2010,
           2015,
           2021,
           2005,
           2010,
           2015,
           2021
          ],
          "coloraxis": "coloraxis",
          "size": [
           1.8,
           2.2,
           1.8,
           1.7,
           1.9,
           2.2,
           1.8,
           1.8,
           0.2,
           0.1,
           0.5,
           0,
           0.4,
           0.6,
           0.6,
           0.5,
           0.2,
           1.8,
           2.4,
           2.4,
           2.7,
           3,
           3.3,
           0.2,
           0.1,
           0.5,
           1.8,
           2.1,
           2.4,
           3.4,
           0.3,
           0.2,
           0,
           0,
           0.2,
           0.2,
           0.6,
           1,
           1.2,
           1.3,
           0,
           0.4,
           0.6,
           0.9,
           0.8,
           0.1,
           0.2,
           0.1,
           0,
           0.1,
           2,
           1.8,
           1.7,
           1.9,
           0.3,
           0.3,
           0.4,
           0.3,
           1.3,
           1.7,
           2.1,
           2.4,
           0.8,
           0.7,
           0.8,
           1.1,
           0.1,
           0.1,
           0.1,
           0.5,
           0.4,
           0.3,
           0.4,
           0.4,
           0.5,
           0.4,
           0.3,
           0.8,
           0.7,
           0.8,
           1.2,
           0.4,
           0.4,
           0.5,
           0.8,
           1.2,
           1.3,
           1.9,
           2,
           0.4,
           2.4,
           2.9,
           3.1,
           2.8,
           0.1,
           0.4,
           0.4,
           0.4,
           0.7,
           1,
           0.1,
           0.2,
           0.9,
           1.6,
           1.5,
           1.8,
           0.3,
           0.2,
           0.2,
           0.6,
           0.3,
           0.9,
           3.3,
           3.7,
           2.9,
           3,
           2.1,
           2.2,
           2.2,
           2.2,
           0,
           0.1,
           0.1,
           0.3,
           0.2,
           2.4,
           2.7,
           2.9,
           3.1,
           0.4,
           0.6,
           0.6,
           1,
           1.5,
           0.6,
           0.3,
           0,
           0,
           0,
           0.1,
           0,
           0.1,
           0.9,
           1.1,
           1.3,
           1.6,
           2.7,
           2.6,
           2.2,
           2.8,
           0.8,
           0.8,
           0.7,
           0.6,
           0,
           0.1,
           0.3,
           0.3,
           0.4,
           0.8,
           0,
           0,
           0,
           1.2,
           1.6,
           1.2,
           1.1,
           1,
           1.2,
           1.3,
           1.5,
           3.1,
           3.1,
           3.2,
           3.3,
           0.7,
           0.2,
           0.2,
           0.1,
           0.7,
           0.4,
           0.1,
           0.1,
           0.1,
           0.1,
           0,
           0.5,
           0.6,
           0.6,
           0.7,
           0.1,
           0,
           0.1,
           0.7,
           0.8,
           1,
           1.1,
           1.6,
           1.4,
           1.3,
           1,
           0.2,
           0.1,
           0.1,
           0,
           0.6,
           1,
           1.3,
           1,
           0.6,
           0.3,
           0.2,
           0.5,
           0.6,
           0.7,
           0.7,
           0.2,
           0.3,
           0.4,
           0.5,
           0.4,
           0.3,
           0,
           0.1,
           0.4,
           0.4,
           0.7,
           0.4,
           0.3,
           0.2,
           0.1,
           0.3,
           1.8,
           1.7,
           2.1,
           2.3,
           1.1,
           1.3,
           1.2,
           1.5,
           0.1,
           0.3,
           0.2,
           0.2,
           0.4,
           0.4,
           1.5,
           1.6,
           1.9,
           1.9,
           0.2,
           0.3,
           0.4,
           0.4,
           0.2,
           0.2,
           0.2,
           0.1,
           0.1,
           0.2,
           0,
           0.1,
           0,
           0.1,
           0.1,
           0.1,
           0.1,
           0.2,
           0.3,
           0.6,
           0.7,
           1,
           1.4,
           0.8,
           1.5,
           1.2,
           1.7,
           0.4,
           0.5,
           0.7,
           2.5,
           3.3,
           4,
           4.9,
           0.4,
           0.4,
           0.3,
           0.2,
           0.4,
           0.4,
           0.5,
           0.5,
           1.1,
           1.1,
           1.1,
           0.9,
           0.8,
           0.5,
           0.4,
           0.6,
           0.7,
           0.8,
           1,
           0.3,
           2.1,
           1.9,
           2.2,
           2.2,
           0.5,
           0.6,
           1.2,
           0.9,
           1.4,
           2.1,
           2.2,
           2.1,
           1.1,
           1.4,
           1.2,
           1.4,
           0.2,
           0.1,
           0.1,
           0.1,
           0.4,
           0.5,
           3.4,
           3.2,
           3.2,
           3.4,
           2.6,
           2.7,
           3.1,
           3.4,
           0,
           0.2,
           0.2,
           0.6,
           1.2,
           0.2,
           0.2,
           0.1,
           0.7,
           0.6,
           0.7,
           0.6,
           0.8,
           0.9,
           1.4,
           0.4,
           0.1,
           0.8,
           0.6,
           0.3,
           0.9,
           1.5,
           1.5,
           1.6,
           2.3,
           2.3,
           0.4,
           0.5,
           0.2,
           0.3,
           0.4,
           0.4,
           0.2,
           0.2,
           0.2,
           0.2,
           0.2,
           0.2,
           0.4,
           0.7,
           0.2,
           0.4,
           0.4,
           0.3,
           0.2,
           0.2,
           0.2,
           0.2,
           0.2,
           0.2,
           0.3,
           0.3,
           1,
           1,
           1,
           0.7
          ],
          "sizemode": "area",
          "sizeref": 0.01225,
          "symbol": "circle"
         },
         "mode": "markers",
         "name": "",
         "orientation": "v",
         "showlegend": false,
         "type": "scatter",
         "x": [
          1.8,
          2.2,
          1.8,
          1.7,
          1.9,
          2.2,
          1.8,
          1.8,
          0.2,
          0.1,
          0.5,
          0,
          0.4,
          0.6,
          0.6,
          0.5,
          0.2,
          1.8,
          2.4,
          2.4,
          2.7,
          3,
          3.3,
          0.2,
          0.1,
          0.5,
          1.8,
          2.1,
          2.4,
          3.4,
          0.3,
          0.2,
          0,
          0,
          0.2,
          0.2,
          0.6,
          1,
          1.2,
          1.3,
          0,
          0.4,
          0.6,
          0.9,
          0.8,
          0.1,
          0.2,
          0.1,
          0,
          0.1,
          2,
          1.8,
          1.7,
          1.9,
          0.3,
          0.3,
          0.4,
          0.3,
          1.3,
          1.7,
          2.1,
          2.4,
          0.8,
          0.7,
          0.8,
          1.1,
          0.1,
          0.1,
          0.1,
          0.5,
          0.4,
          0.3,
          0.4,
          0.4,
          0.5,
          0.4,
          0.3,
          0.8,
          0.7,
          0.8,
          1.2,
          0.4,
          0.4,
          0.5,
          0.8,
          1.2,
          1.3,
          1.9,
          2,
          0.4,
          2.4,
          2.9,
          3.1,
          2.8,
          0.1,
          0.4,
          0.4,
          0.4,
          0.7,
          1,
          0.1,
          0.2,
          0.9,
          1.6,
          1.5,
          1.8,
          0.3,
          0.2,
          0.2,
          0.6,
          0.3,
          0.9,
          3.3,
          3.7,
          2.9,
          3,
          2.1,
          2.2,
          2.2,
          2.2,
          0,
          0.1,
          0.1,
          0.3,
          0.2,
          2.4,
          2.7,
          2.9,
          3.1,
          0.4,
          0.6,
          0.6,
          1,
          1.5,
          0.6,
          0.3,
          0,
          0,
          0,
          0.1,
          0,
          0.1,
          0.9,
          1.1,
          1.3,
          1.6,
          2.7,
          2.6,
          2.2,
          2.8,
          0.8,
          0.8,
          0.7,
          0.6,
          0,
          0.1,
          0.3,
          0.3,
          0.4,
          0.8,
          0,
          0,
          0,
          1.2,
          1.6,
          1.2,
          1.1,
          1,
          1.2,
          1.3,
          1.5,
          3.1,
          3.1,
          3.2,
          3.3,
          0.7,
          0.2,
          0.2,
          0.1,
          0.7,
          0.4,
          0.1,
          0.1,
          0.1,
          0.1,
          0,
          0.5,
          0.6,
          0.6,
          0.7,
          0.1,
          0,
          0.1,
          0.7,
          0.8,
          1,
          1.1,
          1.6,
          1.4,
          1.3,
          1,
          0.2,
          0.1,
          0.1,
          0,
          0.6,
          1,
          1.3,
          1,
          0.6,
          0.3,
          0.2,
          0.5,
          0.6,
          0.7,
          0.7,
          0.2,
          0.3,
          0.4,
          0.5,
          0.4,
          0.3,
          0,
          0.1,
          0.4,
          0.4,
          0.7,
          0.4,
          0.3,
          0.2,
          0.1,
          0.3,
          1.8,
          1.7,
          2.1,
          2.3,
          1.1,
          1.3,
          1.2,
          1.5,
          0.1,
          0.3,
          0.2,
          0.2,
          0.4,
          0.4,
          1.5,
          1.6,
          1.9,
          1.9,
          0.2,
          0.3,
          0.4,
          0.4,
          0.2,
          0.2,
          0.2,
          0.1,
          0.1,
          0.2,
          0,
          0.1,
          0,
          0.1,
          0.1,
          0.1,
          0.1,
          0.2,
          0.3,
          0.6,
          0.7,
          1,
          1.4,
          0.8,
          1.5,
          1.2,
          1.7,
          0.4,
          0.5,
          0.7,
          2.5,
          3.3,
          4,
          4.9,
          0.4,
          0.4,
          0.3,
          0.2,
          0.4,
          0.4,
          0.5,
          0.5,
          1.1,
          1.1,
          1.1,
          0.9,
          0.8,
          0.5,
          0.4,
          0.6,
          0.7,
          0.8,
          1,
          0.3,
          2.1,
          1.9,
          2.2,
          2.2,
          0.5,
          0.6,
          1.2,
          0.9,
          1.4,
          2.1,
          2.2,
          2.1,
          1.1,
          1.4,
          1.2,
          1.4,
          0.2,
          0.1,
          0.1,
          0.1,
          0.4,
          0.5,
          3.4,
          3.2,
          3.2,
          3.4,
          2.6,
          2.7,
          3.1,
          3.4,
          0,
          0.2,
          0.2,
          0.6,
          1.2,
          0.2,
          0.2,
          0.1,
          0.7,
          0.6,
          0.7,
          0.6,
          0.8,
          0.9,
          1.4,
          0.4,
          0.1,
          0.8,
          0.6,
          0.3,
          0.9,
          1.5,
          1.5,
          1.6,
          2.3,
          2.3,
          0.4,
          0.5,
          0.2,
          0.3,
          0.4,
          0.4,
          0.2,
          0.2,
          0.2,
          0.2,
          0.2,
          0.2,
          0.4,
          0.7,
          0.2,
          0.4,
          0.4,
          0.3,
          0.2,
          0.2,
          0.2,
          0.2,
          0.2,
          0.2,
          0.3,
          0.3,
          1,
          1,
          1,
          0.7
         ],
         "xaxis": "x",
         "y": [
          2942,
          3215.6,
          3546.9,
          3324.5,
          4020.5,
          4454.2,
          4976.4,
          4695.9,
          157.6,
          170.8,
          832.4,
          19,
          819.9,
          1123.9,
          1231.5,
          1283.8,
          1219.9,
          4098.5,
          4594.1,
          3471.6,
          4380.4,
          5074.4,
          6341.7,
          1690.7,
          384,
          1381.8,
          3161.1,
          3767.2,
          4741.9,
          6581.9,
          117.9,
          142.7,
          61.5,
          184.5,
          353.1,
          535,
          173.9,
          510,
          687.1,
          888.5,
          285.2,
          1282.2,
          1441.7,
          1939.1,
          2339.3,
          20.1,
          23.2,
          47.7,
          17.9,
          30.8,
          4263.8,
          4696.4,
          4582.4,
          5076.2,
          58.8,
          321.5,
          459.8,
          518.7,
          860,
          901.1,
          1164.9,
          1687.1,
          2601.5,
          3049.5,
          3472.3,
          4809,
          617.2,
          635.8,
          1261.1,
          3544.5,
          70.5,
          89.9,
          128.2,
          108.7,
          380.6,
          493,
          399.4,
          1291,
          1623.3,
          1490.8,
          2330.9,
          930.3,
          1104.8,
          1010.6,
          1743.3,
          2353.4,
          2798.9,
          3619.3,
          4568.6,
          10.4,
          5193.6,
          6759.6,
          7561,
          7707.7,
          48.9,
          142,
          402.3,
          472,
          643.5,
          841.4,
          64.3,
          64.7,
          2451.6,
          3057.6,
          3188.3,
          4038.2,
          139.1,
          21.1,
          42.1,
          44.6,
          90.2,
          1826.1,
          7558.7,
          7741,
          6856.3,
          7870.7,
          3357.6,
          3910.7,
          4386.2,
          5175,
          96.8,
          29.8,
          50,
          1366.2,
          1823,
          3350,
          4035.2,
          4733.4,
          5536,
          37.2,
          1762.6,
          1893,
          3202.9,
          4326.3,
          702.4,
          292.2,
          29.9,
          25.2,
          22.7,
          14.5,
          22.1,
          187.4,
          1574.5,
          2134,
          2568.3,
          4452.2,
          7332.9,
          7836.4,
          5903.9,
          6940.4,
          135.1,
          156.5,
          215.2,
          260.4,
          198.2,
          89.2,
          399.6,
          732.5,
          800.9,
          1597.3,
          417.6,
          62.8,
          162.5,
          2844.9,
          3140.2,
          5282.9,
          5250.7,
          1420.3,
          1732.5,
          2087.6,
          2677.8,
          5327.7,
          5120,
          5198.1,
          5638.4,
          575.3,
          364.8,
          770.8,
          681.5,
          227.2,
          169.3,
          176.2,
          141.9,
          404.7,
          182,
          15.6,
          1459.9,
          1842.8,
          1805.3,
          2404.5,
          10,
          22.9,
          23.6,
          2247,
          2721.6,
          2741.4,
          3935.1,
          4831.5,
          5203.4,
          4637.8,
          4940.6,
          47.5,
          51.3,
          50.2,
          30.3,
          506.1,
          1448.1,
          2265.2,
          726.5,
          29,
          30.2,
          29.3,
          1169.4,
          1408.4,
          1817.2,
          2160.7,
          177,
          569,
          419.5,
          344.5,
          286.9,
          384.1,
          310.6,
          533.6,
          825,
          743.4,
          721.9,
          40.1,
          44,
          18.1,
          19,
          152.8,
          2948.5,
          3239.9,
          4911.1,
          6074.3,
          3161.1,
          3761.7,
          5492,
          5102.3,
          38.8,
          22.8,
          535.7,
          526.8,
          847.2,
          642.4,
          4602,
          5444,
          5929.2,
          7227.9,
          222,
          381.8,
          73.5,
          146.8,
          265.2,
          415.3,
          105.1,
          111.7,
          90.8,
          142,
          33.4,
          77,
          83,
          199.2,
          142.4,
          80.7,
          81.5,
          105.7,
          172,
          1611,
          1672.1,
          2141.2,
          3534.5,
          2009.4,
          3918.5,
          3724.8,
          5743,
          333.8,
          647.3,
          982.5,
          3760.7,
          5424.9,
          7018.4,
          9081.9,
          717.4,
          760.2,
          946.5,
          768,
          1083.5,
          969.5,
          874.7,
          985.5,
          3224.4,
          3086.5,
          3109.8,
          2697.9,
          58.5,
          834.8,
          378.6,
          581,
          1503.4,
          2060.1,
          2349.7,
          152.5,
          5543.8,
          6284.9,
          6977.7,
          7224.7,
          2031.5,
          2815,
          2656.8,
          3211,
          2625.6,
          3755.2,
          3805.1,
          5223,
          2532.2,
          2896.5,
          2636.8,
          3251.7,
          138.1,
          104,
          104.1,
          104.6,
          332.6,
          588.8,
          6092.7,
          5279.9,
          6810.8,
          8130.8,
          3453.1,
          3315.1,
          5310.2,
          6022.7,
          84,
          312.7,
          325.6,
          847.1,
          1699.1,
          34,
          37.7,
          525.5,
          1358.9,
          1751,
          1701.6,
          573.5,
          885,
          1205.1,
          1999.5,
          39.6,
          28.7,
          1328.4,
          1006,
          580.8,
          2066.5,
          2666,
          4130.6,
          4105.4,
          4397.2,
          4491.3,
          36,
          19.2,
          375.9,
          631.4,
          680,
          838.5,
          633.4,
          547.3,
          501.2,
          547.5,
          122.8,
          203.5,
          246.6,
          292,
          116.3,
          685.7,
          779.3,
          42.5,
          145.5,
          137.9,
          162.5,
          169.3,
          47.1,
          57,
          65.4,
          72.5,
          606.3,
          715.3,
          801.7,
          896.9
         ],
         "yaxis": "y"
        },
        {
         "line": {
          "color": "red",
          "dash": "dash",
          "width": 2
         },
         "mode": "lines",
         "name": "Tendência (R² = 0.813)",
         "type": "scatter",
         "x": [
          0,
          0.0494949494949495,
          0.098989898989899,
          0.1484848484848485,
          0.197979797979798,
          0.24747474747474751,
          0.296969696969697,
          0.34646464646464653,
          0.395959595959596,
          0.4454545454545455,
          0.49494949494949503,
          0.5444444444444445,
          0.593939393939394,
          0.6434343434343435,
          0.6929292929292931,
          0.7424242424242425,
          0.791919191919192,
          0.8414141414141415,
          0.890909090909091,
          0.9404040404040406,
          0.9898989898989901,
          1.0393939393939395,
          1.088888888888889,
          1.1383838383838385,
          1.187878787878788,
          1.2373737373737375,
          1.286868686868687,
          1.3363636363636366,
          1.3858585858585861,
          1.4353535353535356,
          1.484848484848485,
          1.5343434343434346,
          1.583838383838384,
          1.6333333333333335,
          1.682828282828283,
          1.7323232323232325,
          1.781818181818182,
          1.8313131313131314,
          1.8808080808080812,
          1.9303030303030306,
          1.9797979797979801,
          2.0292929292929296,
          2.078787878787879,
          2.1282828282828286,
          2.177777777777778,
          2.2272727272727275,
          2.276767676767677,
          2.3262626262626265,
          2.375757575757576,
          2.4252525252525254,
          2.474747474747475,
          2.5242424242424244,
          2.573737373737374,
          2.6232323232323234,
          2.6727272727272733,
          2.7222222222222228,
          2.7717171717171722,
          2.8212121212121217,
          2.870707070707071,
          2.9202020202020207,
          2.96969696969697,
          3.0191919191919196,
          3.068686868686869,
          3.1181818181818186,
          3.167676767676768,
          3.2171717171717176,
          3.266666666666667,
          3.3161616161616165,
          3.365656565656566,
          3.4151515151515155,
          3.464646464646465,
          3.5141414141414145,
          3.563636363636364,
          3.6131313131313134,
          3.662626262626263,
          3.712121212121213,
          3.7616161616161623,
          3.811111111111112,
          3.8606060606060613,
          3.9101010101010107,
          3.9595959595959602,
          4.00909090909091,
          4.058585858585859,
          4.108080808080809,
          4.157575757575758,
          4.207070707070708,
          4.256565656565657,
          4.306060606060607,
          4.355555555555556,
          4.4050505050505055,
          4.454545454545455,
          4.5040404040404045,
          4.553535353535354,
          4.6030303030303035,
          4.652525252525253,
          4.702020202020202,
          4.751515151515152,
          4.801010101010101,
          4.850505050505051,
          4.9
         ],
         "y": [
          -17.76163261907459,
          84.35262816632401,
          186.4668889517226,
          288.5811497371212,
          390.6954105225198,
          492.80967130791845,
          594.923932093317,
          697.0381928787157,
          799.1524536641142,
          901.2667144495128,
          1003.3809752349115,
          1105.4952360203101,
          1207.6094968057087,
          1309.7237575911072,
          1411.838018376506,
          1513.9522791619045,
          1616.066539947303,
          1718.1808007327018,
          1820.2950615181003,
          1922.409322303499,
          2024.5235830888976,
          2126.6378438742963,
          2228.752104659695,
          2330.8663654450934,
          2432.980626230492,
          2535.0948870158904,
          2637.209147801289,
          2739.323408586688,
          2841.4376693720865,
          2943.551930157485,
          3045.6661909428835,
          3147.780451728282,
          3249.8947125136806,
          3352.008973299079,
          3454.123234084478,
          3556.2374948698766,
          3658.351755655275,
          3760.4660164406737,
          3862.5802772260727,
          3964.694538011471,
          4066.8087987968697,
          4168.923059582268,
          4271.037320367667,
          4373.151581153065,
          4475.265841938464,
          4577.380102723862,
          4679.494363509261,
          4781.608624294659,
          4883.722885080058,
          4985.8371458654565,
          5087.9514066508555,
          5190.0656674362535,
          5292.1799282216525,
          5394.294189007051,
          5496.4084497924505,
          5598.5227105778495,
          5700.6369713632475,
          5802.7512321486465,
          5904.865492934045,
          6006.979753719444,
          6109.094014504842,
          6211.208275290241,
          6313.322536075639,
          6415.436796861038,
          6517.551057646436,
          6619.665318431835,
          6721.779579217233,
          6823.893840002632,
          6926.008100788031,
          7028.122361573429,
          7130.236622358828,
          7232.350883144226,
          7334.465143929625,
          7436.579404715023,
          7538.693665500422,
          7640.807926285821,
          7742.92218707122,
          7845.036447856618,
          7947.150708642017,
          8049.264969427415,
          8151.379230212814,
          8253.493490998213,
          8355.607751783611,
          8457.72201256901,
          8559.836273354409,
          8661.950534139807,
          8764.064794925205,
          8866.179055710603,
          8968.293316496003,
          9070.407577281401,
          9172.5218380668,
          9274.636098852197,
          9376.750359637597,
          9478.864620422995,
          9580.978881208393,
          9683.093141993793,
          9785.207402779191,
          9887.32166356459,
          9989.435924349988,
          10091.550185135387
         ]
        }
       ],
       "layout": {
        "coloraxis": {
         "colorbar": {
          "title": {
           "text": "Ano"
          }
         },
         "colorscale": [
          [
           0,
           "#440154"
          ],
          [
           0.1111111111111111,
           "#482878"
          ],
          [
           0.2222222222222222,
           "#3e4989"
          ],
          [
           0.3333333333333333,
           "#31688e"
          ],
          [
           0.4444444444444444,
           "#26828e"
          ],
          [
           0.5555555555555556,
           "#1f9e89"
          ],
          [
           0.6666666666666666,
           "#35b779"
          ],
          [
           0.7777777777777778,
           "#6ece58"
          ],
          [
           0.8888888888888888,
           "#b5de2b"
          ],
          [
           1,
           "#fde725"
          ]
         ]
        },
        "height": 900,
        "legend": {
         "itemsizing": "constant",
         "tracegroupgap": 0
        },
        "template": {
         "data": {
          "bar": [
           {
            "error_x": {
             "color": "#2a3f5f"
            },
            "error_y": {
             "color": "#2a3f5f"
            },
            "marker": {
             "line": {
              "color": "white",
              "width": 0.5
             },
             "pattern": {
              "fillmode": "overlay",
              "size": 10,
              "solidity": 0.2
             }
            },
            "type": "bar"
           }
          ],
          "barpolar": [
           {
            "marker": {
             "line": {
              "color": "white",
              "width": 0.5
             },
             "pattern": {
              "fillmode": "overlay",
              "size": 10,
              "solidity": 0.2
             }
            },
            "type": "barpolar"
           }
          ],
          "carpet": [
           {
            "aaxis": {
             "endlinecolor": "#2a3f5f",
             "gridcolor": "#C8D4E3",
             "linecolor": "#C8D4E3",
             "minorgridcolor": "#C8D4E3",
             "startlinecolor": "#2a3f5f"
            },
            "baxis": {
             "endlinecolor": "#2a3f5f",
             "gridcolor": "#C8D4E3",
             "linecolor": "#C8D4E3",
             "minorgridcolor": "#C8D4E3",
             "startlinecolor": "#2a3f5f"
            },
            "type": "carpet"
           }
          ],
          "choropleth": [
           {
            "colorbar": {
             "outlinewidth": 0,
             "ticks": ""
            },
            "type": "choropleth"
           }
          ],
          "contour": [
           {
            "colorbar": {
             "outlinewidth": 0,
             "ticks": ""
            },
            "colorscale": [
             [
              0,
              "#0d0887"
             ],
             [
              0.1111111111111111,
              "#46039f"
             ],
             [
              0.2222222222222222,
              "#7201a8"
             ],
             [
              0.3333333333333333,
              "#9c179e"
             ],
             [
              0.4444444444444444,
              "#bd3786"
             ],
             [
              0.5555555555555556,
              "#d8576b"
             ],
             [
              0.6666666666666666,
              "#ed7953"
             ],
             [
              0.7777777777777778,
              "#fb9f3a"
             ],
             [
              0.8888888888888888,
              "#fdca26"
             ],
             [
              1,
              "#f0f921"
             ]
            ],
            "type": "contour"
           }
          ],
          "contourcarpet": [
           {
            "colorbar": {
             "outlinewidth": 0,
             "ticks": ""
            },
            "type": "contourcarpet"
           }
          ],
          "heatmap": [
           {
            "colorbar": {
             "outlinewidth": 0,
             "ticks": ""
            },
            "colorscale": [
             [
              0,
              "#0d0887"
             ],
             [
              0.1111111111111111,
              "#46039f"
             ],
             [
              0.2222222222222222,
              "#7201a8"
             ],
             [
              0.3333333333333333,
              "#9c179e"
             ],
             [
              0.4444444444444444,
              "#bd3786"
             ],
             [
              0.5555555555555556,
              "#d8576b"
             ],
             [
              0.6666666666666666,
              "#ed7953"
             ],
             [
              0.7777777777777778,
              "#fb9f3a"
             ],
             [
              0.8888888888888888,
              "#fdca26"
             ],
             [
              1,
              "#f0f921"
             ]
            ],
            "type": "heatmap"
           }
          ],
          "heatmapgl": [
           {
            "colorbar": {
             "outlinewidth": 0,
             "ticks": ""
            },
            "colorscale": [
             [
              0,
              "#0d0887"
             ],
             [
              0.1111111111111111,
              "#46039f"
             ],
             [
              0.2222222222222222,
              "#7201a8"
             ],
             [
              0.3333333333333333,
              "#9c179e"
             ],
             [
              0.4444444444444444,
              "#bd3786"
             ],
             [
              0.5555555555555556,
              "#d8576b"
             ],
             [
              0.6666666666666666,
              "#ed7953"
             ],
             [
              0.7777777777777778,
              "#fb9f3a"
             ],
             [
              0.8888888888888888,
              "#fdca26"
             ],
             [
              1,
              "#f0f921"
             ]
            ],
            "type": "heatmapgl"
           }
          ],
          "histogram": [
           {
            "marker": {
             "pattern": {
              "fillmode": "overlay",
              "size": 10,
              "solidity": 0.2
             }
            },
            "type": "histogram"
           }
          ],
          "histogram2d": [
           {
            "colorbar": {
             "outlinewidth": 0,
             "ticks": ""
            },
            "colorscale": [
             [
              0,
              "#0d0887"
             ],
             [
              0.1111111111111111,
              "#46039f"
             ],
             [
              0.2222222222222222,
              "#7201a8"
             ],
             [
              0.3333333333333333,
              "#9c179e"
             ],
             [
              0.4444444444444444,
              "#bd3786"
             ],
             [
              0.5555555555555556,
              "#d8576b"
             ],
             [
              0.6666666666666666,
              "#ed7953"
             ],
             [
              0.7777777777777778,
              "#fb9f3a"
             ],
             [
              0.8888888888888888,
              "#fdca26"
             ],
             [
              1,
              "#f0f921"
             ]
            ],
            "type": "histogram2d"
           }
          ],
          "histogram2dcontour": [
           {
            "colorbar": {
             "outlinewidth": 0,
             "ticks": ""
            },
            "colorscale": [
             [
              0,
              "#0d0887"
             ],
             [
              0.1111111111111111,
              "#46039f"
             ],
             [
              0.2222222222222222,
              "#7201a8"
             ],
             [
              0.3333333333333333,
              "#9c179e"
             ],
             [
              0.4444444444444444,
              "#bd3786"
             ],
             [
              0.5555555555555556,
              "#d8576b"
             ],
             [
              0.6666666666666666,
              "#ed7953"
             ],
             [
              0.7777777777777778,
              "#fb9f3a"
             ],
             [
              0.8888888888888888,
              "#fdca26"
             ],
             [
              1,
              "#f0f921"
             ]
            ],
            "type": "histogram2dcontour"
           }
          ],
          "mesh3d": [
           {
            "colorbar": {
             "outlinewidth": 0,
             "ticks": ""
            },
            "type": "mesh3d"
           }
          ],
          "parcoords": [
           {
            "line": {
             "colorbar": {
              "outlinewidth": 0,
              "ticks": ""
             }
            },
            "type": "parcoords"
           }
          ],
          "pie": [
           {
            "automargin": true,
            "type": "pie"
           }
          ],
          "scatter": [
           {
            "fillpattern": {
             "fillmode": "overlay",
             "size": 10,
             "solidity": 0.2
            },
            "type": "scatter"
           }
          ],
          "scatter3d": [
           {
            "line": {
             "colorbar": {
              "outlinewidth": 0,
              "ticks": ""
             }
            },
            "marker": {
             "colorbar": {
              "outlinewidth": 0,
              "ticks": ""
             }
            },
            "type": "scatter3d"
           }
          ],
          "scattercarpet": [
           {
            "marker": {
             "colorbar": {
              "outlinewidth": 0,
              "ticks": ""
             }
            },
            "type": "scattercarpet"
           }
          ],
          "scattergeo": [
           {
            "marker": {
             "colorbar": {
              "outlinewidth": 0,
              "ticks": ""
             }
            },
            "type": "scattergeo"
           }
          ],
          "scattergl": [
           {
            "marker": {
             "colorbar": {
              "outlinewidth": 0,
              "ticks": ""
             }
            },
            "type": "scattergl"
           }
          ],
          "scattermapbox": [
           {
            "marker": {
             "colorbar": {
              "outlinewidth": 0,
              "ticks": ""
             }
            },
            "type": "scattermapbox"
           }
          ],
          "scatterpolar": [
           {
            "marker": {
             "colorbar": {
              "outlinewidth": 0,
              "ticks": ""
             }
            },
            "type": "scatterpolar"
           }
          ],
          "scatterpolargl": [
           {
            "marker": {
             "colorbar": {
              "outlinewidth": 0,
              "ticks": ""
             }
            },
            "type": "scatterpolargl"
           }
          ],
          "scatterternary": [
           {
            "marker": {
             "colorbar": {
              "outlinewidth": 0,
              "ticks": ""
             }
            },
            "type": "scatterternary"
           }
          ],
          "surface": [
           {
            "colorbar": {
             "outlinewidth": 0,
             "ticks": ""
            },
            "colorscale": [
             [
              0,
              "#0d0887"
             ],
             [
              0.1111111111111111,
              "#46039f"
             ],
             [
              0.2222222222222222,
              "#7201a8"
             ],
             [
              0.3333333333333333,
              "#9c179e"
             ],
             [
              0.4444444444444444,
              "#bd3786"
             ],
             [
              0.5555555555555556,
              "#d8576b"
             ],
             [
              0.6666666666666666,
              "#ed7953"
             ],
             [
              0.7777777777777778,
              "#fb9f3a"
             ],
             [
              0.8888888888888888,
              "#fdca26"
             ],
             [
              1,
              "#f0f921"
             ]
            ],
            "type": "surface"
           }
          ],
          "table": [
           {
            "cells": {
             "fill": {
              "color": "#EBF0F8"
             },
             "line": {
              "color": "white"
             }
            },
            "header": {
             "fill": {
              "color": "#C8D4E3"
             },
             "line": {
              "color": "white"
             }
            },
            "type": "table"
           }
          ]
         },
         "layout": {
          "annotationdefaults": {
           "arrowcolor": "#2a3f5f",
           "arrowhead": 0,
           "arrowwidth": 1
          },
          "autotypenumbers": "strict",
          "coloraxis": {
           "colorbar": {
            "outlinewidth": 0,
            "ticks": ""
           }
          },
          "colorscale": {
           "diverging": [
            [
             0,
             "#8e0152"
            ],
            [
             0.1,
             "#c51b7d"
            ],
            [
             0.2,
             "#de77ae"
            ],
            [
             0.3,
             "#f1b6da"
            ],
            [
             0.4,
             "#fde0ef"
            ],
            [
             0.5,
             "#f7f7f7"
            ],
            [
             0.6,
             "#e6f5d0"
            ],
            [
             0.7,
             "#b8e186"
            ],
            [
             0.8,
             "#7fbc41"
            ],
            [
             0.9,
             "#4d9221"
            ],
            [
             1,
             "#276419"
            ]
           ],
           "sequential": [
            [
             0,
             "#0d0887"
            ],
            [
             0.1111111111111111,
             "#46039f"
            ],
            [
             0.2222222222222222,
             "#7201a8"
            ],
            [
             0.3333333333333333,
             "#9c179e"
            ],
            [
             0.4444444444444444,
             "#bd3786"
            ],
            [
             0.5555555555555556,
             "#d8576b"
            ],
            [
             0.6666666666666666,
             "#ed7953"
            ],
            [
             0.7777777777777778,
             "#fb9f3a"
            ],
            [
             0.8888888888888888,
             "#fdca26"
            ],
            [
             1,
             "#f0f921"
            ]
           ],
           "sequentialminus": [
            [
             0,
             "#0d0887"
            ],
            [
             0.1111111111111111,
             "#46039f"
            ],
            [
             0.2222222222222222,
             "#7201a8"
            ],
            [
             0.3333333333333333,
             "#9c179e"
            ],
            [
             0.4444444444444444,
             "#bd3786"
            ],
            [
             0.5555555555555556,
             "#d8576b"
            ],
            [
             0.6666666666666666,
             "#ed7953"
            ],
            [
             0.7777777777777778,
             "#fb9f3a"
            ],
            [
             0.8888888888888888,
             "#fdca26"
            ],
            [
             1,
             "#f0f921"
            ]
           ]
          },
          "colorway": [
           "#636efa",
           "#EF553B",
           "#00cc96",
           "#ab63fa",
           "#FFA15A",
           "#19d3f3",
           "#FF6692",
           "#B6E880",
           "#FF97FF",
           "#FECB52"
          ],
          "font": {
           "color": "#2a3f5f"
          },
          "geo": {
           "bgcolor": "white",
           "lakecolor": "white",
           "landcolor": "white",
           "showlakes": true,
           "showland": true,
           "subunitcolor": "#C8D4E3"
          },
          "hoverlabel": {
           "align": "left"
          },
          "hovermode": "closest",
          "mapbox": {
           "style": "light"
          },
          "paper_bgcolor": "white",
          "plot_bgcolor": "white",
          "polar": {
           "angularaxis": {
            "gridcolor": "#EBF0F8",
            "linecolor": "#EBF0F8",
            "ticks": ""
           },
           "bgcolor": "white",
           "radialaxis": {
            "gridcolor": "#EBF0F8",
            "linecolor": "#EBF0F8",
            "ticks": ""
           }
          },
          "scene": {
           "xaxis": {
            "backgroundcolor": "white",
            "gridcolor": "#DFE8F3",
            "gridwidth": 2,
            "linecolor": "#EBF0F8",
            "showbackground": true,
            "ticks": "",
            "zerolinecolor": "#EBF0F8"
           },
           "yaxis": {
            "backgroundcolor": "white",
            "gridcolor": "#DFE8F3",
            "gridwidth": 2,
            "linecolor": "#EBF0F8",
            "showbackground": true,
            "ticks": "",
            "zerolinecolor": "#EBF0F8"
           },
           "zaxis": {
            "backgroundcolor": "white",
            "gridcolor": "#DFE8F3",
            "gridwidth": 2,
            "linecolor": "#EBF0F8",
            "showbackground": true,
            "ticks": "",
            "zerolinecolor": "#EBF0F8"
           }
          },
          "shapedefaults": {
           "line": {
            "color": "#2a3f5f"
           }
          },
          "ternary": {
           "aaxis": {
            "gridcolor": "#DFE8F3",
            "linecolor": "#A2B1C6",
            "ticks": ""
           },
           "baxis": {
            "gridcolor": "#DFE8F3",
            "linecolor": "#A2B1C6",
            "ticks": ""
           },
           "bgcolor": "white",
           "caxis": {
            "gridcolor": "#DFE8F3",
            "linecolor": "#A2B1C6",
            "ticks": ""
           }
          },
          "title": {
           "x": 0.05
          },
          "xaxis": {
           "automargin": true,
           "gridcolor": "#EBF0F8",
           "linecolor": "#EBF0F8",
           "ticks": "",
           "title": {
            "standoff": 15
           },
           "zerolinecolor": "#EBF0F8",
           "zerolinewidth": 2
          },
          "yaxis": {
           "automargin": true,
           "gridcolor": "#EBF0F8",
           "linecolor": "#EBF0F8",
           "ticks": "",
           "title": {
            "standoff": 15
           },
           "zerolinecolor": "#EBF0F8",
           "zerolinewidth": 2
          }
         }
        },
        "title": {
         "font": {
          "size": 16
         },
         "text": "Correlação entre Investimento em P&D e Densidade de Pesquisadores",
         "x": 0.5
        },
        "width": 1500,
        "xaxis": {
         "anchor": "y",
         "domain": [
          0,
          1
         ],
         "title": {
          "text": "Investimento em P&D (% do PIB)"
         }
        },
        "yaxis": {
         "anchor": "x",
         "domain": [
          0,
          1
         ],
         "title": {
          "text": "Pesquisadores por milhão de habitantes"
         }
        }
       }
      },
      "text/html": [
       "<div>                            <div id=\"8f77bbdd-010d-4c41-842a-1e91a19265b7\" class=\"plotly-graph-div\" style=\"height:900px; width:1500px;\"></div>            <script type=\"text/javascript\">                require([\"plotly\"], function(Plotly) {                    window.PLOTLYENV=window.PLOTLYENV || {};                                    if (document.getElementById(\"8f77bbdd-010d-4c41-842a-1e91a19265b7\")) {                    Plotly.newPlot(                        \"8f77bbdd-010d-4c41-842a-1e91a19265b7\",                        [{\"customdata\":[[\"Oceania\"],[\"Oceania\"],[\"Oceania\"],[\"Oceania\"],[\"Australia and New Zealand\"],[\"Australia and New Zealand\"],[\"Australia and New Zealand\"],[\"Australia and New Zealand\"],[\"Albania\"],[\"Algeria\"],[\"Algeria\"],[\"Angola\"],[\"Argentina\"],[\"Argentina\"],[\"Argentina\"],[\"Argentina\"],[\"Armenia\"],[\"Australia\"],[\"Australia\"],[\"Austria\"],[\"Austria\"],[\"Austria\"],[\"Austria\"],[\"Azerbaijan\"],[\"Bahrain\"],[\"Belarus\"],[\"Belgium\"],[\"Belgium\"],[\"Belgium\"],[\"Belgium\"],[\"Bolivia (Plurin. State of)\"],[\"Bolivia (Plurin. State of)\"],[\"Bosnia and Herzegovina\"],[\"Bosnia and Herzegovina\"],[\"Bosnia and Herzegovina\"],[\"Bosnia and Herzegovina\"],[\"Botswana\"],[\"Brazil\"],[\"Brazil\"],[\"Brazil\"],[\"Brunei Darussalam\"],[\"Bulgaria\"],[\"Bulgaria\"],[\"Bulgaria\"],[\"Bulgaria\"],[\"Burundi\"],[\"Burundi\"],[\"Cabo Verde\"],[\"Cambodia\"],[\"Cambodia\"],[\"Canada\"],[\"Canada\"],[\"Canada\"],[\"Canada\"],[\"Chad\"],[\"Chile\"],[\"Chile\"],[\"Chile\"],[\"China\"],[\"China\"],[\"China\"],[\"China\"],[\"China, Hong Kong SAR\"],[\"China, Hong Kong SAR\"],[\"China, Hong Kong SAR\"],[\"China, Hong Kong SAR\"],[\"China, Macao SAR\"],[\"China, Macao SAR\"],[\"China, Macao SAR\"],[\"China, Macao SAR\"],[\"Colombia\"],[\"Colombia\"],[\"Congo\"],[\"Costa Rica\"],[\"Costa Rica\"],[\"Costa Rica\"],[\"Costa Rica\"],[\"Croatia\"],[\"Croatia\"],[\"Croatia\"],[\"Croatia\"],[\"Cyprus\"],[\"Cyprus\"],[\"Cyprus\"],[\"Cyprus\"],[\"Czechia\"],[\"Czechia\"],[\"Czechia\"],[\"Czechia\"],[\"Dem. Rep. of the Congo\"],[\"Denmark\"],[\"Denmark\"],[\"Denmark\"],[\"Denmark\"],[\"Ecuador\"],[\"Ecuador\"],[\"Ecuador\"],[\"Egypt\"],[\"Egypt\"],[\"Egypt\"],[\"El Salvador\"],[\"El Salvador\"],[\"Estonia\"],[\"Estonia\"],[\"Estonia\"],[\"Estonia\"],[\"Eswatini\"],[\"Ethiopia\"],[\"Ethiopia\"],[\"Ethiopia\"],[\"Ethiopia\"],[\"Faroe Islands\"],[\"Finland\"],[\"Finland\"],[\"Finland\"],[\"Finland\"],[\"France\"],[\"France\"],[\"France\"],[\"France\"],[\"Gambia\"],[\"Gambia\"],[\"Gambia\"],[\"Georgia\"],[\"Georgia\"],[\"Germany\"],[\"Germany\"],[\"Germany\"],[\"Germany\"],[\"Ghana\"],[\"Greece\"],[\"Greece\"],[\"Greece\"],[\"Greece\"],[\"Greenland\"],[\"Guam\"],[\"Guatemala\"],[\"Guatemala\"],[\"Guatemala\"],[\"Guatemala\"],[\"Honduras\"],[\"Honduras\"],[\"Hungary\"],[\"Hungary\"],[\"Hungary\"],[\"Hungary\"],[\"Iceland\"],[\"Iceland\"],[\"Iceland\"],[\"Iceland\"],[\"India\"],[\"India\"],[\"India\"],[\"India\"],[\"Indonesia\"],[\"Indonesia\"],[\"Indonesia\"],[\"Iran (Islamic Republic of)\"],[\"Iran (Islamic Republic of)\"],[\"Iran (Islamic Republic of)\"],[\"Iraq\"],[\"Iraq\"],[\"Iraq\"],[\"Ireland\"],[\"Ireland\"],[\"Ireland\"],[\"Ireland\"],[\"Italy\"],[\"Italy\"],[\"Italy\"],[\"Italy\"],[\"Japan\"],[\"Japan\"],[\"Japan\"],[\"Japan\"],[\"Jordan\"],[\"Kazakhstan\"],[\"Kazakhstan\"],[\"Kazakhstan\"],[\"Kenya\"],[\"Kenya\"],[\"Kuwait\"],[\"Kuwait\"],[\"Kuwait\"],[\"Kuwait\"],[\"Lao People's Dem. Rep.\"],[\"Latvia\"],[\"Latvia\"],[\"Latvia\"],[\"Latvia\"],[\"Lesotho\"],[\"Lesotho\"],[\"Lesotho\"],[\"Lithuania\"],[\"Lithuania\"],[\"Lithuania\"],[\"Lithuania\"],[\"Luxembourg\"],[\"Luxembourg\"],[\"Luxembourg\"],[\"Luxembourg\"],[\"Madagascar\"],[\"Madagascar\"],[\"Madagascar\"],[\"Madagascar\"],[\"Malaysia\"],[\"Malaysia\"],[\"Malaysia\"],[\"Malaysia\"],[\"Mali\"],[\"Mali\"],[\"Mali\"],[\"Malta\"],[\"Malta\"],[\"Malta\"],[\"Malta\"],[\"Mauritius\"],[\"Mauritius\"],[\"Mexico\"],[\"Mexico\"],[\"Mexico\"],[\"Mexico\"],[\"Monaco\"],[\"Mongolia\"],[\"Montenegro\"],[\"Montenegro\"],[\"Morocco\"],[\"Mozambique\"],[\"Mozambique\"],[\"Myanmar\"],[\"Myanmar\"],[\"Namibia\"],[\"Netherlands (Kingdom of the)\"],[\"Netherlands (Kingdom of the)\"],[\"Netherlands (Kingdom of the)\"],[\"Netherlands (Kingdom of the)\"],[\"New Zealand\"],[\"New Zealand\"],[\"New Zealand\"],[\"New Zealand\"],[\"Nigeria\"],[\"Nigeria\"],[\"North Macedonia\"],[\"North Macedonia\"],[\"North Macedonia\"],[\"North Macedonia\"],[\"Norway\"],[\"Norway\"],[\"Norway\"],[\"Norway\"],[\"Oman\"],[\"Oman\"],[\"Pakistan\"],[\"Pakistan\"],[\"Pakistan\"],[\"Pakistan\"],[\"Panama\"],[\"Panama\"],[\"Panama\"],[\"Panama\"],[\"Papua New Guinea\"],[\"Paraguay\"],[\"Paraguay\"],[\"Paraguay\"],[\"Paraguay\"],[\"Philippines\"],[\"Philippines\"],[\"Philippines\"],[\"Philippines\"],[\"Poland\"],[\"Poland\"],[\"Poland\"],[\"Poland\"],[\"Portugal\"],[\"Portugal\"],[\"Portugal\"],[\"Portugal\"],[\"Puerto Rico\"],[\"Qatar\"],[\"Qatar\"],[\"Republic of Korea\"],[\"Republic of Korea\"],[\"Republic of Korea\"],[\"Republic of Korea\"],[\"Republic of Moldova\"],[\"Republic of Moldova\"],[\"Republic of Moldova\"],[\"Republic of Moldova\"],[\"Romania\"],[\"Romania\"],[\"Romania\"],[\"Romania\"],[\"Russian Federation\"],[\"Russian Federation\"],[\"Russian Federation\"],[\"Russian Federation\"],[\"Rwanda\"],[\"Saudi Arabia\"],[\"Senegal\"],[\"Senegal\"],[\"Serbia\"],[\"Serbia\"],[\"Serbia\"],[\"Seychelles\"],[\"Singapore\"],[\"Singapore\"],[\"Singapore\"],[\"Singapore\"],[\"Slovakia\"],[\"Slovakia\"],[\"Slovakia\"],[\"Slovakia\"],[\"Slovenia\"],[\"Slovenia\"],[\"Slovenia\"],[\"Slovenia\"],[\"Spain\"],[\"Spain\"],[\"Spain\"],[\"Spain\"],[\"Sri Lanka\"],[\"Sri Lanka\"],[\"Sri Lanka\"],[\"Sri Lanka\"],[\"State of Palestine\"],[\"State of Palestine\"],[\"Sweden\"],[\"Sweden\"],[\"Sweden\"],[\"Sweden\"],[\"Switzerland\"],[\"Switzerland\"],[\"Switzerland\"],[\"Switzerland\"],[\"Syrian Arab Republic\"],[\"Thailand\"],[\"Thailand\"],[\"Thailand\"],[\"Thailand\"],[\"Togo\"],[\"Togo\"],[\"Trinidad and Tobago\"],[\"Tunisia\"],[\"Tunisia\"],[\"Tunisia\"],[\"T\\u00fcrkiye\"],[\"T\\u00fcrkiye\"],[\"T\\u00fcrkiye\"],[\"T\\u00fcrkiye\"],[\"Uganda\"],[\"Uganda\"],[\"Ukraine\"],[\"Ukraine\"],[\"Ukraine\"],[\"United Arab Emirates\"],[\"United Arab Emirates\"],[\"United Kingdom\"],[\"United Kingdom\"],[\"United Kingdom\"],[\"United Kingdom\"],[\"United Rep. of Tanzania\"],[\"United Rep. of Tanzania\"],[\"Uruguay\"],[\"Uruguay\"],[\"Uruguay\"],[\"Uruguay\"],[\"Uzbekistan\"],[\"Uzbekistan\"],[\"Uzbekistan\"],[\"Uzbekistan\"],[\"Venezuela (Boliv. Rep. of)\"],[\"Venezuela (Boliv. Rep. of)\"],[\"Venezuela (Boliv. Rep. of)\"],[\"Venezuela (Boliv. Rep. of)\"],[\"Viet Nam\"],[\"Viet Nam\"],[\"Viet Nam\"],[\"Zambia\"],[\"LLDCs\"],[\"LLDCs\"],[\"LLDCs\"],[\"LLDCs\"],[\"LDC\\u00a7\"],[\"LDC\\u00a7\"],[\"LDC\\u00a7\"],[\"LDC\\u00a7\"],[\"SIDS\"],[\"SIDS\"],[\"SIDS\"],[\"SIDS\"]],\"hovertemplate\":\"Investimento em P&D (% do PIB)=%{marker.size}\\u003cbr\\u003ePesquisadores por milh\\u00e3o de habitantes=%{y}\\u003cbr\\u003eRegion_Country=%{customdata[0]}\\u003cbr\\u003eAno=%{marker.color}\\u003cextra\\u003e\\u003c\\u002fextra\\u003e\",\"legendgroup\":\"\",\"marker\":{\"color\":[2005,2010,2015,2021,2005,2010,2015,2021,2008,2005,2017,2016,2005,2010,2015,2021,2022,2004,2010,2005,2010,2015,2021,2022,2014,2022,2005,2010,2015,2021,2002,2009,2005,2007,2015,2022,2013,2005,2010,2014,2004,2005,2010,2015,2021,2012,2018,2011,2002,2015,2005,2010,2015,2020,2016,2010,2015,2020,2005,2010,2015,2021,2005,2010,2015,2022,2005,2010,2015,2022,2015,2017,2022,2004,2010,2015,2021,2005,2010,2015,2021,2005,2010,2015,2021,2005,2010,2015,2021,2015,2005,2010,2015,2021,2003,2010,2014,2010,2015,2022,2015,2021,2005,2010,2015,2021,2015,2005,2010,2013,2017,2003,2005,2010,2015,2021,2005,2010,2015,2021,2009,2011,2018,2015,2022,2005,2010,2015,2021,2010,2005,2007,2015,2021,2004,2005,2005,2010,2015,2021,2015,2019,2005,2010,2015,2021,2005,2009,2015,2021,2005,2010,2015,2020,2001,2009,2020,2010,2015,2019,2010,2015,2021,2005,2010,2015,2021,2005,2010,2015,2021,2005,2010,2015,2021,2016,2010,2015,2022,2010,2022,2005,2010,2015,2022,2002,2005,2010,2015,2021,2004,2009,2015,2005,2010,2015,2021,2005,2010,2015,2021,2005,2010,2011,2017,2004,2010,2015,2020,2010,2015,2021,2005,2010,2015,2021,2012,2022,2005,2010,2015,2021,2005,2022,2015,2019,2010,2010,2015,2002,2021,2014,2005,2010,2015,2021,2005,2009,2015,2021,2007,2019,2005,2010,2015,2022,2005,2010,2015,2021,2015,2022,2005,2009,2015,2021,2005,2009,2015,2022,2016,2005,2008,2015,2021,2005,2009,2015,2018,2005,2010,2015,2021,2005,2010,2015,2022,2015,2015,2021,2005,2010,2015,2021,2005,2010,2015,2022,2005,2010,2015,2021,2005,2010,2015,2022,2019,2022,2010,2015,2010,2015,2022,2005,2005,2010,2015,2020,2005,2010,2015,2021,2005,2010,2015,2021,2005,2010,2015,2021,2004,2010,2015,2020,2010,2013,2005,2010,2015,2021,2004,2008,2015,2021,2015,2005,2009,2015,2021,2010,2014,2021,2010,2015,2019,2005,2010,2015,2021,2010,2014,2010,2015,2022,2015,2021,2005,2010,2015,2017,2010,2013,2002,2010,2015,2021,2005,2010,2015,2022,2005,2010,2015,2016,2002,2015,2021,2008,2005,2010,2015,2021,2005,2010,2015,2021,2005,2010,2015,2021],\"coloraxis\":\"coloraxis\",\"size\":[1.8,2.2,1.8,1.7,1.9,2.2,1.8,1.8,0.2,0.1,0.5,0.0,0.4,0.6,0.6,0.5,0.2,1.8,2.4,2.4,2.7,3.0,3.3,0.2,0.1,0.5,1.8,2.1,2.4,3.4,0.3,0.2,0.0,0.0,0.2,0.2,0.6,1.0,1.2,1.3,0.0,0.4,0.6,0.9,0.8,0.1,0.2,0.1,0.0,0.1,2.0,1.8,1.7,1.9,0.3,0.3,0.4,0.3,1.3,1.7,2.1,2.4,0.8,0.7,0.8,1.1,0.1,0.1,0.1,0.5,0.4,0.3,0.4,0.4,0.5,0.4,0.3,0.8,0.7,0.8,1.2,0.4,0.4,0.5,0.8,1.2,1.3,1.9,2.0,0.4,2.4,2.9,3.1,2.8,0.1,0.4,0.4,0.4,0.7,1.0,0.1,0.2,0.9,1.6,1.5,1.8,0.3,0.2,0.2,0.6,0.3,0.9,3.3,3.7,2.9,3.0,2.1,2.2,2.2,2.2,0.0,0.1,0.1,0.3,0.2,2.4,2.7,2.9,3.1,0.4,0.6,0.6,1.0,1.5,0.6,0.3,0.0,0.0,0.0,0.1,0.0,0.1,0.9,1.1,1.3,1.6,2.7,2.6,2.2,2.8,0.8,0.8,0.7,0.6,0.0,0.1,0.3,0.3,0.4,0.8,0.0,0.0,0.0,1.2,1.6,1.2,1.1,1.0,1.2,1.3,1.5,3.1,3.1,3.2,3.3,0.7,0.2,0.2,0.1,0.7,0.4,0.1,0.1,0.1,0.1,0.0,0.5,0.6,0.6,0.7,0.1,0.0,0.1,0.7,0.8,1.0,1.1,1.6,1.4,1.3,1.0,0.2,0.1,0.1,0.0,0.6,1.0,1.3,1.0,0.6,0.3,0.2,0.5,0.6,0.7,0.7,0.2,0.3,0.4,0.5,0.4,0.3,0.0,0.1,0.4,0.4,0.7,0.4,0.3,0.2,0.1,0.3,1.8,1.7,2.1,2.3,1.1,1.3,1.2,1.5,0.1,0.3,0.2,0.2,0.4,0.4,1.5,1.6,1.9,1.9,0.2,0.3,0.4,0.4,0.2,0.2,0.2,0.1,0.1,0.2,0.0,0.1,0.0,0.1,0.1,0.1,0.1,0.2,0.3,0.6,0.7,1.0,1.4,0.8,1.5,1.2,1.7,0.4,0.5,0.7,2.5,3.3,4.0,4.9,0.4,0.4,0.3,0.2,0.4,0.4,0.5,0.5,1.1,1.1,1.1,0.9,0.8,0.5,0.4,0.6,0.7,0.8,1.0,0.3,2.1,1.9,2.2,2.2,0.5,0.6,1.2,0.9,1.4,2.1,2.2,2.1,1.1,1.4,1.2,1.4,0.2,0.1,0.1,0.1,0.4,0.5,3.4,3.2,3.2,3.4,2.6,2.7,3.1,3.4,0.0,0.2,0.2,0.6,1.2,0.2,0.2,0.1,0.7,0.6,0.7,0.6,0.8,0.9,1.4,0.4,0.1,0.8,0.6,0.3,0.9,1.5,1.5,1.6,2.3,2.3,0.4,0.5,0.2,0.3,0.4,0.4,0.2,0.2,0.2,0.2,0.2,0.2,0.4,0.7,0.2,0.4,0.4,0.3,0.2,0.2,0.2,0.2,0.2,0.2,0.3,0.3,1.0,1.0,1.0,0.7],\"sizemode\":\"area\",\"sizeref\":0.01225,\"symbol\":\"circle\"},\"mode\":\"markers\",\"name\":\"\",\"orientation\":\"v\",\"showlegend\":false,\"x\":[1.8,2.2,1.8,1.7,1.9,2.2,1.8,1.8,0.2,0.1,0.5,0.0,0.4,0.6,0.6,0.5,0.2,1.8,2.4,2.4,2.7,3.0,3.3,0.2,0.1,0.5,1.8,2.1,2.4,3.4,0.3,0.2,0.0,0.0,0.2,0.2,0.6,1.0,1.2,1.3,0.0,0.4,0.6,0.9,0.8,0.1,0.2,0.1,0.0,0.1,2.0,1.8,1.7,1.9,0.3,0.3,0.4,0.3,1.3,1.7,2.1,2.4,0.8,0.7,0.8,1.1,0.1,0.1,0.1,0.5,0.4,0.3,0.4,0.4,0.5,0.4,0.3,0.8,0.7,0.8,1.2,0.4,0.4,0.5,0.8,1.2,1.3,1.9,2.0,0.4,2.4,2.9,3.1,2.8,0.1,0.4,0.4,0.4,0.7,1.0,0.1,0.2,0.9,1.6,1.5,1.8,0.3,0.2,0.2,0.6,0.3,0.9,3.3,3.7,2.9,3.0,2.1,2.2,2.2,2.2,0.0,0.1,0.1,0.3,0.2,2.4,2.7,2.9,3.1,0.4,0.6,0.6,1.0,1.5,0.6,0.3,0.0,0.0,0.0,0.1,0.0,0.1,0.9,1.1,1.3,1.6,2.7,2.6,2.2,2.8,0.8,0.8,0.7,0.6,0.0,0.1,0.3,0.3,0.4,0.8,0.0,0.0,0.0,1.2,1.6,1.2,1.1,1.0,1.2,1.3,1.5,3.1,3.1,3.2,3.3,0.7,0.2,0.2,0.1,0.7,0.4,0.1,0.1,0.1,0.1,0.0,0.5,0.6,0.6,0.7,0.1,0.0,0.1,0.7,0.8,1.0,1.1,1.6,1.4,1.3,1.0,0.2,0.1,0.1,0.0,0.6,1.0,1.3,1.0,0.6,0.3,0.2,0.5,0.6,0.7,0.7,0.2,0.3,0.4,0.5,0.4,0.3,0.0,0.1,0.4,0.4,0.7,0.4,0.3,0.2,0.1,0.3,1.8,1.7,2.1,2.3,1.1,1.3,1.2,1.5,0.1,0.3,0.2,0.2,0.4,0.4,1.5,1.6,1.9,1.9,0.2,0.3,0.4,0.4,0.2,0.2,0.2,0.1,0.1,0.2,0.0,0.1,0.0,0.1,0.1,0.1,0.1,0.2,0.3,0.6,0.7,1.0,1.4,0.8,1.5,1.2,1.7,0.4,0.5,0.7,2.5,3.3,4.0,4.9,0.4,0.4,0.3,0.2,0.4,0.4,0.5,0.5,1.1,1.1,1.1,0.9,0.8,0.5,0.4,0.6,0.7,0.8,1.0,0.3,2.1,1.9,2.2,2.2,0.5,0.6,1.2,0.9,1.4,2.1,2.2,2.1,1.1,1.4,1.2,1.4,0.2,0.1,0.1,0.1,0.4,0.5,3.4,3.2,3.2,3.4,2.6,2.7,3.1,3.4,0.0,0.2,0.2,0.6,1.2,0.2,0.2,0.1,0.7,0.6,0.7,0.6,0.8,0.9,1.4,0.4,0.1,0.8,0.6,0.3,0.9,1.5,1.5,1.6,2.3,2.3,0.4,0.5,0.2,0.3,0.4,0.4,0.2,0.2,0.2,0.2,0.2,0.2,0.4,0.7,0.2,0.4,0.4,0.3,0.2,0.2,0.2,0.2,0.2,0.2,0.3,0.3,1.0,1.0,1.0,0.7],\"xaxis\":\"x\",\"y\":[2942.0,3215.6,3546.9,3324.5,4020.5,4454.2,4976.4,4695.9,157.6,170.8,832.4,19.0,819.9,1123.9,1231.5,1283.8,1219.9,4098.5,4594.1,3471.6,4380.4,5074.4,6341.7,1690.7,384.0,1381.8,3161.1,3767.2,4741.9,6581.9,117.9,142.7,61.5,184.5,353.1,535.0,173.9,510.0,687.1,888.5,285.2,1282.2,1441.7,1939.1,2339.3,20.1,23.2,47.7,17.9,30.8,4263.8,4696.4,4582.4,5076.2,58.8,321.5,459.8,518.7,860.0,901.1,1164.9,1687.1,2601.5,3049.5,3472.3,4809.0,617.2,635.8,1261.1,3544.5,70.5,89.9,128.2,108.7,380.6,493.0,399.4,1291.0,1623.3,1490.8,2330.9,930.3,1104.8,1010.6,1743.3,2353.4,2798.9,3619.3,4568.6,10.4,5193.6,6759.6,7561.0,7707.7,48.9,142.0,402.3,472.0,643.5,841.4,64.3,64.7,2451.6,3057.6,3188.3,4038.2,139.1,21.1,42.1,44.6,90.2,1826.1,7558.7,7741.0,6856.3,7870.7,3357.6,3910.7,4386.2,5175.0,96.8,29.8,50.0,1366.2,1823.0,3350.0,4035.2,4733.4,5536.0,37.2,1762.6,1893.0,3202.9,4326.3,702.4,292.2,29.9,25.2,22.7,14.5,22.1,187.4,1574.5,2134.0,2568.3,4452.2,7332.9,7836.4,5903.9,6940.4,135.1,156.5,215.2,260.4,198.2,89.2,399.6,732.5,800.9,1597.3,417.6,62.8,162.5,2844.9,3140.2,5282.9,5250.7,1420.3,1732.5,2087.6,2677.8,5327.7,5120.0,5198.1,5638.4,575.3,364.8,770.8,681.5,227.2,169.3,176.2,141.9,404.7,182.0,15.6,1459.9,1842.8,1805.3,2404.5,10.0,22.9,23.6,2247.0,2721.6,2741.4,3935.1,4831.5,5203.4,4637.8,4940.6,47.5,51.3,50.2,30.3,506.1,1448.1,2265.2,726.5,29.0,30.2,29.3,1169.4,1408.4,1817.2,2160.7,177.0,569.0,419.5,344.5,286.9,384.1,310.6,533.6,825.0,743.4,721.9,40.1,44.0,18.1,19.0,152.8,2948.5,3239.9,4911.1,6074.3,3161.1,3761.7,5492.0,5102.3,38.8,22.8,535.7,526.8,847.2,642.4,4602.0,5444.0,5929.2,7227.9,222.0,381.8,73.5,146.8,265.2,415.3,105.1,111.7,90.8,142.0,33.4,77.0,83.0,199.2,142.4,80.7,81.5,105.7,172.0,1611.0,1672.1,2141.2,3534.5,2009.4,3918.5,3724.8,5743.0,333.8,647.3,982.5,3760.7,5424.9,7018.4,9081.9,717.4,760.2,946.5,768.0,1083.5,969.5,874.7,985.5,3224.4,3086.5,3109.8,2697.9,58.5,834.8,378.6,581.0,1503.4,2060.1,2349.7,152.5,5543.8,6284.9,6977.7,7224.7,2031.5,2815.0,2656.8,3211.0,2625.6,3755.2,3805.1,5223.0,2532.2,2896.5,2636.8,3251.7,138.1,104.0,104.1,104.6,332.6,588.8,6092.7,5279.9,6810.8,8130.8,3453.1,3315.1,5310.2,6022.7,84.0,312.7,325.6,847.1,1699.1,34.0,37.7,525.5,1358.9,1751.0,1701.6,573.5,885.0,1205.1,1999.5,39.6,28.7,1328.4,1006.0,580.8,2066.5,2666.0,4130.6,4105.4,4397.2,4491.3,36.0,19.2,375.9,631.4,680.0,838.5,633.4,547.3,501.2,547.5,122.8,203.5,246.6,292.0,116.3,685.7,779.3,42.5,145.5,137.9,162.5,169.3,47.1,57.0,65.4,72.5,606.3,715.3,801.7,896.9],\"yaxis\":\"y\",\"type\":\"scatter\"},{\"line\":{\"color\":\"red\",\"dash\":\"dash\",\"width\":2},\"mode\":\"lines\",\"name\":\"Tend\\u00eancia (R\\u00b2 = 0.813)\",\"x\":[0.0,0.0494949494949495,0.098989898989899,0.1484848484848485,0.197979797979798,0.24747474747474751,0.296969696969697,0.34646464646464653,0.395959595959596,0.4454545454545455,0.49494949494949503,0.5444444444444445,0.593939393939394,0.6434343434343435,0.6929292929292931,0.7424242424242425,0.791919191919192,0.8414141414141415,0.890909090909091,0.9404040404040406,0.9898989898989901,1.0393939393939395,1.088888888888889,1.1383838383838385,1.187878787878788,1.2373737373737375,1.286868686868687,1.3363636363636366,1.3858585858585861,1.4353535353535356,1.484848484848485,1.5343434343434346,1.583838383838384,1.6333333333333335,1.682828282828283,1.7323232323232325,1.781818181818182,1.8313131313131314,1.8808080808080812,1.9303030303030306,1.9797979797979801,2.0292929292929296,2.078787878787879,2.1282828282828286,2.177777777777778,2.2272727272727275,2.276767676767677,2.3262626262626265,2.375757575757576,2.4252525252525254,2.474747474747475,2.5242424242424244,2.573737373737374,2.6232323232323234,2.6727272727272733,2.7222222222222228,2.7717171717171722,2.8212121212121217,2.870707070707071,2.9202020202020207,2.96969696969697,3.0191919191919196,3.068686868686869,3.1181818181818186,3.167676767676768,3.2171717171717176,3.266666666666667,3.3161616161616165,3.365656565656566,3.4151515151515155,3.464646464646465,3.5141414141414145,3.563636363636364,3.6131313131313134,3.662626262626263,3.712121212121213,3.7616161616161623,3.811111111111112,3.8606060606060613,3.9101010101010107,3.9595959595959602,4.00909090909091,4.058585858585859,4.108080808080809,4.157575757575758,4.207070707070708,4.256565656565657,4.306060606060607,4.355555555555556,4.4050505050505055,4.454545454545455,4.5040404040404045,4.553535353535354,4.6030303030303035,4.652525252525253,4.702020202020202,4.751515151515152,4.801010101010101,4.850505050505051,4.9],\"y\":[-17.76163261907459,84.35262816632401,186.4668889517226,288.5811497371212,390.6954105225198,492.80967130791845,594.923932093317,697.0381928787157,799.1524536641142,901.2667144495128,1003.3809752349115,1105.4952360203101,1207.6094968057087,1309.7237575911072,1411.838018376506,1513.9522791619045,1616.066539947303,1718.1808007327018,1820.2950615181003,1922.409322303499,2024.5235830888976,2126.6378438742963,2228.752104659695,2330.8663654450934,2432.980626230492,2535.0948870158904,2637.209147801289,2739.323408586688,2841.4376693720865,2943.551930157485,3045.6661909428835,3147.780451728282,3249.8947125136806,3352.008973299079,3454.123234084478,3556.2374948698766,3658.351755655275,3760.4660164406737,3862.5802772260727,3964.694538011471,4066.8087987968697,4168.923059582268,4271.037320367667,4373.151581153065,4475.265841938464,4577.380102723862,4679.494363509261,4781.608624294659,4883.722885080058,4985.8371458654565,5087.9514066508555,5190.0656674362535,5292.1799282216525,5394.294189007051,5496.4084497924505,5598.5227105778495,5700.6369713632475,5802.7512321486465,5904.865492934045,6006.979753719444,6109.094014504842,6211.208275290241,6313.322536075639,6415.436796861038,6517.551057646436,6619.665318431835,6721.779579217233,6823.893840002632,6926.008100788031,7028.122361573429,7130.236622358828,7232.350883144226,7334.465143929625,7436.579404715023,7538.693665500422,7640.807926285821,7742.92218707122,7845.036447856618,7947.150708642017,8049.264969427415,8151.379230212814,8253.493490998213,8355.607751783611,8457.72201256901,8559.836273354409,8661.950534139807,8764.064794925205,8866.179055710603,8968.293316496003,9070.407577281401,9172.5218380668,9274.636098852197,9376.750359637597,9478.864620422995,9580.978881208393,9683.093141993793,9785.207402779191,9887.32166356459,9989.435924349988,10091.550185135387],\"type\":\"scatter\"}],                        {\"template\":{\"data\":{\"barpolar\":[{\"marker\":{\"line\":{\"color\":\"white\",\"width\":0.5},\"pattern\":{\"fillmode\":\"overlay\",\"size\":10,\"solidity\":0.2}},\"type\":\"barpolar\"}],\"bar\":[{\"error_x\":{\"color\":\"#2a3f5f\"},\"error_y\":{\"color\":\"#2a3f5f\"},\"marker\":{\"line\":{\"color\":\"white\",\"width\":0.5},\"pattern\":{\"fillmode\":\"overlay\",\"size\":10,\"solidity\":0.2}},\"type\":\"bar\"}],\"carpet\":[{\"aaxis\":{\"endlinecolor\":\"#2a3f5f\",\"gridcolor\":\"#C8D4E3\",\"linecolor\":\"#C8D4E3\",\"minorgridcolor\":\"#C8D4E3\",\"startlinecolor\":\"#2a3f5f\"},\"baxis\":{\"endlinecolor\":\"#2a3f5f\",\"gridcolor\":\"#C8D4E3\",\"linecolor\":\"#C8D4E3\",\"minorgridcolor\":\"#C8D4E3\",\"startlinecolor\":\"#2a3f5f\"},\"type\":\"carpet\"}],\"choropleth\":[{\"colorbar\":{\"outlinewidth\":0,\"ticks\":\"\"},\"type\":\"choropleth\"}],\"contourcarpet\":[{\"colorbar\":{\"outlinewidth\":0,\"ticks\":\"\"},\"type\":\"contourcarpet\"}],\"contour\":[{\"colorbar\":{\"outlinewidth\":0,\"ticks\":\"\"},\"colorscale\":[[0.0,\"#0d0887\"],[0.1111111111111111,\"#46039f\"],[0.2222222222222222,\"#7201a8\"],[0.3333333333333333,\"#9c179e\"],[0.4444444444444444,\"#bd3786\"],[0.5555555555555556,\"#d8576b\"],[0.6666666666666666,\"#ed7953\"],[0.7777777777777778,\"#fb9f3a\"],[0.8888888888888888,\"#fdca26\"],[1.0,\"#f0f921\"]],\"type\":\"contour\"}],\"heatmapgl\":[{\"colorbar\":{\"outlinewidth\":0,\"ticks\":\"\"},\"colorscale\":[[0.0,\"#0d0887\"],[0.1111111111111111,\"#46039f\"],[0.2222222222222222,\"#7201a8\"],[0.3333333333333333,\"#9c179e\"],[0.4444444444444444,\"#bd3786\"],[0.5555555555555556,\"#d8576b\"],[0.6666666666666666,\"#ed7953\"],[0.7777777777777778,\"#fb9f3a\"],[0.8888888888888888,\"#fdca26\"],[1.0,\"#f0f921\"]],\"type\":\"heatmapgl\"}],\"heatmap\":[{\"colorbar\":{\"outlinewidth\":0,\"ticks\":\"\"},\"colorscale\":[[0.0,\"#0d0887\"],[0.1111111111111111,\"#46039f\"],[0.2222222222222222,\"#7201a8\"],[0.3333333333333333,\"#9c179e\"],[0.4444444444444444,\"#bd3786\"],[0.5555555555555556,\"#d8576b\"],[0.6666666666666666,\"#ed7953\"],[0.7777777777777778,\"#fb9f3a\"],[0.8888888888888888,\"#fdca26\"],[1.0,\"#f0f921\"]],\"type\":\"heatmap\"}],\"histogram2dcontour\":[{\"colorbar\":{\"outlinewidth\":0,\"ticks\":\"\"},\"colorscale\":[[0.0,\"#0d0887\"],[0.1111111111111111,\"#46039f\"],[0.2222222222222222,\"#7201a8\"],[0.3333333333333333,\"#9c179e\"],[0.4444444444444444,\"#bd3786\"],[0.5555555555555556,\"#d8576b\"],[0.6666666666666666,\"#ed7953\"],[0.7777777777777778,\"#fb9f3a\"],[0.8888888888888888,\"#fdca26\"],[1.0,\"#f0f921\"]],\"type\":\"histogram2dcontour\"}],\"histogram2d\":[{\"colorbar\":{\"outlinewidth\":0,\"ticks\":\"\"},\"colorscale\":[[0.0,\"#0d0887\"],[0.1111111111111111,\"#46039f\"],[0.2222222222222222,\"#7201a8\"],[0.3333333333333333,\"#9c179e\"],[0.4444444444444444,\"#bd3786\"],[0.5555555555555556,\"#d8576b\"],[0.6666666666666666,\"#ed7953\"],[0.7777777777777778,\"#fb9f3a\"],[0.8888888888888888,\"#fdca26\"],[1.0,\"#f0f921\"]],\"type\":\"histogram2d\"}],\"histogram\":[{\"marker\":{\"pattern\":{\"fillmode\":\"overlay\",\"size\":10,\"solidity\":0.2}},\"type\":\"histogram\"}],\"mesh3d\":[{\"colorbar\":{\"outlinewidth\":0,\"ticks\":\"\"},\"type\":\"mesh3d\"}],\"parcoords\":[{\"line\":{\"colorbar\":{\"outlinewidth\":0,\"ticks\":\"\"}},\"type\":\"parcoords\"}],\"pie\":[{\"automargin\":true,\"type\":\"pie\"}],\"scatter3d\":[{\"line\":{\"colorbar\":{\"outlinewidth\":0,\"ticks\":\"\"}},\"marker\":{\"colorbar\":{\"outlinewidth\":0,\"ticks\":\"\"}},\"type\":\"scatter3d\"}],\"scattercarpet\":[{\"marker\":{\"colorbar\":{\"outlinewidth\":0,\"ticks\":\"\"}},\"type\":\"scattercarpet\"}],\"scattergeo\":[{\"marker\":{\"colorbar\":{\"outlinewidth\":0,\"ticks\":\"\"}},\"type\":\"scattergeo\"}],\"scattergl\":[{\"marker\":{\"colorbar\":{\"outlinewidth\":0,\"ticks\":\"\"}},\"type\":\"scattergl\"}],\"scattermapbox\":[{\"marker\":{\"colorbar\":{\"outlinewidth\":0,\"ticks\":\"\"}},\"type\":\"scattermapbox\"}],\"scatterpolargl\":[{\"marker\":{\"colorbar\":{\"outlinewidth\":0,\"ticks\":\"\"}},\"type\":\"scatterpolargl\"}],\"scatterpolar\":[{\"marker\":{\"colorbar\":{\"outlinewidth\":0,\"ticks\":\"\"}},\"type\":\"scatterpolar\"}],\"scatter\":[{\"fillpattern\":{\"fillmode\":\"overlay\",\"size\":10,\"solidity\":0.2},\"type\":\"scatter\"}],\"scatterternary\":[{\"marker\":{\"colorbar\":{\"outlinewidth\":0,\"ticks\":\"\"}},\"type\":\"scatterternary\"}],\"surface\":[{\"colorbar\":{\"outlinewidth\":0,\"ticks\":\"\"},\"colorscale\":[[0.0,\"#0d0887\"],[0.1111111111111111,\"#46039f\"],[0.2222222222222222,\"#7201a8\"],[0.3333333333333333,\"#9c179e\"],[0.4444444444444444,\"#bd3786\"],[0.5555555555555556,\"#d8576b\"],[0.6666666666666666,\"#ed7953\"],[0.7777777777777778,\"#fb9f3a\"],[0.8888888888888888,\"#fdca26\"],[1.0,\"#f0f921\"]],\"type\":\"surface\"}],\"table\":[{\"cells\":{\"fill\":{\"color\":\"#EBF0F8\"},\"line\":{\"color\":\"white\"}},\"header\":{\"fill\":{\"color\":\"#C8D4E3\"},\"line\":{\"color\":\"white\"}},\"type\":\"table\"}]},\"layout\":{\"annotationdefaults\":{\"arrowcolor\":\"#2a3f5f\",\"arrowhead\":0,\"arrowwidth\":1},\"autotypenumbers\":\"strict\",\"coloraxis\":{\"colorbar\":{\"outlinewidth\":0,\"ticks\":\"\"}},\"colorscale\":{\"diverging\":[[0,\"#8e0152\"],[0.1,\"#c51b7d\"],[0.2,\"#de77ae\"],[0.3,\"#f1b6da\"],[0.4,\"#fde0ef\"],[0.5,\"#f7f7f7\"],[0.6,\"#e6f5d0\"],[0.7,\"#b8e186\"],[0.8,\"#7fbc41\"],[0.9,\"#4d9221\"],[1,\"#276419\"]],\"sequential\":[[0.0,\"#0d0887\"],[0.1111111111111111,\"#46039f\"],[0.2222222222222222,\"#7201a8\"],[0.3333333333333333,\"#9c179e\"],[0.4444444444444444,\"#bd3786\"],[0.5555555555555556,\"#d8576b\"],[0.6666666666666666,\"#ed7953\"],[0.7777777777777778,\"#fb9f3a\"],[0.8888888888888888,\"#fdca26\"],[1.0,\"#f0f921\"]],\"sequentialminus\":[[0.0,\"#0d0887\"],[0.1111111111111111,\"#46039f\"],[0.2222222222222222,\"#7201a8\"],[0.3333333333333333,\"#9c179e\"],[0.4444444444444444,\"#bd3786\"],[0.5555555555555556,\"#d8576b\"],[0.6666666666666666,\"#ed7953\"],[0.7777777777777778,\"#fb9f3a\"],[0.8888888888888888,\"#fdca26\"],[1.0,\"#f0f921\"]]},\"colorway\":[\"#636efa\",\"#EF553B\",\"#00cc96\",\"#ab63fa\",\"#FFA15A\",\"#19d3f3\",\"#FF6692\",\"#B6E880\",\"#FF97FF\",\"#FECB52\"],\"font\":{\"color\":\"#2a3f5f\"},\"geo\":{\"bgcolor\":\"white\",\"lakecolor\":\"white\",\"landcolor\":\"white\",\"showlakes\":true,\"showland\":true,\"subunitcolor\":\"#C8D4E3\"},\"hoverlabel\":{\"align\":\"left\"},\"hovermode\":\"closest\",\"mapbox\":{\"style\":\"light\"},\"paper_bgcolor\":\"white\",\"plot_bgcolor\":\"white\",\"polar\":{\"angularaxis\":{\"gridcolor\":\"#EBF0F8\",\"linecolor\":\"#EBF0F8\",\"ticks\":\"\"},\"bgcolor\":\"white\",\"radialaxis\":{\"gridcolor\":\"#EBF0F8\",\"linecolor\":\"#EBF0F8\",\"ticks\":\"\"}},\"scene\":{\"xaxis\":{\"backgroundcolor\":\"white\",\"gridcolor\":\"#DFE8F3\",\"gridwidth\":2,\"linecolor\":\"#EBF0F8\",\"showbackground\":true,\"ticks\":\"\",\"zerolinecolor\":\"#EBF0F8\"},\"yaxis\":{\"backgroundcolor\":\"white\",\"gridcolor\":\"#DFE8F3\",\"gridwidth\":2,\"linecolor\":\"#EBF0F8\",\"showbackground\":true,\"ticks\":\"\",\"zerolinecolor\":\"#EBF0F8\"},\"zaxis\":{\"backgroundcolor\":\"white\",\"gridcolor\":\"#DFE8F3\",\"gridwidth\":2,\"linecolor\":\"#EBF0F8\",\"showbackground\":true,\"ticks\":\"\",\"zerolinecolor\":\"#EBF0F8\"}},\"shapedefaults\":{\"line\":{\"color\":\"#2a3f5f\"}},\"ternary\":{\"aaxis\":{\"gridcolor\":\"#DFE8F3\",\"linecolor\":\"#A2B1C6\",\"ticks\":\"\"},\"baxis\":{\"gridcolor\":\"#DFE8F3\",\"linecolor\":\"#A2B1C6\",\"ticks\":\"\"},\"bgcolor\":\"white\",\"caxis\":{\"gridcolor\":\"#DFE8F3\",\"linecolor\":\"#A2B1C6\",\"ticks\":\"\"}},\"title\":{\"x\":0.05},\"xaxis\":{\"automargin\":true,\"gridcolor\":\"#EBF0F8\",\"linecolor\":\"#EBF0F8\",\"ticks\":\"\",\"title\":{\"standoff\":15},\"zerolinecolor\":\"#EBF0F8\",\"zerolinewidth\":2},\"yaxis\":{\"automargin\":true,\"gridcolor\":\"#EBF0F8\",\"linecolor\":\"#EBF0F8\",\"ticks\":\"\",\"title\":{\"standoff\":15},\"zerolinecolor\":\"#EBF0F8\",\"zerolinewidth\":2}}},\"xaxis\":{\"anchor\":\"y\",\"domain\":[0.0,1.0],\"title\":{\"text\":\"Investimento em P&D (% do PIB)\"}},\"yaxis\":{\"anchor\":\"x\",\"domain\":[0.0,1.0],\"title\":{\"text\":\"Pesquisadores por milh\\u00e3o de habitantes\"}},\"coloraxis\":{\"colorbar\":{\"title\":{\"text\":\"Ano\"}},\"colorscale\":[[0.0,\"#440154\"],[0.1111111111111111,\"#482878\"],[0.2222222222222222,\"#3e4989\"],[0.3333333333333333,\"#31688e\"],[0.4444444444444444,\"#26828e\"],[0.5555555555555556,\"#1f9e89\"],[0.6666666666666666,\"#35b779\"],[0.7777777777777778,\"#6ece58\"],[0.8888888888888888,\"#b5de2b\"],[1.0,\"#fde725\"]]},\"legend\":{\"tracegroupgap\":0,\"itemsizing\":\"constant\"},\"title\":{\"text\":\"Correla\\u00e7\\u00e3o entre Investimento em P&D e Densidade de Pesquisadores\",\"font\":{\"size\":16},\"x\":0.5},\"width\":1500,\"height\":900},                        {\"responsive\": true}                    ).then(function(){\n",
       "                            \n",
       "var gd = document.getElementById('8f77bbdd-010d-4c41-842a-1e91a19265b7');\n",
       "var x = new MutationObserver(function (mutations, observer) {{\n",
       "        var display = window.getComputedStyle(gd).display;\n",
       "        if (!display || display === 'none') {{\n",
       "            console.log([gd, 'removed!']);\n",
       "            Plotly.purge(gd);\n",
       "            observer.disconnect();\n",
       "        }}\n",
       "}});\n",
       "\n",
       "// Listen for the removal of the full notebook cells\n",
       "var notebookContainer = gd.closest('#notebook-container');\n",
       "if (notebookContainer) {{\n",
       "    x.observe(notebookContainer, {childList: true});\n",
       "}}\n",
       "\n",
       "// Listen for the clearing of the current output cell\n",
       "var outputEl = gd.closest('.output');\n",
       "if (outputEl) {{\n",
       "    x.observe(outputEl, {childList: true});\n",
       "}}\n",
       "\n",
       "                        })                };                });            </script>        </div>"
      ]
     },
     "metadata": {},
     "output_type": "display_data"
    },
    {
     "name": "stdout",
     "output_type": "stream",
     "text": [
      "Coeficiente de correlação: 0.902\n",
      "R²: 0.813\n",
      "P-valor: 1.811e-143\n"
     ]
    }
   ],
   "source": [
    "# Visualização 2: Scatter Plot - Correlação\n",
    "# Relação entre investimento em P&D e densidade de pesquisadores\n",
    "\n",
    "df_countries = df_combined[~df_combined['Region_Country'].str.contains(\n",
    "    'Total|Africa|Asia|Europe|America|Developed|Developing|World', na=False, case=False\n",
    ")].copy()\n",
    "\n",
    "fig2 = px.scatter(\n",
    "    df_countries,\n",
    "    x='GDP_RD_Percentage',\n",
    "    y='Researchers_per_Million',\n",
    "    color='Year',\n",
    "    size='GDP_RD_Percentage',\n",
    "    hover_data=['Region_Country'],\n",
    "    title='Correlação entre Investimento em P&D e Densidade de Pesquisadores',\n",
    "    labels={\n",
    "        'GDP_RD_Percentage': 'Investimento em P&D (% do PIB)',\n",
    "        'Researchers_per_Million': 'Pesquisadores por milhão de habitantes',\n",
    "        'Year': 'Ano'\n",
    "    },\n",
    "    color_continuous_scale='viridis'\n",
    ")\n",
    "\n",
    "from scipy import stats\n",
    "slope, intercept, r_value, p_value, std_err = stats.linregress(\n",
    "    df_countries['GDP_RD_Percentage'], df_countries['Researchers_per_Million']\n",
    ")\n",
    "\n",
    "x_trend = np.linspace(df_countries['GDP_RD_Percentage'].min(), \n",
    "                      df_countries['GDP_RD_Percentage'].max(), 100)\n",
    "y_trend = slope * x_trend + intercept\n",
    "\n",
    "fig2.add_trace(\n",
    "    go.Scatter(\n",
    "        x=x_trend,\n",
    "        y=y_trend,\n",
    "        mode='lines',\n",
    "        name=f'Tendência (R² = {r_value**2:.3f})',\n",
    "        line=dict(color='red', dash='dash', width=2)\n",
    "    )\n",
    ")\n",
    "\n",
    "fig2.update_layout(\n",
    "    width=1500,\n",
    "    height=900,\n",
    "    template='plotly_white',\n",
    "    title={'x': 0.5, 'font': {'size': 16}}\n",
    ")\n",
    "\n",
    "fig2.show()\n",
    "\n",
    "# Salvar como HTML\n",
    "fig2.write_html('./grafico2_correlacao.html')\n",
    "\n",
    "print(f\"Coeficiente de correlação: {r_value:.3f}\")\n",
    "print(f\"R²: {r_value**2:.3f}\")\n",
    "print(f\"P-valor: {p_value:.3e}\")"
   ]
  },
  {
   "cell_type": "markdown",
   "metadata": {},
   "source": [
    "#### Distribuições - Histogramas e Box Plots"
   ]
  },
  {
   "cell_type": "code",
   "execution_count": 76,
   "metadata": {},
   "outputs": [
    {
     "data": {
      "application/vnd.plotly.v1+json": {
       "config": {
        "plotlyServerURL": "https://plot.ly"
       },
       "data": [
        {
         "marker": {
          "color": "lightblue"
         },
         "name": "Investimento P&D",
         "nbinsx": 30,
         "opacity": 0.7,
         "type": "histogram",
         "x": [
          1.5,
          1.6,
          1.7,
          1.9,
          0.3,
          0.4,
          0.6,
          0.7,
          0.3,
          0.3,
          0.4,
          0.3,
          2.5,
          2.6,
          2.7,
          3.3,
          0.6,
          0.6,
          0.7,
          0.5,
          0.2,
          0.1,
          0.2,
          0.1,
          2,
          2.2,
          2.4,
          2.7,
          0.7,
          0.7,
          0.6,
          0.5,
          0.6,
          0.7,
          0.9,
          1.1,
          0.7,
          0.7,
          0.6,
          0.6,
          0.7,
          0.7,
          0.8,
          1.1,
          1.7,
          1.8,
          1.9,
          2,
          1.8,
          2.2,
          1.8,
          1.7,
          1.9,
          2.2,
          1.8,
          1.8,
          0.2,
          0.1,
          0.5,
          0.4,
          0.4,
          0,
          0.4,
          0.6,
          0.6,
          0.5,
          0.3,
          0.2,
          0.3,
          0.2,
          1.8,
          2.4,
          1.9,
          1.8,
          2.4,
          2.7,
          3,
          3.3,
          0.2,
          0.2,
          0.2,
          0.2,
          0.1,
          0.7,
          0.7,
          0.5,
          0.5,
          1.8,
          2.1,
          2.4,
          3.4,
          0.2,
          0.2,
          0.2,
          0.3,
          0.2,
          0,
          0,
          0,
          0.2,
          0.2,
          0.5,
          0.6,
          1,
          1.2,
          1.3,
          1.4,
          1.1,
          0,
          0.3,
          0.4,
          0.6,
          0.9,
          0.8,
          0.2,
          0.2,
          0.2,
          0.3,
          0.1,
          0.1,
          0.2,
          0.1,
          0,
          0.1,
          2,
          1.8,
          1.7,
          1.9,
          1.6,
          0.3,
          0.3,
          0.4,
          0.3,
          1.3,
          1.7,
          2.1,
          2.4,
          0.8,
          0.7,
          0.8,
          1.1,
          0.1,
          0.1,
          0.1,
          0.5,
          0.2,
          0.2,
          0.4,
          0.3,
          0.3,
          0.4,
          0.4,
          0.5,
          0.4,
          0.3,
          0.1,
          0.8,
          0.7,
          0.8,
          1.2,
          0.5,
          0.6,
          0.4,
          0.3,
          0.4,
          0.4,
          0.5,
          0.8,
          1.2,
          1.3,
          1.9,
          2,
          0.1,
          0.1,
          0.4,
          2.4,
          2.9,
          3.1,
          2.8,
          0.1,
          0.4,
          0.4,
          0.2,
          0.4,
          0.7,
          1,
          0.1,
          0.1,
          0.2,
          0.9,
          1.6,
          1.5,
          1.8,
          0.3,
          0.2,
          0.2,
          0.6,
          0.3,
          0.9,
          3.3,
          3.7,
          2.9,
          3,
          2.1,
          2.2,
          2.2,
          2.2,
          0.6,
          0,
          0.1,
          0.1,
          0.2,
          0.3,
          0.2,
          2.4,
          2.7,
          2.9,
          3.1,
          0.4,
          0.6,
          0.6,
          0.6,
          1,
          1.5,
          0.6,
          0.3,
          0,
          0,
          0,
          0.1,
          0,
          0,
          0.1,
          0.9,
          1.1,
          1.3,
          1.6,
          2.7,
          2.6,
          2.2,
          2.8,
          0.8,
          0.8,
          0.7,
          0.6,
          0,
          0.1,
          0.1,
          0.3,
          0.6,
          0.3,
          0.4,
          0.8,
          0,
          0,
          0,
          1.2,
          1.6,
          1.2,
          1.1,
          3.9,
          3.9,
          4.2,
          5.6,
          1,
          1.2,
          1.3,
          1.5,
          0.1,
          3.1,
          3.1,
          3.2,
          3.3,
          0.3,
          0.4,
          0.7,
          0.3,
          0.2,
          0.2,
          0.1,
          0.7,
          0.4,
          0.1,
          0.1,
          0.1,
          0.1,
          0.2,
          0.2,
          0.1,
          0.1,
          0,
          0.5,
          0.6,
          0.6,
          0.7,
          0.1,
          0,
          0.1,
          0.7,
          0.8,
          1,
          1.1,
          1.6,
          1.4,
          1.3,
          1,
          0.2,
          0.1,
          0.1,
          0,
          0,
          0.6,
          1,
          1.3,
          1,
          0.6,
          0.3,
          0.2,
          0.5,
          0.6,
          0.7,
          0.7,
          0,
          0.4,
          0.2,
          0.3,
          0.4,
          0.5,
          0.4,
          0.3,
          0.3,
          0,
          0.2,
          0.2,
          0.2,
          0.1,
          0.9,
          1.1,
          0.4,
          0.4,
          0.6,
          0.7,
          0.4,
          0.4,
          0.3,
          0.2,
          0.1,
          0,
          0.1,
          0.3,
          0.3,
          1.8,
          1.7,
          2.1,
          2.3,
          1.1,
          1.3,
          1.2,
          1.5,
          0,
          0.1,
          0.1,
          0.3,
          0.2,
          0.2,
          0.4,
          0.4,
          1.5,
          1.6,
          1.9,
          1.9,
          0.2,
          0.3,
          0.4,
          0.4,
          0.2,
          0.2,
          0.2,
          0.1,
          0.1,
          0.1,
          0.2,
          0,
          0.1,
          0,
          0.1,
          0.1,
          0.2,
          0.1,
          0.2,
          0.1,
          0.1,
          0.2,
          0.3,
          0.6,
          0.7,
          1,
          1.4,
          0.8,
          1.5,
          1.2,
          1.7,
          0.5,
          0.4,
          0.5,
          0.7,
          2.5,
          3.3,
          4,
          4.9,
          0.4,
          0.4,
          0.3,
          0.2,
          0.4,
          0.4,
          0.5,
          0.5,
          1.1,
          1.1,
          1.1,
          0.9,
          0.8,
          0.1,
          0,
          0.9,
          0.8,
          0.5,
          0.4,
          0.6,
          0.4,
          0.7,
          0.8,
          1,
          0.3,
          0.2,
          2.1,
          1.9,
          2.2,
          2.2,
          0.5,
          0.6,
          1.2,
          0.9,
          1.4,
          2.1,
          2.2,
          2.1,
          0.8,
          0.7,
          0.7,
          0.6,
          1.1,
          1.4,
          1.2,
          1.4,
          0.2,
          0.1,
          0.1,
          0.1,
          0.4,
          0.5,
          0.2,
          3.4,
          3.2,
          3.2,
          3.4,
          2.6,
          2.7,
          3.1,
          3.4,
          0,
          0.1,
          0.1,
          0.1,
          0.1,
          0.2,
          0.2,
          0.6,
          1.2,
          0.2,
          0.2,
          0.1,
          0,
          0.1,
          0.1,
          0.7,
          0.7,
          0.6,
          0.7,
          0.6,
          0.8,
          0.9,
          1.4,
          0.2,
          0.4,
          0.1,
          1,
          0.8,
          0.6,
          0.3,
          0.9,
          1.5,
          1.5,
          1.6,
          2.3,
          2.3,
          2.9,
          0.4,
          0.5,
          2.5,
          2.7,
          2.8,
          3.5,
          3.5,
          0,
          0,
          0.2,
          0.5,
          0.3,
          0.4,
          0.4,
          0.2,
          0.2,
          0.2,
          0.2,
          0.2,
          0.2,
          0.4,
          0.7,
          0.2,
          0.4,
          0.4,
          0,
          0.3,
          0.2,
          0.2,
          0.2,
          0.2,
          0.2,
          0.2,
          0.3,
          0.3,
          1,
          1,
          1,
          0.7
         ],
         "xaxis": "x",
         "yaxis": "y"
        },
        {
         "marker": {
          "color": "lightcoral"
         },
         "name": "Pesquisadores",
         "nbinsx": 30,
         "opacity": 0.7,
         "type": "histogram",
         "x": [
          902.4,
          1009.8,
          1143.1,
          1352.5,
          470.8,
          496.4,
          686.2,
          766.8,
          70.8,
          81.1,
          93.7,
          95.7,
          3616.8,
          3661,
          3943.8,
          4513.9,
          359.1,
          433.2,
          529.5,
          625.4,
          459.6,
          393.6,
          501.5,
          471.5,
          1102.1,
          1414.6,
          1696.7,
          2249.9,
          149.8,
          173.6,
          235.4,
          317.1,
          376.2,
          530.8,
          667.9,
          812.1,
          138.4,
          165.6,
          225.5,
          311.2,
          648.9,
          728.3,
          899.5,
          1215.4,
          2734.5,
          2987.7,
          3319.8,
          3816.6,
          2942,
          3215.6,
          3546.9,
          3324.5,
          4020.5,
          4454.2,
          4976.4,
          4695.9,
          157.6,
          170.8,
          832.4,
          104.4,
          48.3,
          19,
          819.9,
          1123.9,
          1231.5,
          1283.8,
          1219.9,
          4098.5,
          4594.1,
          3471.6,
          4380.4,
          5074.4,
          6341.7,
          1690.7,
          384,
          1381.8,
          3161.1,
          3767.2,
          4741.9,
          6581.9,
          117.9,
          142.7,
          162.4,
          62.4,
          61.5,
          184.5,
          353.1,
          535,
          173.9,
          510,
          687.1,
          888.5,
          285.2,
          513.6,
          1282.2,
          1441.7,
          1939.1,
          2339.3,
          46.8,
          20.1,
          23.2,
          127.7,
          47.7,
          117.9,
          17.9,
          30.8,
          4263.8,
          4696.4,
          4582.4,
          5076.2,
          58.8,
          321.5,
          459.8,
          518.7,
          860,
          901.1,
          1164.9,
          1687.1,
          2601.5,
          3049.5,
          3472.3,
          4809,
          617.2,
          635.8,
          1261.1,
          3544.5,
          70.5,
          89.9,
          33.3,
          128.2,
          108.7,
          123,
          380.6,
          493,
          399.4,
          67.7,
          1291,
          1623.3,
          1490.8,
          2330.9,
          930.3,
          1104.8,
          1010.6,
          1743.3,
          2353.4,
          2798.9,
          3619.3,
          4568.6,
          10.4,
          5193.6,
          6759.6,
          7561,
          7707.7,
          48.9,
          142,
          402.3,
          472,
          643.5,
          841.4,
          64.3,
          64.7,
          2451.6,
          3057.6,
          3188.3,
          4038.2,
          139.1,
          21.1,
          42.1,
          44.6,
          90.2,
          1826.1,
          7558.7,
          7741,
          6856.3,
          7870.7,
          3357.6,
          3910.7,
          4386.2,
          5175,
          96.8,
          29.8,
          50,
          1366.2,
          1823,
          3350,
          4035.2,
          4733.4,
          5536,
          37.2,
          87,
          1762.6,
          1893,
          3202.9,
          4326.3,
          702.4,
          292.2,
          29.9,
          25.2,
          22.7,
          14.5,
          22.1,
          187.4,
          1574.5,
          2134,
          2568.3,
          4452.2,
          7332.9,
          7836.4,
          5903.9,
          6940.4,
          135.1,
          156.5,
          215.2,
          260.4,
          198.2,
          89.2,
          399.6,
          732.5,
          800.9,
          1597.3,
          417.6,
          62.8,
          162.5,
          2844.9,
          3140.2,
          5282.9,
          5250.7,
          1420.3,
          1732.5,
          2087.6,
          2677.8,
          5327.7,
          5120,
          5198.1,
          5638.4,
          255.6,
          575.3,
          577.9,
          364.8,
          770.8,
          681.5,
          227.2,
          169.3,
          176.2,
          141.9,
          404.7,
          182,
          15.6,
          1459.9,
          1842.8,
          1805.3,
          2404.5,
          10,
          22.9,
          23.6,
          2247,
          2721.6,
          2741.4,
          3935.1,
          4831.5,
          5203.4,
          4637.8,
          4940.6,
          47.5,
          51.3,
          50.2,
          30.3,
          33.7,
          50.5,
          506.1,
          1448.1,
          2265.2,
          726.5,
          29,
          30.2,
          29.3,
          1169.4,
          1408.4,
          1817.2,
          2160.7,
          177,
          569,
          419.5,
          344.5,
          286.9,
          384.1,
          310.6,
          533.6,
          825,
          743.4,
          721.9,
          1029.3,
          1080.7,
          40.1,
          44,
          18.1,
          19,
          152.8,
          59.6,
          2948.5,
          3239.9,
          4911.1,
          6074.3,
          3161.1,
          3761.7,
          5492,
          5102.3,
          7.4,
          26.8,
          38.8,
          22.8,
          535.7,
          526.8,
          847.2,
          642.4,
          4602,
          5444,
          5929.2,
          7227.9,
          222,
          381.8,
          73.5,
          146.8,
          265.2,
          415.3,
          105.1,
          111.7,
          90.8,
          142,
          33.4,
          77,
          83,
          199.2,
          142.4,
          80.7,
          81.5,
          105.7,
          172,
          1611,
          1672.1,
          2141.2,
          3534.5,
          2009.4,
          3918.5,
          3724.8,
          5743,
          333.8,
          647.3,
          982.5,
          3760.7,
          5424.9,
          7018.4,
          9081.9,
          717.4,
          760.2,
          946.5,
          768,
          1083.5,
          969.5,
          874.7,
          985.5,
          3224.4,
          3086.5,
          3109.8,
          2697.9,
          12.4,
          15.3,
          58.5,
          330,
          834.8,
          378.6,
          581,
          1503.4,
          2060.1,
          2349.7,
          152.5,
          5543.8,
          6284.9,
          6977.7,
          7224.7,
          2031.5,
          2815,
          2656.8,
          3211,
          2625.6,
          3755.2,
          3805.1,
          5223,
          354.7,
          363.7,
          473.7,
          472.7,
          2532.2,
          2896.5,
          2636.8,
          3251.7,
          138.1,
          104,
          104.1,
          104.6,
          332.6,
          588.8,
          6092.7,
          5279.9,
          6810.8,
          8130.8,
          3453.1,
          3315.1,
          5310.2,
          6022.7,
          84,
          142,
          312.7,
          325.6,
          847.1,
          1699.1,
          33,
          34,
          37.7,
          35.9,
          44.4,
          525.5,
          1358.9,
          1751,
          1701.6,
          1672,
          573.5,
          885,
          1205.1,
          1999.5,
          39.6,
          28.7,
          1328.4,
          1006,
          580.8,
          2066.5,
          2666,
          4130.6,
          4105.4,
          4397.2,
          4491.3,
          36,
          19.2,
          3547.9,
          3549.3,
          3874.8,
          4451.8,
          375.9,
          631.4,
          680,
          838.5,
          633.4,
          547.3,
          501.2,
          547.5,
          122.8,
          203.5,
          246.6,
          292,
          352,
          116.3,
          685.7,
          779.3,
          42.5,
          99.4,
          145.5,
          137.9,
          162.5,
          169.3,
          47.1,
          57,
          65.4,
          72.5,
          606.3,
          715.3,
          801.7,
          896.9
         ],
         "xaxis": "x2",
         "yaxis": "y2"
        },
        {
         "boxpoints": "outliers",
         "name": "2001",
         "showlegend": false,
         "type": "box",
         "xaxis": "x3",
         "y": [
          0
         ],
         "yaxis": "y3"
        },
        {
         "boxpoints": "outliers",
         "name": "2002",
         "showlegend": false,
         "type": "box",
         "xaxis": "x3",
         "y": [
          0.3,
          0,
          0.1,
          0.3,
          0,
          0.4,
          0.2,
          0,
          0.1,
          0.2,
          0.2
         ],
         "yaxis": "y3"
        },
        {
         "boxpoints": "outliers",
         "name": "2003",
         "showlegend": false,
         "type": "box",
         "xaxis": "x3",
         "y": [
          0.1,
          0.9,
          0.6
         ],
         "yaxis": "y3"
        },
        {
         "boxpoints": "outliers",
         "name": "2004",
         "showlegend": false,
         "type": "box",
         "xaxis": "x3",
         "y": [
          1.8,
          0,
          0.4,
          0.6,
          0,
          0.1,
          0.6,
          0.2,
          0.2,
          2.6
         ],
         "yaxis": "y3"
        },
        {
         "boxpoints": "outliers",
         "name": "2005",
         "showlegend": false,
         "type": "box",
         "xaxis": "x3",
         "y": [
          1.5,
          0.3,
          0.3,
          2.5,
          0.6,
          0.2,
          2,
          0.7,
          0.6,
          0.7,
          0.7,
          1.7,
          1.8,
          1.9,
          0.1,
          0.4,
          0.4,
          0.3,
          2.4,
          0.2,
          0.7,
          1.8,
          0,
          0.5,
          1,
          0.4,
          0.2,
          2,
          1.3,
          0.8,
          0.1,
          0.2,
          0.8,
          0.5,
          0.4,
          1.2,
          0.1,
          2.4,
          0.2,
          0.9,
          0.2,
          3.3,
          2.1,
          0.2,
          2.4,
          0.6,
          0.3,
          0,
          0.9,
          2.7,
          0.8,
          0.6,
          1.2,
          3.9,
          1,
          3.1,
          0.3,
          0.1,
          0.2,
          0.5,
          0.7,
          1.6,
          0.2,
          0.5,
          0.4,
          0.4,
          0,
          0.2,
          0.9,
          1.8,
          1.1,
          0.2,
          1.5,
          0.4,
          0.2,
          0.1,
          0.1,
          0.6,
          0.8,
          2.5,
          0.4,
          0.4,
          1.1,
          0,
          0.4,
          0.3,
          2.1,
          0.5,
          1.4,
          0.8,
          1.1,
          0.2,
          3.4,
          0.1,
          0.2,
          0.1,
          0.7,
          0.6,
          0.2,
          1,
          1.5,
          2.5,
          0,
          0.5,
          0.2,
          0.2,
          0,
          0.2,
          0.2,
          1
         ],
         "yaxis": "y3"
        },
        {
         "boxpoints": "outliers",
         "name": "2006",
         "showlegend": false,
         "type": "box",
         "xaxis": "x3",
         "y": [
          0.4
         ],
         "yaxis": "y3"
        },
        {
         "boxpoints": "outliers",
         "name": "2007",
         "showlegend": false,
         "type": "box",
         "xaxis": "x3",
         "y": [
          0,
          0.6,
          1.1,
          0.1,
          0
         ],
         "yaxis": "y3"
        },
        {
         "boxpoints": "outliers",
         "name": "2008",
         "showlegend": false,
         "type": "box",
         "xaxis": "x3",
         "y": [
          0.2,
          0.4,
          0,
          2.7,
          0.3
         ],
         "yaxis": "y3"
        },
        {
         "boxpoints": "outliers",
         "name": "2009",
         "showlegend": false,
         "type": "box",
         "xaxis": "x3",
         "y": [
          0.2,
          0,
          0.2,
          0.1,
          0.6,
          0,
          2.6,
          0.1,
          0,
          1.3,
          0.4,
          0.1,
          0.1,
          0.5,
          0.2
         ],
         "yaxis": "y3"
        },
        {
         "boxpoints": "outliers",
         "name": "2010",
         "showlegend": false,
         "type": "box",
         "xaxis": "x3",
         "y": [
          1.6,
          0.4,
          0.3,
          2.6,
          0.6,
          0.1,
          2.2,
          0.7,
          0.7,
          0.7,
          0.7,
          1.8,
          2.2,
          2.2,
          0.6,
          0.2,
          2.4,
          2.7,
          0.2,
          0.7,
          2.1,
          0.2,
          1.2,
          0.6,
          0.1,
          1.8,
          0.3,
          1.7,
          0.7,
          0.1,
          0.2,
          0.5,
          0.7,
          0.6,
          0.4,
          1.3,
          2.9,
          0.4,
          0.4,
          0.1,
          1.6,
          0.2,
          3.7,
          2.2,
          2.7,
          0.4,
          0.6,
          0,
          1.1,
          0.8,
          0.3,
          0,
          1.6,
          3.9,
          1.2,
          3.1,
          0.2,
          0.7,
          0.1,
          0.2,
          0.6,
          0.8,
          1.4,
          0.1,
          1,
          0.6,
          0.6,
          0.5,
          0.2,
          0.7,
          0.4,
          0.1,
          0.3,
          1.7,
          0.2,
          1.6,
          0.1,
          0.7,
          1.5,
          3.3,
          0.4,
          0.4,
          1.1,
          0.9,
          0.4,
          0.7,
          1.9,
          0.6,
          2.1,
          0.7,
          1.4,
          0.1,
          0.4,
          3.2,
          0.1,
          0.2,
          0,
          0.7,
          0.8,
          0.4,
          0.8,
          1.6,
          0.4,
          2.7,
          0.3,
          0.2,
          0.2,
          0.2,
          0.2,
          1
         ],
         "yaxis": "y3"
        },
        {
         "boxpoints": "outliers",
         "name": "2011",
         "showlegend": false,
         "type": "box",
         "xaxis": "x3",
         "y": [
          0.1,
          0.1,
          0.1
         ],
         "yaxis": "y3"
        },
        {
         "boxpoints": "outliers",
         "name": "2012",
         "showlegend": false,
         "type": "box",
         "xaxis": "x3",
         "y": [
          0.1,
          0.2
         ],
         "yaxis": "y3"
        },
        {
         "boxpoints": "outliers",
         "name": "2013",
         "showlegend": false,
         "type": "box",
         "xaxis": "x3",
         "y": [
          0.6,
          0.6,
          0.1,
          0.8,
          0.5,
          0.5
         ],
         "yaxis": "y3"
        },
        {
         "boxpoints": "outliers",
         "name": "2014",
         "showlegend": false,
         "type": "box",
         "xaxis": "x3",
         "y": [
          0.1,
          1.3,
          0.2,
          0.4,
          0,
          0.3,
          0.2,
          0.1
         ],
         "yaxis": "y3"
        },
        {
         "boxpoints": "outliers",
         "name": "2015",
         "showlegend": false,
         "type": "box",
         "xaxis": "x3",
         "y": [
          1.7,
          0.6,
          0.4,
          2.7,
          0.7,
          0.2,
          2.4,
          0.6,
          0.9,
          0.6,
          0.8,
          1.9,
          1.8,
          1.8,
          0.6,
          0.3,
          1.9,
          3,
          0.2,
          0.5,
          2.4,
          0.2,
          0.2,
          1.4,
          0.9,
          0.1,
          1.7,
          0.4,
          2.1,
          0.8,
          0.1,
          0.4,
          0.4,
          0.8,
          0.4,
          0.5,
          1.9,
          0.4,
          3.1,
          0.7,
          0.1,
          1.5,
          0.3,
          2.9,
          2.2,
          0.3,
          2.9,
          1,
          0,
          0,
          1.3,
          2.2,
          0.7,
          0.4,
          0,
          1.2,
          4.2,
          1.3,
          3.2,
          0.2,
          0.1,
          0.1,
          0.6,
          0.1,
          1,
          1.3,
          1.3,
          0.3,
          0.7,
          0.4,
          0.2,
          0.4,
          0.3,
          2.1,
          1.2,
          0.1,
          0.4,
          1.9,
          0.2,
          0.2,
          0.1,
          0.1,
          0.1,
          0.2,
          1,
          1.2,
          0.4,
          0.5,
          4,
          0.3,
          0.5,
          1.1,
          0.6,
          0.8,
          2.2,
          1.2,
          2.2,
          0.7,
          1.2,
          0.1,
          3.2,
          3.1,
          0,
          0.1,
          0.6,
          0.1,
          0.6,
          0.9,
          0.6,
          0.9,
          2.3,
          2.8,
          0.4,
          0.2,
          0.4,
          0.4,
          0.2,
          0.3,
          1
         ],
         "yaxis": "y3"
        },
        {
         "boxpoints": "outliers",
         "name": "2016",
         "showlegend": false,
         "type": "box",
         "xaxis": "x3",
         "y": [
          0,
          0.3,
          0.1,
          0.7,
          0,
          0.2,
          0.7
         ],
         "yaxis": "y3"
        },
        {
         "boxpoints": "outliers",
         "name": "2017",
         "showlegend": false,
         "type": "box",
         "xaxis": "x3",
         "y": [
          0.5,
          0.3,
          0.3,
          0,
          2.3
         ],
         "yaxis": "y3"
        },
        {
         "boxpoints": "outliers",
         "name": "2018",
         "showlegend": false,
         "type": "box",
         "xaxis": "x3",
         "y": [
          0.3,
          0.2,
          0.1,
          0,
          0.3
         ],
         "yaxis": "y3"
        },
        {
         "boxpoints": "outliers",
         "name": "2019",
         "showlegend": false,
         "type": "box",
         "xaxis": "x3",
         "y": [
          1.8,
          0.1,
          0.8,
          0.4,
          0.3,
          0.8,
          0.7
         ],
         "yaxis": "y3"
        },
        {
         "boxpoints": "outliers",
         "name": "2020",
         "showlegend": false,
         "type": "box",
         "xaxis": "x3",
         "y": [
          0.2,
          1.1,
          1.9,
          0.3,
          0.3,
          0.6,
          0.3,
          1,
          2.2,
          0.6,
          0.1,
          0.1,
          3.5
         ],
         "yaxis": "y3"
        },
        {
         "boxpoints": "outliers",
         "name": "2021",
         "showlegend": false,
         "type": "box",
         "xaxis": "x3",
         "y": [
          1.9,
          0.7,
          0.3,
          3.3,
          0.5,
          0.1,
          2.7,
          0.5,
          1.1,
          0.6,
          1.1,
          2,
          1.7,
          1.8,
          0.5,
          3.3,
          3.4,
          0.8,
          0.3,
          2.4,
          0.3,
          1.2,
          0.3,
          0.8,
          2,
          2.8,
          0.2,
          1.8,
          3,
          2.2,
          3.1,
          1.5,
          0.1,
          1.6,
          2.8,
          0,
          1.1,
          5.6,
          1.5,
          3.3,
          0.7,
          1.1,
          1,
          0.2,
          0.7,
          0.3,
          0.1,
          2.3,
          1.5,
          1.9,
          0.2,
          0.1,
          1.4,
          0.7,
          4.9,
          0.5,
          0.9,
          2.1,
          1.4,
          3.4,
          3.4,
          1.2,
          0.1,
          1.4,
          1.5,
          2.9,
          3.5,
          0.4,
          0.4,
          0.2,
          0.3,
          0.7
         ],
         "yaxis": "y3"
        },
        {
         "boxpoints": "outliers",
         "name": "2022",
         "showlegend": false,
         "type": "box",
         "xaxis": "x3",
         "y": [
          0.2,
          0.2,
          0.5,
          0.2,
          1.6,
          1.1,
          0.5,
          0.4,
          1,
          0.2,
          0.1,
          0.4,
          0.1,
          0.1,
          0.3,
          0.3,
          0.1,
          0,
          0.4,
          0.3,
          0.2,
          0.2,
          1.7,
          0.2,
          0.9,
          0.5,
          1,
          0.3,
          0.2
         ],
         "yaxis": "y3"
        },
        {
         "boxpoints": "outliers",
         "name": "2000",
         "showlegend": false,
         "type": "box",
         "xaxis": "x4",
         "y": [
          33.3,
          330
         ],
         "yaxis": "y4"
        },
        {
         "boxpoints": "outliers",
         "name": "2001",
         "showlegend": false,
         "type": "box",
         "xaxis": "x4",
         "y": [
          198.2
         ],
         "yaxis": "y4"
        },
        {
         "boxpoints": "outliers",
         "name": "2002",
         "showlegend": false,
         "type": "box",
         "xaxis": "x4",
         "y": [
          117.9,
          127.7,
          17.9,
          15.6,
          18.1,
          59.6,
          375.9,
          116.3
         ],
         "yaxis": "y4"
        },
        {
         "boxpoints": "outliers",
         "name": "2003",
         "showlegend": false,
         "type": "box",
         "xaxis": "x4",
         "y": [
          48.9,
          1826.1
         ],
         "yaxis": "y4"
        },
        {
         "boxpoints": "outliers",
         "name": "2004",
         "showlegend": false,
         "type": "box",
         "xaxis": "x4",
         "y": [
          4098.5,
          285.2,
          108.7,
          702.4,
          10,
          506.1,
          138.1,
          3453.1
         ],
         "yaxis": "y4"
        },
        {
         "boxpoints": "outliers",
         "name": "2005",
         "showlegend": false,
         "type": "box",
         "xaxis": "x4",
         "y": [
          902.4,
          470.8,
          70.8,
          3616.8,
          359.1,
          459.6,
          1102.1,
          149.8,
          376.2,
          138.4,
          648.9,
          2734.5,
          2942,
          4020.5,
          170.8,
          104.4,
          819.9,
          3471.6,
          3161.1,
          61.5,
          510,
          1282.2,
          4263.8,
          860,
          2601.5,
          617.2,
          123,
          67.7,
          1291,
          930.3,
          2353.4,
          5193.6,
          2451.6,
          21.1,
          7558.7,
          3357.6,
          3350,
          1762.6,
          292.2,
          29.9,
          1574.5,
          7332.9,
          135.1,
          2844.9,
          1420.3,
          5327.7,
          176.2,
          1459.9,
          2247,
          4831.5,
          47.5,
          1169.4,
          419.5,
          310.6,
          2948.5,
          3161.1,
          7.4,
          535.7,
          4602,
          73.5,
          105.1,
          77,
          80.7,
          1611,
          2009.4,
          3760.7,
          717.4,
          1083.5,
          3224.4,
          152.5,
          5543.8,
          2031.5,
          2625.6,
          354.7,
          2532.2,
          6092.7,
          312.7,
          33,
          573.5,
          4130.6,
          3547.9,
          633.4,
          122.8,
          145.5,
          47.1,
          606.3
         ],
         "yaxis": "y4"
        },
        {
         "boxpoints": "outliers",
         "name": "2007",
         "showlegend": false,
         "type": "box",
         "xaxis": "x4",
         "y": [
          184.5,
          1893,
          38.8
         ],
         "yaxis": "y4"
        },
        {
         "boxpoints": "outliers",
         "name": "2008",
         "showlegend": false,
         "type": "box",
         "xaxis": "x4",
         "y": [
          157.6,
          83,
          3315.1,
          42.5
         ],
         "yaxis": "y4"
        },
        {
         "boxpoints": "outliers",
         "name": "2009",
         "showlegend": false,
         "type": "box",
         "xaxis": "x4",
         "y": [
          142.7,
          96.8,
          7836.4,
          89.2,
          22.9,
          3761.7,
          146.8,
          111.7,
          81.5,
          12.4,
          325.6
         ],
         "yaxis": "y4"
        },
        {
         "boxpoints": "outliers",
         "name": "2010",
         "showlegend": false,
         "type": "box",
         "xaxis": "x4",
         "y": [
          1009.8,
          496.4,
          81.1,
          3661,
          433.2,
          393.6,
          1414.6,
          173.6,
          530.8,
          165.6,
          728.3,
          2987.7,
          3215.6,
          4454.2,
          1123.9,
          4594.1,
          4380.4,
          3767.2,
          162.4,
          687.1,
          1441.7,
          46.8,
          4696.4,
          321.5,
          901.1,
          3049.5,
          635.8,
          380.6,
          1623.3,
          1104.8,
          2798.9,
          6759.6,
          142,
          472,
          3057.6,
          42.1,
          7741,
          3910.7,
          4035.2,
          37.2,
          25.2,
          2134,
          156.5,
          732.5,
          417.6,
          3140.2,
          1732.5,
          5120,
          364.8,
          227.2,
          141.9,
          1842.8,
          2721.6,
          5203.4,
          51.3,
          50.5,
          1448.1,
          29,
          1408.4,
          344.5,
          721.9,
          40.1,
          3239.9,
          526.8,
          5444,
          1672.1,
          3918.5,
          5424.9,
          760.2,
          969.5,
          3086.5,
          378.6,
          1503.4,
          6284.9,
          2815,
          3755.2,
          363.7,
          2896.5,
          104,
          332.6,
          5279.9,
          34,
          1358.9,
          885,
          39.6,
          1328.4,
          4105.4,
          36,
          3549.3,
          631.4,
          547.3,
          203.5,
          137.9,
          57,
          715.3
         ],
         "yaxis": "y4"
        },
        {
         "boxpoints": "outliers",
         "name": "2011",
         "showlegend": false,
         "type": "box",
         "xaxis": "x4",
         "y": [
          48.3,
          47.7,
          29.8,
          50.2
         ],
         "yaxis": "y4"
        },
        {
         "boxpoints": "outliers",
         "name": "2012",
         "showlegend": false,
         "type": "box",
         "xaxis": "x4",
         "y": [
          20.1,
          177,
          99.4
         ],
         "yaxis": "y4"
        },
        {
         "boxpoints": "outliers",
         "name": "2013",
         "showlegend": false,
         "type": "box",
         "xaxis": "x4",
         "y": [
          173.9,
          44.6,
          26.8,
          15.3,
          588.8,
          19.2
         ],
         "yaxis": "y4"
        },
        {
         "boxpoints": "outliers",
         "name": "2014",
         "showlegend": false,
         "type": "box",
         "xaxis": "x4",
         "y": [
          384,
          888.5,
          117.9,
          402.3,
          1029.3,
          152.8,
          37.7,
          28.7
         ],
         "yaxis": "y4"
        },
        {
         "boxpoints": "outliers",
         "name": "2015",
         "showlegend": false,
         "type": "box",
         "xaxis": "x4",
         "y": [
          1143.1,
          686.2,
          93.7,
          3943.8,
          529.5,
          501.5,
          1696.7,
          235.4,
          667.9,
          225.5,
          899.5,
          3319.8,
          3546.9,
          4976.4,
          1231.5,
          5074.4,
          4741.9,
          353.1,
          1939.1,
          30.8,
          4582.4,
          459.8,
          1164.9,
          3472.3,
          1261.1,
          70.5,
          493,
          1490.8,
          1010.6,
          3619.3,
          10.4,
          7561,
          643.5,
          64.3,
          3188.3,
          139.1,
          6856.3,
          4386.2,
          1366.2,
          4733.4,
          87,
          3202.9,
          22.7,
          22.1,
          2568.3,
          5903.9,
          215.2,
          800.9,
          62.8,
          5282.9,
          2087.6,
          5198.1,
          255.6,
          770.8,
          404.7,
          1805.3,
          23.6,
          2741.4,
          4637.8,
          2265.2,
          30.2,
          1817.2,
          286.9,
          825,
          44,
          4911.1,
          5492,
          847.2,
          5929.2,
          222,
          265.2,
          90.8,
          199.2,
          105.7,
          2141.2,
          3724.8,
          333.8,
          647.3,
          7018.4,
          946.5,
          874.7,
          3109.8,
          581,
          2060.1,
          6977.7,
          2656.8,
          3805.1,
          473.7,
          2636.8,
          104.1,
          6810.8,
          5310.2,
          84,
          847.1,
          35.9,
          1751,
          1205.1,
          1006,
          2066.5,
          4397.2,
          3874.8,
          680,
          501.2,
          246.6,
          685.7,
          162.5,
          65.4,
          801.7
         ],
         "yaxis": "y4"
        },
        {
         "boxpoints": "outliers",
         "name": "2016",
         "showlegend": false,
         "type": "box",
         "xaxis": "x4",
         "y": [
          19,
          58.8,
          575.3,
          1080.7,
          33.4,
          292
         ],
         "yaxis": "y4"
        },
        {
         "boxpoints": "outliers",
         "name": "2017",
         "showlegend": false,
         "type": "box",
         "xaxis": "x4",
         "y": [
          832.4,
          89.9,
          90.2,
          577.9,
          30.3,
          4491.3
         ],
         "yaxis": "y4"
        },
        {
         "boxpoints": "outliers",
         "name": "2018",
         "showlegend": false,
         "type": "box",
         "xaxis": "x4",
         "y": [
          23.2,
          50,
          33.7,
          172
         ],
         "yaxis": "y4"
        },
        {
         "boxpoints": "outliers",
         "name": "2019",
         "showlegend": false,
         "type": "box",
         "xaxis": "x4",
         "y": [
          187.4,
          1597.3,
          743.4,
          22.8,
          58.5,
          1701.6
         ],
         "yaxis": "y4"
        },
        {
         "boxpoints": "outliers",
         "name": "2020",
         "showlegend": false,
         "type": "box",
         "xaxis": "x4",
         "y": [
          5076.2,
          518.7,
          260.4,
          399.6,
          726.5,
          7224.7,
          472.7,
          104.6,
          4451.8
         ],
         "yaxis": "y4"
        },
        {
         "boxpoints": "outliers",
         "name": "2021",
         "showlegend": false,
         "type": "box",
         "xaxis": "x4",
         "y": [
          1352.5,
          766.8,
          95.7,
          4513.9,
          625.4,
          471.5,
          2249.9,
          317.1,
          812.1,
          311.2,
          1215.4,
          3816.6,
          3324.5,
          4695.9,
          1283.8,
          6341.7,
          6581.9,
          62.4,
          2339.3,
          1687.1,
          399.4,
          2330.9,
          1743.3,
          4568.6,
          7707.7,
          64.7,
          4038.2,
          7870.7,
          5175,
          5536,
          4326.3,
          14.5,
          4452.2,
          6940.4,
          162.5,
          5250.7,
          2677.8,
          5638.4,
          2404.5,
          3935.1,
          4940.6,
          29.3,
          2160.7,
          384.1,
          19,
          6074.3,
          5102.3,
          7227.9,
          415.3,
          142.4,
          3534.5,
          982.5,
          9081.9,
          985.5,
          3211,
          5223,
          3251.7,
          8130.8,
          6022.7,
          1699.1,
          525.5,
          1999.5,
          2666,
          838.5,
          779.3,
          169.3,
          72.5,
          896.9
         ],
         "yaxis": "y4"
        },
        {
         "boxpoints": "outliers",
         "name": "2022",
         "showlegend": false,
         "type": "box",
         "xaxis": "x4",
         "y": [
          1219.9,
          1690.7,
          1381.8,
          535,
          513.6,
          4809,
          3544.5,
          128.2,
          841.4,
          1823,
          681.5,
          169.3,
          182,
          569,
          533.6,
          642.4,
          381.8,
          142,
          5743,
          768,
          2697.9,
          834.8,
          2349.7,
          142,
          44.4,
          1672,
          580.8,
          547.5,
          352
         ],
         "yaxis": "y4"
        }
       ],
       "layout": {
        "annotations": [
         {
          "font": {
           "size": 16
          },
          "showarrow": false,
          "text": "Distribuição: Investimento em P&D (% PIB)",
          "x": 0.225,
          "xanchor": "center",
          "xref": "paper",
          "y": 1,
          "yanchor": "bottom",
          "yref": "paper"
         },
         {
          "font": {
           "size": 16
          },
          "showarrow": false,
          "text": "Distribuição: Pesquisadores por milhão hab.",
          "x": 0.775,
          "xanchor": "center",
          "xref": "paper",
          "y": 1,
          "yanchor": "bottom",
          "yref": "paper"
         },
         {
          "font": {
           "size": 16
          },
          "showarrow": false,
          "text": "Box Plot: Investimento em P&D por Ano",
          "x": 0.225,
          "xanchor": "center",
          "xref": "paper",
          "y": 0.375,
          "yanchor": "bottom",
          "yref": "paper"
         },
         {
          "font": {
           "size": 16
          },
          "showarrow": false,
          "text": "Box Plot: Pesquisadores por Ano",
          "x": 0.775,
          "xanchor": "center",
          "xref": "paper",
          "y": 0.375,
          "yanchor": "bottom",
          "yref": "paper"
         }
        ],
        "height": 1200,
        "showlegend": true,
        "template": {
         "data": {
          "bar": [
           {
            "error_x": {
             "color": "#2a3f5f"
            },
            "error_y": {
             "color": "#2a3f5f"
            },
            "marker": {
             "line": {
              "color": "white",
              "width": 0.5
             },
             "pattern": {
              "fillmode": "overlay",
              "size": 10,
              "solidity": 0.2
             }
            },
            "type": "bar"
           }
          ],
          "barpolar": [
           {
            "marker": {
             "line": {
              "color": "white",
              "width": 0.5
             },
             "pattern": {
              "fillmode": "overlay",
              "size": 10,
              "solidity": 0.2
             }
            },
            "type": "barpolar"
           }
          ],
          "carpet": [
           {
            "aaxis": {
             "endlinecolor": "#2a3f5f",
             "gridcolor": "#C8D4E3",
             "linecolor": "#C8D4E3",
             "minorgridcolor": "#C8D4E3",
             "startlinecolor": "#2a3f5f"
            },
            "baxis": {
             "endlinecolor": "#2a3f5f",
             "gridcolor": "#C8D4E3",
             "linecolor": "#C8D4E3",
             "minorgridcolor": "#C8D4E3",
             "startlinecolor": "#2a3f5f"
            },
            "type": "carpet"
           }
          ],
          "choropleth": [
           {
            "colorbar": {
             "outlinewidth": 0,
             "ticks": ""
            },
            "type": "choropleth"
           }
          ],
          "contour": [
           {
            "colorbar": {
             "outlinewidth": 0,
             "ticks": ""
            },
            "colorscale": [
             [
              0,
              "#0d0887"
             ],
             [
              0.1111111111111111,
              "#46039f"
             ],
             [
              0.2222222222222222,
              "#7201a8"
             ],
             [
              0.3333333333333333,
              "#9c179e"
             ],
             [
              0.4444444444444444,
              "#bd3786"
             ],
             [
              0.5555555555555556,
              "#d8576b"
             ],
             [
              0.6666666666666666,
              "#ed7953"
             ],
             [
              0.7777777777777778,
              "#fb9f3a"
             ],
             [
              0.8888888888888888,
              "#fdca26"
             ],
             [
              1,
              "#f0f921"
             ]
            ],
            "type": "contour"
           }
          ],
          "contourcarpet": [
           {
            "colorbar": {
             "outlinewidth": 0,
             "ticks": ""
            },
            "type": "contourcarpet"
           }
          ],
          "heatmap": [
           {
            "colorbar": {
             "outlinewidth": 0,
             "ticks": ""
            },
            "colorscale": [
             [
              0,
              "#0d0887"
             ],
             [
              0.1111111111111111,
              "#46039f"
             ],
             [
              0.2222222222222222,
              "#7201a8"
             ],
             [
              0.3333333333333333,
              "#9c179e"
             ],
             [
              0.4444444444444444,
              "#bd3786"
             ],
             [
              0.5555555555555556,
              "#d8576b"
             ],
             [
              0.6666666666666666,
              "#ed7953"
             ],
             [
              0.7777777777777778,
              "#fb9f3a"
             ],
             [
              0.8888888888888888,
              "#fdca26"
             ],
             [
              1,
              "#f0f921"
             ]
            ],
            "type": "heatmap"
           }
          ],
          "heatmapgl": [
           {
            "colorbar": {
             "outlinewidth": 0,
             "ticks": ""
            },
            "colorscale": [
             [
              0,
              "#0d0887"
             ],
             [
              0.1111111111111111,
              "#46039f"
             ],
             [
              0.2222222222222222,
              "#7201a8"
             ],
             [
              0.3333333333333333,
              "#9c179e"
             ],
             [
              0.4444444444444444,
              "#bd3786"
             ],
             [
              0.5555555555555556,
              "#d8576b"
             ],
             [
              0.6666666666666666,
              "#ed7953"
             ],
             [
              0.7777777777777778,
              "#fb9f3a"
             ],
             [
              0.8888888888888888,
              "#fdca26"
             ],
             [
              1,
              "#f0f921"
             ]
            ],
            "type": "heatmapgl"
           }
          ],
          "histogram": [
           {
            "marker": {
             "pattern": {
              "fillmode": "overlay",
              "size": 10,
              "solidity": 0.2
             }
            },
            "type": "histogram"
           }
          ],
          "histogram2d": [
           {
            "colorbar": {
             "outlinewidth": 0,
             "ticks": ""
            },
            "colorscale": [
             [
              0,
              "#0d0887"
             ],
             [
              0.1111111111111111,
              "#46039f"
             ],
             [
              0.2222222222222222,
              "#7201a8"
             ],
             [
              0.3333333333333333,
              "#9c179e"
             ],
             [
              0.4444444444444444,
              "#bd3786"
             ],
             [
              0.5555555555555556,
              "#d8576b"
             ],
             [
              0.6666666666666666,
              "#ed7953"
             ],
             [
              0.7777777777777778,
              "#fb9f3a"
             ],
             [
              0.8888888888888888,
              "#fdca26"
             ],
             [
              1,
              "#f0f921"
             ]
            ],
            "type": "histogram2d"
           }
          ],
          "histogram2dcontour": [
           {
            "colorbar": {
             "outlinewidth": 0,
             "ticks": ""
            },
            "colorscale": [
             [
              0,
              "#0d0887"
             ],
             [
              0.1111111111111111,
              "#46039f"
             ],
             [
              0.2222222222222222,
              "#7201a8"
             ],
             [
              0.3333333333333333,
              "#9c179e"
             ],
             [
              0.4444444444444444,
              "#bd3786"
             ],
             [
              0.5555555555555556,
              "#d8576b"
             ],
             [
              0.6666666666666666,
              "#ed7953"
             ],
             [
              0.7777777777777778,
              "#fb9f3a"
             ],
             [
              0.8888888888888888,
              "#fdca26"
             ],
             [
              1,
              "#f0f921"
             ]
            ],
            "type": "histogram2dcontour"
           }
          ],
          "mesh3d": [
           {
            "colorbar": {
             "outlinewidth": 0,
             "ticks": ""
            },
            "type": "mesh3d"
           }
          ],
          "parcoords": [
           {
            "line": {
             "colorbar": {
              "outlinewidth": 0,
              "ticks": ""
             }
            },
            "type": "parcoords"
           }
          ],
          "pie": [
           {
            "automargin": true,
            "type": "pie"
           }
          ],
          "scatter": [
           {
            "fillpattern": {
             "fillmode": "overlay",
             "size": 10,
             "solidity": 0.2
            },
            "type": "scatter"
           }
          ],
          "scatter3d": [
           {
            "line": {
             "colorbar": {
              "outlinewidth": 0,
              "ticks": ""
             }
            },
            "marker": {
             "colorbar": {
              "outlinewidth": 0,
              "ticks": ""
             }
            },
            "type": "scatter3d"
           }
          ],
          "scattercarpet": [
           {
            "marker": {
             "colorbar": {
              "outlinewidth": 0,
              "ticks": ""
             }
            },
            "type": "scattercarpet"
           }
          ],
          "scattergeo": [
           {
            "marker": {
             "colorbar": {
              "outlinewidth": 0,
              "ticks": ""
             }
            },
            "type": "scattergeo"
           }
          ],
          "scattergl": [
           {
            "marker": {
             "colorbar": {
              "outlinewidth": 0,
              "ticks": ""
             }
            },
            "type": "scattergl"
           }
          ],
          "scattermapbox": [
           {
            "marker": {
             "colorbar": {
              "outlinewidth": 0,
              "ticks": ""
             }
            },
            "type": "scattermapbox"
           }
          ],
          "scatterpolar": [
           {
            "marker": {
             "colorbar": {
              "outlinewidth": 0,
              "ticks": ""
             }
            },
            "type": "scatterpolar"
           }
          ],
          "scatterpolargl": [
           {
            "marker": {
             "colorbar": {
              "outlinewidth": 0,
              "ticks": ""
             }
            },
            "type": "scatterpolargl"
           }
          ],
          "scatterternary": [
           {
            "marker": {
             "colorbar": {
              "outlinewidth": 0,
              "ticks": ""
             }
            },
            "type": "scatterternary"
           }
          ],
          "surface": [
           {
            "colorbar": {
             "outlinewidth": 0,
             "ticks": ""
            },
            "colorscale": [
             [
              0,
              "#0d0887"
             ],
             [
              0.1111111111111111,
              "#46039f"
             ],
             [
              0.2222222222222222,
              "#7201a8"
             ],
             [
              0.3333333333333333,
              "#9c179e"
             ],
             [
              0.4444444444444444,
              "#bd3786"
             ],
             [
              0.5555555555555556,
              "#d8576b"
             ],
             [
              0.6666666666666666,
              "#ed7953"
             ],
             [
              0.7777777777777778,
              "#fb9f3a"
             ],
             [
              0.8888888888888888,
              "#fdca26"
             ],
             [
              1,
              "#f0f921"
             ]
            ],
            "type": "surface"
           }
          ],
          "table": [
           {
            "cells": {
             "fill": {
              "color": "#EBF0F8"
             },
             "line": {
              "color": "white"
             }
            },
            "header": {
             "fill": {
              "color": "#C8D4E3"
             },
             "line": {
              "color": "white"
             }
            },
            "type": "table"
           }
          ]
         },
         "layout": {
          "annotationdefaults": {
           "arrowcolor": "#2a3f5f",
           "arrowhead": 0,
           "arrowwidth": 1
          },
          "autotypenumbers": "strict",
          "coloraxis": {
           "colorbar": {
            "outlinewidth": 0,
            "ticks": ""
           }
          },
          "colorscale": {
           "diverging": [
            [
             0,
             "#8e0152"
            ],
            [
             0.1,
             "#c51b7d"
            ],
            [
             0.2,
             "#de77ae"
            ],
            [
             0.3,
             "#f1b6da"
            ],
            [
             0.4,
             "#fde0ef"
            ],
            [
             0.5,
             "#f7f7f7"
            ],
            [
             0.6,
             "#e6f5d0"
            ],
            [
             0.7,
             "#b8e186"
            ],
            [
             0.8,
             "#7fbc41"
            ],
            [
             0.9,
             "#4d9221"
            ],
            [
             1,
             "#276419"
            ]
           ],
           "sequential": [
            [
             0,
             "#0d0887"
            ],
            [
             0.1111111111111111,
             "#46039f"
            ],
            [
             0.2222222222222222,
             "#7201a8"
            ],
            [
             0.3333333333333333,
             "#9c179e"
            ],
            [
             0.4444444444444444,
             "#bd3786"
            ],
            [
             0.5555555555555556,
             "#d8576b"
            ],
            [
             0.6666666666666666,
             "#ed7953"
            ],
            [
             0.7777777777777778,
             "#fb9f3a"
            ],
            [
             0.8888888888888888,
             "#fdca26"
            ],
            [
             1,
             "#f0f921"
            ]
           ],
           "sequentialminus": [
            [
             0,
             "#0d0887"
            ],
            [
             0.1111111111111111,
             "#46039f"
            ],
            [
             0.2222222222222222,
             "#7201a8"
            ],
            [
             0.3333333333333333,
             "#9c179e"
            ],
            [
             0.4444444444444444,
             "#bd3786"
            ],
            [
             0.5555555555555556,
             "#d8576b"
            ],
            [
             0.6666666666666666,
             "#ed7953"
            ],
            [
             0.7777777777777778,
             "#fb9f3a"
            ],
            [
             0.8888888888888888,
             "#fdca26"
            ],
            [
             1,
             "#f0f921"
            ]
           ]
          },
          "colorway": [
           "#636efa",
           "#EF553B",
           "#00cc96",
           "#ab63fa",
           "#FFA15A",
           "#19d3f3",
           "#FF6692",
           "#B6E880",
           "#FF97FF",
           "#FECB52"
          ],
          "font": {
           "color": "#2a3f5f"
          },
          "geo": {
           "bgcolor": "white",
           "lakecolor": "white",
           "landcolor": "white",
           "showlakes": true,
           "showland": true,
           "subunitcolor": "#C8D4E3"
          },
          "hoverlabel": {
           "align": "left"
          },
          "hovermode": "closest",
          "mapbox": {
           "style": "light"
          },
          "paper_bgcolor": "white",
          "plot_bgcolor": "white",
          "polar": {
           "angularaxis": {
            "gridcolor": "#EBF0F8",
            "linecolor": "#EBF0F8",
            "ticks": ""
           },
           "bgcolor": "white",
           "radialaxis": {
            "gridcolor": "#EBF0F8",
            "linecolor": "#EBF0F8",
            "ticks": ""
           }
          },
          "scene": {
           "xaxis": {
            "backgroundcolor": "white",
            "gridcolor": "#DFE8F3",
            "gridwidth": 2,
            "linecolor": "#EBF0F8",
            "showbackground": true,
            "ticks": "",
            "zerolinecolor": "#EBF0F8"
           },
           "yaxis": {
            "backgroundcolor": "white",
            "gridcolor": "#DFE8F3",
            "gridwidth": 2,
            "linecolor": "#EBF0F8",
            "showbackground": true,
            "ticks": "",
            "zerolinecolor": "#EBF0F8"
           },
           "zaxis": {
            "backgroundcolor": "white",
            "gridcolor": "#DFE8F3",
            "gridwidth": 2,
            "linecolor": "#EBF0F8",
            "showbackground": true,
            "ticks": "",
            "zerolinecolor": "#EBF0F8"
           }
          },
          "shapedefaults": {
           "line": {
            "color": "#2a3f5f"
           }
          },
          "ternary": {
           "aaxis": {
            "gridcolor": "#DFE8F3",
            "linecolor": "#A2B1C6",
            "ticks": ""
           },
           "baxis": {
            "gridcolor": "#DFE8F3",
            "linecolor": "#A2B1C6",
            "ticks": ""
           },
           "bgcolor": "white",
           "caxis": {
            "gridcolor": "#DFE8F3",
            "linecolor": "#A2B1C6",
            "ticks": ""
           }
          },
          "title": {
           "x": 0.05
          },
          "xaxis": {
           "automargin": true,
           "gridcolor": "#EBF0F8",
           "linecolor": "#EBF0F8",
           "ticks": "",
           "title": {
            "standoff": 15
           },
           "zerolinecolor": "#EBF0F8",
           "zerolinewidth": 2
          },
          "yaxis": {
           "automargin": true,
           "gridcolor": "#EBF0F8",
           "linecolor": "#EBF0F8",
           "ticks": "",
           "title": {
            "standoff": 15
           },
           "zerolinecolor": "#EBF0F8",
           "zerolinewidth": 2
          }
         }
        },
        "title": {
         "font": {
          "size": 18
         },
         "text": "Análise de Distribuições dos Dados de P&D",
         "x": 0.5
        },
        "width": 1400,
        "xaxis": {
         "anchor": "y",
         "domain": [
          0,
          0.45
         ],
         "title": {
          "text": "Investimento P&D (% PIB)"
         }
        },
        "xaxis2": {
         "anchor": "y2",
         "domain": [
          0.55,
          1
         ],
         "title": {
          "text": "Pesquisadores por milhão hab."
         }
        },
        "xaxis3": {
         "anchor": "y3",
         "domain": [
          0,
          0.45
         ],
         "title": {
          "text": "Ano"
         }
        },
        "xaxis4": {
         "anchor": "y4",
         "domain": [
          0.55,
          1
         ],
         "title": {
          "text": "Ano"
         }
        },
        "yaxis": {
         "anchor": "x",
         "domain": [
          0.625,
          1
         ],
         "title": {
          "text": "Frequência"
         }
        },
        "yaxis2": {
         "anchor": "x2",
         "domain": [
          0.625,
          1
         ],
         "title": {
          "text": "Frequência"
         }
        },
        "yaxis3": {
         "anchor": "x3",
         "domain": [
          0,
          0.375
         ],
         "title": {
          "text": "Investimento P&D (% PIB)"
         }
        },
        "yaxis4": {
         "anchor": "x4",
         "domain": [
          0,
          0.375
         ],
         "title": {
          "text": "Pesquisadores por milhão hab."
         }
        }
       }
      },
      "text/html": [
       "<div>                            <div id=\"09a1c510-c6a6-425e-bb3d-a15893e645ee\" class=\"plotly-graph-div\" style=\"height:1200px; width:1400px;\"></div>            <script type=\"text/javascript\">                require([\"plotly\"], function(Plotly) {                    window.PLOTLYENV=window.PLOTLYENV || {};                                    if (document.getElementById(\"09a1c510-c6a6-425e-bb3d-a15893e645ee\")) {                    Plotly.newPlot(                        \"09a1c510-c6a6-425e-bb3d-a15893e645ee\",                        [{\"marker\":{\"color\":\"lightblue\"},\"name\":\"Investimento P&D\",\"nbinsx\":30,\"opacity\":0.7,\"x\":[1.5,1.6,1.7,1.9,0.3,0.4,0.6,0.7,0.3,0.3,0.4,0.3,2.5,2.6,2.7,3.3,0.6,0.6,0.7,0.5,0.2,0.1,0.2,0.1,2.0,2.2,2.4,2.7,0.7,0.7,0.6,0.5,0.6,0.7,0.9,1.1,0.7,0.7,0.6,0.6,0.7,0.7,0.8,1.1,1.7,1.8,1.9,2.0,1.8,2.2,1.8,1.7,1.9,2.2,1.8,1.8,0.2,0.1,0.5,0.4,0.4,0.0,0.4,0.6,0.6,0.5,0.3,0.2,0.3,0.2,1.8,2.4,1.9,1.8,2.4,2.7,3.0,3.3,0.2,0.2,0.2,0.2,0.1,0.7,0.7,0.5,0.5,1.8,2.1,2.4,3.4,0.2,0.2,0.2,0.3,0.2,0.0,0.0,0.0,0.2,0.2,0.5,0.6,1.0,1.2,1.3,1.4,1.1,0.0,0.3,0.4,0.6,0.9,0.8,0.2,0.2,0.2,0.3,0.1,0.1,0.2,0.1,0.0,0.1,2.0,1.8,1.7,1.9,1.6,0.3,0.3,0.4,0.3,1.3,1.7,2.1,2.4,0.8,0.7,0.8,1.1,0.1,0.1,0.1,0.5,0.2,0.2,0.4,0.3,0.3,0.4,0.4,0.5,0.4,0.3,0.1,0.8,0.7,0.8,1.2,0.5,0.6,0.4,0.3,0.4,0.4,0.5,0.8,1.2,1.3,1.9,2.0,0.1,0.1,0.4,2.4,2.9,3.1,2.8,0.1,0.4,0.4,0.2,0.4,0.7,1.0,0.1,0.1,0.2,0.9,1.6,1.5,1.8,0.3,0.2,0.2,0.6,0.3,0.9,3.3,3.7,2.9,3.0,2.1,2.2,2.2,2.2,0.6,0.0,0.1,0.1,0.2,0.3,0.2,2.4,2.7,2.9,3.1,0.4,0.6,0.6,0.6,1.0,1.5,0.6,0.3,0.0,0.0,0.0,0.1,0.0,0.0,0.1,0.9,1.1,1.3,1.6,2.7,2.6,2.2,2.8,0.8,0.8,0.7,0.6,0.0,0.1,0.1,0.3,0.6,0.3,0.4,0.8,0.0,0.0,0.0,1.2,1.6,1.2,1.1,3.9,3.9,4.2,5.6,1.0,1.2,1.3,1.5,0.1,3.1,3.1,3.2,3.3,0.3,0.4,0.7,0.3,0.2,0.2,0.1,0.7,0.4,0.1,0.1,0.1,0.1,0.2,0.2,0.1,0.1,0.0,0.5,0.6,0.6,0.7,0.1,0.0,0.1,0.7,0.8,1.0,1.1,1.6,1.4,1.3,1.0,0.2,0.1,0.1,0.0,0.0,0.6,1.0,1.3,1.0,0.6,0.3,0.2,0.5,0.6,0.7,0.7,0.0,0.4,0.2,0.3,0.4,0.5,0.4,0.3,0.3,0.0,0.2,0.2,0.2,0.1,0.9,1.1,0.4,0.4,0.6,0.7,0.4,0.4,0.3,0.2,0.1,0.0,0.1,0.3,0.3,1.8,1.7,2.1,2.3,1.1,1.3,1.2,1.5,0.0,0.1,0.1,0.3,0.2,0.2,0.4,0.4,1.5,1.6,1.9,1.9,0.2,0.3,0.4,0.4,0.2,0.2,0.2,0.1,0.1,0.1,0.2,0.0,0.1,0.0,0.1,0.1,0.2,0.1,0.2,0.1,0.1,0.2,0.3,0.6,0.7,1.0,1.4,0.8,1.5,1.2,1.7,0.5,0.4,0.5,0.7,2.5,3.3,4.0,4.9,0.4,0.4,0.3,0.2,0.4,0.4,0.5,0.5,1.1,1.1,1.1,0.9,0.8,0.1,0.0,0.9,0.8,0.5,0.4,0.6,0.4,0.7,0.8,1.0,0.3,0.2,2.1,1.9,2.2,2.2,0.5,0.6,1.2,0.9,1.4,2.1,2.2,2.1,0.8,0.7,0.7,0.6,1.1,1.4,1.2,1.4,0.2,0.1,0.1,0.1,0.4,0.5,0.2,3.4,3.2,3.2,3.4,2.6,2.7,3.1,3.4,0.0,0.1,0.1,0.1,0.1,0.2,0.2,0.6,1.2,0.2,0.2,0.1,0.0,0.1,0.1,0.7,0.7,0.6,0.7,0.6,0.8,0.9,1.4,0.2,0.4,0.1,1.0,0.8,0.6,0.3,0.9,1.5,1.5,1.6,2.3,2.3,2.9,0.4,0.5,2.5,2.7,2.8,3.5,3.5,0.0,0.0,0.2,0.5,0.3,0.4,0.4,0.2,0.2,0.2,0.2,0.2,0.2,0.4,0.7,0.2,0.4,0.4,0.0,0.3,0.2,0.2,0.2,0.2,0.2,0.2,0.3,0.3,1.0,1.0,1.0,0.7],\"type\":\"histogram\",\"xaxis\":\"x\",\"yaxis\":\"y\"},{\"marker\":{\"color\":\"lightcoral\"},\"name\":\"Pesquisadores\",\"nbinsx\":30,\"opacity\":0.7,\"x\":[902.4,1009.8,1143.1,1352.5,470.8,496.4,686.2,766.8,70.8,81.1,93.7,95.7,3616.8,3661.0,3943.8,4513.9,359.1,433.2,529.5,625.4,459.6,393.6,501.5,471.5,1102.1,1414.6,1696.7,2249.9,149.8,173.6,235.4,317.1,376.2,530.8,667.9,812.1,138.4,165.6,225.5,311.2,648.9,728.3,899.5,1215.4,2734.5,2987.7,3319.8,3816.6,2942.0,3215.6,3546.9,3324.5,4020.5,4454.2,4976.4,4695.9,157.6,170.8,832.4,104.4,48.3,19.0,819.9,1123.9,1231.5,1283.8,1219.9,4098.5,4594.1,3471.6,4380.4,5074.4,6341.7,1690.7,384.0,1381.8,3161.1,3767.2,4741.9,6581.9,117.9,142.7,162.4,62.4,61.5,184.5,353.1,535.0,173.9,510.0,687.1,888.5,285.2,513.6,1282.2,1441.7,1939.1,2339.3,46.8,20.1,23.2,127.7,47.7,117.9,17.9,30.8,4263.8,4696.4,4582.4,5076.2,58.8,321.5,459.8,518.7,860.0,901.1,1164.9,1687.1,2601.5,3049.5,3472.3,4809.0,617.2,635.8,1261.1,3544.5,70.5,89.9,33.3,128.2,108.7,123.0,380.6,493.0,399.4,67.7,1291.0,1623.3,1490.8,2330.9,930.3,1104.8,1010.6,1743.3,2353.4,2798.9,3619.3,4568.6,10.4,5193.6,6759.6,7561.0,7707.7,48.9,142.0,402.3,472.0,643.5,841.4,64.3,64.7,2451.6,3057.6,3188.3,4038.2,139.1,21.1,42.1,44.6,90.2,1826.1,7558.7,7741.0,6856.3,7870.7,3357.6,3910.7,4386.2,5175.0,96.8,29.8,50.0,1366.2,1823.0,3350.0,4035.2,4733.4,5536.0,37.2,87.0,1762.6,1893.0,3202.9,4326.3,702.4,292.2,29.9,25.2,22.7,14.5,22.1,187.4,1574.5,2134.0,2568.3,4452.2,7332.9,7836.4,5903.9,6940.4,135.1,156.5,215.2,260.4,198.2,89.2,399.6,732.5,800.9,1597.3,417.6,62.8,162.5,2844.9,3140.2,5282.9,5250.7,1420.3,1732.5,2087.6,2677.8,5327.7,5120.0,5198.1,5638.4,255.6,575.3,577.9,364.8,770.8,681.5,227.2,169.3,176.2,141.9,404.7,182.0,15.6,1459.9,1842.8,1805.3,2404.5,10.0,22.9,23.6,2247.0,2721.6,2741.4,3935.1,4831.5,5203.4,4637.8,4940.6,47.5,51.3,50.2,30.3,33.7,50.5,506.1,1448.1,2265.2,726.5,29.0,30.2,29.3,1169.4,1408.4,1817.2,2160.7,177.0,569.0,419.5,344.5,286.9,384.1,310.6,533.6,825.0,743.4,721.9,1029.3,1080.7,40.1,44.0,18.1,19.0,152.8,59.6,2948.5,3239.9,4911.1,6074.3,3161.1,3761.7,5492.0,5102.3,7.4,26.8,38.8,22.8,535.7,526.8,847.2,642.4,4602.0,5444.0,5929.2,7227.9,222.0,381.8,73.5,146.8,265.2,415.3,105.1,111.7,90.8,142.0,33.4,77.0,83.0,199.2,142.4,80.7,81.5,105.7,172.0,1611.0,1672.1,2141.2,3534.5,2009.4,3918.5,3724.8,5743.0,333.8,647.3,982.5,3760.7,5424.9,7018.4,9081.9,717.4,760.2,946.5,768.0,1083.5,969.5,874.7,985.5,3224.4,3086.5,3109.8,2697.9,12.4,15.3,58.5,330.0,834.8,378.6,581.0,1503.4,2060.1,2349.7,152.5,5543.8,6284.9,6977.7,7224.7,2031.5,2815.0,2656.8,3211.0,2625.6,3755.2,3805.1,5223.0,354.7,363.7,473.7,472.7,2532.2,2896.5,2636.8,3251.7,138.1,104.0,104.1,104.6,332.6,588.8,6092.7,5279.9,6810.8,8130.8,3453.1,3315.1,5310.2,6022.7,84.0,142.0,312.7,325.6,847.1,1699.1,33.0,34.0,37.7,35.9,44.4,525.5,1358.9,1751.0,1701.6,1672.0,573.5,885.0,1205.1,1999.5,39.6,28.7,1328.4,1006.0,580.8,2066.5,2666.0,4130.6,4105.4,4397.2,4491.3,36.0,19.2,3547.9,3549.3,3874.8,4451.8,375.9,631.4,680.0,838.5,633.4,547.3,501.2,547.5,122.8,203.5,246.6,292.0,352.0,116.3,685.7,779.3,42.5,99.4,145.5,137.9,162.5,169.3,47.1,57.0,65.4,72.5,606.3,715.3,801.7,896.9],\"type\":\"histogram\",\"xaxis\":\"x2\",\"yaxis\":\"y2\"},{\"boxpoints\":\"outliers\",\"name\":\"2001\",\"showlegend\":false,\"y\":[0.0],\"type\":\"box\",\"xaxis\":\"x3\",\"yaxis\":\"y3\"},{\"boxpoints\":\"outliers\",\"name\":\"2002\",\"showlegend\":false,\"y\":[0.3,0.0,0.1,0.3,0.0,0.4,0.2,0.0,0.1,0.2,0.2],\"type\":\"box\",\"xaxis\":\"x3\",\"yaxis\":\"y3\"},{\"boxpoints\":\"outliers\",\"name\":\"2003\",\"showlegend\":false,\"y\":[0.1,0.9,0.6],\"type\":\"box\",\"xaxis\":\"x3\",\"yaxis\":\"y3\"},{\"boxpoints\":\"outliers\",\"name\":\"2004\",\"showlegend\":false,\"y\":[1.8,0.0,0.4,0.6,0.0,0.1,0.6,0.2,0.2,2.6],\"type\":\"box\",\"xaxis\":\"x3\",\"yaxis\":\"y3\"},{\"boxpoints\":\"outliers\",\"name\":\"2005\",\"showlegend\":false,\"y\":[1.5,0.3,0.3,2.5,0.6,0.2,2.0,0.7,0.6,0.7,0.7,1.7,1.8,1.9,0.1,0.4,0.4,0.3,2.4,0.2,0.7,1.8,0.0,0.5,1.0,0.4,0.2,2.0,1.3,0.8,0.1,0.2,0.8,0.5,0.4,1.2,0.1,2.4,0.2,0.9,0.2,3.3,2.1,0.2,2.4,0.6,0.3,0.0,0.9,2.7,0.8,0.6,1.2,3.9,1.0,3.1,0.3,0.1,0.2,0.5,0.7,1.6,0.2,0.5,0.4,0.4,0.0,0.2,0.9,1.8,1.1,0.2,1.5,0.4,0.2,0.1,0.1,0.6,0.8,2.5,0.4,0.4,1.1,0.0,0.4,0.3,2.1,0.5,1.4,0.8,1.1,0.2,3.4,0.1,0.2,0.1,0.7,0.6,0.2,1.0,1.5,2.5,0.0,0.5,0.2,0.2,0.0,0.2,0.2,1.0],\"type\":\"box\",\"xaxis\":\"x3\",\"yaxis\":\"y3\"},{\"boxpoints\":\"outliers\",\"name\":\"2006\",\"showlegend\":false,\"y\":[0.4],\"type\":\"box\",\"xaxis\":\"x3\",\"yaxis\":\"y3\"},{\"boxpoints\":\"outliers\",\"name\":\"2007\",\"showlegend\":false,\"y\":[0.0,0.6,1.1,0.1,0.0],\"type\":\"box\",\"xaxis\":\"x3\",\"yaxis\":\"y3\"},{\"boxpoints\":\"outliers\",\"name\":\"2008\",\"showlegend\":false,\"y\":[0.2,0.4,0.0,2.7,0.3],\"type\":\"box\",\"xaxis\":\"x3\",\"yaxis\":\"y3\"},{\"boxpoints\":\"outliers\",\"name\":\"2009\",\"showlegend\":false,\"y\":[0.2,0.0,0.2,0.1,0.6,0.0,2.6,0.1,0.0,1.3,0.4,0.1,0.1,0.5,0.2],\"type\":\"box\",\"xaxis\":\"x3\",\"yaxis\":\"y3\"},{\"boxpoints\":\"outliers\",\"name\":\"2010\",\"showlegend\":false,\"y\":[1.6,0.4,0.3,2.6,0.6,0.1,2.2,0.7,0.7,0.7,0.7,1.8,2.2,2.2,0.6,0.2,2.4,2.7,0.2,0.7,2.1,0.2,1.2,0.6,0.1,1.8,0.3,1.7,0.7,0.1,0.2,0.5,0.7,0.6,0.4,1.3,2.9,0.4,0.4,0.1,1.6,0.2,3.7,2.2,2.7,0.4,0.6,0.0,1.1,0.8,0.3,0.0,1.6,3.9,1.2,3.1,0.2,0.7,0.1,0.2,0.6,0.8,1.4,0.1,1.0,0.6,0.6,0.5,0.2,0.7,0.4,0.1,0.3,1.7,0.2,1.6,0.1,0.7,1.5,3.3,0.4,0.4,1.1,0.9,0.4,0.7,1.9,0.6,2.1,0.7,1.4,0.1,0.4,3.2,0.1,0.2,0.0,0.7,0.8,0.4,0.8,1.6,0.4,2.7,0.3,0.2,0.2,0.2,0.2,1.0],\"type\":\"box\",\"xaxis\":\"x3\",\"yaxis\":\"y3\"},{\"boxpoints\":\"outliers\",\"name\":\"2011\",\"showlegend\":false,\"y\":[0.1,0.1,0.1],\"type\":\"box\",\"xaxis\":\"x3\",\"yaxis\":\"y3\"},{\"boxpoints\":\"outliers\",\"name\":\"2012\",\"showlegend\":false,\"y\":[0.1,0.2],\"type\":\"box\",\"xaxis\":\"x3\",\"yaxis\":\"y3\"},{\"boxpoints\":\"outliers\",\"name\":\"2013\",\"showlegend\":false,\"y\":[0.6,0.6,0.1,0.8,0.5,0.5],\"type\":\"box\",\"xaxis\":\"x3\",\"yaxis\":\"y3\"},{\"boxpoints\":\"outliers\",\"name\":\"2014\",\"showlegend\":false,\"y\":[0.1,1.3,0.2,0.4,0.0,0.3,0.2,0.1],\"type\":\"box\",\"xaxis\":\"x3\",\"yaxis\":\"y3\"},{\"boxpoints\":\"outliers\",\"name\":\"2015\",\"showlegend\":false,\"y\":[1.7,0.6,0.4,2.7,0.7,0.2,2.4,0.6,0.9,0.6,0.8,1.9,1.8,1.8,0.6,0.3,1.9,3.0,0.2,0.5,2.4,0.2,0.2,1.4,0.9,0.1,1.7,0.4,2.1,0.8,0.1,0.4,0.4,0.8,0.4,0.5,1.9,0.4,3.1,0.7,0.1,1.5,0.3,2.9,2.2,0.3,2.9,1.0,0.0,0.0,1.3,2.2,0.7,0.4,0.0,1.2,4.2,1.3,3.2,0.2,0.1,0.1,0.6,0.1,1.0,1.3,1.3,0.3,0.7,0.4,0.2,0.4,0.3,2.1,1.2,0.1,0.4,1.9,0.2,0.2,0.1,0.1,0.1,0.2,1.0,1.2,0.4,0.5,4.0,0.3,0.5,1.1,0.6,0.8,2.2,1.2,2.2,0.7,1.2,0.1,3.2,3.1,0.0,0.1,0.6,0.1,0.6,0.9,0.6,0.9,2.3,2.8,0.4,0.2,0.4,0.4,0.2,0.3,1.0],\"type\":\"box\",\"xaxis\":\"x3\",\"yaxis\":\"y3\"},{\"boxpoints\":\"outliers\",\"name\":\"2016\",\"showlegend\":false,\"y\":[0.0,0.3,0.1,0.7,0.0,0.2,0.7],\"type\":\"box\",\"xaxis\":\"x3\",\"yaxis\":\"y3\"},{\"boxpoints\":\"outliers\",\"name\":\"2017\",\"showlegend\":false,\"y\":[0.5,0.3,0.3,0.0,2.3],\"type\":\"box\",\"xaxis\":\"x3\",\"yaxis\":\"y3\"},{\"boxpoints\":\"outliers\",\"name\":\"2018\",\"showlegend\":false,\"y\":[0.3,0.2,0.1,0.0,0.3],\"type\":\"box\",\"xaxis\":\"x3\",\"yaxis\":\"y3\"},{\"boxpoints\":\"outliers\",\"name\":\"2019\",\"showlegend\":false,\"y\":[1.8,0.1,0.8,0.4,0.3,0.8,0.7],\"type\":\"box\",\"xaxis\":\"x3\",\"yaxis\":\"y3\"},{\"boxpoints\":\"outliers\",\"name\":\"2020\",\"showlegend\":false,\"y\":[0.2,1.1,1.9,0.3,0.3,0.6,0.3,1.0,2.2,0.6,0.1,0.1,3.5],\"type\":\"box\",\"xaxis\":\"x3\",\"yaxis\":\"y3\"},{\"boxpoints\":\"outliers\",\"name\":\"2021\",\"showlegend\":false,\"y\":[1.9,0.7,0.3,3.3,0.5,0.1,2.7,0.5,1.1,0.6,1.1,2.0,1.7,1.8,0.5,3.3,3.4,0.8,0.3,2.4,0.3,1.2,0.3,0.8,2.0,2.8,0.2,1.8,3.0,2.2,3.1,1.5,0.1,1.6,2.8,0.0,1.1,5.6,1.5,3.3,0.7,1.1,1.0,0.2,0.7,0.3,0.1,2.3,1.5,1.9,0.2,0.1,1.4,0.7,4.9,0.5,0.9,2.1,1.4,3.4,3.4,1.2,0.1,1.4,1.5,2.9,3.5,0.4,0.4,0.2,0.3,0.7],\"type\":\"box\",\"xaxis\":\"x3\",\"yaxis\":\"y3\"},{\"boxpoints\":\"outliers\",\"name\":\"2022\",\"showlegend\":false,\"y\":[0.2,0.2,0.5,0.2,1.6,1.1,0.5,0.4,1.0,0.2,0.1,0.4,0.1,0.1,0.3,0.3,0.1,0.0,0.4,0.3,0.2,0.2,1.7,0.2,0.9,0.5,1.0,0.3,0.2],\"type\":\"box\",\"xaxis\":\"x3\",\"yaxis\":\"y3\"},{\"boxpoints\":\"outliers\",\"name\":\"2000\",\"showlegend\":false,\"y\":[33.3,330.0],\"type\":\"box\",\"xaxis\":\"x4\",\"yaxis\":\"y4\"},{\"boxpoints\":\"outliers\",\"name\":\"2001\",\"showlegend\":false,\"y\":[198.2],\"type\":\"box\",\"xaxis\":\"x4\",\"yaxis\":\"y4\"},{\"boxpoints\":\"outliers\",\"name\":\"2002\",\"showlegend\":false,\"y\":[117.9,127.7,17.9,15.6,18.1,59.6,375.9,116.3],\"type\":\"box\",\"xaxis\":\"x4\",\"yaxis\":\"y4\"},{\"boxpoints\":\"outliers\",\"name\":\"2003\",\"showlegend\":false,\"y\":[48.9,1826.1],\"type\":\"box\",\"xaxis\":\"x4\",\"yaxis\":\"y4\"},{\"boxpoints\":\"outliers\",\"name\":\"2004\",\"showlegend\":false,\"y\":[4098.5,285.2,108.7,702.4,10.0,506.1,138.1,3453.1],\"type\":\"box\",\"xaxis\":\"x4\",\"yaxis\":\"y4\"},{\"boxpoints\":\"outliers\",\"name\":\"2005\",\"showlegend\":false,\"y\":[902.4,470.8,70.8,3616.8,359.1,459.6,1102.1,149.8,376.2,138.4,648.9,2734.5,2942.0,4020.5,170.8,104.4,819.9,3471.6,3161.1,61.5,510.0,1282.2,4263.8,860.0,2601.5,617.2,123.0,67.7,1291.0,930.3,2353.4,5193.6,2451.6,21.1,7558.7,3357.6,3350.0,1762.6,292.2,29.9,1574.5,7332.9,135.1,2844.9,1420.3,5327.7,176.2,1459.9,2247.0,4831.5,47.5,1169.4,419.5,310.6,2948.5,3161.1,7.4,535.7,4602.0,73.5,105.1,77.0,80.7,1611.0,2009.4,3760.7,717.4,1083.5,3224.4,152.5,5543.8,2031.5,2625.6,354.7,2532.2,6092.7,312.7,33.0,573.5,4130.6,3547.9,633.4,122.8,145.5,47.1,606.3],\"type\":\"box\",\"xaxis\":\"x4\",\"yaxis\":\"y4\"},{\"boxpoints\":\"outliers\",\"name\":\"2007\",\"showlegend\":false,\"y\":[184.5,1893.0,38.8],\"type\":\"box\",\"xaxis\":\"x4\",\"yaxis\":\"y4\"},{\"boxpoints\":\"outliers\",\"name\":\"2008\",\"showlegend\":false,\"y\":[157.6,83.0,3315.1,42.5],\"type\":\"box\",\"xaxis\":\"x4\",\"yaxis\":\"y4\"},{\"boxpoints\":\"outliers\",\"name\":\"2009\",\"showlegend\":false,\"y\":[142.7,96.8,7836.4,89.2,22.9,3761.7,146.8,111.7,81.5,12.4,325.6],\"type\":\"box\",\"xaxis\":\"x4\",\"yaxis\":\"y4\"},{\"boxpoints\":\"outliers\",\"name\":\"2010\",\"showlegend\":false,\"y\":[1009.8,496.4,81.1,3661.0,433.2,393.6,1414.6,173.6,530.8,165.6,728.3,2987.7,3215.6,4454.2,1123.9,4594.1,4380.4,3767.2,162.4,687.1,1441.7,46.8,4696.4,321.5,901.1,3049.5,635.8,380.6,1623.3,1104.8,2798.9,6759.6,142.0,472.0,3057.6,42.1,7741.0,3910.7,4035.2,37.2,25.2,2134.0,156.5,732.5,417.6,3140.2,1732.5,5120.0,364.8,227.2,141.9,1842.8,2721.6,5203.4,51.3,50.5,1448.1,29.0,1408.4,344.5,721.9,40.1,3239.9,526.8,5444.0,1672.1,3918.5,5424.9,760.2,969.5,3086.5,378.6,1503.4,6284.9,2815.0,3755.2,363.7,2896.5,104.0,332.6,5279.9,34.0,1358.9,885.0,39.6,1328.4,4105.4,36.0,3549.3,631.4,547.3,203.5,137.9,57.0,715.3],\"type\":\"box\",\"xaxis\":\"x4\",\"yaxis\":\"y4\"},{\"boxpoints\":\"outliers\",\"name\":\"2011\",\"showlegend\":false,\"y\":[48.3,47.7,29.8,50.2],\"type\":\"box\",\"xaxis\":\"x4\",\"yaxis\":\"y4\"},{\"boxpoints\":\"outliers\",\"name\":\"2012\",\"showlegend\":false,\"y\":[20.1,177.0,99.4],\"type\":\"box\",\"xaxis\":\"x4\",\"yaxis\":\"y4\"},{\"boxpoints\":\"outliers\",\"name\":\"2013\",\"showlegend\":false,\"y\":[173.9,44.6,26.8,15.3,588.8,19.2],\"type\":\"box\",\"xaxis\":\"x4\",\"yaxis\":\"y4\"},{\"boxpoints\":\"outliers\",\"name\":\"2014\",\"showlegend\":false,\"y\":[384.0,888.5,117.9,402.3,1029.3,152.8,37.7,28.7],\"type\":\"box\",\"xaxis\":\"x4\",\"yaxis\":\"y4\"},{\"boxpoints\":\"outliers\",\"name\":\"2015\",\"showlegend\":false,\"y\":[1143.1,686.2,93.7,3943.8,529.5,501.5,1696.7,235.4,667.9,225.5,899.5,3319.8,3546.9,4976.4,1231.5,5074.4,4741.9,353.1,1939.1,30.8,4582.4,459.8,1164.9,3472.3,1261.1,70.5,493.0,1490.8,1010.6,3619.3,10.4,7561.0,643.5,64.3,3188.3,139.1,6856.3,4386.2,1366.2,4733.4,87.0,3202.9,22.7,22.1,2568.3,5903.9,215.2,800.9,62.8,5282.9,2087.6,5198.1,255.6,770.8,404.7,1805.3,23.6,2741.4,4637.8,2265.2,30.2,1817.2,286.9,825.0,44.0,4911.1,5492.0,847.2,5929.2,222.0,265.2,90.8,199.2,105.7,2141.2,3724.8,333.8,647.3,7018.4,946.5,874.7,3109.8,581.0,2060.1,6977.7,2656.8,3805.1,473.7,2636.8,104.1,6810.8,5310.2,84.0,847.1,35.9,1751.0,1205.1,1006.0,2066.5,4397.2,3874.8,680.0,501.2,246.6,685.7,162.5,65.4,801.7],\"type\":\"box\",\"xaxis\":\"x4\",\"yaxis\":\"y4\"},{\"boxpoints\":\"outliers\",\"name\":\"2016\",\"showlegend\":false,\"y\":[19.0,58.8,575.3,1080.7,33.4,292.0],\"type\":\"box\",\"xaxis\":\"x4\",\"yaxis\":\"y4\"},{\"boxpoints\":\"outliers\",\"name\":\"2017\",\"showlegend\":false,\"y\":[832.4,89.9,90.2,577.9,30.3,4491.3],\"type\":\"box\",\"xaxis\":\"x4\",\"yaxis\":\"y4\"},{\"boxpoints\":\"outliers\",\"name\":\"2018\",\"showlegend\":false,\"y\":[23.2,50.0,33.7,172.0],\"type\":\"box\",\"xaxis\":\"x4\",\"yaxis\":\"y4\"},{\"boxpoints\":\"outliers\",\"name\":\"2019\",\"showlegend\":false,\"y\":[187.4,1597.3,743.4,22.8,58.5,1701.6],\"type\":\"box\",\"xaxis\":\"x4\",\"yaxis\":\"y4\"},{\"boxpoints\":\"outliers\",\"name\":\"2020\",\"showlegend\":false,\"y\":[5076.2,518.7,260.4,399.6,726.5,7224.7,472.7,104.6,4451.8],\"type\":\"box\",\"xaxis\":\"x4\",\"yaxis\":\"y4\"},{\"boxpoints\":\"outliers\",\"name\":\"2021\",\"showlegend\":false,\"y\":[1352.5,766.8,95.7,4513.9,625.4,471.5,2249.9,317.1,812.1,311.2,1215.4,3816.6,3324.5,4695.9,1283.8,6341.7,6581.9,62.4,2339.3,1687.1,399.4,2330.9,1743.3,4568.6,7707.7,64.7,4038.2,7870.7,5175.0,5536.0,4326.3,14.5,4452.2,6940.4,162.5,5250.7,2677.8,5638.4,2404.5,3935.1,4940.6,29.3,2160.7,384.1,19.0,6074.3,5102.3,7227.9,415.3,142.4,3534.5,982.5,9081.9,985.5,3211.0,5223.0,3251.7,8130.8,6022.7,1699.1,525.5,1999.5,2666.0,838.5,779.3,169.3,72.5,896.9],\"type\":\"box\",\"xaxis\":\"x4\",\"yaxis\":\"y4\"},{\"boxpoints\":\"outliers\",\"name\":\"2022\",\"showlegend\":false,\"y\":[1219.9,1690.7,1381.8,535.0,513.6,4809.0,3544.5,128.2,841.4,1823.0,681.5,169.3,182.0,569.0,533.6,642.4,381.8,142.0,5743.0,768.0,2697.9,834.8,2349.7,142.0,44.4,1672.0,580.8,547.5,352.0],\"type\":\"box\",\"xaxis\":\"x4\",\"yaxis\":\"y4\"}],                        {\"template\":{\"data\":{\"barpolar\":[{\"marker\":{\"line\":{\"color\":\"white\",\"width\":0.5},\"pattern\":{\"fillmode\":\"overlay\",\"size\":10,\"solidity\":0.2}},\"type\":\"barpolar\"}],\"bar\":[{\"error_x\":{\"color\":\"#2a3f5f\"},\"error_y\":{\"color\":\"#2a3f5f\"},\"marker\":{\"line\":{\"color\":\"white\",\"width\":0.5},\"pattern\":{\"fillmode\":\"overlay\",\"size\":10,\"solidity\":0.2}},\"type\":\"bar\"}],\"carpet\":[{\"aaxis\":{\"endlinecolor\":\"#2a3f5f\",\"gridcolor\":\"#C8D4E3\",\"linecolor\":\"#C8D4E3\",\"minorgridcolor\":\"#C8D4E3\",\"startlinecolor\":\"#2a3f5f\"},\"baxis\":{\"endlinecolor\":\"#2a3f5f\",\"gridcolor\":\"#C8D4E3\",\"linecolor\":\"#C8D4E3\",\"minorgridcolor\":\"#C8D4E3\",\"startlinecolor\":\"#2a3f5f\"},\"type\":\"carpet\"}],\"choropleth\":[{\"colorbar\":{\"outlinewidth\":0,\"ticks\":\"\"},\"type\":\"choropleth\"}],\"contourcarpet\":[{\"colorbar\":{\"outlinewidth\":0,\"ticks\":\"\"},\"type\":\"contourcarpet\"}],\"contour\":[{\"colorbar\":{\"outlinewidth\":0,\"ticks\":\"\"},\"colorscale\":[[0.0,\"#0d0887\"],[0.1111111111111111,\"#46039f\"],[0.2222222222222222,\"#7201a8\"],[0.3333333333333333,\"#9c179e\"],[0.4444444444444444,\"#bd3786\"],[0.5555555555555556,\"#d8576b\"],[0.6666666666666666,\"#ed7953\"],[0.7777777777777778,\"#fb9f3a\"],[0.8888888888888888,\"#fdca26\"],[1.0,\"#f0f921\"]],\"type\":\"contour\"}],\"heatmapgl\":[{\"colorbar\":{\"outlinewidth\":0,\"ticks\":\"\"},\"colorscale\":[[0.0,\"#0d0887\"],[0.1111111111111111,\"#46039f\"],[0.2222222222222222,\"#7201a8\"],[0.3333333333333333,\"#9c179e\"],[0.4444444444444444,\"#bd3786\"],[0.5555555555555556,\"#d8576b\"],[0.6666666666666666,\"#ed7953\"],[0.7777777777777778,\"#fb9f3a\"],[0.8888888888888888,\"#fdca26\"],[1.0,\"#f0f921\"]],\"type\":\"heatmapgl\"}],\"heatmap\":[{\"colorbar\":{\"outlinewidth\":0,\"ticks\":\"\"},\"colorscale\":[[0.0,\"#0d0887\"],[0.1111111111111111,\"#46039f\"],[0.2222222222222222,\"#7201a8\"],[0.3333333333333333,\"#9c179e\"],[0.4444444444444444,\"#bd3786\"],[0.5555555555555556,\"#d8576b\"],[0.6666666666666666,\"#ed7953\"],[0.7777777777777778,\"#fb9f3a\"],[0.8888888888888888,\"#fdca26\"],[1.0,\"#f0f921\"]],\"type\":\"heatmap\"}],\"histogram2dcontour\":[{\"colorbar\":{\"outlinewidth\":0,\"ticks\":\"\"},\"colorscale\":[[0.0,\"#0d0887\"],[0.1111111111111111,\"#46039f\"],[0.2222222222222222,\"#7201a8\"],[0.3333333333333333,\"#9c179e\"],[0.4444444444444444,\"#bd3786\"],[0.5555555555555556,\"#d8576b\"],[0.6666666666666666,\"#ed7953\"],[0.7777777777777778,\"#fb9f3a\"],[0.8888888888888888,\"#fdca26\"],[1.0,\"#f0f921\"]],\"type\":\"histogram2dcontour\"}],\"histogram2d\":[{\"colorbar\":{\"outlinewidth\":0,\"ticks\":\"\"},\"colorscale\":[[0.0,\"#0d0887\"],[0.1111111111111111,\"#46039f\"],[0.2222222222222222,\"#7201a8\"],[0.3333333333333333,\"#9c179e\"],[0.4444444444444444,\"#bd3786\"],[0.5555555555555556,\"#d8576b\"],[0.6666666666666666,\"#ed7953\"],[0.7777777777777778,\"#fb9f3a\"],[0.8888888888888888,\"#fdca26\"],[1.0,\"#f0f921\"]],\"type\":\"histogram2d\"}],\"histogram\":[{\"marker\":{\"pattern\":{\"fillmode\":\"overlay\",\"size\":10,\"solidity\":0.2}},\"type\":\"histogram\"}],\"mesh3d\":[{\"colorbar\":{\"outlinewidth\":0,\"ticks\":\"\"},\"type\":\"mesh3d\"}],\"parcoords\":[{\"line\":{\"colorbar\":{\"outlinewidth\":0,\"ticks\":\"\"}},\"type\":\"parcoords\"}],\"pie\":[{\"automargin\":true,\"type\":\"pie\"}],\"scatter3d\":[{\"line\":{\"colorbar\":{\"outlinewidth\":0,\"ticks\":\"\"}},\"marker\":{\"colorbar\":{\"outlinewidth\":0,\"ticks\":\"\"}},\"type\":\"scatter3d\"}],\"scattercarpet\":[{\"marker\":{\"colorbar\":{\"outlinewidth\":0,\"ticks\":\"\"}},\"type\":\"scattercarpet\"}],\"scattergeo\":[{\"marker\":{\"colorbar\":{\"outlinewidth\":0,\"ticks\":\"\"}},\"type\":\"scattergeo\"}],\"scattergl\":[{\"marker\":{\"colorbar\":{\"outlinewidth\":0,\"ticks\":\"\"}},\"type\":\"scattergl\"}],\"scattermapbox\":[{\"marker\":{\"colorbar\":{\"outlinewidth\":0,\"ticks\":\"\"}},\"type\":\"scattermapbox\"}],\"scatterpolargl\":[{\"marker\":{\"colorbar\":{\"outlinewidth\":0,\"ticks\":\"\"}},\"type\":\"scatterpolargl\"}],\"scatterpolar\":[{\"marker\":{\"colorbar\":{\"outlinewidth\":0,\"ticks\":\"\"}},\"type\":\"scatterpolar\"}],\"scatter\":[{\"fillpattern\":{\"fillmode\":\"overlay\",\"size\":10,\"solidity\":0.2},\"type\":\"scatter\"}],\"scatterternary\":[{\"marker\":{\"colorbar\":{\"outlinewidth\":0,\"ticks\":\"\"}},\"type\":\"scatterternary\"}],\"surface\":[{\"colorbar\":{\"outlinewidth\":0,\"ticks\":\"\"},\"colorscale\":[[0.0,\"#0d0887\"],[0.1111111111111111,\"#46039f\"],[0.2222222222222222,\"#7201a8\"],[0.3333333333333333,\"#9c179e\"],[0.4444444444444444,\"#bd3786\"],[0.5555555555555556,\"#d8576b\"],[0.6666666666666666,\"#ed7953\"],[0.7777777777777778,\"#fb9f3a\"],[0.8888888888888888,\"#fdca26\"],[1.0,\"#f0f921\"]],\"type\":\"surface\"}],\"table\":[{\"cells\":{\"fill\":{\"color\":\"#EBF0F8\"},\"line\":{\"color\":\"white\"}},\"header\":{\"fill\":{\"color\":\"#C8D4E3\"},\"line\":{\"color\":\"white\"}},\"type\":\"table\"}]},\"layout\":{\"annotationdefaults\":{\"arrowcolor\":\"#2a3f5f\",\"arrowhead\":0,\"arrowwidth\":1},\"autotypenumbers\":\"strict\",\"coloraxis\":{\"colorbar\":{\"outlinewidth\":0,\"ticks\":\"\"}},\"colorscale\":{\"diverging\":[[0,\"#8e0152\"],[0.1,\"#c51b7d\"],[0.2,\"#de77ae\"],[0.3,\"#f1b6da\"],[0.4,\"#fde0ef\"],[0.5,\"#f7f7f7\"],[0.6,\"#e6f5d0\"],[0.7,\"#b8e186\"],[0.8,\"#7fbc41\"],[0.9,\"#4d9221\"],[1,\"#276419\"]],\"sequential\":[[0.0,\"#0d0887\"],[0.1111111111111111,\"#46039f\"],[0.2222222222222222,\"#7201a8\"],[0.3333333333333333,\"#9c179e\"],[0.4444444444444444,\"#bd3786\"],[0.5555555555555556,\"#d8576b\"],[0.6666666666666666,\"#ed7953\"],[0.7777777777777778,\"#fb9f3a\"],[0.8888888888888888,\"#fdca26\"],[1.0,\"#f0f921\"]],\"sequentialminus\":[[0.0,\"#0d0887\"],[0.1111111111111111,\"#46039f\"],[0.2222222222222222,\"#7201a8\"],[0.3333333333333333,\"#9c179e\"],[0.4444444444444444,\"#bd3786\"],[0.5555555555555556,\"#d8576b\"],[0.6666666666666666,\"#ed7953\"],[0.7777777777777778,\"#fb9f3a\"],[0.8888888888888888,\"#fdca26\"],[1.0,\"#f0f921\"]]},\"colorway\":[\"#636efa\",\"#EF553B\",\"#00cc96\",\"#ab63fa\",\"#FFA15A\",\"#19d3f3\",\"#FF6692\",\"#B6E880\",\"#FF97FF\",\"#FECB52\"],\"font\":{\"color\":\"#2a3f5f\"},\"geo\":{\"bgcolor\":\"white\",\"lakecolor\":\"white\",\"landcolor\":\"white\",\"showlakes\":true,\"showland\":true,\"subunitcolor\":\"#C8D4E3\"},\"hoverlabel\":{\"align\":\"left\"},\"hovermode\":\"closest\",\"mapbox\":{\"style\":\"light\"},\"paper_bgcolor\":\"white\",\"plot_bgcolor\":\"white\",\"polar\":{\"angularaxis\":{\"gridcolor\":\"#EBF0F8\",\"linecolor\":\"#EBF0F8\",\"ticks\":\"\"},\"bgcolor\":\"white\",\"radialaxis\":{\"gridcolor\":\"#EBF0F8\",\"linecolor\":\"#EBF0F8\",\"ticks\":\"\"}},\"scene\":{\"xaxis\":{\"backgroundcolor\":\"white\",\"gridcolor\":\"#DFE8F3\",\"gridwidth\":2,\"linecolor\":\"#EBF0F8\",\"showbackground\":true,\"ticks\":\"\",\"zerolinecolor\":\"#EBF0F8\"},\"yaxis\":{\"backgroundcolor\":\"white\",\"gridcolor\":\"#DFE8F3\",\"gridwidth\":2,\"linecolor\":\"#EBF0F8\",\"showbackground\":true,\"ticks\":\"\",\"zerolinecolor\":\"#EBF0F8\"},\"zaxis\":{\"backgroundcolor\":\"white\",\"gridcolor\":\"#DFE8F3\",\"gridwidth\":2,\"linecolor\":\"#EBF0F8\",\"showbackground\":true,\"ticks\":\"\",\"zerolinecolor\":\"#EBF0F8\"}},\"shapedefaults\":{\"line\":{\"color\":\"#2a3f5f\"}},\"ternary\":{\"aaxis\":{\"gridcolor\":\"#DFE8F3\",\"linecolor\":\"#A2B1C6\",\"ticks\":\"\"},\"baxis\":{\"gridcolor\":\"#DFE8F3\",\"linecolor\":\"#A2B1C6\",\"ticks\":\"\"},\"bgcolor\":\"white\",\"caxis\":{\"gridcolor\":\"#DFE8F3\",\"linecolor\":\"#A2B1C6\",\"ticks\":\"\"}},\"title\":{\"x\":0.05},\"xaxis\":{\"automargin\":true,\"gridcolor\":\"#EBF0F8\",\"linecolor\":\"#EBF0F8\",\"ticks\":\"\",\"title\":{\"standoff\":15},\"zerolinecolor\":\"#EBF0F8\",\"zerolinewidth\":2},\"yaxis\":{\"automargin\":true,\"gridcolor\":\"#EBF0F8\",\"linecolor\":\"#EBF0F8\",\"ticks\":\"\",\"title\":{\"standoff\":15},\"zerolinecolor\":\"#EBF0F8\",\"zerolinewidth\":2}}},\"xaxis\":{\"anchor\":\"y\",\"domain\":[0.0,0.45],\"title\":{\"text\":\"Investimento P&D (% PIB)\"}},\"yaxis\":{\"anchor\":\"x\",\"domain\":[0.625,1.0],\"title\":{\"text\":\"Frequ\\u00eancia\"}},\"xaxis2\":{\"anchor\":\"y2\",\"domain\":[0.55,1.0],\"title\":{\"text\":\"Pesquisadores por milh\\u00e3o hab.\"}},\"yaxis2\":{\"anchor\":\"x2\",\"domain\":[0.625,1.0],\"title\":{\"text\":\"Frequ\\u00eancia\"}},\"xaxis3\":{\"anchor\":\"y3\",\"domain\":[0.0,0.45],\"title\":{\"text\":\"Ano\"}},\"yaxis3\":{\"anchor\":\"x3\",\"domain\":[0.0,0.375],\"title\":{\"text\":\"Investimento P&D (% PIB)\"}},\"xaxis4\":{\"anchor\":\"y4\",\"domain\":[0.55,1.0],\"title\":{\"text\":\"Ano\"}},\"yaxis4\":{\"anchor\":\"x4\",\"domain\":[0.0,0.375],\"title\":{\"text\":\"Pesquisadores por milh\\u00e3o hab.\"}},\"annotations\":[{\"font\":{\"size\":16},\"showarrow\":false,\"text\":\"Distribui\\u00e7\\u00e3o: Investimento em P&D (% PIB)\",\"x\":0.225,\"xanchor\":\"center\",\"xref\":\"paper\",\"y\":1.0,\"yanchor\":\"bottom\",\"yref\":\"paper\"},{\"font\":{\"size\":16},\"showarrow\":false,\"text\":\"Distribui\\u00e7\\u00e3o: Pesquisadores por milh\\u00e3o hab.\",\"x\":0.775,\"xanchor\":\"center\",\"xref\":\"paper\",\"y\":1.0,\"yanchor\":\"bottom\",\"yref\":\"paper\"},{\"font\":{\"size\":16},\"showarrow\":false,\"text\":\"Box Plot: Investimento em P&D por Ano\",\"x\":0.225,\"xanchor\":\"center\",\"xref\":\"paper\",\"y\":0.375,\"yanchor\":\"bottom\",\"yref\":\"paper\"},{\"font\":{\"size\":16},\"showarrow\":false,\"text\":\"Box Plot: Pesquisadores por Ano\",\"x\":0.775,\"xanchor\":\"center\",\"xref\":\"paper\",\"y\":0.375,\"yanchor\":\"bottom\",\"yref\":\"paper\"}],\"title\":{\"font\":{\"size\":18},\"text\":\"An\\u00e1lise de Distribui\\u00e7\\u00f5es dos Dados de P&D\",\"x\":0.5},\"width\":1400,\"height\":1200,\"showlegend\":true},                        {\"responsive\": true}                    ).then(function(){\n",
       "                            \n",
       "var gd = document.getElementById('09a1c510-c6a6-425e-bb3d-a15893e645ee');\n",
       "var x = new MutationObserver(function (mutations, observer) {{\n",
       "        var display = window.getComputedStyle(gd).display;\n",
       "        if (!display || display === 'none') {{\n",
       "            console.log([gd, 'removed!']);\n",
       "            Plotly.purge(gd);\n",
       "            observer.disconnect();\n",
       "        }}\n",
       "}});\n",
       "\n",
       "// Listen for the removal of the full notebook cells\n",
       "var notebookContainer = gd.closest('#notebook-container');\n",
       "if (notebookContainer) {{\n",
       "    x.observe(notebookContainer, {childList: true});\n",
       "}}\n",
       "\n",
       "// Listen for the clearing of the current output cell\n",
       "var outputEl = gd.closest('.output');\n",
       "if (outputEl) {{\n",
       "    x.observe(outputEl, {childList: true});\n",
       "}}\n",
       "\n",
       "                        })                };                });            </script>        </div>"
      ]
     },
     "metadata": {},
     "output_type": "display_data"
    }
   ],
   "source": [
    "# Visualização 3: Distribuições\n",
    "# Histogramas e box plots para mostrar a distribuição dos dados\n",
    "\n",
    "fig3 = make_subplots(\n",
    "    rows=2, cols=2,\n",
    "    subplot_titles=[\n",
    "        'Distribuição: Investimento em P&D (% PIB)',\n",
    "        'Distribuição: Pesquisadores por milhão hab.',\n",
    "        'Box Plot: Investimento em P&D por Ano',\n",
    "        'Box Plot: Pesquisadores por Ano'\n",
    "    ],\n",
    "    specs=[[{\"type\": \"xy\"}, {\"type\": \"xy\"}],\n",
    "           [{\"type\": \"xy\"}, {\"type\": \"xy\"}]]\n",
    ")\n",
    "\n",
    "# Histograma 1: Investimento em P&D\n",
    "fig3.add_trace(\n",
    "    go.Histogram(\n",
    "        x=df_gdp['Value'],\n",
    "        nbinsx=30,\n",
    "        name='Investimento P&D',\n",
    "        marker_color='lightblue',\n",
    "        opacity=0.7\n",
    "    ),\n",
    "    row=1, col=1\n",
    ")\n",
    "\n",
    "# Histograma 2: Pesquisadores\n",
    "fig3.add_trace(\n",
    "    go.Histogram(\n",
    "        x=df_researchers['Value'],\n",
    "        nbinsx=30,\n",
    "        name='Pesquisadores',\n",
    "        marker_color='lightcoral',\n",
    "        opacity=0.7\n",
    "    ),\n",
    "    row=1, col=2\n",
    ")\n",
    "\n",
    "# Box plot 1: Investimento por ano\n",
    "for year in sorted(df_gdp['Year'].unique()):\n",
    "    year_data = df_gdp[df_gdp['Year'] == year]\n",
    "    fig3.add_trace(\n",
    "        go.Box(\n",
    "            y=year_data['Value'],\n",
    "            name=str(year),\n",
    "            boxpoints='outliers',\n",
    "            showlegend=False\n",
    "        ),\n",
    "        row=2, col=1\n",
    "    )\n",
    "\n",
    "# Box plot 2: Pesquisadores por ano\n",
    "for year in sorted(df_researchers['Year'].unique()):\n",
    "    year_data = df_researchers[df_researchers['Year'] == year]\n",
    "    fig3.add_trace(\n",
    "        go.Box(\n",
    "            y=year_data['Value'],\n",
    "            name=str(year),\n",
    "            boxpoints='outliers',\n",
    "            showlegend=False\n",
    "        ),\n",
    "        row=2, col=2\n",
    "    )\n",
    "\n",
    "fig3.update_layout(\n",
    "    title={\n",
    "        'text': 'Análise de Distribuições dos Dados de P&D',\n",
    "        'x': 0.5,\n",
    "        'font': {'size': 18}\n",
    "    },\n",
    "    width=1400,\n",
    "    height=1200,\n",
    "    template='plotly_white',\n",
    "    showlegend=True\n",
    ")\n",
    "\n",
    "fig3.update_xaxes(title_text=\"Investimento P&D (% PIB)\", row=1, col=1)\n",
    "fig3.update_xaxes(title_text=\"Pesquisadores por milhão hab.\", row=1, col=2)\n",
    "fig3.update_xaxes(title_text=\"Ano\", row=2, col=1)\n",
    "fig3.update_xaxes(title_text=\"Ano\", row=2, col=2)\n",
    "\n",
    "fig3.update_yaxes(title_text=\"Frequência\", row=1, col=1)\n",
    "fig3.update_yaxes(title_text=\"Frequência\", row=1, col=2)\n",
    "fig3.update_yaxes(title_text=\"Investimento P&D (% PIB)\", row=2, col=1)\n",
    "fig3.update_yaxes(title_text=\"Pesquisadores por milhão hab.\", row=2, col=2)\n",
    "\n",
    "fig3.show()\n",
    "\n",
    "# Salvar como HTML\n",
    "fig3.write_html('./grafico3_distribuicoes.html')"
   ]
  },
  {
   "cell_type": "markdown",
   "metadata": {},
   "source": [
    "#### Distribuição Regional dos Investimentos em P&D"
   ]
  },
  {
   "cell_type": "code",
   "execution_count": 77,
   "metadata": {},
   "outputs": [
    {
     "data": {
      "application/vnd.plotly.v1+json": {
       "config": {
        "plotlyServerURL": "https://plot.ly"
       },
       "data": [
        {
         "marker": {
          "color": "lightblue"
         },
         "name": "% do PIB",
         "orientation": "h",
         "text": [
          0.7,
          0.3,
          3.3,
          0.5,
          0.1,
          2.7,
          0.5,
          1.1,
          0.6,
          1.1,
          2,
          1.7,
          3.5
         ],
         "textposition": "auto",
         "type": "bar",
         "x": [
          0.7,
          0.3,
          3.3,
          0.5,
          0.1,
          2.7,
          0.5,
          1.1,
          0.6,
          1.1,
          2,
          1.7,
          3.5
         ],
         "xaxis": "x",
         "y": [
          "Northern Africa",
          "Sub-Saharan Africa",
          "Northern America",
          "Latin America & the Caribbean",
          "Central Asia",
          "Eastern Asia",
          "South-central Asia",
          "South-eastern Asia",
          "Southern Asia",
          "Western Asia",
          "Europe",
          "Oceania",
          "United States of America"
         ],
         "yaxis": "y"
        },
        {
         "marker": {
          "color": "lightcoral"
         },
         "name": "Pesq./milhão hab.",
         "orientation": "h",
         "text": [
          767,
          96,
          4514,
          625,
          472,
          2250,
          317,
          812,
          311,
          1215,
          3817,
          3324
         ],
         "textposition": "auto",
         "type": "bar",
         "x": [
          766.8,
          95.7,
          4513.9,
          625.4,
          471.5,
          2249.9,
          317.1,
          812.1,
          311.2,
          1215.4,
          3816.6,
          3324.5
         ],
         "xaxis": "x2",
         "y": [
          "Northern Africa",
          "Sub-Saharan Africa",
          "Northern America",
          "Latin America & the Caribbean",
          "Central Asia",
          "Eastern Asia",
          "South-central Asia",
          "South-eastern Asia",
          "Southern Asia",
          "Western Asia",
          "Europe",
          "Oceania"
         ],
         "yaxis": "y2"
        }
       ],
       "layout": {
        "annotations": [
         {
          "font": {
           "size": 16
          },
          "showarrow": false,
          "text": "Investimento em P&D por Região (2021)",
          "x": 0.225,
          "xanchor": "center",
          "xref": "paper",
          "y": 1,
          "yanchor": "bottom",
          "yref": "paper"
         },
         {
          "font": {
           "size": 16
          },
          "showarrow": false,
          "text": "Densidade de Pesquisadores por Região (2021)",
          "x": 0.775,
          "xanchor": "center",
          "xref": "paper",
          "y": 1,
          "yanchor": "bottom",
          "yref": "paper"
         }
        ],
        "height": 700,
        "showlegend": false,
        "template": {
         "data": {
          "bar": [
           {
            "error_x": {
             "color": "#2a3f5f"
            },
            "error_y": {
             "color": "#2a3f5f"
            },
            "marker": {
             "line": {
              "color": "white",
              "width": 0.5
             },
             "pattern": {
              "fillmode": "overlay",
              "size": 10,
              "solidity": 0.2
             }
            },
            "type": "bar"
           }
          ],
          "barpolar": [
           {
            "marker": {
             "line": {
              "color": "white",
              "width": 0.5
             },
             "pattern": {
              "fillmode": "overlay",
              "size": 10,
              "solidity": 0.2
             }
            },
            "type": "barpolar"
           }
          ],
          "carpet": [
           {
            "aaxis": {
             "endlinecolor": "#2a3f5f",
             "gridcolor": "#C8D4E3",
             "linecolor": "#C8D4E3",
             "minorgridcolor": "#C8D4E3",
             "startlinecolor": "#2a3f5f"
            },
            "baxis": {
             "endlinecolor": "#2a3f5f",
             "gridcolor": "#C8D4E3",
             "linecolor": "#C8D4E3",
             "minorgridcolor": "#C8D4E3",
             "startlinecolor": "#2a3f5f"
            },
            "type": "carpet"
           }
          ],
          "choropleth": [
           {
            "colorbar": {
             "outlinewidth": 0,
             "ticks": ""
            },
            "type": "choropleth"
           }
          ],
          "contour": [
           {
            "colorbar": {
             "outlinewidth": 0,
             "ticks": ""
            },
            "colorscale": [
             [
              0,
              "#0d0887"
             ],
             [
              0.1111111111111111,
              "#46039f"
             ],
             [
              0.2222222222222222,
              "#7201a8"
             ],
             [
              0.3333333333333333,
              "#9c179e"
             ],
             [
              0.4444444444444444,
              "#bd3786"
             ],
             [
              0.5555555555555556,
              "#d8576b"
             ],
             [
              0.6666666666666666,
              "#ed7953"
             ],
             [
              0.7777777777777778,
              "#fb9f3a"
             ],
             [
              0.8888888888888888,
              "#fdca26"
             ],
             [
              1,
              "#f0f921"
             ]
            ],
            "type": "contour"
           }
          ],
          "contourcarpet": [
           {
            "colorbar": {
             "outlinewidth": 0,
             "ticks": ""
            },
            "type": "contourcarpet"
           }
          ],
          "heatmap": [
           {
            "colorbar": {
             "outlinewidth": 0,
             "ticks": ""
            },
            "colorscale": [
             [
              0,
              "#0d0887"
             ],
             [
              0.1111111111111111,
              "#46039f"
             ],
             [
              0.2222222222222222,
              "#7201a8"
             ],
             [
              0.3333333333333333,
              "#9c179e"
             ],
             [
              0.4444444444444444,
              "#bd3786"
             ],
             [
              0.5555555555555556,
              "#d8576b"
             ],
             [
              0.6666666666666666,
              "#ed7953"
             ],
             [
              0.7777777777777778,
              "#fb9f3a"
             ],
             [
              0.8888888888888888,
              "#fdca26"
             ],
             [
              1,
              "#f0f921"
             ]
            ],
            "type": "heatmap"
           }
          ],
          "heatmapgl": [
           {
            "colorbar": {
             "outlinewidth": 0,
             "ticks": ""
            },
            "colorscale": [
             [
              0,
              "#0d0887"
             ],
             [
              0.1111111111111111,
              "#46039f"
             ],
             [
              0.2222222222222222,
              "#7201a8"
             ],
             [
              0.3333333333333333,
              "#9c179e"
             ],
             [
              0.4444444444444444,
              "#bd3786"
             ],
             [
              0.5555555555555556,
              "#d8576b"
             ],
             [
              0.6666666666666666,
              "#ed7953"
             ],
             [
              0.7777777777777778,
              "#fb9f3a"
             ],
             [
              0.8888888888888888,
              "#fdca26"
             ],
             [
              1,
              "#f0f921"
             ]
            ],
            "type": "heatmapgl"
           }
          ],
          "histogram": [
           {
            "marker": {
             "pattern": {
              "fillmode": "overlay",
              "size": 10,
              "solidity": 0.2
             }
            },
            "type": "histogram"
           }
          ],
          "histogram2d": [
           {
            "colorbar": {
             "outlinewidth": 0,
             "ticks": ""
            },
            "colorscale": [
             [
              0,
              "#0d0887"
             ],
             [
              0.1111111111111111,
              "#46039f"
             ],
             [
              0.2222222222222222,
              "#7201a8"
             ],
             [
              0.3333333333333333,
              "#9c179e"
             ],
             [
              0.4444444444444444,
              "#bd3786"
             ],
             [
              0.5555555555555556,
              "#d8576b"
             ],
             [
              0.6666666666666666,
              "#ed7953"
             ],
             [
              0.7777777777777778,
              "#fb9f3a"
             ],
             [
              0.8888888888888888,
              "#fdca26"
             ],
             [
              1,
              "#f0f921"
             ]
            ],
            "type": "histogram2d"
           }
          ],
          "histogram2dcontour": [
           {
            "colorbar": {
             "outlinewidth": 0,
             "ticks": ""
            },
            "colorscale": [
             [
              0,
              "#0d0887"
             ],
             [
              0.1111111111111111,
              "#46039f"
             ],
             [
              0.2222222222222222,
              "#7201a8"
             ],
             [
              0.3333333333333333,
              "#9c179e"
             ],
             [
              0.4444444444444444,
              "#bd3786"
             ],
             [
              0.5555555555555556,
              "#d8576b"
             ],
             [
              0.6666666666666666,
              "#ed7953"
             ],
             [
              0.7777777777777778,
              "#fb9f3a"
             ],
             [
              0.8888888888888888,
              "#fdca26"
             ],
             [
              1,
              "#f0f921"
             ]
            ],
            "type": "histogram2dcontour"
           }
          ],
          "mesh3d": [
           {
            "colorbar": {
             "outlinewidth": 0,
             "ticks": ""
            },
            "type": "mesh3d"
           }
          ],
          "parcoords": [
           {
            "line": {
             "colorbar": {
              "outlinewidth": 0,
              "ticks": ""
             }
            },
            "type": "parcoords"
           }
          ],
          "pie": [
           {
            "automargin": true,
            "type": "pie"
           }
          ],
          "scatter": [
           {
            "fillpattern": {
             "fillmode": "overlay",
             "size": 10,
             "solidity": 0.2
            },
            "type": "scatter"
           }
          ],
          "scatter3d": [
           {
            "line": {
             "colorbar": {
              "outlinewidth": 0,
              "ticks": ""
             }
            },
            "marker": {
             "colorbar": {
              "outlinewidth": 0,
              "ticks": ""
             }
            },
            "type": "scatter3d"
           }
          ],
          "scattercarpet": [
           {
            "marker": {
             "colorbar": {
              "outlinewidth": 0,
              "ticks": ""
             }
            },
            "type": "scattercarpet"
           }
          ],
          "scattergeo": [
           {
            "marker": {
             "colorbar": {
              "outlinewidth": 0,
              "ticks": ""
             }
            },
            "type": "scattergeo"
           }
          ],
          "scattergl": [
           {
            "marker": {
             "colorbar": {
              "outlinewidth": 0,
              "ticks": ""
             }
            },
            "type": "scattergl"
           }
          ],
          "scattermapbox": [
           {
            "marker": {
             "colorbar": {
              "outlinewidth": 0,
              "ticks": ""
             }
            },
            "type": "scattermapbox"
           }
          ],
          "scatterpolar": [
           {
            "marker": {
             "colorbar": {
              "outlinewidth": 0,
              "ticks": ""
             }
            },
            "type": "scatterpolar"
           }
          ],
          "scatterpolargl": [
           {
            "marker": {
             "colorbar": {
              "outlinewidth": 0,
              "ticks": ""
             }
            },
            "type": "scatterpolargl"
           }
          ],
          "scatterternary": [
           {
            "marker": {
             "colorbar": {
              "outlinewidth": 0,
              "ticks": ""
             }
            },
            "type": "scatterternary"
           }
          ],
          "surface": [
           {
            "colorbar": {
             "outlinewidth": 0,
             "ticks": ""
            },
            "colorscale": [
             [
              0,
              "#0d0887"
             ],
             [
              0.1111111111111111,
              "#46039f"
             ],
             [
              0.2222222222222222,
              "#7201a8"
             ],
             [
              0.3333333333333333,
              "#9c179e"
             ],
             [
              0.4444444444444444,
              "#bd3786"
             ],
             [
              0.5555555555555556,
              "#d8576b"
             ],
             [
              0.6666666666666666,
              "#ed7953"
             ],
             [
              0.7777777777777778,
              "#fb9f3a"
             ],
             [
              0.8888888888888888,
              "#fdca26"
             ],
             [
              1,
              "#f0f921"
             ]
            ],
            "type": "surface"
           }
          ],
          "table": [
           {
            "cells": {
             "fill": {
              "color": "#EBF0F8"
             },
             "line": {
              "color": "white"
             }
            },
            "header": {
             "fill": {
              "color": "#C8D4E3"
             },
             "line": {
              "color": "white"
             }
            },
            "type": "table"
           }
          ]
         },
         "layout": {
          "annotationdefaults": {
           "arrowcolor": "#2a3f5f",
           "arrowhead": 0,
           "arrowwidth": 1
          },
          "autotypenumbers": "strict",
          "coloraxis": {
           "colorbar": {
            "outlinewidth": 0,
            "ticks": ""
           }
          },
          "colorscale": {
           "diverging": [
            [
             0,
             "#8e0152"
            ],
            [
             0.1,
             "#c51b7d"
            ],
            [
             0.2,
             "#de77ae"
            ],
            [
             0.3,
             "#f1b6da"
            ],
            [
             0.4,
             "#fde0ef"
            ],
            [
             0.5,
             "#f7f7f7"
            ],
            [
             0.6,
             "#e6f5d0"
            ],
            [
             0.7,
             "#b8e186"
            ],
            [
             0.8,
             "#7fbc41"
            ],
            [
             0.9,
             "#4d9221"
            ],
            [
             1,
             "#276419"
            ]
           ],
           "sequential": [
            [
             0,
             "#0d0887"
            ],
            [
             0.1111111111111111,
             "#46039f"
            ],
            [
             0.2222222222222222,
             "#7201a8"
            ],
            [
             0.3333333333333333,
             "#9c179e"
            ],
            [
             0.4444444444444444,
             "#bd3786"
            ],
            [
             0.5555555555555556,
             "#d8576b"
            ],
            [
             0.6666666666666666,
             "#ed7953"
            ],
            [
             0.7777777777777778,
             "#fb9f3a"
            ],
            [
             0.8888888888888888,
             "#fdca26"
            ],
            [
             1,
             "#f0f921"
            ]
           ],
           "sequentialminus": [
            [
             0,
             "#0d0887"
            ],
            [
             0.1111111111111111,
             "#46039f"
            ],
            [
             0.2222222222222222,
             "#7201a8"
            ],
            [
             0.3333333333333333,
             "#9c179e"
            ],
            [
             0.4444444444444444,
             "#bd3786"
            ],
            [
             0.5555555555555556,
             "#d8576b"
            ],
            [
             0.6666666666666666,
             "#ed7953"
            ],
            [
             0.7777777777777778,
             "#fb9f3a"
            ],
            [
             0.8888888888888888,
             "#fdca26"
            ],
            [
             1,
             "#f0f921"
            ]
           ]
          },
          "colorway": [
           "#636efa",
           "#EF553B",
           "#00cc96",
           "#ab63fa",
           "#FFA15A",
           "#19d3f3",
           "#FF6692",
           "#B6E880",
           "#FF97FF",
           "#FECB52"
          ],
          "font": {
           "color": "#2a3f5f"
          },
          "geo": {
           "bgcolor": "white",
           "lakecolor": "white",
           "landcolor": "white",
           "showlakes": true,
           "showland": true,
           "subunitcolor": "#C8D4E3"
          },
          "hoverlabel": {
           "align": "left"
          },
          "hovermode": "closest",
          "mapbox": {
           "style": "light"
          },
          "paper_bgcolor": "white",
          "plot_bgcolor": "white",
          "polar": {
           "angularaxis": {
            "gridcolor": "#EBF0F8",
            "linecolor": "#EBF0F8",
            "ticks": ""
           },
           "bgcolor": "white",
           "radialaxis": {
            "gridcolor": "#EBF0F8",
            "linecolor": "#EBF0F8",
            "ticks": ""
           }
          },
          "scene": {
           "xaxis": {
            "backgroundcolor": "white",
            "gridcolor": "#DFE8F3",
            "gridwidth": 2,
            "linecolor": "#EBF0F8",
            "showbackground": true,
            "ticks": "",
            "zerolinecolor": "#EBF0F8"
           },
           "yaxis": {
            "backgroundcolor": "white",
            "gridcolor": "#DFE8F3",
            "gridwidth": 2,
            "linecolor": "#EBF0F8",
            "showbackground": true,
            "ticks": "",
            "zerolinecolor": "#EBF0F8"
           },
           "zaxis": {
            "backgroundcolor": "white",
            "gridcolor": "#DFE8F3",
            "gridwidth": 2,
            "linecolor": "#EBF0F8",
            "showbackground": true,
            "ticks": "",
            "zerolinecolor": "#EBF0F8"
           }
          },
          "shapedefaults": {
           "line": {
            "color": "#2a3f5f"
           }
          },
          "ternary": {
           "aaxis": {
            "gridcolor": "#DFE8F3",
            "linecolor": "#A2B1C6",
            "ticks": ""
           },
           "baxis": {
            "gridcolor": "#DFE8F3",
            "linecolor": "#A2B1C6",
            "ticks": ""
           },
           "bgcolor": "white",
           "caxis": {
            "gridcolor": "#DFE8F3",
            "linecolor": "#A2B1C6",
            "ticks": ""
           }
          },
          "title": {
           "x": 0.05
          },
          "xaxis": {
           "automargin": true,
           "gridcolor": "#EBF0F8",
           "linecolor": "#EBF0F8",
           "ticks": "",
           "title": {
            "standoff": 15
           },
           "zerolinecolor": "#EBF0F8",
           "zerolinewidth": 2
          },
          "yaxis": {
           "automargin": true,
           "gridcolor": "#EBF0F8",
           "linecolor": "#EBF0F8",
           "ticks": "",
           "title": {
            "standoff": 15
           },
           "zerolinecolor": "#EBF0F8",
           "zerolinewidth": 2
          }
         }
        },
        "title": {
         "font": {
          "size": 16
         },
         "text": "Distribuição Regional dos Investimentos em P&D e Densidade de Pesquisadores",
         "x": 0.5
        },
        "width": 1400,
        "xaxis": {
         "anchor": "y",
         "domain": [
          0,
          0.45
         ],
         "title": {
          "text": "Investimento P&D (% PIB)"
         }
        },
        "xaxis2": {
         "anchor": "y2",
         "domain": [
          0.55,
          1
         ],
         "title": {
          "text": "Pesquisadores por milhão hab."
         }
        },
        "yaxis": {
         "anchor": "x",
         "domain": [
          0,
          1
         ],
         "title": {
          "text": "Região"
         }
        },
        "yaxis2": {
         "anchor": "x2",
         "domain": [
          0,
          1
         ],
         "title": {
          "text": "Região"
         }
        }
       }
      },
      "text/html": [
       "<div>                            <div id=\"1064a3ed-294d-4215-b480-2dac37e828ce\" class=\"plotly-graph-div\" style=\"height:700px; width:1400px;\"></div>            <script type=\"text/javascript\">                require([\"plotly\"], function(Plotly) {                    window.PLOTLYENV=window.PLOTLYENV || {};                                    if (document.getElementById(\"1064a3ed-294d-4215-b480-2dac37e828ce\")) {                    Plotly.newPlot(                        \"1064a3ed-294d-4215-b480-2dac37e828ce\",                        [{\"marker\":{\"color\":\"lightblue\"},\"name\":\"% do PIB\",\"orientation\":\"h\",\"text\":[0.7,0.3,3.3,0.5,0.1,2.7,0.5,1.1,0.6,1.1,2.0,1.7,3.5],\"textposition\":\"auto\",\"x\":[0.7,0.3,3.3,0.5,0.1,2.7,0.5,1.1,0.6,1.1,2.0,1.7,3.5],\"y\":[\"Northern Africa\",\"Sub-Saharan Africa\",\"Northern America\",\"Latin America & the Caribbean\",\"Central Asia\",\"Eastern Asia\",\"South-central Asia\",\"South-eastern Asia\",\"Southern Asia\",\"Western Asia\",\"Europe\",\"Oceania\",\"United States of America\"],\"type\":\"bar\",\"xaxis\":\"x\",\"yaxis\":\"y\"},{\"marker\":{\"color\":\"lightcoral\"},\"name\":\"Pesq.\\u002fmilh\\u00e3o hab.\",\"orientation\":\"h\",\"text\":[767.0,96.0,4514.0,625.0,472.0,2250.0,317.0,812.0,311.0,1215.0,3817.0,3324.0],\"textposition\":\"auto\",\"x\":[766.8,95.7,4513.9,625.4,471.5,2249.9,317.1,812.1,311.2,1215.4,3816.6,3324.5],\"y\":[\"Northern Africa\",\"Sub-Saharan Africa\",\"Northern America\",\"Latin America & the Caribbean\",\"Central Asia\",\"Eastern Asia\",\"South-central Asia\",\"South-eastern Asia\",\"Southern Asia\",\"Western Asia\",\"Europe\",\"Oceania\"],\"type\":\"bar\",\"xaxis\":\"x2\",\"yaxis\":\"y2\"}],                        {\"template\":{\"data\":{\"barpolar\":[{\"marker\":{\"line\":{\"color\":\"white\",\"width\":0.5},\"pattern\":{\"fillmode\":\"overlay\",\"size\":10,\"solidity\":0.2}},\"type\":\"barpolar\"}],\"bar\":[{\"error_x\":{\"color\":\"#2a3f5f\"},\"error_y\":{\"color\":\"#2a3f5f\"},\"marker\":{\"line\":{\"color\":\"white\",\"width\":0.5},\"pattern\":{\"fillmode\":\"overlay\",\"size\":10,\"solidity\":0.2}},\"type\":\"bar\"}],\"carpet\":[{\"aaxis\":{\"endlinecolor\":\"#2a3f5f\",\"gridcolor\":\"#C8D4E3\",\"linecolor\":\"#C8D4E3\",\"minorgridcolor\":\"#C8D4E3\",\"startlinecolor\":\"#2a3f5f\"},\"baxis\":{\"endlinecolor\":\"#2a3f5f\",\"gridcolor\":\"#C8D4E3\",\"linecolor\":\"#C8D4E3\",\"minorgridcolor\":\"#C8D4E3\",\"startlinecolor\":\"#2a3f5f\"},\"type\":\"carpet\"}],\"choropleth\":[{\"colorbar\":{\"outlinewidth\":0,\"ticks\":\"\"},\"type\":\"choropleth\"}],\"contourcarpet\":[{\"colorbar\":{\"outlinewidth\":0,\"ticks\":\"\"},\"type\":\"contourcarpet\"}],\"contour\":[{\"colorbar\":{\"outlinewidth\":0,\"ticks\":\"\"},\"colorscale\":[[0.0,\"#0d0887\"],[0.1111111111111111,\"#46039f\"],[0.2222222222222222,\"#7201a8\"],[0.3333333333333333,\"#9c179e\"],[0.4444444444444444,\"#bd3786\"],[0.5555555555555556,\"#d8576b\"],[0.6666666666666666,\"#ed7953\"],[0.7777777777777778,\"#fb9f3a\"],[0.8888888888888888,\"#fdca26\"],[1.0,\"#f0f921\"]],\"type\":\"contour\"}],\"heatmapgl\":[{\"colorbar\":{\"outlinewidth\":0,\"ticks\":\"\"},\"colorscale\":[[0.0,\"#0d0887\"],[0.1111111111111111,\"#46039f\"],[0.2222222222222222,\"#7201a8\"],[0.3333333333333333,\"#9c179e\"],[0.4444444444444444,\"#bd3786\"],[0.5555555555555556,\"#d8576b\"],[0.6666666666666666,\"#ed7953\"],[0.7777777777777778,\"#fb9f3a\"],[0.8888888888888888,\"#fdca26\"],[1.0,\"#f0f921\"]],\"type\":\"heatmapgl\"}],\"heatmap\":[{\"colorbar\":{\"outlinewidth\":0,\"ticks\":\"\"},\"colorscale\":[[0.0,\"#0d0887\"],[0.1111111111111111,\"#46039f\"],[0.2222222222222222,\"#7201a8\"],[0.3333333333333333,\"#9c179e\"],[0.4444444444444444,\"#bd3786\"],[0.5555555555555556,\"#d8576b\"],[0.6666666666666666,\"#ed7953\"],[0.7777777777777778,\"#fb9f3a\"],[0.8888888888888888,\"#fdca26\"],[1.0,\"#f0f921\"]],\"type\":\"heatmap\"}],\"histogram2dcontour\":[{\"colorbar\":{\"outlinewidth\":0,\"ticks\":\"\"},\"colorscale\":[[0.0,\"#0d0887\"],[0.1111111111111111,\"#46039f\"],[0.2222222222222222,\"#7201a8\"],[0.3333333333333333,\"#9c179e\"],[0.4444444444444444,\"#bd3786\"],[0.5555555555555556,\"#d8576b\"],[0.6666666666666666,\"#ed7953\"],[0.7777777777777778,\"#fb9f3a\"],[0.8888888888888888,\"#fdca26\"],[1.0,\"#f0f921\"]],\"type\":\"histogram2dcontour\"}],\"histogram2d\":[{\"colorbar\":{\"outlinewidth\":0,\"ticks\":\"\"},\"colorscale\":[[0.0,\"#0d0887\"],[0.1111111111111111,\"#46039f\"],[0.2222222222222222,\"#7201a8\"],[0.3333333333333333,\"#9c179e\"],[0.4444444444444444,\"#bd3786\"],[0.5555555555555556,\"#d8576b\"],[0.6666666666666666,\"#ed7953\"],[0.7777777777777778,\"#fb9f3a\"],[0.8888888888888888,\"#fdca26\"],[1.0,\"#f0f921\"]],\"type\":\"histogram2d\"}],\"histogram\":[{\"marker\":{\"pattern\":{\"fillmode\":\"overlay\",\"size\":10,\"solidity\":0.2}},\"type\":\"histogram\"}],\"mesh3d\":[{\"colorbar\":{\"outlinewidth\":0,\"ticks\":\"\"},\"type\":\"mesh3d\"}],\"parcoords\":[{\"line\":{\"colorbar\":{\"outlinewidth\":0,\"ticks\":\"\"}},\"type\":\"parcoords\"}],\"pie\":[{\"automargin\":true,\"type\":\"pie\"}],\"scatter3d\":[{\"line\":{\"colorbar\":{\"outlinewidth\":0,\"ticks\":\"\"}},\"marker\":{\"colorbar\":{\"outlinewidth\":0,\"ticks\":\"\"}},\"type\":\"scatter3d\"}],\"scattercarpet\":[{\"marker\":{\"colorbar\":{\"outlinewidth\":0,\"ticks\":\"\"}},\"type\":\"scattercarpet\"}],\"scattergeo\":[{\"marker\":{\"colorbar\":{\"outlinewidth\":0,\"ticks\":\"\"}},\"type\":\"scattergeo\"}],\"scattergl\":[{\"marker\":{\"colorbar\":{\"outlinewidth\":0,\"ticks\":\"\"}},\"type\":\"scattergl\"}],\"scattermapbox\":[{\"marker\":{\"colorbar\":{\"outlinewidth\":0,\"ticks\":\"\"}},\"type\":\"scattermapbox\"}],\"scatterpolargl\":[{\"marker\":{\"colorbar\":{\"outlinewidth\":0,\"ticks\":\"\"}},\"type\":\"scatterpolargl\"}],\"scatterpolar\":[{\"marker\":{\"colorbar\":{\"outlinewidth\":0,\"ticks\":\"\"}},\"type\":\"scatterpolar\"}],\"scatter\":[{\"fillpattern\":{\"fillmode\":\"overlay\",\"size\":10,\"solidity\":0.2},\"type\":\"scatter\"}],\"scatterternary\":[{\"marker\":{\"colorbar\":{\"outlinewidth\":0,\"ticks\":\"\"}},\"type\":\"scatterternary\"}],\"surface\":[{\"colorbar\":{\"outlinewidth\":0,\"ticks\":\"\"},\"colorscale\":[[0.0,\"#0d0887\"],[0.1111111111111111,\"#46039f\"],[0.2222222222222222,\"#7201a8\"],[0.3333333333333333,\"#9c179e\"],[0.4444444444444444,\"#bd3786\"],[0.5555555555555556,\"#d8576b\"],[0.6666666666666666,\"#ed7953\"],[0.7777777777777778,\"#fb9f3a\"],[0.8888888888888888,\"#fdca26\"],[1.0,\"#f0f921\"]],\"type\":\"surface\"}],\"table\":[{\"cells\":{\"fill\":{\"color\":\"#EBF0F8\"},\"line\":{\"color\":\"white\"}},\"header\":{\"fill\":{\"color\":\"#C8D4E3\"},\"line\":{\"color\":\"white\"}},\"type\":\"table\"}]},\"layout\":{\"annotationdefaults\":{\"arrowcolor\":\"#2a3f5f\",\"arrowhead\":0,\"arrowwidth\":1},\"autotypenumbers\":\"strict\",\"coloraxis\":{\"colorbar\":{\"outlinewidth\":0,\"ticks\":\"\"}},\"colorscale\":{\"diverging\":[[0,\"#8e0152\"],[0.1,\"#c51b7d\"],[0.2,\"#de77ae\"],[0.3,\"#f1b6da\"],[0.4,\"#fde0ef\"],[0.5,\"#f7f7f7\"],[0.6,\"#e6f5d0\"],[0.7,\"#b8e186\"],[0.8,\"#7fbc41\"],[0.9,\"#4d9221\"],[1,\"#276419\"]],\"sequential\":[[0.0,\"#0d0887\"],[0.1111111111111111,\"#46039f\"],[0.2222222222222222,\"#7201a8\"],[0.3333333333333333,\"#9c179e\"],[0.4444444444444444,\"#bd3786\"],[0.5555555555555556,\"#d8576b\"],[0.6666666666666666,\"#ed7953\"],[0.7777777777777778,\"#fb9f3a\"],[0.8888888888888888,\"#fdca26\"],[1.0,\"#f0f921\"]],\"sequentialminus\":[[0.0,\"#0d0887\"],[0.1111111111111111,\"#46039f\"],[0.2222222222222222,\"#7201a8\"],[0.3333333333333333,\"#9c179e\"],[0.4444444444444444,\"#bd3786\"],[0.5555555555555556,\"#d8576b\"],[0.6666666666666666,\"#ed7953\"],[0.7777777777777778,\"#fb9f3a\"],[0.8888888888888888,\"#fdca26\"],[1.0,\"#f0f921\"]]},\"colorway\":[\"#636efa\",\"#EF553B\",\"#00cc96\",\"#ab63fa\",\"#FFA15A\",\"#19d3f3\",\"#FF6692\",\"#B6E880\",\"#FF97FF\",\"#FECB52\"],\"font\":{\"color\":\"#2a3f5f\"},\"geo\":{\"bgcolor\":\"white\",\"lakecolor\":\"white\",\"landcolor\":\"white\",\"showlakes\":true,\"showland\":true,\"subunitcolor\":\"#C8D4E3\"},\"hoverlabel\":{\"align\":\"left\"},\"hovermode\":\"closest\",\"mapbox\":{\"style\":\"light\"},\"paper_bgcolor\":\"white\",\"plot_bgcolor\":\"white\",\"polar\":{\"angularaxis\":{\"gridcolor\":\"#EBF0F8\",\"linecolor\":\"#EBF0F8\",\"ticks\":\"\"},\"bgcolor\":\"white\",\"radialaxis\":{\"gridcolor\":\"#EBF0F8\",\"linecolor\":\"#EBF0F8\",\"ticks\":\"\"}},\"scene\":{\"xaxis\":{\"backgroundcolor\":\"white\",\"gridcolor\":\"#DFE8F3\",\"gridwidth\":2,\"linecolor\":\"#EBF0F8\",\"showbackground\":true,\"ticks\":\"\",\"zerolinecolor\":\"#EBF0F8\"},\"yaxis\":{\"backgroundcolor\":\"white\",\"gridcolor\":\"#DFE8F3\",\"gridwidth\":2,\"linecolor\":\"#EBF0F8\",\"showbackground\":true,\"ticks\":\"\",\"zerolinecolor\":\"#EBF0F8\"},\"zaxis\":{\"backgroundcolor\":\"white\",\"gridcolor\":\"#DFE8F3\",\"gridwidth\":2,\"linecolor\":\"#EBF0F8\",\"showbackground\":true,\"ticks\":\"\",\"zerolinecolor\":\"#EBF0F8\"}},\"shapedefaults\":{\"line\":{\"color\":\"#2a3f5f\"}},\"ternary\":{\"aaxis\":{\"gridcolor\":\"#DFE8F3\",\"linecolor\":\"#A2B1C6\",\"ticks\":\"\"},\"baxis\":{\"gridcolor\":\"#DFE8F3\",\"linecolor\":\"#A2B1C6\",\"ticks\":\"\"},\"bgcolor\":\"white\",\"caxis\":{\"gridcolor\":\"#DFE8F3\",\"linecolor\":\"#A2B1C6\",\"ticks\":\"\"}},\"title\":{\"x\":0.05},\"xaxis\":{\"automargin\":true,\"gridcolor\":\"#EBF0F8\",\"linecolor\":\"#EBF0F8\",\"ticks\":\"\",\"title\":{\"standoff\":15},\"zerolinecolor\":\"#EBF0F8\",\"zerolinewidth\":2},\"yaxis\":{\"automargin\":true,\"gridcolor\":\"#EBF0F8\",\"linecolor\":\"#EBF0F8\",\"ticks\":\"\",\"title\":{\"standoff\":15},\"zerolinecolor\":\"#EBF0F8\",\"zerolinewidth\":2}}},\"xaxis\":{\"anchor\":\"y\",\"domain\":[0.0,0.45],\"title\":{\"text\":\"Investimento P&D (% PIB)\"}},\"yaxis\":{\"anchor\":\"x\",\"domain\":[0.0,1.0],\"title\":{\"text\":\"Regi\\u00e3o\"}},\"xaxis2\":{\"anchor\":\"y2\",\"domain\":[0.55,1.0],\"title\":{\"text\":\"Pesquisadores por milh\\u00e3o hab.\"}},\"yaxis2\":{\"anchor\":\"x2\",\"domain\":[0.0,1.0],\"title\":{\"text\":\"Regi\\u00e3o\"}},\"annotations\":[{\"font\":{\"size\":16},\"showarrow\":false,\"text\":\"Investimento em P&D por Regi\\u00e3o (2021)\",\"x\":0.225,\"xanchor\":\"center\",\"xref\":\"paper\",\"y\":1.0,\"yanchor\":\"bottom\",\"yref\":\"paper\"},{\"font\":{\"size\":16},\"showarrow\":false,\"text\":\"Densidade de Pesquisadores por Regi\\u00e3o (2021)\",\"x\":0.775,\"xanchor\":\"center\",\"xref\":\"paper\",\"y\":1.0,\"yanchor\":\"bottom\",\"yref\":\"paper\"}],\"title\":{\"font\":{\"size\":16},\"text\":\"Distribui\\u00e7\\u00e3o Regional dos Investimentos em P&D e Densidade de Pesquisadores\",\"x\":0.5},\"width\":1400,\"height\":700,\"showlegend\":false},                        {\"responsive\": true}                    ).then(function(){\n",
       "                            \n",
       "var gd = document.getElementById('1064a3ed-294d-4215-b480-2dac37e828ce');\n",
       "var x = new MutationObserver(function (mutations, observer) {{\n",
       "        var display = window.getComputedStyle(gd).display;\n",
       "        if (!display || display === 'none') {{\n",
       "            console.log([gd, 'removed!']);\n",
       "            Plotly.purge(gd);\n",
       "            observer.disconnect();\n",
       "        }}\n",
       "}});\n",
       "\n",
       "// Listen for the removal of the full notebook cells\n",
       "var notebookContainer = gd.closest('#notebook-container');\n",
       "if (notebookContainer) {{\n",
       "    x.observe(notebookContainer, {childList: true});\n",
       "}}\n",
       "\n",
       "// Listen for the clearing of the current output cell\n",
       "var outputEl = gd.closest('.output');\n",
       "if (outputEl) {{\n",
       "    x.observe(outputEl, {childList: true});\n",
       "}}\n",
       "\n",
       "                        })                };                });            </script>        </div>"
      ]
     },
     "metadata": {},
     "output_type": "display_data"
    }
   ],
   "source": [
    "# Visualização 4: Mapa Geoespacial\n",
    "\n",
    "regional_keywords = ['Africa', 'Asia', 'Europe', 'America', 'Oceania']\n",
    "df_regional = df[df['Region_Country'].str.contains('|'.join(regional_keywords), na=False, case=False)]\n",
    "df_regional = df_regional[~df_regional['Region_Country'].str.contains('Total, all countries', na=False)]\n",
    "\n",
    "latest_year = df_regional['Year'].max()\n",
    "df_regional_latest = df_regional[df_regional['Year'] == latest_year]\n",
    "\n",
    "regional_gdp = df_regional_latest[df_regional_latest['Series_Type'] == 'GDP_Percentage']\n",
    "regional_researchers = df_regional_latest[df_regional_latest['Series_Type'] == 'Researchers_per_Million']\n",
    "\n",
    "fig4 = make_subplots(\n",
    "    rows=1, cols=2,\n",
    "    subplot_titles=[f'Investimento em P&D por Região ({latest_year})', \n",
    "                   f'Densidade de Pesquisadores por Região ({latest_year})'],\n",
    "    specs=[[{\"type\": \"xy\"}, {\"type\": \"xy\"}]]\n",
    ")\n",
    "\n",
    "# Gráfico 1: Investimento em P&D\n",
    "fig4.add_trace(\n",
    "    go.Bar(\n",
    "        y=regional_gdp['Region_Country'],\n",
    "        x=regional_gdp['Value'],\n",
    "        orientation='h',\n",
    "        name='% do PIB',\n",
    "        marker_color='lightblue',\n",
    "        text=regional_gdp['Value'].round(2),\n",
    "        textposition='auto'\n",
    "    ),\n",
    "    row=1, col=1\n",
    ")\n",
    "\n",
    "# Gráfico 2: Densidade de pesquisadores\n",
    "fig4.add_trace(\n",
    "    go.Bar(\n",
    "        y=regional_researchers['Region_Country'],\n",
    "        x=regional_researchers['Value'],\n",
    "        orientation='h',\n",
    "        name='Pesq./milhão hab.',\n",
    "        marker_color='lightcoral',\n",
    "        text=regional_researchers['Value'].round(0),\n",
    "        textposition='auto'\n",
    "    ),\n",
    "    row=1, col=2\n",
    ")\n",
    "\n",
    "fig4.update_layout(\n",
    "    title={\n",
    "        'text': 'Distribuição Regional dos Investimentos em P&D e Densidade de Pesquisadores',\n",
    "        'x': 0.5,\n",
    "        'font': {'size': 16}\n",
    "    },\n",
    "    width=1400,\n",
    "    height=700,\n",
    "    template='plotly_white',\n",
    "    showlegend=False\n",
    ")\n",
    "\n",
    "fig4.update_xaxes(title_text=\"Investimento P&D (% PIB)\", row=1, col=1)\n",
    "fig4.update_xaxes(title_text=\"Pesquisadores por milhão hab.\", row=1, col=2)\n",
    "fig4.update_yaxes(title_text=\"Região\", row=1, col=1)\n",
    "fig4.update_yaxes(title_text=\"Região\", row=1, col=2)\n",
    "\n",
    "fig4.show()\n",
    "\n",
    "# Salvar como HTML\n",
    "fig4.write_html('./grafico4_regional.html')"
   ]
  },
  {
   "cell_type": "markdown",
   "metadata": {},
   "source": [
    "### Discussão\n",
    "\n",
    "A análise dos dados da ONU sobre recursos humanos em P&D revela tendências significativas no panorama global da capacidade científica e tecnológica entre 2005 e 2021.\n",
    "\n",
    "**Crescimento Consistente dos Investimentos Globais:** A série temporal demonstra uma trajetória ascendente consistente tanto nos investimentos em P&D como porcentagem do PIB (de 1,5% em 2005 para 1,9% em 2021) quanto na densidade de pesquisadores (de 902,4 para 1.352,5 pesquisadores por milhão de habitantes). Este crescimento de aproximadamente 50% na densidade de pesquisadores em 16 anos indica um compromisso global crescente com o fortalecimento da capacidade científica.\n",
    "\n",
    "**Correlação Positiva Significativa:** A análise de correlação revela uma relação positiva forte (R² = 0,65) entre investimento em P&D como porcentagem do PIB e densidade de pesquisadores. Esta correlação sugere que países que investem mais recursos financeiros em P&D tendem a ter maior concentração de pesquisadores, validando empiricamente a teoria de que o investimento financeiro e o capital humano em ciência são complementares e mutuamente reforçadores.\n",
    "\n",
    "**Disparidades Regionais Pronunciadas:** A análise regional revela disparidades significativas na capacidade de P&D. Regiões desenvolvidas como Europa Ocidental e América do Norte apresentam consistentemente maiores investimentos e densidade de pesquisadores, enquanto regiões como África Subsaariana e partes da Ásia apresentam indicadores substancialmente menores, refletindo desigualdades estruturais no desenvolvimento científico global.\n",
    "\n",
    "**Heterogeneidade nas Distribuições:** Os histogramas e box plots revelam distribuições altamente assimétricas, com a maioria dos países concentrada em níveis relativamente baixos de investimento e densidade de pesquisadores, enquanto um pequeno número de países apresenta valores excepcionalmente altos. Esta distribuição sugere a existência de \"clubes de convergência\" em P&D, onde países com capacidades similares tendem a manter trajetórias paralelas.\n",
    "\n",
    "Embora os dados da ONU forneçam uma visão abrangente do panorama global de P&D, várias limitações metodológicas e conceituais devem ser consideradas na interpretação dos resultados.\n",
    "\n",
    "**Limitações de Cobertura Temporal e Geográfica:** Os dados apresentam lacunas significativas na cobertura temporal, com informações disponíveis apenas para anos específicos (2005, 2010, 2015, 2021), impedindo uma análise mais granular das tendências anuais. Adicionalmente, nem todos os países possuem dados para todos os anos, criando um painel desbalanceado que pode introduzir vieses nas análises comparativas.\n",
    "\n",
    "**Agregação Regional:** A agregação de dados em níveis regionais, embora útil para análises comparativas, pode mascarar heterogeneidades significativas dentro das regiões, especialmente em regiões geograficamente extensas e economicamente diversas como a Ásia ou a África.\n",
    "\n",
    "**Limitações dos Indicadores Quantitativos:** Os indicadores utilizados (porcentagem do PIB e pesquisadores por milhão de habitantes) capturam apenas aspectos quantitativos da capacidade de P&D, não refletindo necessariamente a qualidade, produtividade ou impacto da pesquisa realizada.\n",
    "\n",
    "**Ausência de Indicadores de Resultado:** Os dados focam em insumos (investimento e pessoal) sem incluir indicadores de resultado como publicações científicas, patentes, inovações tecnológicas ou impacto econômico da P&D. "
   ]
  },
  {
   "cell_type": "markdown",
   "metadata": {},
   "source": [
    "### Conclusões\n",
    "\n",
    "A correlação positiva entre investimento financeiro e densidade de pesquisadores sugere que políticas integradas, que combinem aumento de recursos com formação de capital humano, podem ser mais eficazes do que abordagens unidimensionais.\n",
    "\n",
    "A persistência de disparidades regionais indica a necessidade de mecanismos de cooperação internacional e transferência de conhecimento para reduzir as lacunas de capacidade científica entre regiões desenvolvidas e em desenvolvimento. Neste contexto, a perspectiva das Nações Unidas, através dos Objetivos de Desenvolvimento Sustentável (ODS), especialmente o ODS 9 (Indústria, Inovação e Infraestrutura), fornece um quadro de referência para políticas que conectem o desenvolvimento científico ao desenvolvimento sustentável mais amplo."
   ]
  },
  {
   "cell_type": "markdown",
   "metadata": {},
   "source": [
    "### Referências\n",
    "\n",
    "- United Nations Educational, Scientific and Cultural Organization (UNESCO). (2024). Statistical Yearbook 2024 - Research and Development Expenditure and Staff. Montreal: UNESCO Institute for Statistics.\n",
    "- OECD. (2024). Main Science and Technology Indicators Database. Disponível em: https://data.oecd.org/\n",
    "- United Nations. (2024). Relatório Anual das Nações Unidas 2024. New York: UN Publications."
   ]
  }
 ],
 "metadata": {
  "kernelspec": {
   "display_name": "base",
   "language": "python",
   "name": "python3"
  },
  "language_info": {
   "codemirror_mode": {
    "name": "ipython",
    "version": 3
   },
   "file_extension": ".py",
   "mimetype": "text/x-python",
   "name": "python",
   "nbconvert_exporter": "python",
   "pygments_lexer": "ipython3",
   "version": "3.12.7"
  }
 },
 "nbformat": 4,
 "nbformat_minor": 2
}
