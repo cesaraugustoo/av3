{
 "cells": [
  {
   "cell_type": "markdown",
   "metadata": {},
   "source": [
    "### Exercício 3"
   ]
  },
  {
   "cell_type": "markdown",
   "metadata": {},
   "source": [
    "Você deverá selecionar um banco de dados científico aberto entre as seguintes opções para realizar uma análise visual aprofundada, utilizando Python:\n",
    "\n",
    "- PANGAEA (dados ambientais e climáticos)\n",
    "- NASA Earth Data (observações de satélite)\n",
    "- ENSEMBL / 1000 Genomes (dados genômicos)\n",
    "- Global Biodiversity Information Facility (GBIF)\n",
    "- UN Data (indicadores globais socioeconômicos)\n",
    "- Figshare ou Zenodo (dados multidisciplinares de pesquisas científicas)\n",
    "\n",
    "🎯 Tarefas:\n",
    "1. Escolha um tema exclusivo dentro do banco de dados escolhido, que ainda não tenha sido selecionado por outro colega (registre seu tema antes de iniciar).\n",
    "2. Baixe e faça a limpeza dos dados, garantindo organização para análise.\n",
    "3. Utilize Python para produzir ao menos cinco visualizações diferentes, incluindo obrigatoriamente:\n",
    "    - Gráfico de linha ou série temporal (quando aplicável)\n",
    "    - Gráfico de dispersão ou correlação\n",
    "    - Gráfico de distribuição (histograma, boxplot ou violin plot)\n",
    "    - Visualização geoespacial (mapa estático ou interativo) — caso os dados tenham componente geográfico\n",
    "    - Visualização avançada ou interativa à sua escolha (ex: gráfico de rede, heatmap, gráfico radial, dashboard simples)\n",
    "\n",
    "4. Escreva um relatório científico (mínimo 500 palavras) contendo:\n",
    "    - Contextualização do tema e relevância científica\n",
    "    - Principais insights obtidos nas visualizações\n",
    "    - Discussão crítica das limitações dos dados e da análise\n",
    "    - Referências das bases de dados utilizadas\n",
    "\n",
    "\n",
    "🛑 Regras Importantes:\n",
    "\n",
    "- Cada aluno deve escolher um tema e banco de dados exclusivos.\n",
    "- O código Python deve ser organizado, comentado e permitir reprodução da análise.\n",
    "- As visualizações devem ser claras, esteticamente cuidadas e com legendas/títulos informativos.\n",
    "- O relatório deve demonstrar domínio conceitual e capacidade de comunicação científica."
   ]
  },
  {
   "cell_type": "markdown",
   "metadata": {},
   "source": [
    "### TEMA: Salinidade Oceânica Global"
   ]
  },
  {
   "cell_type": "code",
   "execution_count": null,
   "metadata": {},
   "outputs": [],
   "source": [
    "1. Download and clean the data from the World Ocean Atlas 2023 for the ocean salinity. The .csv file is found at `https://www.ncei.noaa.gov/data/oceans/woa/WOA23/DATA/salinity/csv/decav/5.00/woa23_s_decav_5.00_csv.tar.gz` (as far as I know);\n",
    "2. Use Python to produce at least five different visualizations, including:\n",
    "- Line or time series graph (when applicable)\n",
    "- Scatter or correlation graph\n",
    "- Distribution graph (histogram, boxplot or violin plot)\n",
    "- Geospatial visualization (static or interactive map) — if the data has a geographic component\n",
    "- Advanced or interactive visualization of your choice (e.g.: network graph, heatmap, radial graph, simple dashboard)\n",
    "\n",
    "3. Write a scientific report (minimum 500 words) containing:\n",
    "- Contextualization of the topic and scientific relevance\n",
    "- Main insights obtained from the visualizations\n",
    "- Critical discussion of the limitations of the data and analysis\n",
    "- References of the databases used"
   ]
  },
  {
   "cell_type": "code",
   "execution_count": null,
   "metadata": {},
   "outputs": [],
   "source": []
  },
  {
   "cell_type": "code",
   "execution_count": null,
   "metadata": {},
   "outputs": [],
   "source": []
  }
 ],
 "metadata": {
  "language_info": {
   "name": "python"
  }
 },
 "nbformat": 4,
 "nbformat_minor": 2
}
